{
 "cells": [
  {
   "cell_type": "code",
   "execution_count": 1,
   "id": "30a33bdc",
   "metadata": {},
   "outputs": [],
   "source": [
    "import pandas as pd\n",
    "import numpy as np"
   ]
  },
  {
   "cell_type": "code",
   "execution_count": 2,
   "id": "c13e9d98",
   "metadata": {},
   "outputs": [],
   "source": [
    "data2 = pd.read_excel('DDW-c18-0000.xlsx')"
   ]
  },
  {
   "cell_type": "code",
   "execution_count": 3,
   "id": "1fa874fe",
   "metadata": {},
   "outputs": [],
   "source": [
    "new_col = ['state','District','Area','Total','Age','S_persons','S_males','S_females','T_persons','T_males','T_females']"
   ]
  },
  {
   "cell_type": "code",
   "execution_count": 4,
   "id": "e265034b",
   "metadata": {},
   "outputs": [],
   "source": [
    "data2.columns = new_col"
   ]
  },
  {
   "cell_type": "code",
   "execution_count": 5,
   "id": "f8f17ee6",
   "metadata": {},
   "outputs": [],
   "source": [
    "data2 = data2.iloc[5:]"
   ]
  },
  {
   "cell_type": "code",
   "execution_count": 6,
   "id": "927ddd17",
   "metadata": {},
   "outputs": [],
   "source": [
    "new_data2 = data2.copy(deep=True)"
   ]
  },
  {
   "cell_type": "code",
   "execution_count": 7,
   "id": "7a8e2ce5",
   "metadata": {},
   "outputs": [],
   "source": [
    "new_data2 = new_data2.drop(['District','Total','Age','S_males','S_females','T_males','T_females'],axis=1)"
   ]
  },
  {
   "cell_type": "code",
   "execution_count": 8,
   "id": "87f17132",
   "metadata": {},
   "outputs": [],
   "source": [
    "new_data2.drop_duplicates(subset =\"Area\",keep = 'first', inplace = True)"
   ]
  },
  {
   "cell_type": "code",
   "execution_count": 9,
   "id": "76465a8b",
   "metadata": {},
   "outputs": [],
   "source": [
    "new_data2.reset_index(inplace=True)"
   ]
  },
  {
   "cell_type": "code",
   "execution_count": 10,
   "id": "0e34b65f",
   "metadata": {},
   "outputs": [],
   "source": [
    "fin_data2 = new_data2.copy()"
   ]
  },
  {
   "cell_type": "code",
   "execution_count": 11,
   "id": "0b6a5470",
   "metadata": {},
   "outputs": [],
   "source": [
    "fin_data2['Area'] = new_data2['Area'].str.lower()"
   ]
  },
  {
   "cell_type": "code",
   "execution_count": 12,
   "id": "1ba26049",
   "metadata": {},
   "outputs": [],
   "source": [
    "fin_data2.sort_values(\"Area\", axis = 0, ascending = True,inplace = True)"
   ]
  },
  {
   "cell_type": "code",
   "execution_count": 13,
   "id": "31e2e1d6",
   "metadata": {},
   "outputs": [],
   "source": [
    "fin_data2.rename(columns = {'Area':'State','state':'state-code'}, inplace = True)"
   ]
  },
  {
   "cell_type": "code",
   "execution_count": 14,
   "id": "d2ba1f43",
   "metadata": {},
   "outputs": [],
   "source": [
    "fin_data2.reset_index(inplace=True)"
   ]
  },
  {
   "cell_type": "code",
   "execution_count": 15,
   "id": "19f27a5c",
   "metadata": {},
   "outputs": [],
   "source": [
    "fin_data2['exactly_two'] = fin_data2['S_persons'] - fin_data2['T_persons']"
   ]
  },
  {
   "cell_type": "code",
   "execution_count": 16,
   "id": "756cefe1",
   "metadata": {},
   "outputs": [],
   "source": [
    "tot_data = pd.read_excel('DDW_PCA0000_2011_Indiastatedist.xlsx')"
   ]
  },
  {
   "cell_type": "code",
   "execution_count": 17,
   "id": "c6c96344",
   "metadata": {},
   "outputs": [],
   "source": [
    "tot_data = tot_data[['State','Level','Name','TOT_P']].copy()"
   ]
  },
  {
   "cell_type": "code",
   "execution_count": 18,
   "id": "224d4780",
   "metadata": {},
   "outputs": [],
   "source": [
    "tot_data = tot_data[tot_data['Level']!='DISTRICT'].copy()"
   ]
  },
  {
   "cell_type": "code",
   "execution_count": 19,
   "id": "706b064c",
   "metadata": {},
   "outputs": [],
   "source": [
    "tot_data.drop_duplicates(subset =\"Name\",keep = 'first', inplace = True)"
   ]
  },
  {
   "cell_type": "code",
   "execution_count": 20,
   "id": "ed831608",
   "metadata": {},
   "outputs": [],
   "source": [
    "tot_data['Name'] = tot_data['Name'].str.lower()"
   ]
  },
  {
   "cell_type": "code",
   "execution_count": 21,
   "id": "2ab53b81",
   "metadata": {},
   "outputs": [
    {
     "data": {
      "text/plain": [
       "0        0\n",
       "3        1\n",
       "72       2\n",
       "111      3\n",
       "174      4\n",
       "180      5\n",
       "222      6\n",
       "288      7\n",
       "318      8\n",
       "420      9\n",
       "636     10\n",
       "753     11\n",
       "768     12\n",
       "819     13\n",
       "855     14\n",
       "885     15\n",
       "912     16\n",
       "927     17\n",
       "951     18\n",
       "1035    19\n",
       "1095    20\n",
       "1170    21\n",
       "1263    22\n",
       "1320    23\n",
       "1473    24\n",
       "1554    25\n",
       "1563    26\n",
       "1569    27\n",
       "1677    28\n",
       "1749    29\n",
       "1842    30\n",
       "1851    31\n",
       "1857    32\n",
       "1902    33\n",
       "2001    34\n",
       "2016    35\n",
       "Name: State, dtype: int64"
      ]
     },
     "execution_count": 21,
     "metadata": {},
     "output_type": "execute_result"
    }
   ],
   "source": [
    "tot_data.pop('Level')\n",
    "tot_data.pop('State')"
   ]
  },
  {
   "cell_type": "code",
   "execution_count": 22,
   "id": "5bf98104",
   "metadata": {},
   "outputs": [],
   "source": [
    "tot_data.rename(columns = {'Name':'State'}, inplace = True)"
   ]
  },
  {
   "cell_type": "code",
   "execution_count": 23,
   "id": "b07627c2",
   "metadata": {},
   "outputs": [],
   "source": [
    "result = pd.merge(fin_data2, tot_data, how ='inner', on =['State'])"
   ]
  },
  {
   "cell_type": "code",
   "execution_count": 24,
   "id": "22ad48d7",
   "metadata": {},
   "outputs": [],
   "source": [
    "result['exactly_one'] = result['TOT_P']-result['S_persons']"
   ]
  },
  {
   "cell_type": "code",
   "execution_count": 25,
   "id": "1a69f1bb",
   "metadata": {},
   "outputs": [],
   "source": [
    "result = result.drop(['level_0','S_persons','T_persons','TOT_P'],axis=1)"
   ]
  },
  {
   "cell_type": "code",
   "execution_count": 26,
   "id": "1af2fcf0",
   "metadata": {},
   "outputs": [],
   "source": [
    "result['per'] = (result['exactly_two']/result['exactly_one'])*100"
   ]
  },
  {
   "cell_type": "code",
   "execution_count": 27,
   "id": "bc95f5c1",
   "metadata": {},
   "outputs": [],
   "source": [
    "result.sort_values(\"per\", axis = 0, ascending = True,inplace = True, na_position ='last')"
   ]
  },
  {
   "cell_type": "code",
   "execution_count": 28,
   "id": "c0187c0c",
   "metadata": {},
   "outputs": [],
   "source": [
    "top = result.head(3).copy()\n",
    "bottom = result.tail(3).copy()"
   ]
  },
  {
   "cell_type": "code",
   "execution_count": 29,
   "id": "e291c448",
   "metadata": {},
   "outputs": [],
   "source": [
    "top.sort_values(\"per\", axis = 0, ascending = False,inplace = True, na_position ='last')"
   ]
  },
  {
   "cell_type": "code",
   "execution_count": 30,
   "id": "a355620a",
   "metadata": {},
   "outputs": [],
   "source": [
    "final = pd.concat([top,bottom])"
   ]
  },
  {
   "cell_type": "code",
   "execution_count": 31,
   "id": "18c76380",
   "metadata": {},
   "outputs": [],
   "source": [
    "final = final.drop(['index','exactly_two','exactly_one'],axis=1)"
   ]
  },
  {
   "cell_type": "code",
   "execution_count": 32,
   "id": "fdf1d385",
   "metadata": {},
   "outputs": [
    {
     "data": {
      "text/plain": [
       "5          chhattisgarh\n",
       "30        uttar pradesh\n",
       "26            rajasthan\n",
       "27               sikkim\n",
       "1     arunachal pradesh\n",
       "8                   goa\n",
       "Name: State, dtype: object"
      ]
     },
     "execution_count": 32,
     "metadata": {},
     "output_type": "execute_result"
    }
   ],
   "source": [
    "final.pop('State')"
   ]
  },
  {
   "cell_type": "code",
   "execution_count": 33,
   "id": "f5b5c0d1",
   "metadata": {},
   "outputs": [],
   "source": [
    "final.columns = ['state/ut','ratio']"
   ]
  },
  {
   "cell_type": "code",
   "execution_count": 34,
   "id": "a329b4f4",
   "metadata": {},
   "outputs": [],
   "source": [
    "final.to_csv('2-to-1-ratio.csv',index=False)"
   ]
  },
  {
   "cell_type": "code",
   "execution_count": null,
   "id": "3f7dc1f3",
   "metadata": {},
   "outputs": [],
   "source": []
  }
 ],
 "metadata": {
  "kernelspec": {
   "display_name": "Python 3 (ipykernel)",
   "language": "python",
   "name": "python3"
  },
  "language_info": {
   "codemirror_mode": {
    "name": "ipython",
    "version": 3
   },
   "file_extension": ".py",
   "mimetype": "text/x-python",
   "name": "python",
   "nbconvert_exporter": "python",
   "pygments_lexer": "ipython3",
   "version": "3.9.7"
  }
 },
 "nbformat": 4,
 "nbformat_minor": 5
}
