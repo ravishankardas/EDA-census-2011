{
 "cells": [
  {
   "cell_type": "code",
   "execution_count": 1,
   "id": "754dd91c",
   "metadata": {},
   "outputs": [],
   "source": [
    "import pandas as pd"
   ]
  },
  {
   "cell_type": "code",
   "execution_count": 2,
   "id": "f9e95fcf",
   "metadata": {},
   "outputs": [],
   "source": [
    "d = pd.read_excel('DDW-0000C-08.xlsx')"
   ]
  },
  {
   "cell_type": "code",
   "execution_count": 3,
   "id": "0be03a57",
   "metadata": {},
   "outputs": [],
   "source": [
    "d_col = ['table_name','state_code','dist_code','area_name','tot/urb/rur','age_group','tot_persons','tot_males','tot_females','illiterate_persons','illiterate_males','illiterate_females','literate_persons','literate_males','literate_females','literate_without_edu_level_persons','literate_without_edu_level_males','literate_without_edu_level_females','below_primary_persons','below_primary_males','below_primary_females','primary_persons','primary_males','primary_females','middle_persons','middle_males','middle_females','matric_persons','matric_males','matric_females','intermediate_persons','intermediate_males','intermediate_females','non_tech_diploma_persons','non_tech_diploma_males','non_tech_diploma_females','tech_diploma_persons','tech_diploma_males','tech_diploma_females','graduate_and_above_persons','graduate_and_above_males','graduate_and_above_females','unclassified_persons','unclassified_persons_males','unclassified_persons_females']"
   ]
  },
  {
   "cell_type": "code",
   "execution_count": 4,
   "id": "49be4d80",
   "metadata": {},
   "outputs": [],
   "source": [
    "d.columns = d_col"
   ]
  },
  {
   "cell_type": "code",
   "execution_count": 5,
   "id": "f29ce06f",
   "metadata": {},
   "outputs": [],
   "source": [
    "d = d[6:]"
   ]
  },
  {
   "cell_type": "code",
   "execution_count": 6,
   "id": "c3fa1d71",
   "metadata": {},
   "outputs": [],
   "source": [
    "d = d[['state_code','area_name','tot/urb/rur','illiterate_males','illiterate_females','literate_males','literate_females','literate_without_edu_level_males','literate_without_edu_level_females','below_primary_males','below_primary_females','primary_males','primary_females','middle_males','middle_females','matric_males','matric_females','intermediate_males','intermediate_females','non_tech_diploma_males','non_tech_diploma_females','tech_diploma_males','tech_diploma_females','graduate_and_above_males','graduate_and_above_females','unclassified_persons_males','unclassified_persons_females']].copy()"
   ]
  },
  {
   "cell_type": "code",
   "execution_count": 7,
   "id": "3165a78f",
   "metadata": {},
   "outputs": [],
   "source": [
    "d = d[d['tot/urb/rur']=='Total'].copy()"
   ]
  },
  {
   "cell_type": "code",
   "execution_count": 8,
   "id": "e846a8b3",
   "metadata": {},
   "outputs": [
    {
     "data": {
      "text/html": [
       "<div>\n",
       "<style scoped>\n",
       "    .dataframe tbody tr th:only-of-type {\n",
       "        vertical-align: middle;\n",
       "    }\n",
       "\n",
       "    .dataframe tbody tr th {\n",
       "        vertical-align: top;\n",
       "    }\n",
       "\n",
       "    .dataframe thead th {\n",
       "        text-align: right;\n",
       "    }\n",
       "</style>\n",
       "<table border=\"1\" class=\"dataframe\">\n",
       "  <thead>\n",
       "    <tr style=\"text-align: right;\">\n",
       "      <th></th>\n",
       "      <th>state_code</th>\n",
       "      <th>area_name</th>\n",
       "      <th>tot/urb/rur</th>\n",
       "      <th>illiterate_males</th>\n",
       "      <th>illiterate_females</th>\n",
       "      <th>literate_males</th>\n",
       "      <th>literate_females</th>\n",
       "      <th>literate_without_edu_level_males</th>\n",
       "      <th>literate_without_edu_level_females</th>\n",
       "      <th>below_primary_males</th>\n",
       "      <th>...</th>\n",
       "      <th>intermediate_males</th>\n",
       "      <th>intermediate_females</th>\n",
       "      <th>non_tech_diploma_males</th>\n",
       "      <th>non_tech_diploma_females</th>\n",
       "      <th>tech_diploma_males</th>\n",
       "      <th>tech_diploma_females</th>\n",
       "      <th>graduate_and_above_males</th>\n",
       "      <th>graduate_and_above_females</th>\n",
       "      <th>unclassified_persons_males</th>\n",
       "      <th>unclassified_persons_females</th>\n",
       "    </tr>\n",
       "  </thead>\n",
       "  <tbody>\n",
       "    <tr>\n",
       "      <th>6</th>\n",
       "      <td>00</td>\n",
       "      <td>INDIA</td>\n",
       "      <td>Total</td>\n",
       "      <td>188506636</td>\n",
       "      <td>258709529</td>\n",
       "      <td>434763622</td>\n",
       "      <td>328875190</td>\n",
       "      <td>19278416</td>\n",
       "      <td>15874815</td>\n",
       "      <td>78445099</td>\n",
       "      <td>...</td>\n",
       "      <td>46481321</td>\n",
       "      <td>31461272</td>\n",
       "      <td>726565</td>\n",
       "      <td>345724</td>\n",
       "      <td>5354161</td>\n",
       "      <td>1884558</td>\n",
       "      <td>42120460</td>\n",
       "      <td>26168511</td>\n",
       "      <td>1647116</td>\n",
       "      <td>1384454</td>\n",
       "    </tr>\n",
       "    <tr>\n",
       "      <th>7</th>\n",
       "      <td>00</td>\n",
       "      <td>INDIA</td>\n",
       "      <td>Total</td>\n",
       "      <td>85752254</td>\n",
       "      <td>78762999</td>\n",
       "      <td>0</td>\n",
       "      <td>0</td>\n",
       "      <td>0</td>\n",
       "      <td>0</td>\n",
       "      <td>0</td>\n",
       "      <td>...</td>\n",
       "      <td>0</td>\n",
       "      <td>0</td>\n",
       "      <td>0</td>\n",
       "      <td>0</td>\n",
       "      <td>0</td>\n",
       "      <td>0</td>\n",
       "      <td>0</td>\n",
       "      <td>0</td>\n",
       "      <td>0</td>\n",
       "      <td>0</td>\n",
       "    </tr>\n",
       "    <tr>\n",
       "      <th>8</th>\n",
       "      <td>00</td>\n",
       "      <td>INDIA</td>\n",
       "      <td>Total</td>\n",
       "      <td>3388683</td>\n",
       "      <td>3359531</td>\n",
       "      <td>9514681</td>\n",
       "      <td>8563745</td>\n",
       "      <td>248229</td>\n",
       "      <td>175976</td>\n",
       "      <td>9190737</td>\n",
       "      <td>...</td>\n",
       "      <td>0</td>\n",
       "      <td>0</td>\n",
       "      <td>0</td>\n",
       "      <td>0</td>\n",
       "      <td>0</td>\n",
       "      <td>0</td>\n",
       "      <td>0</td>\n",
       "      <td>0</td>\n",
       "      <td>75715</td>\n",
       "      <td>60750</td>\n",
       "    </tr>\n",
       "    <tr>\n",
       "      <th>9</th>\n",
       "      <td>00</td>\n",
       "      <td>INDIA</td>\n",
       "      <td>Total</td>\n",
       "      <td>2013742</td>\n",
       "      <td>2117672</td>\n",
       "      <td>12048195</td>\n",
       "      <td>10788764</td>\n",
       "      <td>202220</td>\n",
       "      <td>149060</td>\n",
       "      <td>11793414</td>\n",
       "      <td>...</td>\n",
       "      <td>0</td>\n",
       "      <td>0</td>\n",
       "      <td>0</td>\n",
       "      <td>0</td>\n",
       "      <td>0</td>\n",
       "      <td>0</td>\n",
       "      <td>0</td>\n",
       "      <td>0</td>\n",
       "      <td>52561</td>\n",
       "      <td>43963</td>\n",
       "    </tr>\n",
       "    <tr>\n",
       "      <th>10</th>\n",
       "      <td>00</td>\n",
       "      <td>INDIA</td>\n",
       "      <td>Total</td>\n",
       "      <td>1198339</td>\n",
       "      <td>1293565</td>\n",
       "      <td>11016646</td>\n",
       "      <td>9916088</td>\n",
       "      <td>167048</td>\n",
       "      <td>124233</td>\n",
       "      <td>9579169</td>\n",
       "      <td>...</td>\n",
       "      <td>0</td>\n",
       "      <td>0</td>\n",
       "      <td>0</td>\n",
       "      <td>0</td>\n",
       "      <td>0</td>\n",
       "      <td>0</td>\n",
       "      <td>0</td>\n",
       "      <td>0</td>\n",
       "      <td>38456</td>\n",
       "      <td>31996</td>\n",
       "    </tr>\n",
       "  </tbody>\n",
       "</table>\n",
       "<p>5 rows × 27 columns</p>\n",
       "</div>"
      ],
      "text/plain": [
       "   state_code area_name tot/urb/rur illiterate_males illiterate_females  \\\n",
       "6          00     INDIA       Total        188506636          258709529   \n",
       "7          00     INDIA       Total         85752254           78762999   \n",
       "8          00     INDIA       Total          3388683            3359531   \n",
       "9          00     INDIA       Total          2013742            2117672   \n",
       "10         00     INDIA       Total          1198339            1293565   \n",
       "\n",
       "   literate_males literate_females literate_without_edu_level_males  \\\n",
       "6       434763622        328875190                         19278416   \n",
       "7               0                0                                0   \n",
       "8         9514681          8563745                           248229   \n",
       "9        12048195         10788764                           202220   \n",
       "10       11016646          9916088                           167048   \n",
       "\n",
       "   literate_without_edu_level_females below_primary_males  ...  \\\n",
       "6                            15874815            78445099  ...   \n",
       "7                                   0                   0  ...   \n",
       "8                              175976             9190737  ...   \n",
       "9                              149060            11793414  ...   \n",
       "10                             124233             9579169  ...   \n",
       "\n",
       "   intermediate_males intermediate_females non_tech_diploma_males  \\\n",
       "6            46481321             31461272                 726565   \n",
       "7                   0                    0                      0   \n",
       "8                   0                    0                      0   \n",
       "9                   0                    0                      0   \n",
       "10                  0                    0                      0   \n",
       "\n",
       "   non_tech_diploma_females tech_diploma_males tech_diploma_females  \\\n",
       "6                    345724            5354161              1884558   \n",
       "7                         0                  0                    0   \n",
       "8                         0                  0                    0   \n",
       "9                         0                  0                    0   \n",
       "10                        0                  0                    0   \n",
       "\n",
       "   graduate_and_above_males graduate_and_above_females  \\\n",
       "6                  42120460                   26168511   \n",
       "7                         0                          0   \n",
       "8                         0                          0   \n",
       "9                         0                          0   \n",
       "10                        0                          0   \n",
       "\n",
       "   unclassified_persons_males unclassified_persons_females  \n",
       "6                     1647116                      1384454  \n",
       "7                           0                            0  \n",
       "8                       75715                        60750  \n",
       "9                       52561                        43963  \n",
       "10                      38456                        31996  \n",
       "\n",
       "[5 rows x 27 columns]"
      ]
     },
     "execution_count": 8,
     "metadata": {},
     "output_type": "execute_result"
    }
   ],
   "source": [
    "d.head()"
   ]
  },
  {
   "cell_type": "code",
   "execution_count": 9,
   "id": "989d0f21",
   "metadata": {},
   "outputs": [],
   "source": [
    "d['total_literate_males'] = d['literate_males'] + d['unclassified_persons_males'] + d['literate_without_edu_level_males'] + d['illiterate_males']\n",
    "d['total_literate_females'] = d['literate_females'] + d['unclassified_persons_females'] + d['literate_without_edu_level_females'] + d['illiterate_females']"
   ]
  },
  {
   "cell_type": "code",
   "execution_count": 10,
   "id": "29321b2c",
   "metadata": {},
   "outputs": [],
   "source": [
    "d['total_matric_males'] = d['matric_males'] + d['intermediate_males']+ d['non_tech_diploma_males'] + d['tech_diploma_males']\n",
    "d['total_matric_females'] = d['matric_females'] + d['intermediate_females']+ d['non_tech_diploma_females'] + d['tech_diploma_females']"
   ]
  },
  {
   "cell_type": "code",
   "execution_count": 11,
   "id": "a6cce4ba",
   "metadata": {},
   "outputs": [],
   "source": [
    "data2 = pd.read_excel('DDW-C19-0000.xlsx')"
   ]
  },
  {
   "cell_type": "code",
   "execution_count": 12,
   "id": "bcf777b1",
   "metadata": {},
   "outputs": [],
   "source": [
    "new_col = ['state','District','Area','Total','Edu-level','S_persons','S_males','S_females','T_persons','T_males','T_females']"
   ]
  },
  {
   "cell_type": "code",
   "execution_count": 13,
   "id": "292d29a9",
   "metadata": {},
   "outputs": [],
   "source": [
    "data2.columns = new_col"
   ]
  },
  {
   "cell_type": "code",
   "execution_count": 14,
   "id": "309f2f57",
   "metadata": {},
   "outputs": [],
   "source": [
    "data2 = data2.iloc[5:]"
   ]
  },
  {
   "cell_type": "code",
   "execution_count": 15,
   "id": "a4d61c6d",
   "metadata": {},
   "outputs": [],
   "source": [
    "new_data2 = data2.copy(deep=True)"
   ]
  },
  {
   "cell_type": "code",
   "execution_count": 16,
   "id": "24471825",
   "metadata": {},
   "outputs": [],
   "source": [
    "new_data2 = new_data2[new_data2['Total']=='Total'].copy()"
   ]
  },
  {
   "cell_type": "code",
   "execution_count": 17,
   "id": "04632d05",
   "metadata": {},
   "outputs": [],
   "source": [
    "new_data2 = new_data2[new_data2['Edu-level']!='Total'].copy()"
   ]
  },
  {
   "cell_type": "code",
   "execution_count": 20,
   "id": "2def0e64",
   "metadata": {},
   "outputs": [
    {
     "data": {
      "text/html": [
       "<div>\n",
       "<style scoped>\n",
       "    .dataframe tbody tr th:only-of-type {\n",
       "        vertical-align: middle;\n",
       "    }\n",
       "\n",
       "    .dataframe tbody tr th {\n",
       "        vertical-align: top;\n",
       "    }\n",
       "\n",
       "    .dataframe thead th {\n",
       "        text-align: right;\n",
       "    }\n",
       "</style>\n",
       "<table border=\"1\" class=\"dataframe\">\n",
       "  <thead>\n",
       "    <tr style=\"text-align: right;\">\n",
       "      <th></th>\n",
       "      <th>state</th>\n",
       "      <th>District</th>\n",
       "      <th>Area</th>\n",
       "      <th>Total</th>\n",
       "      <th>Edu-level</th>\n",
       "      <th>S_persons</th>\n",
       "      <th>S_males</th>\n",
       "      <th>S_females</th>\n",
       "      <th>T_persons</th>\n",
       "      <th>T_males</th>\n",
       "      <th>T_females</th>\n",
       "    </tr>\n",
       "  </thead>\n",
       "  <tbody>\n",
       "    <tr>\n",
       "      <th>6</th>\n",
       "      <td>00</td>\n",
       "      <td>00</td>\n",
       "      <td>INDIA</td>\n",
       "      <td>Total</td>\n",
       "      <td>Illiterate</td>\n",
       "      <td>42266268</td>\n",
       "      <td>17851584</td>\n",
       "      <td>24414684</td>\n",
       "      <td>3879858</td>\n",
       "      <td>1890285</td>\n",
       "      <td>1989573</td>\n",
       "    </tr>\n",
       "    <tr>\n",
       "      <th>7</th>\n",
       "      <td>00</td>\n",
       "      <td>00</td>\n",
       "      <td>INDIA</td>\n",
       "      <td>Total</td>\n",
       "      <td>Literate</td>\n",
       "      <td>272722502</td>\n",
       "      <td>158844799</td>\n",
       "      <td>113877703</td>\n",
       "      <td>82129722</td>\n",
       "      <td>48646547</td>\n",
       "      <td>33483175</td>\n",
       "    </tr>\n",
       "    <tr>\n",
       "      <th>8</th>\n",
       "      <td>00</td>\n",
       "      <td>00</td>\n",
       "      <td>INDIA</td>\n",
       "      <td>Total</td>\n",
       "      <td>Literate but below primary</td>\n",
       "      <td>29345104</td>\n",
       "      <td>16126959</td>\n",
       "      <td>13218145</td>\n",
       "      <td>3733616</td>\n",
       "      <td>2108024</td>\n",
       "      <td>1625592</td>\n",
       "    </tr>\n",
       "    <tr>\n",
       "      <th>9</th>\n",
       "      <td>00</td>\n",
       "      <td>00</td>\n",
       "      <td>INDIA</td>\n",
       "      <td>Total</td>\n",
       "      <td>Primary but below middle</td>\n",
       "      <td>48570544</td>\n",
       "      <td>26588496</td>\n",
       "      <td>21982048</td>\n",
       "      <td>8636296</td>\n",
       "      <td>4782211</td>\n",
       "      <td>3854085</td>\n",
       "    </tr>\n",
       "    <tr>\n",
       "      <th>10</th>\n",
       "      <td>00</td>\n",
       "      <td>00</td>\n",
       "      <td>INDIA</td>\n",
       "      <td>Total</td>\n",
       "      <td>Middle but below matric/secondary</td>\n",
       "      <td>43116661</td>\n",
       "      <td>25214857</td>\n",
       "      <td>17901804</td>\n",
       "      <td>10743350</td>\n",
       "      <td>6266289</td>\n",
       "      <td>4477061</td>\n",
       "    </tr>\n",
       "    <tr>\n",
       "      <th>11</th>\n",
       "      <td>00</td>\n",
       "      <td>00</td>\n",
       "      <td>INDIA</td>\n",
       "      <td>Total</td>\n",
       "      <td>Matric/Secondary but below graduate</td>\n",
       "      <td>93204075</td>\n",
       "      <td>56022449</td>\n",
       "      <td>37181626</td>\n",
       "      <td>33899219</td>\n",
       "      <td>20411147</td>\n",
       "      <td>13488072</td>\n",
       "    </tr>\n",
       "    <tr>\n",
       "      <th>12</th>\n",
       "      <td>00</td>\n",
       "      <td>00</td>\n",
       "      <td>INDIA</td>\n",
       "      <td>Total</td>\n",
       "      <td>Graduate and above</td>\n",
       "      <td>46958049</td>\n",
       "      <td>28285620</td>\n",
       "      <td>18672429</td>\n",
       "      <td>22146543</td>\n",
       "      <td>13316422</td>\n",
       "      <td>8830121</td>\n",
       "    </tr>\n",
       "  </tbody>\n",
       "</table>\n",
       "</div>"
      ],
      "text/plain": [
       "   state District   Area  Total                            Edu-level  \\\n",
       "6     00       00  INDIA  Total                           Illiterate   \n",
       "7     00       00  INDIA  Total                             Literate   \n",
       "8     00       00  INDIA  Total           Literate but below primary   \n",
       "9     00       00  INDIA  Total             Primary but below middle   \n",
       "10    00       00  INDIA  Total    Middle but below matric/secondary   \n",
       "11    00       00  INDIA  Total  Matric/Secondary but below graduate   \n",
       "12    00       00  INDIA  Total                   Graduate and above   \n",
       "\n",
       "    S_persons    S_males  S_females T_persons   T_males T_females  \n",
       "6    42266268   17851584   24414684   3879858   1890285   1989573  \n",
       "7   272722502  158844799  113877703  82129722  48646547  33483175  \n",
       "8    29345104   16126959   13218145   3733616   2108024   1625592  \n",
       "9    48570544   26588496   21982048   8636296   4782211   3854085  \n",
       "10   43116661   25214857   17901804  10743350   6266289   4477061  \n",
       "11   93204075   56022449   37181626  33899219  20411147  13488072  \n",
       "12   46958049   28285620   18672429  22146543  13316422   8830121  "
      ]
     },
     "execution_count": 20,
     "metadata": {},
     "output_type": "execute_result"
    }
   ],
   "source": [
    "new_data2[new_data2['Area'] == 'INDIA']"
   ]
  },
  {
   "cell_type": "code",
   "execution_count": null,
   "id": "4018513a",
   "metadata": {},
   "outputs": [],
   "source": [
    "d.drop_duplicates(subset =[\"area_name\"],keep = 'first', inplace = True)"
   ]
  },
  {
   "cell_type": "code",
   "execution_count": null,
   "id": "40a1f79c",
   "metadata": {},
   "outputs": [],
   "source": [
    "three_data = new_data2[['state','Area','Edu-level','T_males','T_females']].copy()"
   ]
  },
  {
   "cell_type": "code",
   "execution_count": null,
   "id": "5e0f7026",
   "metadata": {},
   "outputs": [],
   "source": [
    "two_data = new_data2.copy(deep=True)"
   ]
  },
  {
   "cell_type": "code",
   "execution_count": null,
   "id": "2f99a377",
   "metadata": {},
   "outputs": [],
   "source": [
    "one_data = new_data2[['state','Area','Edu-level','S_males','S_females']].copy()"
   ]
  },
  {
   "cell_type": "code",
   "execution_count": null,
   "id": "fd80dc6f",
   "metadata": {},
   "outputs": [],
   "source": [
    "d.reset_index(inplace=True)"
   ]
  },
  {
   "cell_type": "code",
   "execution_count": null,
   "id": "9b7a3bef",
   "metadata": {},
   "outputs": [],
   "source": [
    "d = d[['state_code', 'area_name', 'illiterate_males','illiterate_females','total_literate_males','total_literate_females','below_primary_males','below_primary_females', 'primary_males', 'primary_females','middle_males', 'middle_females','total_matric_males', 'total_matric_females','graduate_and_above_males','graduate_and_above_females', ]].copy()"
   ]
  },
  {
   "cell_type": "code",
   "execution_count": null,
   "id": "6f598851",
   "metadata": {},
   "outputs": [],
   "source": [
    "col_list = ['state_code', 'area_name','illiterate males','illiterate females', 'literate males', 'literate females', 'literate but below primary males', 'literate but below primary females', 'primary but below middle males', 'primary but below middle females', 'middle but below matric/secondary males', 'middle but below matric/secondary females', 'matric/secondary but below graduate males', 'matric/secondary but below graduate females', 'graduate and above males', 'graduate and above females']"
   ]
  },
  {
   "cell_type": "code",
   "execution_count": null,
   "id": "7013a7e2",
   "metadata": {},
   "outputs": [],
   "source": [
    "three_data.reset_index(inplace=True)"
   ]
  },
  {
   "cell_type": "code",
   "execution_count": null,
   "id": "b10c70fa",
   "metadata": {},
   "outputs": [],
   "source": [
    "d.columns = col_list"
   ]
  },
  {
   "cell_type": "code",
   "execution_count": null,
   "id": "b376e76f",
   "metadata": {},
   "outputs": [],
   "source": [
    "text_male = 'male'\n",
    "text_female = 'female'"
   ]
  },
  {
   "cell_type": "code",
   "execution_count": null,
   "id": "b8b66f48",
   "metadata": {},
   "outputs": [],
   "source": [
    "def add_male(full,first):\n",
    "    ahem = d[full].to_list()\n",
    "    k=0\n",
    "    for index, row in three_data.iterrows():\n",
    "        if row[\"Edu-level\"]==first:\n",
    "            three_data.loc[index, text_male] = ahem[k]\n",
    "            k+=1"
   ]
  },
  {
   "cell_type": "code",
   "execution_count": null,
   "id": "a979182e",
   "metadata": {},
   "outputs": [],
   "source": [
    "def add_female(full,first):\n",
    "    ahem = d[full].to_list()\n",
    "    k=0\n",
    "    for index, row in three_data.iterrows():\n",
    "        if row[\"Edu-level\"]==first:\n",
    "            three_data.loc[index, text_female] = ahem[k]\n",
    "            k+=1"
   ]
  },
  {
   "cell_type": "code",
   "execution_count": null,
   "id": "fc85f5d0",
   "metadata": {},
   "outputs": [],
   "source": [
    "three_data['Edu-level'] = three_data['Edu-level'].str.lower()"
   ]
  },
  {
   "cell_type": "code",
   "execution_count": null,
   "id": "a88ed8f0",
   "metadata": {},
   "outputs": [],
   "source": [
    "col_list = col_list[2:]"
   ]
  },
  {
   "cell_type": "code",
   "execution_count": null,
   "id": "1e1837dc",
   "metadata": {},
   "outputs": [],
   "source": [
    "for name in col_list:\n",
    "    a = name.rsplit(' ', 1)[0]\n",
    "    b = name.rsplit(' ', 1)[-1]\n",
    "    if b == 'males':\n",
    "        add_male(name,a)\n",
    "    elif b == 'females':\n",
    "        add_female(name,a)"
   ]
  },
  {
   "cell_type": "code",
   "execution_count": null,
   "id": "187bb86c",
   "metadata": {},
   "outputs": [],
   "source": [
    "tot_data = three_data[['male','female']].copy()"
   ]
  },
  {
   "cell_type": "code",
   "execution_count": null,
   "id": "705a0fc8",
   "metadata": {},
   "outputs": [],
   "source": [
    "three_data['male_ratio'] = three_data['T_males']/three_data['male']\n",
    "three_data['female_ratio'] = three_data['T_females']/three_data['female']"
   ]
  },
  {
   "cell_type": "code",
   "execution_count": null,
   "id": "15792d81",
   "metadata": {},
   "outputs": [],
   "source": [
    "three_males = three_data[['state','Area','Edu-level','male_ratio']].copy()\n",
    "three_females = three_data[['state','Area','Edu-level','female_ratio']].copy()"
   ]
  },
  {
   "cell_type": "code",
   "execution_count": null,
   "id": "75491432",
   "metadata": {},
   "outputs": [],
   "source": [
    "three_males['max_column'] = three_males.groupby(['Area'])['male_ratio'].transform('max')\n",
    "three_females['max_column'] = three_females.groupby(['Area'])['female_ratio'].transform('max')"
   ]
  },
  {
   "cell_type": "code",
   "execution_count": null,
   "id": "b6fce15b",
   "metadata": {},
   "outputs": [],
   "source": [
    "three_males = three_males[three_males['male_ratio'] == three_males['max_column']].copy()\n",
    "three_females = three_females[three_females['female_ratio'] == three_females['max_column']].copy()"
   ]
  },
  {
   "cell_type": "code",
   "execution_count": null,
   "id": "3dbf7edb",
   "metadata": {},
   "outputs": [],
   "source": [
    "three_males = three_males.rename(columns={'state':'state/ut','Edu-level':'male-literacy-group','male_ratio':'male-ratio-of-3'})"
   ]
  },
  {
   "cell_type": "code",
   "execution_count": null,
   "id": "e8228cbc",
   "metadata": {},
   "outputs": [],
   "source": [
    "three_females = three_females.rename(columns={'state':'state/ut','Edu-level':'female-literacy-group','female_ratio':'female-ratio-of-3'})"
   ]
  },
  {
   "cell_type": "code",
   "execution_count": null,
   "id": "49cfb43b",
   "metadata": {},
   "outputs": [],
   "source": [
    "three_males.pop('max_column')\n",
    "three_females.pop('max_column')"
   ]
  },
  {
   "cell_type": "code",
   "execution_count": null,
   "id": "71585b41",
   "metadata": {},
   "outputs": [],
   "source": [
    "final_three = pd.merge(three_males, three_females, on='Area', how='outer')"
   ]
  },
  {
   "cell_type": "code",
   "execution_count": null,
   "id": "a4f7f2f2",
   "metadata": {},
   "outputs": [],
   "source": [
    "final_three = final_three[['state/ut_x','male-literacy-group','male-ratio-of-3','female-literacy-group','female-ratio-of-3']].copy()"
   ]
  },
  {
   "cell_type": "code",
   "execution_count": null,
   "id": "2f2e63ee",
   "metadata": {},
   "outputs": [],
   "source": [
    "final_three = final_three.rename(columns={'state/ut_x':'state/ut'})"
   ]
  },
  {
   "cell_type": "code",
   "execution_count": null,
   "id": "3f5d22d1",
   "metadata": {},
   "outputs": [],
   "source": [
    "final_three.columns = ['state/ut','literacy-group-males', 'ratio-males-3','literacy-group-females', 'ratio-females-3']"
   ]
  },
  {
   "cell_type": "code",
   "execution_count": null,
   "id": "46f5836e",
   "metadata": {},
   "outputs": [],
   "source": [
    "final_three.to_csv('literacy-gender-c.csv')"
   ]
  },
  {
   "cell_type": "code",
   "execution_count": null,
   "id": "ceaf082e",
   "metadata": {},
   "outputs": [],
   "source": [
    "two_data['exactly_two_male'] = two_data['S_males'] - two_data['T_males']\n",
    "two_data['exactly_two_female'] = two_data['S_females'] - two_data['T_females']"
   ]
  },
  {
   "cell_type": "code",
   "execution_count": null,
   "id": "ceb87cf9",
   "metadata": {},
   "outputs": [],
   "source": [
    "two_data = two_data[['state','Area','Edu-level','exactly_two_male','exactly_two_female']].copy()"
   ]
  },
  {
   "cell_type": "code",
   "execution_count": null,
   "id": "1829f5ac",
   "metadata": {},
   "outputs": [],
   "source": [
    "two_data['male'] = tot_data['male'].to_list()"
   ]
  },
  {
   "cell_type": "code",
   "execution_count": null,
   "id": "5ef5ba6f",
   "metadata": {},
   "outputs": [],
   "source": [
    "two_data['female'] = tot_data['female'].to_list()"
   ]
  },
  {
   "cell_type": "code",
   "execution_count": null,
   "id": "146c3b7a",
   "metadata": {},
   "outputs": [],
   "source": [
    "two_male = two_data[['state','Area','Edu-level','exactly_two_male','male']].copy()\n",
    "two_female = two_data[['state','Area','Edu-level','exactly_two_female','female']].copy()"
   ]
  },
  {
   "cell_type": "code",
   "execution_count": null,
   "id": "bc12b108",
   "metadata": {},
   "outputs": [],
   "source": [
    "two_male['male-ratio-of-2'] = two_male['exactly_two_male']/two_male['male']\n",
    "two_female['female-ratio-of-2'] = two_female['exactly_two_female']/two_female['female']"
   ]
  },
  {
   "cell_type": "code",
   "execution_count": null,
   "id": "7c32b9f1",
   "metadata": {},
   "outputs": [],
   "source": [
    "two_male['max_column'] = two_male.groupby(['Area'])['male-ratio-of-2'].transform('max')\n",
    "two_female['max_column'] = two_female.groupby(['Area'])['female-ratio-of-2'].transform('max')"
   ]
  },
  {
   "cell_type": "code",
   "execution_count": null,
   "id": "8e3090b8",
   "metadata": {},
   "outputs": [],
   "source": [
    "two_male = two_male[two_male['male-ratio-of-2'] == two_male['max_column']].copy()\n",
    "two_female = two_female[two_female['female-ratio-of-2'] == two_female['max_column']].copy()"
   ]
  },
  {
   "cell_type": "code",
   "execution_count": null,
   "id": "96ca200d",
   "metadata": {},
   "outputs": [],
   "source": [
    "two_male = two_male[['state','Area','Edu-level','male-ratio-of-2']].copy()\n",
    "two_female = two_female[['state','Area','Edu-level','female-ratio-of-2']].copy()"
   ]
  },
  {
   "cell_type": "code",
   "execution_count": null,
   "id": "53844282",
   "metadata": {},
   "outputs": [],
   "source": [
    "two_male = two_male.rename(columns={'state':'state/ut','Edu-level':'male-literacy-group',})\n",
    "two_female = two_female.rename(columns={'state':'state/ut','Edu-level':'female-literacy-group',})"
   ]
  },
  {
   "cell_type": "code",
   "execution_count": null,
   "id": "d9b6b043",
   "metadata": {},
   "outputs": [],
   "source": [
    "final_two = pd.merge(two_male, two_female, on='Area', how='outer')"
   ]
  },
  {
   "cell_type": "code",
   "execution_count": null,
   "id": "bac7b696",
   "metadata": {},
   "outputs": [],
   "source": [
    "final_two.pop('state/ut_y')"
   ]
  },
  {
   "cell_type": "code",
   "execution_count": null,
   "id": "9e59e36c",
   "metadata": {},
   "outputs": [],
   "source": [
    "final_two = final_two.rename(columns={'state/ut_x':'state/ut',})"
   ]
  },
  {
   "cell_type": "code",
   "execution_count": null,
   "id": "901a9cc4",
   "metadata": {},
   "outputs": [],
   "source": [
    "final_two.pop('Area')"
   ]
  },
  {
   "cell_type": "code",
   "execution_count": null,
   "id": "dac9099a",
   "metadata": {},
   "outputs": [],
   "source": [
    "final_two.columns = ['state/ut','literacy-group-males', 'ratio-males-2','literacy-group-females', 'ratio-females-2']"
   ]
  },
  {
   "cell_type": "code",
   "execution_count": null,
   "id": "31a1d485",
   "metadata": {},
   "outputs": [],
   "source": [
    "final_two.to_csv('literacy-gender-b.csv',index=False)"
   ]
  },
  {
   "cell_type": "code",
   "execution_count": null,
   "id": "e8d76e63",
   "metadata": {},
   "outputs": [],
   "source": [
    "one_data['male'] = tot_data['male'].to_list()\n",
    "one_data['female'] = tot_data['female'].to_list()"
   ]
  },
  {
   "cell_type": "code",
   "execution_count": null,
   "id": "e9683be9",
   "metadata": {},
   "outputs": [],
   "source": [
    "one_data['exactly_one_male'] = one_data['male'] - one_data['S_males']\n",
    "one_data['exactly_one_female'] = one_data['female'] - one_data['S_females']"
   ]
  },
  {
   "cell_type": "code",
   "execution_count": null,
   "id": "886b9cf0",
   "metadata": {},
   "outputs": [],
   "source": [
    "one_data = one_data.drop(['S_males','S_females'],axis=1)"
   ]
  },
  {
   "cell_type": "code",
   "execution_count": null,
   "id": "f7d05c2c",
   "metadata": {},
   "outputs": [],
   "source": [
    "one_data['male-ratio-of-1'] = one_data['exactly_one_male']/one_data['male']\n",
    "one_data['female-ratio-of-1'] = one_data['exactly_one_female']/one_data['female']"
   ]
  },
  {
   "cell_type": "code",
   "execution_count": null,
   "id": "11c15ff9",
   "metadata": {},
   "outputs": [],
   "source": [
    "one_male = one_data[['state','Area','Edu-level','male-ratio-of-1']].copy()\n",
    "one_female = one_data[['state','Area','Edu-level','female-ratio-of-1']].copy()"
   ]
  },
  {
   "cell_type": "code",
   "execution_count": null,
   "id": "31a292bf",
   "metadata": {},
   "outputs": [],
   "source": [
    "one_male['max_column'] = one_male.groupby(['Area'])['male-ratio-of-1'].transform('max')\n",
    "one_female['max_column'] = one_female.groupby(['Area'])['female-ratio-of-1'].transform('max')"
   ]
  },
  {
   "cell_type": "code",
   "execution_count": null,
   "id": "45036fe3",
   "metadata": {},
   "outputs": [],
   "source": [
    "one_male = one_male[one_male['male-ratio-of-1'] == one_male['max_column']].copy()\n",
    "one_female = one_female[one_female['female-ratio-of-1'] == one_female['max_column']].copy()"
   ]
  },
  {
   "cell_type": "code",
   "execution_count": null,
   "id": "5fabb08e",
   "metadata": {},
   "outputs": [],
   "source": [
    "one_male.pop('max_column')\n",
    "one_female.pop('max_column')"
   ]
  },
  {
   "cell_type": "code",
   "execution_count": null,
   "id": "fb1b1504",
   "metadata": {},
   "outputs": [],
   "source": [
    "one_male = one_male.rename(columns={'Edu-level':'male-literacy-group'})\n",
    "one_female = one_female.rename(columns={'Edu-level':'female-literacy-group'})"
   ]
  },
  {
   "cell_type": "code",
   "execution_count": null,
   "id": "759e6bc9",
   "metadata": {},
   "outputs": [],
   "source": [
    "final_one = pd.merge(one_male, one_female, on='Area', how='outer')"
   ]
  },
  {
   "cell_type": "code",
   "execution_count": null,
   "id": "87c4423c",
   "metadata": {},
   "outputs": [],
   "source": [
    "final_one = final_one.drop(['Area','state_y'],axis=1)"
   ]
  },
  {
   "cell_type": "code",
   "execution_count": null,
   "id": "01ba3158",
   "metadata": {},
   "outputs": [],
   "source": [
    "final_one = final_one.rename(columns={'state_x':'state/ut'})"
   ]
  },
  {
   "cell_type": "code",
   "execution_count": null,
   "id": "13e4a6b3",
   "metadata": {},
   "outputs": [],
   "source": [
    "final_one.columns = ['state/ut','literacy-group-males', 'ratio-males-1','literacy-group-females', 'ratio-females-1']"
   ]
  },
  {
   "cell_type": "code",
   "execution_count": null,
   "id": "21590a28",
   "metadata": {},
   "outputs": [],
   "source": [
    "final_one.to_csv('literacy-gender-a.csv',index=False)"
   ]
  },
  {
   "cell_type": "code",
   "execution_count": null,
   "id": "6d107f9f",
   "metadata": {},
   "outputs": [],
   "source": []
  }
 ],
 "metadata": {
  "kernelspec": {
   "display_name": "Python 3 (ipykernel)",
   "language": "python",
   "name": "python3"
  },
  "language_info": {
   "codemirror_mode": {
    "name": "ipython",
    "version": 3
   },
   "file_extension": ".py",
   "mimetype": "text/x-python",
   "name": "python",
   "nbconvert_exporter": "python",
   "pygments_lexer": "ipython3",
   "version": "3.9.7"
  }
 },
 "nbformat": 4,
 "nbformat_minor": 5
}
