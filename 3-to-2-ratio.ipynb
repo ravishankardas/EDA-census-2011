{
 "cells": [
  {
   "cell_type": "code",
   "execution_count": 1,
   "id": "30a33bdc",
   "metadata": {},
   "outputs": [],
   "source": [
    "import pandas as pd\n",
    "import numpy as np"
   ]
  },
  {
   "cell_type": "code",
   "execution_count": 2,
   "id": "c13e9d98",
   "metadata": {},
   "outputs": [],
   "source": [
    "data2 = pd.read_excel('DDW-C18-0000.xlsx')"
   ]
  },
  {
   "cell_type": "code",
   "execution_count": 3,
   "id": "1fa874fe",
   "metadata": {},
   "outputs": [],
   "source": [
    "new_col = ['state','District','Area','Total','Age','S_persons','S_males','S_females','T_persons','T_males','T_females']"
   ]
  },
  {
   "cell_type": "code",
   "execution_count": 4,
   "id": "e265034b",
   "metadata": {},
   "outputs": [],
   "source": [
    "data2.columns = new_col"
   ]
  },
  {
   "cell_type": "code",
   "execution_count": 5,
   "id": "f8f17ee6",
   "metadata": {},
   "outputs": [],
   "source": [
    "data2 = data2.iloc[5:]"
   ]
  },
  {
   "cell_type": "code",
   "execution_count": 6,
   "id": "927ddd17",
   "metadata": {},
   "outputs": [],
   "source": [
    "new_data2 = data2.copy(deep=True)"
   ]
  },
  {
   "cell_type": "code",
   "execution_count": 7,
   "id": "7a8e2ce5",
   "metadata": {},
   "outputs": [],
   "source": [
    "new_data2 = new_data2.drop(['District','Total','Age','S_males','S_females','T_males','T_females'],axis=1)"
   ]
  },
  {
   "cell_type": "code",
   "execution_count": 8,
   "id": "87f17132",
   "metadata": {},
   "outputs": [],
   "source": [
    "new_data2.drop_duplicates(subset =\"Area\",keep = 'first', inplace = True)"
   ]
  },
  {
   "cell_type": "code",
   "execution_count": 9,
   "id": "76465a8b",
   "metadata": {},
   "outputs": [],
   "source": [
    "new_data2.reset_index(inplace=True)"
   ]
  },
  {
   "cell_type": "code",
   "execution_count": 10,
   "id": "bc2d2d45",
   "metadata": {},
   "outputs": [
    {
     "data": {
      "text/plain": [
       "0        5\n",
       "1       35\n",
       "2       65\n",
       "3       95\n",
       "4      125\n",
       "5      155\n",
       "6      185\n",
       "7      215\n",
       "8      245\n",
       "9      275\n",
       "10     305\n",
       "11     335\n",
       "12     365\n",
       "13     395\n",
       "14     425\n",
       "15     455\n",
       "16     485\n",
       "17     515\n",
       "18     545\n",
       "19     575\n",
       "20     605\n",
       "21     635\n",
       "22     665\n",
       "23     695\n",
       "24     725\n",
       "25     755\n",
       "26     785\n",
       "27     815\n",
       "28     845\n",
       "29     875\n",
       "30     905\n",
       "31     935\n",
       "32     965\n",
       "33     995\n",
       "34    1025\n",
       "35    1055\n",
       "Name: index, dtype: int64"
      ]
     },
     "execution_count": 10,
     "metadata": {},
     "output_type": "execute_result"
    }
   ],
   "source": [
    "new_data2.pop('index')"
   ]
  },
  {
   "cell_type": "code",
   "execution_count": 11,
   "id": "0e34b65f",
   "metadata": {},
   "outputs": [],
   "source": [
    "fin_data2 = new_data2.copy()"
   ]
  },
  {
   "cell_type": "code",
   "execution_count": 12,
   "id": "0b6a5470",
   "metadata": {},
   "outputs": [],
   "source": [
    "fin_data2['Area'] = new_data2['Area'].str.lower()"
   ]
  },
  {
   "cell_type": "code",
   "execution_count": 13,
   "id": "1ba26049",
   "metadata": {},
   "outputs": [],
   "source": [
    "fin_data2.sort_values(\"Area\", axis = 0, ascending = True,inplace = True)"
   ]
  },
  {
   "cell_type": "code",
   "execution_count": 14,
   "id": "31e2e1d6",
   "metadata": {},
   "outputs": [],
   "source": [
    "fin_data2.rename(columns = {'Area':'State','state':'state/ut'}, inplace = True)"
   ]
  },
  {
   "cell_type": "code",
   "execution_count": 15,
   "id": "d2ba1f43",
   "metadata": {},
   "outputs": [],
   "source": [
    "fin_data2.reset_index(inplace=True)"
   ]
  },
  {
   "cell_type": "code",
   "execution_count": 16,
   "id": "69c7dbbe",
   "metadata": {},
   "outputs": [
    {
     "data": {
      "text/plain": [
       "0     35\n",
       "1     28\n",
       "2     12\n",
       "3     18\n",
       "4     10\n",
       "5      4\n",
       "6     22\n",
       "7     26\n",
       "8     25\n",
       "9     30\n",
       "10    24\n",
       "11     6\n",
       "12     2\n",
       "13     0\n",
       "14     1\n",
       "15    20\n",
       "16    29\n",
       "17    32\n",
       "18    31\n",
       "19    23\n",
       "20    27\n",
       "21    14\n",
       "22    17\n",
       "23    15\n",
       "24    13\n",
       "25     7\n",
       "26    21\n",
       "27    34\n",
       "28     3\n",
       "29     8\n",
       "30    11\n",
       "31    33\n",
       "32    16\n",
       "33     9\n",
       "34     5\n",
       "35    19\n",
       "Name: index, dtype: int64"
      ]
     },
     "execution_count": 16,
     "metadata": {},
     "output_type": "execute_result"
    }
   ],
   "source": [
    "fin_data2.pop('index')"
   ]
  },
  {
   "cell_type": "code",
   "execution_count": 17,
   "id": "19f27a5c",
   "metadata": {},
   "outputs": [],
   "source": [
    "fin_data2['exactly_two'] = fin_data2['S_persons'] - fin_data2['T_persons']"
   ]
  },
  {
   "cell_type": "code",
   "execution_count": 18,
   "id": "3ee39d82",
   "metadata": {},
   "outputs": [],
   "source": [
    "fin_df = fin_data2.copy()"
   ]
  },
  {
   "cell_type": "code",
   "execution_count": 19,
   "id": "f617dd2e",
   "metadata": {},
   "outputs": [
    {
     "data": {
      "text/plain": [
       "0        257425\n",
       "1      21583334\n",
       "2        885945\n",
       "3      14460591\n",
       "4      16761785\n",
       "5        579920\n",
       "6       3384223\n",
       "7        198983\n",
       "8        116629\n",
       "9       1126152\n",
       "10     25892341\n",
       "11      5627361\n",
       "12      1242705\n",
       "13    314988770\n",
       "14      6183190\n",
       "15     10000720\n",
       "16     24252594\n",
       "17      8163387\n",
       "18        18553\n",
       "19      9808682\n",
       "20     57419861\n",
       "21      1388620\n",
       "22       822320\n",
       "23       309703\n",
       "24      1229723\n",
       "25      6817214\n",
       "26     13825024\n",
       "27       392292\n",
       "28     13035224\n",
       "29      7473186\n",
       "30       388999\n",
       "31     20416270\n",
       "32      1268601\n",
       "33     22873609\n",
       "34      1757756\n",
       "35     15025848\n",
       "Name: S_persons, dtype: object"
      ]
     },
     "execution_count": 19,
     "metadata": {},
     "output_type": "execute_result"
    }
   ],
   "source": [
    "fin_data2.pop('S_persons')"
   ]
  },
  {
   "cell_type": "code",
   "execution_count": 20,
   "id": "8f64a2ef",
   "metadata": {},
   "outputs": [],
   "source": [
    "fin_data2['ratio'] = fin_data2['T_persons']/fin_data2['exactly_two']"
   ]
  },
  {
   "cell_type": "code",
   "execution_count": 21,
   "id": "bd2178cb",
   "metadata": {},
   "outputs": [
    {
     "data": {
      "text/plain": [
       "0        72708\n",
       "1      6344376\n",
       "2       418551\n",
       "3      4352497\n",
       "4      1682572\n",
       "5       321979\n",
       "6       422569\n",
       "7        71516\n",
       "8        34602\n",
       "9       741249\n",
       "10     8570571\n",
       "11     1170571\n",
       "12      347286\n",
       "13    86009580\n",
       "14     2096220\n",
       "15     1593039\n",
       "16     7832129\n",
       "17     3188813\n",
       "18        9981\n",
       "19     1257953\n",
       "20    19724729\n",
       "21      616818\n",
       "22      274931\n",
       "23       52966\n",
       "24      537481\n",
       "25     1358233\n",
       "26     5525278\n",
       "27       71665\n",
       "28     7829913\n",
       "29     1006751\n",
       "30      181402\n",
       "31     2447163\n",
       "32      198577\n",
       "33     2585664\n",
       "34      187822\n",
       "35     2881005\n",
       "Name: T_persons, dtype: object"
      ]
     },
     "execution_count": 21,
     "metadata": {},
     "output_type": "execute_result"
    }
   ],
   "source": [
    "fin_data2.pop('T_persons')"
   ]
  },
  {
   "cell_type": "code",
   "execution_count": 22,
   "id": "fec1cad3",
   "metadata": {},
   "outputs": [
    {
     "data": {
      "text/plain": [
       "0        184717\n",
       "1      15238958\n",
       "2        467394\n",
       "3      10108094\n",
       "4      15079213\n",
       "5        257941\n",
       "6       2961654\n",
       "7        127467\n",
       "8         82027\n",
       "9        384903\n",
       "10     17321770\n",
       "11      4456790\n",
       "12       895419\n",
       "13    228979190\n",
       "14      4086970\n",
       "15      8407681\n",
       "16     16420465\n",
       "17      4974574\n",
       "18         8572\n",
       "19      8550729\n",
       "20     37695132\n",
       "21       771802\n",
       "22       547389\n",
       "23       256737\n",
       "24       692242\n",
       "25      5458981\n",
       "26      8299746\n",
       "27       320627\n",
       "28      5205311\n",
       "29      6466435\n",
       "30       207597\n",
       "31     17969107\n",
       "32      1070024\n",
       "33     20287945\n",
       "34      1569934\n",
       "35     12144843\n",
       "Name: exactly_two, dtype: object"
      ]
     },
     "execution_count": 22,
     "metadata": {},
     "output_type": "execute_result"
    }
   ],
   "source": [
    "fin_data2.pop('exactly_two')"
   ]
  },
  {
   "cell_type": "code",
   "execution_count": 23,
   "id": "73cac848",
   "metadata": {},
   "outputs": [],
   "source": [
    "fin_data2.sort_values(\"ratio\", axis = 0, ascending = False,inplace = True)"
   ]
  },
  {
   "cell_type": "code",
   "execution_count": 24,
   "id": "4147f761",
   "metadata": {},
   "outputs": [],
   "source": [
    "dfa = fin_data2.head(3).copy()"
   ]
  },
  {
   "cell_type": "code",
   "execution_count": 25,
   "id": "45459d4a",
   "metadata": {},
   "outputs": [],
   "source": [
    "dfb = fin_data2.tail(3).copy()"
   ]
  },
  {
   "cell_type": "code",
   "execution_count": 26,
   "id": "4b943dd4",
   "metadata": {},
   "outputs": [
    {
     "data": {
      "text/html": [
       "<div>\n",
       "<style scoped>\n",
       "    .dataframe tbody tr th:only-of-type {\n",
       "        vertical-align: middle;\n",
       "    }\n",
       "\n",
       "    .dataframe tbody tr th {\n",
       "        vertical-align: top;\n",
       "    }\n",
       "\n",
       "    .dataframe thead th {\n",
       "        text-align: right;\n",
       "    }\n",
       "</style>\n",
       "<table border=\"1\" class=\"dataframe\">\n",
       "  <thead>\n",
       "    <tr style=\"text-align: right;\">\n",
       "      <th></th>\n",
       "      <th>state/ut</th>\n",
       "      <th>State</th>\n",
       "      <th>ratio</th>\n",
       "    </tr>\n",
       "  </thead>\n",
       "  <tbody>\n",
       "    <tr>\n",
       "      <th>9</th>\n",
       "      <td>30</td>\n",
       "      <td>goa</td>\n",
       "      <td>1.925807</td>\n",
       "    </tr>\n",
       "    <tr>\n",
       "      <th>28</th>\n",
       "      <td>03</td>\n",
       "      <td>punjab</td>\n",
       "      <td>1.504216</td>\n",
       "    </tr>\n",
       "    <tr>\n",
       "      <th>5</th>\n",
       "      <td>04</td>\n",
       "      <td>chandigarh</td>\n",
       "      <td>1.248266</td>\n",
       "    </tr>\n",
       "  </tbody>\n",
       "</table>\n",
       "</div>"
      ],
      "text/plain": [
       "   state/ut       State     ratio\n",
       "9        30         goa  1.925807\n",
       "28       03      punjab  1.504216\n",
       "5        04  chandigarh  1.248266"
      ]
     },
     "execution_count": 26,
     "metadata": {},
     "output_type": "execute_result"
    }
   ],
   "source": [
    "dfa"
   ]
  },
  {
   "cell_type": "code",
   "execution_count": 27,
   "id": "4e808a79",
   "metadata": {},
   "outputs": [],
   "source": [
    "dfb.sort_values(\"ratio\", axis = 0, ascending = True,inplace = True)"
   ]
  },
  {
   "cell_type": "code",
   "execution_count": 28,
   "id": "6093f978",
   "metadata": {},
   "outputs": [],
   "source": [
    "all_dfs = [dfa, dfb]"
   ]
  },
  {
   "cell_type": "code",
   "execution_count": 29,
   "id": "613719b9",
   "metadata": {},
   "outputs": [],
   "source": [
    "for df in all_dfs:\n",
    "    df.columns = ['state/ut','State', 'ratio']"
   ]
  },
  {
   "cell_type": "code",
   "execution_count": 30,
   "id": "9034d896",
   "metadata": {},
   "outputs": [],
   "source": [
    "result = pd.concat(all_dfs).reset_index(drop=True)"
   ]
  },
  {
   "cell_type": "code",
   "execution_count": 31,
   "id": "6939453a",
   "metadata": {},
   "outputs": [
    {
     "data": {
      "text/plain": [
       "0              goa\n",
       "1           punjab\n",
       "2       chandigarh\n",
       "3            bihar\n",
       "4      uttarakhand\n",
       "5    uttar pradesh\n",
       "Name: State, dtype: object"
      ]
     },
     "execution_count": 31,
     "metadata": {},
     "output_type": "execute_result"
    }
   ],
   "source": [
    "result.pop('State')"
   ]
  },
  {
   "cell_type": "code",
   "execution_count": 32,
   "id": "333c48c5",
   "metadata": {},
   "outputs": [],
   "source": [
    "result.to_csv('3-to-2-ratio.csv',index=False)"
   ]
  },
  {
   "cell_type": "code",
   "execution_count": 33,
   "id": "ff1f0866",
   "metadata": {},
   "outputs": [
    {
     "data": {
      "text/html": [
       "<div>\n",
       "<style scoped>\n",
       "    .dataframe tbody tr th:only-of-type {\n",
       "        vertical-align: middle;\n",
       "    }\n",
       "\n",
       "    .dataframe tbody tr th {\n",
       "        vertical-align: top;\n",
       "    }\n",
       "\n",
       "    .dataframe thead th {\n",
       "        text-align: right;\n",
       "    }\n",
       "</style>\n",
       "<table border=\"1\" class=\"dataframe\">\n",
       "  <thead>\n",
       "    <tr style=\"text-align: right;\">\n",
       "      <th></th>\n",
       "      <th>state/ut</th>\n",
       "      <th>ratio</th>\n",
       "    </tr>\n",
       "  </thead>\n",
       "  <tbody>\n",
       "    <tr>\n",
       "      <th>0</th>\n",
       "      <td>30</td>\n",
       "      <td>1.925807</td>\n",
       "    </tr>\n",
       "    <tr>\n",
       "      <th>1</th>\n",
       "      <td>03</td>\n",
       "      <td>1.504216</td>\n",
       "    </tr>\n",
       "    <tr>\n",
       "      <th>2</th>\n",
       "      <td>04</td>\n",
       "      <td>1.248266</td>\n",
       "    </tr>\n",
       "    <tr>\n",
       "      <th>3</th>\n",
       "      <td>10</td>\n",
       "      <td>0.111582</td>\n",
       "    </tr>\n",
       "    <tr>\n",
       "      <th>4</th>\n",
       "      <td>05</td>\n",
       "      <td>0.119637</td>\n",
       "    </tr>\n",
       "    <tr>\n",
       "      <th>5</th>\n",
       "      <td>09</td>\n",
       "      <td>0.127448</td>\n",
       "    </tr>\n",
       "  </tbody>\n",
       "</table>\n",
       "</div>"
      ],
      "text/plain": [
       "  state/ut     ratio\n",
       "0       30  1.925807\n",
       "1       03  1.504216\n",
       "2       04  1.248266\n",
       "3       10  0.111582\n",
       "4       05  0.119637\n",
       "5       09  0.127448"
      ]
     },
     "execution_count": 33,
     "metadata": {},
     "output_type": "execute_result"
    }
   ],
   "source": [
    "result"
   ]
  },
  {
   "cell_type": "code",
   "execution_count": null,
   "id": "07f1a02f",
   "metadata": {},
   "outputs": [],
   "source": []
  }
 ],
 "metadata": {
  "kernelspec": {
   "display_name": "Python 3 (ipykernel)",
   "language": "python",
   "name": "python3"
  },
  "language_info": {
   "codemirror_mode": {
    "name": "ipython",
    "version": 3
   },
   "file_extension": ".py",
   "mimetype": "text/x-python",
   "name": "python",
   "nbconvert_exporter": "python",
   "pygments_lexer": "ipython3",
   "version": "3.8.10"
  }
 },
 "nbformat": 4,
 "nbformat_minor": 5
}
