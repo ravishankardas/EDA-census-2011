{
 "cells": [
  {
   "cell_type": "code",
   "execution_count": 1,
   "id": "754dd91c",
   "metadata": {},
   "outputs": [],
   "source": [
    "import pandas as pd\n",
    "import numpy as np"
   ]
  },
  {
   "cell_type": "code",
   "execution_count": 2,
   "id": "f9e95fcf",
   "metadata": {},
   "outputs": [],
   "source": [
    "d = pd.read_excel('DDW-0000C-08.xlsx')"
   ]
  },
  {
   "cell_type": "code",
   "execution_count": 3,
   "id": "0be03a57",
   "metadata": {},
   "outputs": [],
   "source": [
    "d_col = ['table_name','state_code','dist_code','area_name','tot/urb/rur','age_group','tot_persons','tot_males','tot_females','illiterate_persons','illiterate_males','illiterate_females','literate_persons','literate_males','literate_females','literate_without_edu_level_persons','literate_without_edu_level_males','literate_without_edu_level_females','below_primary_persons','below_primary_males','below_primary_females','primary_persons','primary_males','primary_females','middle_persons','middle_males','middle_females','matric_persons','matric_males','matric_females','intermediate_persons','intermediate_males','intermediate_females','non_tech_diploma_persons','non_tech_diploma_males','non_tech_diploma_females','tech_diploma_persons','tech_diploma_males','tech_diploma_females','graduate_and_above_persons','graduate_and_above_males','graduate_and_above_females','unclassified_persons','unclassified_persons_males','unclassified_persons_females']"
   ]
  },
  {
   "cell_type": "code",
   "execution_count": 4,
   "id": "49be4d80",
   "metadata": {},
   "outputs": [],
   "source": [
    "d.columns = d_col"
   ]
  },
  {
   "cell_type": "code",
   "execution_count": 5,
   "id": "f29ce06f",
   "metadata": {},
   "outputs": [],
   "source": [
    "d = d[6:]"
   ]
  },
  {
   "cell_type": "code",
   "execution_count": 6,
   "id": "c3fa1d71",
   "metadata": {},
   "outputs": [],
   "source": [
    "d = d[['state_code','area_name','tot/urb/rur','illiterate_males','illiterate_females','literate_males','literate_females','literate_without_edu_level_males','literate_without_edu_level_females','below_primary_males','below_primary_females','primary_males','primary_females','middle_males','middle_females','matric_males','matric_females','intermediate_males','intermediate_females','non_tech_diploma_males','non_tech_diploma_females','tech_diploma_males','tech_diploma_females','graduate_and_above_males','graduate_and_above_females','unclassified_persons_males','unclassified_persons_females']].copy()"
   ]
  },
  {
   "cell_type": "code",
   "execution_count": 7,
   "id": "3165a78f",
   "metadata": {},
   "outputs": [],
   "source": [
    "d = d[d['tot/urb/rur']=='Total'].copy()"
   ]
  },
  {
   "cell_type": "code",
   "execution_count": 8,
   "id": "9bfc041a",
   "metadata": {},
   "outputs": [
    {
     "data": {
      "text/html": [
       "<div>\n",
       "<style scoped>\n",
       "    .dataframe tbody tr th:only-of-type {\n",
       "        vertical-align: middle;\n",
       "    }\n",
       "\n",
       "    .dataframe tbody tr th {\n",
       "        vertical-align: top;\n",
       "    }\n",
       "\n",
       "    .dataframe thead th {\n",
       "        text-align: right;\n",
       "    }\n",
       "</style>\n",
       "<table border=\"1\" class=\"dataframe\">\n",
       "  <thead>\n",
       "    <tr style=\"text-align: right;\">\n",
       "      <th></th>\n",
       "      <th>state_code</th>\n",
       "      <th>area_name</th>\n",
       "      <th>tot/urb/rur</th>\n",
       "      <th>illiterate_males</th>\n",
       "      <th>illiterate_females</th>\n",
       "      <th>literate_males</th>\n",
       "      <th>literate_females</th>\n",
       "      <th>literate_without_edu_level_males</th>\n",
       "      <th>literate_without_edu_level_females</th>\n",
       "      <th>below_primary_males</th>\n",
       "      <th>...</th>\n",
       "      <th>intermediate_males</th>\n",
       "      <th>intermediate_females</th>\n",
       "      <th>non_tech_diploma_males</th>\n",
       "      <th>non_tech_diploma_females</th>\n",
       "      <th>tech_diploma_males</th>\n",
       "      <th>tech_diploma_females</th>\n",
       "      <th>graduate_and_above_males</th>\n",
       "      <th>graduate_and_above_females</th>\n",
       "      <th>unclassified_persons_males</th>\n",
       "      <th>unclassified_persons_females</th>\n",
       "    </tr>\n",
       "  </thead>\n",
       "  <tbody>\n",
       "    <tr>\n",
       "      <th>6</th>\n",
       "      <td>00</td>\n",
       "      <td>INDIA</td>\n",
       "      <td>Total</td>\n",
       "      <td>188506636</td>\n",
       "      <td>258709529</td>\n",
       "      <td>434763622</td>\n",
       "      <td>328875190</td>\n",
       "      <td>19278416</td>\n",
       "      <td>15874815</td>\n",
       "      <td>78445099</td>\n",
       "      <td>...</td>\n",
       "      <td>46481321</td>\n",
       "      <td>31461272</td>\n",
       "      <td>726565</td>\n",
       "      <td>345724</td>\n",
       "      <td>5354161</td>\n",
       "      <td>1884558</td>\n",
       "      <td>42120460</td>\n",
       "      <td>26168511</td>\n",
       "      <td>1647116</td>\n",
       "      <td>1384454</td>\n",
       "    </tr>\n",
       "    <tr>\n",
       "      <th>7</th>\n",
       "      <td>00</td>\n",
       "      <td>INDIA</td>\n",
       "      <td>Total</td>\n",
       "      <td>85752254</td>\n",
       "      <td>78762999</td>\n",
       "      <td>0</td>\n",
       "      <td>0</td>\n",
       "      <td>0</td>\n",
       "      <td>0</td>\n",
       "      <td>0</td>\n",
       "      <td>...</td>\n",
       "      <td>0</td>\n",
       "      <td>0</td>\n",
       "      <td>0</td>\n",
       "      <td>0</td>\n",
       "      <td>0</td>\n",
       "      <td>0</td>\n",
       "      <td>0</td>\n",
       "      <td>0</td>\n",
       "      <td>0</td>\n",
       "      <td>0</td>\n",
       "    </tr>\n",
       "    <tr>\n",
       "      <th>8</th>\n",
       "      <td>00</td>\n",
       "      <td>INDIA</td>\n",
       "      <td>Total</td>\n",
       "      <td>3388683</td>\n",
       "      <td>3359531</td>\n",
       "      <td>9514681</td>\n",
       "      <td>8563745</td>\n",
       "      <td>248229</td>\n",
       "      <td>175976</td>\n",
       "      <td>9190737</td>\n",
       "      <td>...</td>\n",
       "      <td>0</td>\n",
       "      <td>0</td>\n",
       "      <td>0</td>\n",
       "      <td>0</td>\n",
       "      <td>0</td>\n",
       "      <td>0</td>\n",
       "      <td>0</td>\n",
       "      <td>0</td>\n",
       "      <td>75715</td>\n",
       "      <td>60750</td>\n",
       "    </tr>\n",
       "    <tr>\n",
       "      <th>9</th>\n",
       "      <td>00</td>\n",
       "      <td>INDIA</td>\n",
       "      <td>Total</td>\n",
       "      <td>2013742</td>\n",
       "      <td>2117672</td>\n",
       "      <td>12048195</td>\n",
       "      <td>10788764</td>\n",
       "      <td>202220</td>\n",
       "      <td>149060</td>\n",
       "      <td>11793414</td>\n",
       "      <td>...</td>\n",
       "      <td>0</td>\n",
       "      <td>0</td>\n",
       "      <td>0</td>\n",
       "      <td>0</td>\n",
       "      <td>0</td>\n",
       "      <td>0</td>\n",
       "      <td>0</td>\n",
       "      <td>0</td>\n",
       "      <td>52561</td>\n",
       "      <td>43963</td>\n",
       "    </tr>\n",
       "    <tr>\n",
       "      <th>10</th>\n",
       "      <td>00</td>\n",
       "      <td>INDIA</td>\n",
       "      <td>Total</td>\n",
       "      <td>1198339</td>\n",
       "      <td>1293565</td>\n",
       "      <td>11016646</td>\n",
       "      <td>9916088</td>\n",
       "      <td>167048</td>\n",
       "      <td>124233</td>\n",
       "      <td>9579169</td>\n",
       "      <td>...</td>\n",
       "      <td>0</td>\n",
       "      <td>0</td>\n",
       "      <td>0</td>\n",
       "      <td>0</td>\n",
       "      <td>0</td>\n",
       "      <td>0</td>\n",
       "      <td>0</td>\n",
       "      <td>0</td>\n",
       "      <td>38456</td>\n",
       "      <td>31996</td>\n",
       "    </tr>\n",
       "  </tbody>\n",
       "</table>\n",
       "<p>5 rows × 27 columns</p>\n",
       "</div>"
      ],
      "text/plain": [
       "   state_code area_name tot/urb/rur illiterate_males illiterate_females  \\\n",
       "6          00     INDIA       Total        188506636          258709529   \n",
       "7          00     INDIA       Total         85752254           78762999   \n",
       "8          00     INDIA       Total          3388683            3359531   \n",
       "9          00     INDIA       Total          2013742            2117672   \n",
       "10         00     INDIA       Total          1198339            1293565   \n",
       "\n",
       "   literate_males literate_females literate_without_edu_level_males  \\\n",
       "6       434763622        328875190                         19278416   \n",
       "7               0                0                                0   \n",
       "8         9514681          8563745                           248229   \n",
       "9        12048195         10788764                           202220   \n",
       "10       11016646          9916088                           167048   \n",
       "\n",
       "   literate_without_edu_level_females below_primary_males  ...  \\\n",
       "6                            15874815            78445099  ...   \n",
       "7                                   0                   0  ...   \n",
       "8                              175976             9190737  ...   \n",
       "9                              149060            11793414  ...   \n",
       "10                             124233             9579169  ...   \n",
       "\n",
       "   intermediate_males intermediate_females non_tech_diploma_males  \\\n",
       "6            46481321             31461272                 726565   \n",
       "7                   0                    0                      0   \n",
       "8                   0                    0                      0   \n",
       "9                   0                    0                      0   \n",
       "10                  0                    0                      0   \n",
       "\n",
       "   non_tech_diploma_females tech_diploma_males tech_diploma_females  \\\n",
       "6                    345724            5354161              1884558   \n",
       "7                         0                  0                    0   \n",
       "8                         0                  0                    0   \n",
       "9                         0                  0                    0   \n",
       "10                        0                  0                    0   \n",
       "\n",
       "   graduate_and_above_males graduate_and_above_females  \\\n",
       "6                  42120460                   26168511   \n",
       "7                         0                          0   \n",
       "8                         0                          0   \n",
       "9                         0                          0   \n",
       "10                        0                          0   \n",
       "\n",
       "   unclassified_persons_males unclassified_persons_females  \n",
       "6                     1647116                      1384454  \n",
       "7                           0                            0  \n",
       "8                       75715                        60750  \n",
       "9                       52561                        43963  \n",
       "10                      38456                        31996  \n",
       "\n",
       "[5 rows x 27 columns]"
      ]
     },
     "execution_count": 8,
     "metadata": {},
     "output_type": "execute_result"
    }
   ],
   "source": [
    "d.head()"
   ]
  },
  {
   "cell_type": "code",
   "execution_count": 9,
   "id": "989d0f21",
   "metadata": {},
   "outputs": [],
   "source": [
    "d['total_literate_males'] = d['literate_males'] + d['unclassified_persons_males'] + d['literate_without_edu_level_males'] + d['illiterate_males']\n",
    "d['total_literate_females'] = d['literate_females'] + d['unclassified_persons_females'] + d['literate_without_edu_level_females'] + d['illiterate_females']"
   ]
  },
  {
   "cell_type": "code",
   "execution_count": 10,
   "id": "29321b2c",
   "metadata": {},
   "outputs": [],
   "source": [
    "d['total_matric_males'] = d['matric_males'] + d['intermediate_males']+ d['non_tech_diploma_males'] + d['tech_diploma_males']\n",
    "d['total_matric_females'] = d['matric_females'] + d['intermediate_females']+ d['non_tech_diploma_females'] + d['tech_diploma_females']"
   ]
  },
  {
   "cell_type": "code",
   "execution_count": 11,
   "id": "a6cce4ba",
   "metadata": {},
   "outputs": [],
   "source": [
    "data2 = pd.read_excel('DDW-C19-0000.xlsx')"
   ]
  },
  {
   "cell_type": "code",
   "execution_count": 12,
   "id": "bcf777b1",
   "metadata": {},
   "outputs": [],
   "source": [
    "new_col = ['state','District','Area','Total','Edu-level','S_persons','S_males','S_females','T_persons','T_males','T_females']"
   ]
  },
  {
   "cell_type": "code",
   "execution_count": 13,
   "id": "292d29a9",
   "metadata": {},
   "outputs": [],
   "source": [
    "data2.columns = new_col"
   ]
  },
  {
   "cell_type": "code",
   "execution_count": 14,
   "id": "309f2f57",
   "metadata": {},
   "outputs": [],
   "source": [
    "data2 = data2.iloc[5:]"
   ]
  },
  {
   "cell_type": "code",
   "execution_count": 15,
   "id": "a4d61c6d",
   "metadata": {},
   "outputs": [],
   "source": [
    "new_data2 = data2.copy(deep=True)"
   ]
  },
  {
   "cell_type": "code",
   "execution_count": 16,
   "id": "24471825",
   "metadata": {},
   "outputs": [],
   "source": [
    "new_data2 = new_data2[new_data2['Total']=='Total'].copy()"
   ]
  },
  {
   "cell_type": "code",
   "execution_count": 17,
   "id": "04632d05",
   "metadata": {},
   "outputs": [],
   "source": [
    "new_data2 = new_data2[new_data2['Edu-level']!='Total'].copy()"
   ]
  },
  {
   "cell_type": "code",
   "execution_count": 18,
   "id": "c0913834",
   "metadata": {},
   "outputs": [],
   "source": [
    "newData2 = pd.DataFrame(columns= ['state','District','Area','Total','Edu-level','S_persons','S_males','S_females','T_persons','T_males','T_females'])"
   ]
  },
  {
   "cell_type": "code",
   "execution_count": 19,
   "id": "ab6c1b7e",
   "metadata": {},
   "outputs": [],
   "source": [
    "names = new_data2['Area'].to_list()"
   ]
  },
  {
   "cell_type": "code",
   "execution_count": 20,
   "id": "b8e226e5",
   "metadata": {},
   "outputs": [],
   "source": [
    "names = set(names)"
   ]
  },
  {
   "cell_type": "code",
   "execution_count": 21,
   "id": "31d625ba",
   "metadata": {},
   "outputs": [],
   "source": [
    "for state in names:\n",
    "    test = new_data2[new_data2['Area'] == state].copy()\n",
    "    lista = test[test['Edu-level']=='Illiterate'].values.flatten().tolist()\n",
    "    listb = test[test['Edu-level']=='Literate'].values.flatten().tolist()\n",
    "    final_list = [listb[0],listb[1],listb[2],listb[3],listb[4]]\n",
    "    lista = lista[5:]\n",
    "    listb = listb[5:]\n",
    "    for i,j in zip(lista,listb):\n",
    "        final_list.append(i+j)\n",
    "    test[test['Edu-level'] == 'Literate'] = final_list\n",
    "    test = test[test['Edu-level']!='Illiterate'].copy()\n",
    "    c = pd.concat([newData2,test],ignore_index=True)\n",
    "    newData2 = c.copy(deep=True)"
   ]
  },
  {
   "cell_type": "code",
   "execution_count": 22,
   "id": "c249b492",
   "metadata": {},
   "outputs": [],
   "source": [
    "newData2.sort_values(\"Area\", axis = 0, ascending = True,inplace = True, na_position ='last') "
   ]
  },
  {
   "cell_type": "code",
   "execution_count": 23,
   "id": "422cf6fc",
   "metadata": {},
   "outputs": [],
   "source": [
    "new_data2 = newData2.copy(deep=True)"
   ]
  },
  {
   "cell_type": "code",
   "execution_count": 24,
   "id": "4018513a",
   "metadata": {},
   "outputs": [],
   "source": [
    "d.drop_duplicates(subset =[\"area_name\"],keep = 'first', inplace = True)"
   ]
  },
  {
   "cell_type": "code",
   "execution_count": 25,
   "id": "40a1f79c",
   "metadata": {},
   "outputs": [],
   "source": [
    "three_data = new_data2[['state','Area','Edu-level','T_males','T_females']].copy()"
   ]
  },
  {
   "cell_type": "code",
   "execution_count": 26,
   "id": "5e0f7026",
   "metadata": {},
   "outputs": [],
   "source": [
    "two_data = new_data2.copy(deep=True)"
   ]
  },
  {
   "cell_type": "code",
   "execution_count": 27,
   "id": "2f99a377",
   "metadata": {},
   "outputs": [],
   "source": [
    "one_data = new_data2[['state','Area','Edu-level','S_males','S_females']].copy()"
   ]
  },
  {
   "cell_type": "code",
   "execution_count": 28,
   "id": "fd80dc6f",
   "metadata": {},
   "outputs": [],
   "source": [
    "d.reset_index(inplace=True)"
   ]
  },
  {
   "cell_type": "code",
   "execution_count": 29,
   "id": "9b7a3bef",
   "metadata": {},
   "outputs": [],
   "source": [
    "d = d[['state_code', 'area_name','total_literate_males','total_literate_females','below_primary_males','below_primary_females', 'primary_males', 'primary_females','middle_males', 'middle_females','total_matric_males', 'total_matric_females','graduate_and_above_males','graduate_and_above_females', ]].copy()"
   ]
  },
  {
   "cell_type": "code",
   "execution_count": 30,
   "id": "6f598851",
   "metadata": {},
   "outputs": [],
   "source": [
    "col_list = ['state_code', 'area_name','literate males', 'literate females', 'literate but below primary males', 'literate but below primary females', 'primary but below middle males', 'primary but below middle females', 'middle but below matric/secondary males', 'middle but below matric/secondary females', 'matric/secondary but below graduate males', 'matric/secondary but below graduate females', 'graduate and above males', 'graduate and above females']"
   ]
  },
  {
   "cell_type": "code",
   "execution_count": 31,
   "id": "7013a7e2",
   "metadata": {},
   "outputs": [],
   "source": [
    "three_data.reset_index(inplace=True)"
   ]
  },
  {
   "cell_type": "code",
   "execution_count": 32,
   "id": "b2fe2f20",
   "metadata": {},
   "outputs": [
    {
     "data": {
      "text/plain": [
       "0      194\n",
       "1      197\n",
       "2      196\n",
       "3      195\n",
       "4      193\n",
       "      ... \n",
       "211     96\n",
       "212     97\n",
       "213     98\n",
       "214     99\n",
       "215    101\n",
       "Name: index, Length: 216, dtype: int64"
      ]
     },
     "execution_count": 32,
     "metadata": {},
     "output_type": "execute_result"
    }
   ],
   "source": [
    "three_data.pop('index')"
   ]
  },
  {
   "cell_type": "code",
   "execution_count": 33,
   "id": "b10c70fa",
   "metadata": {},
   "outputs": [],
   "source": [
    "d.columns = col_list"
   ]
  },
  {
   "cell_type": "code",
   "execution_count": 34,
   "id": "6d107f9f",
   "metadata": {},
   "outputs": [],
   "source": [
    "the = d['area_name'].to_list()"
   ]
  },
  {
   "cell_type": "code",
   "execution_count": 35,
   "id": "0dda9682",
   "metadata": {},
   "outputs": [],
   "source": [
    "for i in range(len(the)):\n",
    "    change = the[i]\n",
    "    change = change.replace(\"State - \", \"\")\n",
    "    the[i] = change"
   ]
  },
  {
   "cell_type": "code",
   "execution_count": 36,
   "id": "8b24ba40",
   "metadata": {},
   "outputs": [],
   "source": [
    "d['area_name'] = the"
   ]
  },
  {
   "cell_type": "code",
   "execution_count": 37,
   "id": "70153448",
   "metadata": {},
   "outputs": [],
   "source": [
    "d.sort_values(\"area_name\", axis = 0, ascending = True,inplace = True, na_position ='last') "
   ]
  },
  {
   "cell_type": "code",
   "execution_count": 38,
   "id": "9ede0ffe",
   "metadata": {},
   "outputs": [],
   "source": [
    "d['area_name'] = d['area_name'].str.lower()"
   ]
  },
  {
   "cell_type": "code",
   "execution_count": 39,
   "id": "dd72483c",
   "metadata": {},
   "outputs": [],
   "source": [
    "three_data['male'] = np.repeat(0,216)\n",
    "three_data['female'] = np.repeat(0,216)"
   ]
  },
  {
   "cell_type": "code",
   "execution_count": 40,
   "id": "f724d50e",
   "metadata": {},
   "outputs": [],
   "source": [
    "three_data['Edu-level'] = three_data['Edu-level'].str.lower()\n",
    "three_data['Area'] = three_data['Area'].str.lower()"
   ]
  },
  {
   "cell_type": "code",
   "execution_count": 41,
   "id": "4d6304b6",
   "metadata": {},
   "outputs": [],
   "source": [
    "def add_three(name,level,idx):\n",
    "    df = (d[d['area_name']==name])\n",
    "    text_male = level + ' males'\n",
    "    text_female = level + ' females'\n",
    "    three_data.at[index,'male'] = df[text_male].to_list()[0]\n",
    "    three_data.at[index,'female'] = df[text_female].to_list()[0]\n",
    "    "
   ]
  },
  {
   "cell_type": "code",
   "execution_count": 42,
   "id": "35dbf2ba",
   "metadata": {},
   "outputs": [],
   "source": [
    "for index, row in three_data.iterrows():\n",
    "    name = row['Area']\n",
    "    level = row['Edu-level']\n",
    "    add_three(name,level,index)    "
   ]
  },
  {
   "cell_type": "code",
   "execution_count": 43,
   "id": "43a170c8",
   "metadata": {},
   "outputs": [
    {
     "data": {
      "text/html": [
       "<div>\n",
       "<style scoped>\n",
       "    .dataframe tbody tr th:only-of-type {\n",
       "        vertical-align: middle;\n",
       "    }\n",
       "\n",
       "    .dataframe tbody tr th {\n",
       "        vertical-align: top;\n",
       "    }\n",
       "\n",
       "    .dataframe thead th {\n",
       "        text-align: right;\n",
       "    }\n",
       "</style>\n",
       "<table border=\"1\" class=\"dataframe\">\n",
       "  <thead>\n",
       "    <tr style=\"text-align: right;\">\n",
       "      <th></th>\n",
       "      <th>state_code</th>\n",
       "      <th>area_name</th>\n",
       "      <th>literate males</th>\n",
       "      <th>literate females</th>\n",
       "      <th>literate but below primary males</th>\n",
       "      <th>literate but below primary females</th>\n",
       "      <th>primary but below middle males</th>\n",
       "      <th>primary but below middle females</th>\n",
       "      <th>middle but below matric/secondary males</th>\n",
       "      <th>middle but below matric/secondary females</th>\n",
       "      <th>matric/secondary but below graduate males</th>\n",
       "      <th>matric/secondary but below graduate females</th>\n",
       "      <th>graduate and above males</th>\n",
       "      <th>graduate and above females</th>\n",
       "    </tr>\n",
       "  </thead>\n",
       "  <tbody>\n",
       "    <tr>\n",
       "      <th>33</th>\n",
       "      <td>33</td>\n",
       "      <td>tamil nadu</td>\n",
       "      <td>37424024</td>\n",
       "      <td>37209040</td>\n",
       "      <td>2861589</td>\n",
       "      <td>2767790</td>\n",
       "      <td>6479422</td>\n",
       "      <td>5845740</td>\n",
       "      <td>5087592</td>\n",
       "      <td>4520412</td>\n",
       "      <td>9206497</td>\n",
       "      <td>7124689</td>\n",
       "      <td>3119342</td>\n",
       "      <td>2338400</td>\n",
       "    </tr>\n",
       "    <tr>\n",
       "      <th>16</th>\n",
       "      <td>16</td>\n",
       "      <td>tripura</td>\n",
       "      <td>1953840</td>\n",
       "      <td>1890020</td>\n",
       "      <td>363853</td>\n",
       "      <td>361608</td>\n",
       "      <td>363404</td>\n",
       "      <td>335252</td>\n",
       "      <td>320040</td>\n",
       "      <td>272356</td>\n",
       "      <td>285987</td>\n",
       "      <td>194528</td>\n",
       "      <td>88621</td>\n",
       "      <td>49191</td>\n",
       "    </tr>\n",
       "    <tr>\n",
       "      <th>9</th>\n",
       "      <td>09</td>\n",
       "      <td>uttar pradesh</td>\n",
       "      <td>107982570</td>\n",
       "      <td>97691341</td>\n",
       "      <td>11763367</td>\n",
       "      <td>9661113</td>\n",
       "      <td>15505178</td>\n",
       "      <td>12293614</td>\n",
       "      <td>14276668</td>\n",
       "      <td>8846060</td>\n",
       "      <td>16809553</td>\n",
       "      <td>9460594</td>\n",
       "      <td>6378138</td>\n",
       "      <td>3541700</td>\n",
       "    </tr>\n",
       "    <tr>\n",
       "      <th>5</th>\n",
       "      <td>05</td>\n",
       "      <td>uttarakhand</td>\n",
       "      <td>5219343</td>\n",
       "      <td>5030100</td>\n",
       "      <td>554430</td>\n",
       "      <td>480153</td>\n",
       "      <td>803056</td>\n",
       "      <td>747518</td>\n",
       "      <td>806770</td>\n",
       "      <td>600101</td>\n",
       "      <td>1105814</td>\n",
       "      <td>709672</td>\n",
       "      <td>512068</td>\n",
       "      <td>398220</td>\n",
       "    </tr>\n",
       "    <tr>\n",
       "      <th>19</th>\n",
       "      <td>19</td>\n",
       "      <td>west bengal</td>\n",
       "      <td>47980118</td>\n",
       "      <td>45485498</td>\n",
       "      <td>8437465</td>\n",
       "      <td>7465147</td>\n",
       "      <td>7897027</td>\n",
       "      <td>7057564</td>\n",
       "      <td>6684464</td>\n",
       "      <td>5789837</td>\n",
       "      <td>6540090</td>\n",
       "      <td>4649369</td>\n",
       "      <td>3088673</td>\n",
       "      <td>1739144</td>\n",
       "    </tr>\n",
       "  </tbody>\n",
       "</table>\n",
       "</div>"
      ],
      "text/plain": [
       "   state_code      area_name literate males literate females  \\\n",
       "33         33     tamil nadu       37424024         37209040   \n",
       "16         16        tripura        1953840          1890020   \n",
       "9          09  uttar pradesh      107982570         97691341   \n",
       "5          05    uttarakhand        5219343          5030100   \n",
       "19         19    west bengal       47980118         45485498   \n",
       "\n",
       "   literate but below primary males literate but below primary females  \\\n",
       "33                          2861589                            2767790   \n",
       "16                           363853                             361608   \n",
       "9                          11763367                            9661113   \n",
       "5                            554430                             480153   \n",
       "19                          8437465                            7465147   \n",
       "\n",
       "   primary but below middle males primary but below middle females  \\\n",
       "33                        6479422                          5845740   \n",
       "16                         363404                           335252   \n",
       "9                        15505178                         12293614   \n",
       "5                          803056                           747518   \n",
       "19                        7897027                          7057564   \n",
       "\n",
       "   middle but below matric/secondary males  \\\n",
       "33                                 5087592   \n",
       "16                                  320040   \n",
       "9                                 14276668   \n",
       "5                                   806770   \n",
       "19                                 6684464   \n",
       "\n",
       "   middle but below matric/secondary females  \\\n",
       "33                                   4520412   \n",
       "16                                    272356   \n",
       "9                                    8846060   \n",
       "5                                     600101   \n",
       "19                                   5789837   \n",
       "\n",
       "   matric/secondary but below graduate males  \\\n",
       "33                                   9206497   \n",
       "16                                    285987   \n",
       "9                                   16809553   \n",
       "5                                    1105814   \n",
       "19                                   6540090   \n",
       "\n",
       "   matric/secondary but below graduate females graduate and above males  \\\n",
       "33                                     7124689                  3119342   \n",
       "16                                      194528                    88621   \n",
       "9                                      9460594                  6378138   \n",
       "5                                       709672                   512068   \n",
       "19                                     4649369                  3088673   \n",
       "\n",
       "   graduate and above females  \n",
       "33                    2338400  \n",
       "16                      49191  \n",
       "9                     3541700  \n",
       "5                      398220  \n",
       "19                    1739144  "
      ]
     },
     "execution_count": 43,
     "metadata": {},
     "output_type": "execute_result"
    }
   ],
   "source": [
    "d.tail()"
   ]
  },
  {
   "cell_type": "code",
   "execution_count": 44,
   "id": "421b128a",
   "metadata": {},
   "outputs": [],
   "source": [
    "tot_data = three_data[['male','female']].copy()"
   ]
  },
  {
   "cell_type": "code",
   "execution_count": 45,
   "id": "a8b98d70",
   "metadata": {},
   "outputs": [],
   "source": [
    "three_data['male_ratio'] = three_data['T_males']/three_data['male']\n",
    "three_data['female_ratio'] = three_data['T_females']/three_data['female']"
   ]
  },
  {
   "cell_type": "code",
   "execution_count": 46,
   "id": "f360b4ab",
   "metadata": {},
   "outputs": [],
   "source": [
    "three_males = three_data[['state','Area','Edu-level','male_ratio']].copy()\n",
    "three_females = three_data[['state','Area','Edu-level','female_ratio']].copy()"
   ]
  },
  {
   "cell_type": "code",
   "execution_count": 47,
   "id": "7480b756",
   "metadata": {},
   "outputs": [],
   "source": [
    "three_males['max_column'] = three_males.groupby(['Area'])['male_ratio'].transform('max')\n",
    "three_females['max_column'] = three_females.groupby(['Area'])['female_ratio'].transform('max')"
   ]
  },
  {
   "cell_type": "code",
   "execution_count": 48,
   "id": "af47fe5c",
   "metadata": {},
   "outputs": [],
   "source": [
    "three_males = three_males[three_males['male_ratio'] == three_males['max_column']].copy()\n",
    "three_females = three_females[three_females['female_ratio'] == three_females['max_column']].copy()"
   ]
  },
  {
   "cell_type": "code",
   "execution_count": 49,
   "id": "c5fc8066",
   "metadata": {},
   "outputs": [
    {
     "data": {
      "text/plain": [
       "1      0.523678\n",
       "10     0.362510\n",
       "12     0.716931\n",
       "18     0.600356\n",
       "24     0.084491\n",
       "33     0.705212\n",
       "37     0.129118\n",
       "47     0.548726\n",
       "52     0.579392\n",
       "58     0.804937\n",
       "60     0.670003\n",
       "71     0.196280\n",
       "72     0.152457\n",
       "82     0.337433\n",
       "89     0.680314\n",
       "92     0.217443\n",
       "101    0.501979\n",
       "105    0.353019\n",
       "113    0.610190\n",
       "119    0.117693\n",
       "121    0.656895\n",
       "126    0.621187\n",
       "136    0.429673\n",
       "142    0.209615\n",
       "147    0.695980\n",
       "150    0.247149\n",
       "158    0.655997\n",
       "167    0.204870\n",
       "168    0.765537\n",
       "178    0.086324\n",
       "181    0.791838\n",
       "190    0.145446\n",
       "197    0.313940\n",
       "202    0.069244\n",
       "204    0.073002\n",
       "215    0.244835\n",
       "Name: max_column, dtype: float64"
      ]
     },
     "execution_count": 49,
     "metadata": {},
     "output_type": "execute_result"
    }
   ],
   "source": [
    "three_males.pop('max_column')\n",
    "three_females.pop('max_column')"
   ]
  },
  {
   "cell_type": "code",
   "execution_count": 50,
   "id": "24723837",
   "metadata": {},
   "outputs": [],
   "source": [
    "three_males.columns = ['state/ut','Area','literacy-group-males',' ratio-males-3']\n",
    "three_females.columns = ['state/ut','Area','literacy-group-females',' ratio-females-3']"
   ]
  },
  {
   "cell_type": "code",
   "execution_count": 51,
   "id": "358d6f70",
   "metadata": {},
   "outputs": [],
   "source": [
    "final_three = pd.merge(three_males, three_females, on='Area', how='outer')"
   ]
  },
  {
   "cell_type": "code",
   "execution_count": 52,
   "id": "f2780960",
   "metadata": {},
   "outputs": [
    {
     "data": {
      "text/plain": [
       "0     andaman & nicobar islands\n",
       "1                andhra pradesh\n",
       "2             arunachal pradesh\n",
       "3                         assam\n",
       "4                         bihar\n",
       "5                    chandigarh\n",
       "6                  chhattisgarh\n",
       "7          dadra & nagar haveli\n",
       "8                   daman & diu\n",
       "9                           goa\n",
       "10                      gujarat\n",
       "11                      haryana\n",
       "12             himachal pradesh\n",
       "13                        india\n",
       "14              jammu & kashmir\n",
       "15                    jharkhand\n",
       "16                    karnataka\n",
       "17                       kerala\n",
       "18                  lakshadweep\n",
       "19               madhya pradesh\n",
       "20                  maharashtra\n",
       "21                      manipur\n",
       "22                    meghalaya\n",
       "23                      mizoram\n",
       "24                     nagaland\n",
       "25                 nct of delhi\n",
       "26                       odisha\n",
       "27                   puducherry\n",
       "28                       punjab\n",
       "29                    rajasthan\n",
       "30                       sikkim\n",
       "31                   tamil nadu\n",
       "32                      tripura\n",
       "33                uttar pradesh\n",
       "34                  uttarakhand\n",
       "35                  west bengal\n",
       "Name: Area, dtype: object"
      ]
     },
     "execution_count": 52,
     "metadata": {},
     "output_type": "execute_result"
    }
   ],
   "source": [
    "final_three.pop('state/ut_y')\n",
    "final_three.pop('Area')"
   ]
  },
  {
   "cell_type": "code",
   "execution_count": 53,
   "id": "01c502d0",
   "metadata": {},
   "outputs": [],
   "source": [
    "final_three = final_three.rename(columns={'state/ut_x':'state/ut'})"
   ]
  },
  {
   "cell_type": "code",
   "execution_count": 54,
   "id": "dc0ee694",
   "metadata": {},
   "outputs": [],
   "source": [
    "final_three.sort_values(\"state/ut\", axis = 0, ascending = True,inplace = True, na_position ='last') "
   ]
  },
  {
   "cell_type": "code",
   "execution_count": 56,
   "id": "0baa1abf",
   "metadata": {},
   "outputs": [],
   "source": [
    "final_three.to_csv('literacy-gender-a.csv',index = False)"
   ]
  },
  {
   "cell_type": "code",
   "execution_count": 58,
   "id": "e0c46806",
   "metadata": {},
   "outputs": [],
   "source": [
    "two_data['male-two'] = two_data['S_males'] - two_data['T_males']\n",
    "two_data['female-two'] = two_data['S_females'] - two_data['T_females']"
   ]
  },
  {
   "cell_type": "code",
   "execution_count": 60,
   "id": "992981bf",
   "metadata": {},
   "outputs": [],
   "source": [
    "two_data = two_data[['state','Area','Edu-level','male-two','female-two']].copy()"
   ]
  },
  {
   "cell_type": "code",
   "execution_count": 61,
   "id": "21fc5a4d",
   "metadata": {},
   "outputs": [
    {
     "data": {
      "text/html": [
       "<div>\n",
       "<style scoped>\n",
       "    .dataframe tbody tr th:only-of-type {\n",
       "        vertical-align: middle;\n",
       "    }\n",
       "\n",
       "    .dataframe tbody tr th {\n",
       "        vertical-align: top;\n",
       "    }\n",
       "\n",
       "    .dataframe thead th {\n",
       "        text-align: right;\n",
       "    }\n",
       "</style>\n",
       "<table border=\"1\" class=\"dataframe\">\n",
       "  <thead>\n",
       "    <tr style=\"text-align: right;\">\n",
       "      <th></th>\n",
       "      <th>state</th>\n",
       "      <th>Area</th>\n",
       "      <th>Edu-level</th>\n",
       "      <th>male-two</th>\n",
       "      <th>female-two</th>\n",
       "    </tr>\n",
       "  </thead>\n",
       "  <tbody>\n",
       "    <tr>\n",
       "      <th>194</th>\n",
       "      <td>35</td>\n",
       "      <td>ANDAMAN &amp; NICOBAR ISLANDS</td>\n",
       "      <td>Primary but below middle</td>\n",
       "      <td>24655</td>\n",
       "      <td>19212</td>\n",
       "    </tr>\n",
       "    <tr>\n",
       "      <th>197</th>\n",
       "      <td>35</td>\n",
       "      <td>ANDAMAN &amp; NICOBAR ISLANDS</td>\n",
       "      <td>Graduate and above</td>\n",
       "      <td>4563</td>\n",
       "      <td>3875</td>\n",
       "    </tr>\n",
       "    <tr>\n",
       "      <th>196</th>\n",
       "      <td>35</td>\n",
       "      <td>ANDAMAN &amp; NICOBAR ISLANDS</td>\n",
       "      <td>Matric/Secondary but below graduate</td>\n",
       "      <td>22468</td>\n",
       "      <td>17719</td>\n",
       "    </tr>\n",
       "    <tr>\n",
       "      <th>195</th>\n",
       "      <td>35</td>\n",
       "      <td>ANDAMAN &amp; NICOBAR ISLANDS</td>\n",
       "      <td>Middle but below matric/secondary</td>\n",
       "      <td>23422</td>\n",
       "      <td>17524</td>\n",
       "    </tr>\n",
       "    <tr>\n",
       "      <th>193</th>\n",
       "      <td>35</td>\n",
       "      <td>ANDAMAN &amp; NICOBAR ISLANDS</td>\n",
       "      <td>Literate but below primary</td>\n",
       "      <td>13535</td>\n",
       "      <td>11154</td>\n",
       "    </tr>\n",
       "    <tr>\n",
       "      <th>...</th>\n",
       "      <td>...</td>\n",
       "      <td>...</td>\n",
       "      <td>...</td>\n",
       "      <td>...</td>\n",
       "      <td>...</td>\n",
       "    </tr>\n",
       "    <tr>\n",
       "      <th>96</th>\n",
       "      <td>19</td>\n",
       "      <td>WEST BENGAL</td>\n",
       "      <td>Literate</td>\n",
       "      <td>6992983</td>\n",
       "      <td>5151860</td>\n",
       "    </tr>\n",
       "    <tr>\n",
       "      <th>97</th>\n",
       "      <td>19</td>\n",
       "      <td>WEST BENGAL</td>\n",
       "      <td>Literate but below primary</td>\n",
       "      <td>887106</td>\n",
       "      <td>628227</td>\n",
       "    </tr>\n",
       "    <tr>\n",
       "      <th>98</th>\n",
       "      <td>19</td>\n",
       "      <td>WEST BENGAL</td>\n",
       "      <td>Primary but below middle</td>\n",
       "      <td>997715</td>\n",
       "      <td>692683</td>\n",
       "    </tr>\n",
       "    <tr>\n",
       "      <th>99</th>\n",
       "      <td>19</td>\n",
       "      <td>WEST BENGAL</td>\n",
       "      <td>Middle but below matric/secondary</td>\n",
       "      <td>1134412</td>\n",
       "      <td>737138</td>\n",
       "    </tr>\n",
       "    <tr>\n",
       "      <th>101</th>\n",
       "      <td>19</td>\n",
       "      <td>WEST BENGAL</td>\n",
       "      <td>Graduate and above</td>\n",
       "      <td>1089962</td>\n",
       "      <td>620108</td>\n",
       "    </tr>\n",
       "  </tbody>\n",
       "</table>\n",
       "<p>216 rows × 5 columns</p>\n",
       "</div>"
      ],
      "text/plain": [
       "    state                       Area                            Edu-level  \\\n",
       "194    35  ANDAMAN & NICOBAR ISLANDS             Primary but below middle   \n",
       "197    35  ANDAMAN & NICOBAR ISLANDS                   Graduate and above   \n",
       "196    35  ANDAMAN & NICOBAR ISLANDS  Matric/Secondary but below graduate   \n",
       "195    35  ANDAMAN & NICOBAR ISLANDS    Middle but below matric/secondary   \n",
       "193    35  ANDAMAN & NICOBAR ISLANDS           Literate but below primary   \n",
       "..    ...                        ...                                  ...   \n",
       "96     19                WEST BENGAL                             Literate   \n",
       "97     19                WEST BENGAL           Literate but below primary   \n",
       "98     19                WEST BENGAL             Primary but below middle   \n",
       "99     19                WEST BENGAL    Middle but below matric/secondary   \n",
       "101    19                WEST BENGAL                   Graduate and above   \n",
       "\n",
       "    male-two female-two  \n",
       "194    24655      19212  \n",
       "197     4563       3875  \n",
       "196    22468      17719  \n",
       "195    23422      17524  \n",
       "193    13535      11154  \n",
       "..       ...        ...  \n",
       "96   6992983    5151860  \n",
       "97    887106     628227  \n",
       "98    997715     692683  \n",
       "99   1134412     737138  \n",
       "101  1089962     620108  \n",
       "\n",
       "[216 rows x 5 columns]"
      ]
     },
     "execution_count": 61,
     "metadata": {},
     "output_type": "execute_result"
    }
   ],
   "source": [
    "two_data"
   ]
  },
  {
   "cell_type": "code",
   "execution_count": null,
   "id": "da6fd48b",
   "metadata": {},
   "outputs": [],
   "source": []
  },
  {
   "cell_type": "code",
   "execution_count": null,
   "id": "143d6c97",
   "metadata": {},
   "outputs": [],
   "source": []
  },
  {
   "cell_type": "code",
   "execution_count": null,
   "id": "db47eb21",
   "metadata": {},
   "outputs": [],
   "source": []
  },
  {
   "cell_type": "code",
   "execution_count": null,
   "id": "dac4ce3c",
   "metadata": {},
   "outputs": [],
   "source": []
  },
  {
   "cell_type": "code",
   "execution_count": null,
   "id": "ffd6f8c4",
   "metadata": {},
   "outputs": [],
   "source": []
  },
  {
   "cell_type": "code",
   "execution_count": null,
   "id": "08a31c78",
   "metadata": {},
   "outputs": [],
   "source": []
  },
  {
   "cell_type": "code",
   "execution_count": null,
   "id": "bd87c934",
   "metadata": {},
   "outputs": [],
   "source": []
  },
  {
   "cell_type": "code",
   "execution_count": null,
   "id": "8561166a",
   "metadata": {},
   "outputs": [],
   "source": []
  },
  {
   "cell_type": "code",
   "execution_count": null,
   "id": "853abc82",
   "metadata": {},
   "outputs": [],
   "source": []
  },
  {
   "cell_type": "code",
   "execution_count": null,
   "id": "83cf262e",
   "metadata": {},
   "outputs": [],
   "source": []
  },
  {
   "cell_type": "code",
   "execution_count": null,
   "id": "6d2a4ef4",
   "metadata": {},
   "outputs": [],
   "source": []
  },
  {
   "cell_type": "code",
   "execution_count": null,
   "id": "6b950eb5",
   "metadata": {},
   "outputs": [],
   "source": []
  },
  {
   "cell_type": "code",
   "execution_count": null,
   "id": "c552f502",
   "metadata": {},
   "outputs": [],
   "source": []
  },
  {
   "cell_type": "code",
   "execution_count": null,
   "id": "7c1a176e",
   "metadata": {},
   "outputs": [],
   "source": []
  },
  {
   "cell_type": "code",
   "execution_count": null,
   "id": "9730012a",
   "metadata": {},
   "outputs": [],
   "source": []
  },
  {
   "cell_type": "code",
   "execution_count": null,
   "id": "abdcac5d",
   "metadata": {},
   "outputs": [],
   "source": []
  },
  {
   "cell_type": "code",
   "execution_count": null,
   "id": "9c4e54e3",
   "metadata": {},
   "outputs": [],
   "source": []
  },
  {
   "cell_type": "code",
   "execution_count": null,
   "id": "873072f1",
   "metadata": {},
   "outputs": [],
   "source": []
  },
  {
   "cell_type": "code",
   "execution_count": null,
   "id": "aca4e415",
   "metadata": {},
   "outputs": [],
   "source": []
  },
  {
   "cell_type": "code",
   "execution_count": null,
   "id": "78b292c2",
   "metadata": {},
   "outputs": [],
   "source": []
  },
  {
   "cell_type": "code",
   "execution_count": null,
   "id": "49a1d6c9",
   "metadata": {},
   "outputs": [],
   "source": []
  }
 ],
 "metadata": {
  "kernelspec": {
   "display_name": "Python 3 (ipykernel)",
   "language": "python",
   "name": "python3"
  },
  "language_info": {
   "codemirror_mode": {
    "name": "ipython",
    "version": 3
   },
   "file_extension": ".py",
   "mimetype": "text/x-python",
   "name": "python",
   "nbconvert_exporter": "python",
   "pygments_lexer": "ipython3",
   "version": "3.9.7"
  }
 },
 "nbformat": 4,
 "nbformat_minor": 5
}
