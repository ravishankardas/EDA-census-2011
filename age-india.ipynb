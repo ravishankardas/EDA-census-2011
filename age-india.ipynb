{
 "cells": [
  {
   "cell_type": "code",
   "execution_count": 1,
   "id": "047b4c3c",
   "metadata": {},
   "outputs": [],
   "source": [
    "import pandas as pd"
   ]
  },
  {
   "cell_type": "code",
   "execution_count": 2,
   "id": "7fb7a956",
   "metadata": {},
   "outputs": [],
   "source": [
    "data2 = pd.read_excel('DDW-C18-0000.xlsx')"
   ]
  },
  {
   "cell_type": "code",
   "execution_count": 3,
   "id": "95f2c59d",
   "metadata": {},
   "outputs": [],
   "source": [
    "new_col = ['state','District','Area','Total','Age','S_persons','S_males','S_females','T_persons','T_males','T_females']"
   ]
  },
  {
   "cell_type": "code",
   "execution_count": 4,
   "id": "b1bab294",
   "metadata": {},
   "outputs": [],
   "source": [
    "data2.columns = new_col"
   ]
  },
  {
   "cell_type": "code",
   "execution_count": 5,
   "id": "a14c9457",
   "metadata": {},
   "outputs": [],
   "source": [
    "data2 = data2.iloc[5:]"
   ]
  },
  {
   "cell_type": "code",
   "execution_count": 6,
   "id": "6444be1f",
   "metadata": {},
   "outputs": [],
   "source": [
    "new_data2 = data2.copy(deep=True)"
   ]
  },
  {
   "cell_type": "code",
   "execution_count": 7,
   "id": "94b75dbb",
   "metadata": {},
   "outputs": [
    {
     "data": {
      "text/html": [
       "<div>\n",
       "<style scoped>\n",
       "    .dataframe tbody tr th:only-of-type {\n",
       "        vertical-align: middle;\n",
       "    }\n",
       "\n",
       "    .dataframe tbody tr th {\n",
       "        vertical-align: top;\n",
       "    }\n",
       "\n",
       "    .dataframe thead th {\n",
       "        text-align: right;\n",
       "    }\n",
       "</style>\n",
       "<table border=\"1\" class=\"dataframe\">\n",
       "  <thead>\n",
       "    <tr style=\"text-align: right;\">\n",
       "      <th></th>\n",
       "      <th>state</th>\n",
       "      <th>District</th>\n",
       "      <th>Area</th>\n",
       "      <th>Total</th>\n",
       "      <th>Age</th>\n",
       "      <th>S_persons</th>\n",
       "      <th>S_males</th>\n",
       "      <th>S_females</th>\n",
       "      <th>T_persons</th>\n",
       "      <th>T_males</th>\n",
       "      <th>T_females</th>\n",
       "    </tr>\n",
       "  </thead>\n",
       "  <tbody>\n",
       "    <tr>\n",
       "      <th>5</th>\n",
       "      <td>00</td>\n",
       "      <td>00</td>\n",
       "      <td>INDIA</td>\n",
       "      <td>Total</td>\n",
       "      <td>Total</td>\n",
       "      <td>314988770</td>\n",
       "      <td>176696383</td>\n",
       "      <td>138292387</td>\n",
       "      <td>86009580</td>\n",
       "      <td>50536832</td>\n",
       "      <td>35472748</td>\n",
       "    </tr>\n",
       "    <tr>\n",
       "      <th>6</th>\n",
       "      <td>00</td>\n",
       "      <td>00</td>\n",
       "      <td>INDIA</td>\n",
       "      <td>Total</td>\n",
       "      <td>5-9</td>\n",
       "      <td>15649192</td>\n",
       "      <td>8166843</td>\n",
       "      <td>7482349</td>\n",
       "      <td>1844108</td>\n",
       "      <td>978151</td>\n",
       "      <td>865957</td>\n",
       "    </tr>\n",
       "    <tr>\n",
       "      <th>7</th>\n",
       "      <td>00</td>\n",
       "      <td>00</td>\n",
       "      <td>INDIA</td>\n",
       "      <td>Total</td>\n",
       "      <td>10-14</td>\n",
       "      <td>34488492</td>\n",
       "      <td>18133423</td>\n",
       "      <td>16355069</td>\n",
       "      <td>7254335</td>\n",
       "      <td>3831131</td>\n",
       "      <td>3423204</td>\n",
       "    </tr>\n",
       "    <tr>\n",
       "      <th>8</th>\n",
       "      <td>00</td>\n",
       "      <td>00</td>\n",
       "      <td>INDIA</td>\n",
       "      <td>Total</td>\n",
       "      <td>15-19</td>\n",
       "      <td>42424599</td>\n",
       "      <td>22750908</td>\n",
       "      <td>19673691</td>\n",
       "      <td>12626717</td>\n",
       "      <td>6792766</td>\n",
       "      <td>5833951</td>\n",
       "    </tr>\n",
       "    <tr>\n",
       "      <th>9</th>\n",
       "      <td>00</td>\n",
       "      <td>00</td>\n",
       "      <td>INDIA</td>\n",
       "      <td>Total</td>\n",
       "      <td>20-24</td>\n",
       "      <td>41344406</td>\n",
       "      <td>22386694</td>\n",
       "      <td>18957712</td>\n",
       "      <td>12834334</td>\n",
       "      <td>7067614</td>\n",
       "      <td>5766720</td>\n",
       "    </tr>\n",
       "    <tr>\n",
       "      <th>...</th>\n",
       "      <td>...</td>\n",
       "      <td>...</td>\n",
       "      <td>...</td>\n",
       "      <td>...</td>\n",
       "      <td>...</td>\n",
       "      <td>...</td>\n",
       "      <td>...</td>\n",
       "      <td>...</td>\n",
       "      <td>...</td>\n",
       "      <td>...</td>\n",
       "      <td>...</td>\n",
       "    </tr>\n",
       "    <tr>\n",
       "      <th>1080</th>\n",
       "      <td>35</td>\n",
       "      <td>00</td>\n",
       "      <td>ANDAMAN &amp; NICOBAR ISLANDS</td>\n",
       "      <td>Urban</td>\n",
       "      <td>25-29</td>\n",
       "      <td>13065</td>\n",
       "      <td>7012</td>\n",
       "      <td>6053</td>\n",
       "      <td>4364</td>\n",
       "      <td>2355</td>\n",
       "      <td>2009</td>\n",
       "    </tr>\n",
       "    <tr>\n",
       "      <th>1081</th>\n",
       "      <td>35</td>\n",
       "      <td>00</td>\n",
       "      <td>ANDAMAN &amp; NICOBAR ISLANDS</td>\n",
       "      <td>Urban</td>\n",
       "      <td>30-49</td>\n",
       "      <td>38406</td>\n",
       "      <td>21301</td>\n",
       "      <td>17105</td>\n",
       "      <td>13320</td>\n",
       "      <td>7824</td>\n",
       "      <td>5496</td>\n",
       "    </tr>\n",
       "    <tr>\n",
       "      <th>1082</th>\n",
       "      <td>35</td>\n",
       "      <td>00</td>\n",
       "      <td>ANDAMAN &amp; NICOBAR ISLANDS</td>\n",
       "      <td>Urban</td>\n",
       "      <td>50-69</td>\n",
       "      <td>12899</td>\n",
       "      <td>7903</td>\n",
       "      <td>4996</td>\n",
       "      <td>4177</td>\n",
       "      <td>2842</td>\n",
       "      <td>1335</td>\n",
       "    </tr>\n",
       "    <tr>\n",
       "      <th>1083</th>\n",
       "      <td>35</td>\n",
       "      <td>00</td>\n",
       "      <td>ANDAMAN &amp; NICOBAR ISLANDS</td>\n",
       "      <td>Urban</td>\n",
       "      <td>70+</td>\n",
       "      <td>1644</td>\n",
       "      <td>1016</td>\n",
       "      <td>628</td>\n",
       "      <td>432</td>\n",
       "      <td>305</td>\n",
       "      <td>127</td>\n",
       "    </tr>\n",
       "    <tr>\n",
       "      <th>1084</th>\n",
       "      <td>35</td>\n",
       "      <td>00</td>\n",
       "      <td>ANDAMAN &amp; NICOBAR ISLANDS</td>\n",
       "      <td>Urban</td>\n",
       "      <td>Age not stated</td>\n",
       "      <td>134</td>\n",
       "      <td>70</td>\n",
       "      <td>64</td>\n",
       "      <td>38</td>\n",
       "      <td>19</td>\n",
       "      <td>19</td>\n",
       "    </tr>\n",
       "  </tbody>\n",
       "</table>\n",
       "<p>1080 rows × 11 columns</p>\n",
       "</div>"
      ],
      "text/plain": [
       "     state District                       Area  Total             Age  \\\n",
       "5       00       00                      INDIA  Total           Total   \n",
       "6       00       00                      INDIA  Total             5-9   \n",
       "7       00       00                      INDIA  Total           10-14   \n",
       "8       00       00                      INDIA  Total           15-19   \n",
       "9       00       00                      INDIA  Total           20-24   \n",
       "...    ...      ...                        ...    ...             ...   \n",
       "1080    35       00  ANDAMAN & NICOBAR ISLANDS  Urban           25-29   \n",
       "1081    35       00  ANDAMAN & NICOBAR ISLANDS  Urban           30-49   \n",
       "1082    35       00  ANDAMAN & NICOBAR ISLANDS  Urban           50-69   \n",
       "1083    35       00  ANDAMAN & NICOBAR ISLANDS  Urban             70+   \n",
       "1084    35       00  ANDAMAN & NICOBAR ISLANDS  Urban  Age not stated   \n",
       "\n",
       "      S_persons    S_males  S_females T_persons   T_males T_females  \n",
       "5     314988770  176696383  138292387  86009580  50536832  35472748  \n",
       "6      15649192    8166843    7482349   1844108    978151    865957  \n",
       "7      34488492   18133423   16355069   7254335   3831131   3423204  \n",
       "8      42424599   22750908   19673691  12626717   6792766   5833951  \n",
       "9      41344406   22386694   18957712  12834334   7067614   5766720  \n",
       "...         ...        ...        ...       ...       ...       ...  \n",
       "1080      13065       7012       6053      4364      2355      2009  \n",
       "1081      38406      21301      17105     13320      7824      5496  \n",
       "1082      12899       7903       4996      4177      2842      1335  \n",
       "1083       1644       1016        628       432       305       127  \n",
       "1084        134         70         64        38        19        19  \n",
       "\n",
       "[1080 rows x 11 columns]"
      ]
     },
     "execution_count": 7,
     "metadata": {},
     "output_type": "execute_result"
    }
   ],
   "source": [
    "new_data2"
   ]
  },
  {
   "cell_type": "code",
   "execution_count": 8,
   "id": "4c9aa382",
   "metadata": {},
   "outputs": [],
   "source": [
    "new_data2 = new_data2.drop(['District','S_persons','S_males','S_females','T_males','T_females'],axis=1)"
   ]
  },
  {
   "cell_type": "code",
   "execution_count": 9,
   "id": "42bd7631",
   "metadata": {},
   "outputs": [],
   "source": [
    "fin_data2 = new_data2.loc[(new_data2['Total'] != 'Rural') & (new_data2['Total'] != 'Urban')]"
   ]
  },
  {
   "cell_type": "code",
   "execution_count": 10,
   "id": "a3eee517",
   "metadata": {},
   "outputs": [],
   "source": [
    "india = fin_data2[fin_data2['Area']=='INDIA'].copy()"
   ]
  },
  {
   "cell_type": "code",
   "execution_count": 11,
   "id": "f45f5d06",
   "metadata": {},
   "outputs": [],
   "source": [
    "data1 = pd.read_excel('DDW-0000C-13.xls')"
   ]
  },
  {
   "cell_type": "code",
   "execution_count": 12,
   "id": "e39ed59e",
   "metadata": {},
   "outputs": [],
   "source": [
    "new_col2 = ['Table name','state code','District code','Area','Age','total_person','tot_male','tot_female','total_person_rural','tot_male_rural','tot_female_rural','total_person_urban','tot_male_urban','tot_female_urban']"
   ]
  },
  {
   "cell_type": "code",
   "execution_count": 13,
   "id": "654b2168",
   "metadata": {},
   "outputs": [],
   "source": [
    "data1.columns = new_col2\n",
    "data1 = data1.iloc[6:]"
   ]
  },
  {
   "cell_type": "code",
   "execution_count": 14,
   "id": "b583c915",
   "metadata": {},
   "outputs": [],
   "source": [
    "data1 = data1[['state code','District code','Area','Age','total_person']].copy()"
   ]
  },
  {
   "cell_type": "code",
   "execution_count": 15,
   "id": "0d30191d",
   "metadata": {},
   "outputs": [],
   "source": [
    "india2 = data1[data1['Area'] == 'India'].copy()"
   ]
  },
  {
   "cell_type": "code",
   "execution_count": 16,
   "id": "0c79a9a0",
   "metadata": {},
   "outputs": [
    {
     "name": "stdout",
     "output_type": "stream",
     "text": [
      "state code       object\n",
      "District code    object\n",
      "Area             object\n",
      "Age              object\n",
      "total_person      int64\n",
      "dtype: object\n"
     ]
    }
   ],
   "source": [
    "india2[['total_person']] = india2[['total_person']].apply(pd.to_numeric)"
   ]
  },
  {
   "cell_type": "code",
   "execution_count": 17,
   "id": "b822f539",
   "metadata": {},
   "outputs": [
    {
     "data": {
      "text/html": [
       "<div>\n",
       "<style scoped>\n",
       "    .dataframe tbody tr th:only-of-type {\n",
       "        vertical-align: middle;\n",
       "    }\n",
       "\n",
       "    .dataframe tbody tr th {\n",
       "        vertical-align: top;\n",
       "    }\n",
       "\n",
       "    .dataframe thead th {\n",
       "        text-align: right;\n",
       "    }\n",
       "</style>\n",
       "<table border=\"1\" class=\"dataframe\">\n",
       "  <thead>\n",
       "    <tr style=\"text-align: right;\">\n",
       "      <th></th>\n",
       "      <th>state</th>\n",
       "      <th>Area</th>\n",
       "      <th>Total</th>\n",
       "      <th>Age</th>\n",
       "      <th>T_persons</th>\n",
       "    </tr>\n",
       "  </thead>\n",
       "  <tbody>\n",
       "    <tr>\n",
       "      <th>5</th>\n",
       "      <td>00</td>\n",
       "      <td>INDIA</td>\n",
       "      <td>Total</td>\n",
       "      <td>Total</td>\n",
       "      <td>86009580</td>\n",
       "    </tr>\n",
       "    <tr>\n",
       "      <th>6</th>\n",
       "      <td>00</td>\n",
       "      <td>INDIA</td>\n",
       "      <td>Total</td>\n",
       "      <td>5-9</td>\n",
       "      <td>1844108</td>\n",
       "    </tr>\n",
       "    <tr>\n",
       "      <th>7</th>\n",
       "      <td>00</td>\n",
       "      <td>INDIA</td>\n",
       "      <td>Total</td>\n",
       "      <td>10-14</td>\n",
       "      <td>7254335</td>\n",
       "    </tr>\n",
       "    <tr>\n",
       "      <th>8</th>\n",
       "      <td>00</td>\n",
       "      <td>INDIA</td>\n",
       "      <td>Total</td>\n",
       "      <td>15-19</td>\n",
       "      <td>12626717</td>\n",
       "    </tr>\n",
       "    <tr>\n",
       "      <th>9</th>\n",
       "      <td>00</td>\n",
       "      <td>INDIA</td>\n",
       "      <td>Total</td>\n",
       "      <td>20-24</td>\n",
       "      <td>12834334</td>\n",
       "    </tr>\n",
       "    <tr>\n",
       "      <th>10</th>\n",
       "      <td>00</td>\n",
       "      <td>INDIA</td>\n",
       "      <td>Total</td>\n",
       "      <td>25-29</td>\n",
       "      <td>10857171</td>\n",
       "    </tr>\n",
       "    <tr>\n",
       "      <th>11</th>\n",
       "      <td>00</td>\n",
       "      <td>INDIA</td>\n",
       "      <td>Total</td>\n",
       "      <td>30-49</td>\n",
       "      <td>27466884</td>\n",
       "    </tr>\n",
       "    <tr>\n",
       "      <th>12</th>\n",
       "      <td>00</td>\n",
       "      <td>INDIA</td>\n",
       "      <td>Total</td>\n",
       "      <td>50-69</td>\n",
       "      <td>10916361</td>\n",
       "    </tr>\n",
       "    <tr>\n",
       "      <th>13</th>\n",
       "      <td>00</td>\n",
       "      <td>INDIA</td>\n",
       "      <td>Total</td>\n",
       "      <td>70+</td>\n",
       "      <td>1954539</td>\n",
       "    </tr>\n",
       "    <tr>\n",
       "      <th>14</th>\n",
       "      <td>00</td>\n",
       "      <td>INDIA</td>\n",
       "      <td>Total</td>\n",
       "      <td>Age not stated</td>\n",
       "      <td>255131</td>\n",
       "    </tr>\n",
       "  </tbody>\n",
       "</table>\n",
       "</div>"
      ],
      "text/plain": [
       "   state   Area  Total             Age T_persons\n",
       "5     00  INDIA  Total           Total  86009580\n",
       "6     00  INDIA  Total             5-9   1844108\n",
       "7     00  INDIA  Total           10-14   7254335\n",
       "8     00  INDIA  Total           15-19  12626717\n",
       "9     00  INDIA  Total           20-24  12834334\n",
       "10    00  INDIA  Total           25-29  10857171\n",
       "11    00  INDIA  Total           30-49  27466884\n",
       "12    00  INDIA  Total           50-69  10916361\n",
       "13    00  INDIA  Total             70+   1954539\n",
       "14    00  INDIA  Total  Age not stated    255131"
      ]
     },
     "execution_count": 17,
     "metadata": {},
     "output_type": "execute_result"
    }
   ],
   "source": [
    "india"
   ]
  },
  {
   "cell_type": "code",
   "execution_count": 18,
   "id": "3409cffb",
   "metadata": {},
   "outputs": [],
   "source": [
    "final_sum = [86009580]\n",
    "a = [5,10,15,20,25,30,50,70]\n",
    "b = [9,14,19,24,29,49,69,99]\n",
    "for i,j in zip(a,b):\n",
    "    val = 0\n",
    "    for k in range(i,j+1):\n",
    "        row = india2.loc[india2['Age'] == k].values.flatten().tolist()\n",
    "        val+=row[-1]\n",
    "    final_sum.append(val)"
   ]
  },
  {
   "cell_type": "code",
   "execution_count": 19,
   "id": "7ff0ba08",
   "metadata": {},
   "outputs": [],
   "source": [
    "r = india2[india2['Age'] == 'Age not stated'].values.flatten().tolist()\n",
    "final_sum.append(r[-1])"
   ]
  },
  {
   "cell_type": "code",
   "execution_count": 20,
   "id": "6b30995d",
   "metadata": {},
   "outputs": [],
   "source": [
    "india['new_col'] = final_sum"
   ]
  },
  {
   "cell_type": "code",
   "execution_count": 21,
   "id": "b8fec684",
   "metadata": {},
   "outputs": [],
   "source": [
    "india['percentage'] = (india['T_persons']/india['new_col'])*100"
   ]
  },
  {
   "cell_type": "code",
   "execution_count": 22,
   "id": "c6104471",
   "metadata": {},
   "outputs": [],
   "source": [
    "india = india[1:].copy()"
   ]
  },
  {
   "cell_type": "code",
   "execution_count": 23,
   "id": "e3f194cb",
   "metadata": {},
   "outputs": [],
   "source": [
    "india.sort_values(\"percentage\", axis = 0, ascending = False,inplace = True, na_position ='last')"
   ]
  },
  {
   "cell_type": "code",
   "execution_count": 24,
   "id": "16e67b5d",
   "metadata": {},
   "outputs": [],
   "source": [
    "fin_ind = india.iloc[0].to_frame().transpose()"
   ]
  },
  {
   "cell_type": "code",
   "execution_count": 25,
   "id": "ea6f2e10",
   "metadata": {},
   "outputs": [],
   "source": [
    "fin_ind = fin_ind[['state','Age','percentage']].copy()"
   ]
  },
  {
   "cell_type": "code",
   "execution_count": 26,
   "id": "db969d6d",
   "metadata": {},
   "outputs": [],
   "source": [
    "fin_ind = fin_ind.rename(columns={'state':'state/ut','Age': 'age-group'})"
   ]
  },
  {
   "cell_type": "code",
   "execution_count": 27,
   "id": "540d8d3b",
   "metadata": {},
   "outputs": [
    {
     "data": {
      "text/html": [
       "<div>\n",
       "<style scoped>\n",
       "    .dataframe tbody tr th:only-of-type {\n",
       "        vertical-align: middle;\n",
       "    }\n",
       "\n",
       "    .dataframe tbody tr th {\n",
       "        vertical-align: top;\n",
       "    }\n",
       "\n",
       "    .dataframe thead th {\n",
       "        text-align: right;\n",
       "    }\n",
       "</style>\n",
       "<table border=\"1\" class=\"dataframe\">\n",
       "  <thead>\n",
       "    <tr style=\"text-align: right;\">\n",
       "      <th></th>\n",
       "      <th>state/ut</th>\n",
       "      <th>age-group</th>\n",
       "      <th>percentage</th>\n",
       "    </tr>\n",
       "  </thead>\n",
       "  <tbody>\n",
       "    <tr>\n",
       "      <th>9</th>\n",
       "      <td>00</td>\n",
       "      <td>20-24</td>\n",
       "      <td>11.518442</td>\n",
       "    </tr>\n",
       "  </tbody>\n",
       "</table>\n",
       "</div>"
      ],
      "text/plain": [
       "  state/ut age-group percentage\n",
       "9       00     20-24  11.518442"
      ]
     },
     "execution_count": 27,
     "metadata": {},
     "output_type": "execute_result"
    }
   ],
   "source": [
    "fin_ind"
   ]
  },
  {
   "cell_type": "code",
   "execution_count": 28,
   "id": "73fc5be0",
   "metadata": {},
   "outputs": [],
   "source": [
    "new_data2 = new_data2[new_data2['Area']!='INDIA'].copy()"
   ]
  },
  {
   "cell_type": "code",
   "execution_count": 29,
   "id": "a893a4c2",
   "metadata": {},
   "outputs": [],
   "source": [
    "data1 = data1[data1['Area']!='India'].copy()"
   ]
  },
  {
   "cell_type": "code",
   "execution_count": 30,
   "id": "b9f7f9c0",
   "metadata": {},
   "outputs": [],
   "source": [
    "data1['Area'] = data1['Area'].str.lower()"
   ]
  },
  {
   "cell_type": "code",
   "execution_count": 31,
   "id": "dbf26002",
   "metadata": {},
   "outputs": [],
   "source": [
    "new_data2['Area'] = new_data2['Area'].str.lower()"
   ]
  },
  {
   "cell_type": "code",
   "execution_count": 32,
   "id": "f2121a55",
   "metadata": {},
   "outputs": [
    {
     "data": {
      "text/plain": [
       "3605"
      ]
     },
     "execution_count": 32,
     "metadata": {},
     "output_type": "execute_result"
    }
   ],
   "source": [
    "len(data1.Area)"
   ]
  },
  {
   "cell_type": "code",
   "execution_count": 33,
   "id": "eb01fd4e",
   "metadata": {},
   "outputs": [
    {
     "data": {
      "text/plain": [
       "array(['state - jammu & kashmir (01)', 'state - himachal pradesh (02)',\n",
       "       'state - punjab (03)', 'state - chandigarh (04)',\n",
       "       'state - uttarakhand (05)', 'state - haryana (06)',\n",
       "       'state - nct of delhi (07)', 'state - rajasthan (08)',\n",
       "       'state - uttar pradesh (09)', 'state - bihar (10)',\n",
       "       'state - sikkim (11)', 'state - arunachal pradesh (12)',\n",
       "       'state - nagaland (13)', 'state - manipur (14)',\n",
       "       'state - mizoram (15)', 'state - tripura (16)',\n",
       "       'state - meghalaya (17)', 'state - assam (18)',\n",
       "       'state - west bengal (19)', 'state - jharkhand (20)',\n",
       "       'state - odisha (21)', 'state - chhattisgarh (22)',\n",
       "       'state - madhya pradesh (23)', 'state - gujarat (24)',\n",
       "       'state - daman & diu (25)', 'state - dadra & nagar haveli (26)',\n",
       "       'state - maharashtra (27)', 'state - andhra pradesh (28)',\n",
       "       'state - karnataka (29)', 'state - goa (30)',\n",
       "       'state - lakshadweep (31)', 'state - kerala (32)',\n",
       "       'state - tamil nadu (33)', 'state - puducherry (34)',\n",
       "       'state - andaman & nicobar islands (35)'], dtype=object)"
      ]
     },
     "execution_count": 33,
     "metadata": {},
     "output_type": "execute_result"
    }
   ],
   "source": [
    "the_list = data1.Area.unique()\n",
    "the_list"
   ]
  },
  {
   "cell_type": "code",
   "execution_count": 34,
   "id": "6fcf63e7",
   "metadata": {},
   "outputs": [
    {
     "data": {
      "text/plain": [
       "12541302"
      ]
     },
     "execution_count": 34,
     "metadata": {},
     "output_type": "execute_result"
    }
   ],
   "source": [
    "data1.iloc[0].tolist()[-1]"
   ]
  },
  {
   "cell_type": "code",
   "execution_count": 35,
   "id": "d1988179",
   "metadata": {},
   "outputs": [],
   "source": [
    "a = [5,10,15,20,25,30,50,70]\n",
    "b = [9,14,19,24,29,49,69,99]\n",
    "final_sum = []\n",
    "for area in the_list:\n",
    "    df = data1[data1['Area'] == area].copy()\n",
    "    final_sum.append(df.iloc[0].tolist()[-1])\n",
    "    for i,j in zip(a,b):\n",
    "        val = 0\n",
    "        for k in range(i,j+1):\n",
    "            row = df.loc[df['Age'] == k].values.flatten().tolist()\n",
    "            val+=row[-1]\n",
    "        final_sum.append(val)\n",
    "    r = df[df['Age'] == 'Age not stated'].values.flatten().tolist()\n",
    "    final_sum.append(r[-1])"
   ]
  },
  {
   "cell_type": "code",
   "execution_count": 36,
   "id": "544b5a5e",
   "metadata": {},
   "outputs": [],
   "source": [
    "new_data2 = new_data2[new_data2['Total']!=\"Urban\"].copy()"
   ]
  },
  {
   "cell_type": "code",
   "execution_count": 37,
   "id": "477b0017",
   "metadata": {},
   "outputs": [],
   "source": [
    "new_data2 = new_data2[new_data2['Total']!=\"Rural\"].copy()"
   ]
  },
  {
   "cell_type": "code",
   "execution_count": 38,
   "id": "c84e437e",
   "metadata": {},
   "outputs": [],
   "source": [
    "new_data2['row'] = final_sum"
   ]
  },
  {
   "cell_type": "code",
   "execution_count": 39,
   "id": "504bcf58",
   "metadata": {},
   "outputs": [],
   "source": [
    "new_data2 = new_data2[new_data2['Total']!=new_data2['Age']].copy()"
   ]
  },
  {
   "cell_type": "code",
   "execution_count": 40,
   "id": "3aa126b9",
   "metadata": {},
   "outputs": [],
   "source": [
    "new_data2['percentage'] = (new_data2['T_persons']/new_data2['row'])*100"
   ]
  },
  {
   "cell_type": "code",
   "execution_count": 41,
   "id": "859ba8ee",
   "metadata": {},
   "outputs": [
    {
     "data": {
      "text/plain": [
       "pandas.core.series.Series"
      ]
     },
     "execution_count": 41,
     "metadata": {},
     "output_type": "execute_result"
    }
   ],
   "source": [
    "type(new_data2.groupby('Area')['percentage'].max())"
   ]
  },
  {
   "cell_type": "code",
   "execution_count": 42,
   "id": "9ed0fd92",
   "metadata": {},
   "outputs": [],
   "source": [
    "new_data2['new_column'] = new_data2.groupby(['Area'])['percentage'].transform('max')"
   ]
  },
  {
   "cell_type": "code",
   "execution_count": 43,
   "id": "6d22d758",
   "metadata": {},
   "outputs": [],
   "source": [
    "new_data2 = new_data2[new_data2['percentage']==new_data2['new_column']].copy()"
   ]
  },
  {
   "cell_type": "code",
   "execution_count": 44,
   "id": "d7d05937",
   "metadata": {},
   "outputs": [],
   "source": [
    "new_data2 = new_data2[['state','Area','Age','percentage']].copy()"
   ]
  },
  {
   "cell_type": "code",
   "execution_count": 45,
   "id": "2ec9978c",
   "metadata": {},
   "outputs": [
    {
     "data": {
      "text/plain": [
       "39                jammu & kashmir\n",
       "69               himachal pradesh\n",
       "98                         punjab\n",
       "133                    chandigarh\n",
       "159                   uttarakhand\n",
       "188                       haryana\n",
       "223                  nct of delhi\n",
       "248                     rajasthan\n",
       "279                 uttar pradesh\n",
       "308                         bihar\n",
       "338                        sikkim\n",
       "368             arunachal pradesh\n",
       "399                      nagaland\n",
       "430                       manipur\n",
       "461                       mizoram\n",
       "489                       tripura\n",
       "521                     meghalaya\n",
       "549                         assam\n",
       "582                   west bengal\n",
       "609                     jharkhand\n",
       "638                        odisha\n",
       "670                  chhattisgarh\n",
       "698                madhya pradesh\n",
       "728                       gujarat\n",
       "761                   daman & diu\n",
       "788          dadra & nagar haveli\n",
       "819                   maharashtra\n",
       "848                andhra pradesh\n",
       "879                     karnataka\n",
       "908                           goa\n",
       "939                   lakshadweep\n",
       "969                        kerala\n",
       "999                    tamil nadu\n",
       "1029                   puducherry\n",
       "1058    andaman & nicobar islands\n",
       "Name: Area, dtype: object"
      ]
     },
     "execution_count": 45,
     "metadata": {},
     "output_type": "execute_result"
    }
   ],
   "source": [
    "new_data2.pop(\"Area\")"
   ]
  },
  {
   "cell_type": "code",
   "execution_count": 46,
   "id": "7fca3cc0",
   "metadata": {},
   "outputs": [],
   "source": [
    "new_data2 = new_data2.rename(columns={'state':'state/ut','Age': 'age-group'})"
   ]
  },
  {
   "cell_type": "code",
   "execution_count": 47,
   "id": "4f0b35fc",
   "metadata": {},
   "outputs": [],
   "source": [
    "bigdata = new_data2.append(fin_ind, ignore_index=True)"
   ]
  },
  {
   "cell_type": "code",
   "execution_count": 48,
   "id": "0b001657",
   "metadata": {},
   "outputs": [],
   "source": [
    "bigdata.sort_values(\"state/ut\", axis = 0, ascending = True,inplace = True, na_position ='last')"
   ]
  },
  {
   "cell_type": "code",
   "execution_count": 49,
   "id": "85b85ed0",
   "metadata": {},
   "outputs": [],
   "source": [
    "bigdata.to_csv('age-india.csv',index=False)"
   ]
  },
  {
   "cell_type": "code",
   "execution_count": 50,
   "id": "76f5a37c",
   "metadata": {},
   "outputs": [
    {
     "data": {
      "text/html": [
       "<div>\n",
       "<style scoped>\n",
       "    .dataframe tbody tr th:only-of-type {\n",
       "        vertical-align: middle;\n",
       "    }\n",
       "\n",
       "    .dataframe tbody tr th {\n",
       "        vertical-align: top;\n",
       "    }\n",
       "\n",
       "    .dataframe thead th {\n",
       "        text-align: right;\n",
       "    }\n",
       "</style>\n",
       "<table border=\"1\" class=\"dataframe\">\n",
       "  <thead>\n",
       "    <tr style=\"text-align: right;\">\n",
       "      <th></th>\n",
       "      <th>state/ut</th>\n",
       "      <th>age-group</th>\n",
       "      <th>percentage</th>\n",
       "    </tr>\n",
       "  </thead>\n",
       "  <tbody>\n",
       "    <tr>\n",
       "      <th>35</th>\n",
       "      <td>00</td>\n",
       "      <td>20-24</td>\n",
       "      <td>11.518442</td>\n",
       "    </tr>\n",
       "    <tr>\n",
       "      <th>0</th>\n",
       "      <td>01</td>\n",
       "      <td>20-24</td>\n",
       "      <td>29.580167</td>\n",
       "    </tr>\n",
       "    <tr>\n",
       "      <th>1</th>\n",
       "      <td>02</td>\n",
       "      <td>20-24</td>\n",
       "      <td>8.206521</td>\n",
       "    </tr>\n",
       "    <tr>\n",
       "      <th>2</th>\n",
       "      <td>03</td>\n",
       "      <td>15-19</td>\n",
       "      <td>45.763949</td>\n",
       "    </tr>\n",
       "    <tr>\n",
       "      <th>3</th>\n",
       "      <td>04</td>\n",
       "      <td>70+</td>\n",
       "      <td>42.989875</td>\n",
       "    </tr>\n",
       "    <tr>\n",
       "      <th>4</th>\n",
       "      <td>05</td>\n",
       "      <td>20-24</td>\n",
       "      <td>3.094835</td>\n",
       "    </tr>\n",
       "    <tr>\n",
       "      <th>5</th>\n",
       "      <td>06</td>\n",
       "      <td>15-19</td>\n",
       "      <td>7.31862</td>\n",
       "    </tr>\n",
       "    <tr>\n",
       "      <th>6</th>\n",
       "      <td>07</td>\n",
       "      <td>70+</td>\n",
       "      <td>15.147255</td>\n",
       "    </tr>\n",
       "    <tr>\n",
       "      <th>7</th>\n",
       "      <td>08</td>\n",
       "      <td>15-19</td>\n",
       "      <td>2.884065</td>\n",
       "    </tr>\n",
       "    <tr>\n",
       "      <th>8</th>\n",
       "      <td>09</td>\n",
       "      <td>20-24</td>\n",
       "      <td>2.443396</td>\n",
       "    </tr>\n",
       "    <tr>\n",
       "      <th>9</th>\n",
       "      <td>10</td>\n",
       "      <td>15-19</td>\n",
       "      <td>2.91843</td>\n",
       "    </tr>\n",
       "    <tr>\n",
       "      <th>10</th>\n",
       "      <td>11</td>\n",
       "      <td>15-19</td>\n",
       "      <td>45.798288</td>\n",
       "    </tr>\n",
       "    <tr>\n",
       "      <th>11</th>\n",
       "      <td>12</td>\n",
       "      <td>15-19</td>\n",
       "      <td>47.589249</td>\n",
       "    </tr>\n",
       "    <tr>\n",
       "      <th>12</th>\n",
       "      <td>13</td>\n",
       "      <td>20-24</td>\n",
       "      <td>40.339983</td>\n",
       "    </tr>\n",
       "    <tr>\n",
       "      <th>13</th>\n",
       "      <td>14</td>\n",
       "      <td>25-29</td>\n",
       "      <td>31.663321</td>\n",
       "    </tr>\n",
       "    <tr>\n",
       "      <th>14</th>\n",
       "      <td>15</td>\n",
       "      <td>30-49</td>\n",
       "      <td>7.420447</td>\n",
       "    </tr>\n",
       "    <tr>\n",
       "      <th>15</th>\n",
       "      <td>16</td>\n",
       "      <td>20-24</td>\n",
       "      <td>8.211385</td>\n",
       "    </tr>\n",
       "    <tr>\n",
       "      <th>16</th>\n",
       "      <td>17</td>\n",
       "      <td>30-49</td>\n",
       "      <td>14.862512</td>\n",
       "    </tr>\n",
       "    <tr>\n",
       "      <th>17</th>\n",
       "      <td>18</td>\n",
       "      <td>20-24</td>\n",
       "      <td>21.065613</td>\n",
       "    </tr>\n",
       "    <tr>\n",
       "      <th>18</th>\n",
       "      <td>19</td>\n",
       "      <td>50-69</td>\n",
       "      <td>4.457691</td>\n",
       "    </tr>\n",
       "    <tr>\n",
       "      <th>19</th>\n",
       "      <td>20</td>\n",
       "      <td>20-24</td>\n",
       "      <td>7.375031</td>\n",
       "    </tr>\n",
       "    <tr>\n",
       "      <th>20</th>\n",
       "      <td>21</td>\n",
       "      <td>15-19</td>\n",
       "      <td>22.309814</td>\n",
       "    </tr>\n",
       "    <tr>\n",
       "      <th>21</th>\n",
       "      <td>22</td>\n",
       "      <td>25-29</td>\n",
       "      <td>2.296116</td>\n",
       "    </tr>\n",
       "    <tr>\n",
       "      <th>22</th>\n",
       "      <td>23</td>\n",
       "      <td>15-19</td>\n",
       "      <td>2.963277</td>\n",
       "    </tr>\n",
       "    <tr>\n",
       "      <th>23</th>\n",
       "      <td>24</td>\n",
       "      <td>15-19</td>\n",
       "      <td>23.986559</td>\n",
       "    </tr>\n",
       "    <tr>\n",
       "      <th>24</th>\n",
       "      <td>25</td>\n",
       "      <td>30-49</td>\n",
       "      <td>18.178144</td>\n",
       "    </tr>\n",
       "    <tr>\n",
       "      <th>25</th>\n",
       "      <td>26</td>\n",
       "      <td>15-19</td>\n",
       "      <td>33.829749</td>\n",
       "    </tr>\n",
       "    <tr>\n",
       "      <th>26</th>\n",
       "      <td>27</td>\n",
       "      <td>20-24</td>\n",
       "      <td>27.068174</td>\n",
       "    </tr>\n",
       "    <tr>\n",
       "      <th>27</th>\n",
       "      <td>28</td>\n",
       "      <td>15-19</td>\n",
       "      <td>12.981033</td>\n",
       "    </tr>\n",
       "    <tr>\n",
       "      <th>28</th>\n",
       "      <td>29</td>\n",
       "      <td>20-24</td>\n",
       "      <td>17.577031</td>\n",
       "    </tr>\n",
       "    <tr>\n",
       "      <th>29</th>\n",
       "      <td>30</td>\n",
       "      <td>15-19</td>\n",
       "      <td>68.088694</td>\n",
       "    </tr>\n",
       "    <tr>\n",
       "      <th>30</th>\n",
       "      <td>31</td>\n",
       "      <td>20-24</td>\n",
       "      <td>25.990736</td>\n",
       "    </tr>\n",
       "    <tr>\n",
       "      <th>31</th>\n",
       "      <td>32</td>\n",
       "      <td>20-24</td>\n",
       "      <td>16.945888</td>\n",
       "    </tr>\n",
       "    <tr>\n",
       "      <th>32</th>\n",
       "      <td>33</td>\n",
       "      <td>20-24</td>\n",
       "      <td>4.58902</td>\n",
       "    </tr>\n",
       "    <tr>\n",
       "      <th>33</th>\n",
       "      <td>34</td>\n",
       "      <td>20-24</td>\n",
       "      <td>7.852489</td>\n",
       "    </tr>\n",
       "    <tr>\n",
       "      <th>34</th>\n",
       "      <td>35</td>\n",
       "      <td>15-19</td>\n",
       "      <td>28.747048</td>\n",
       "    </tr>\n",
       "  </tbody>\n",
       "</table>\n",
       "</div>"
      ],
      "text/plain": [
       "   state/ut age-group percentage\n",
       "35       00     20-24  11.518442\n",
       "0        01     20-24  29.580167\n",
       "1        02     20-24   8.206521\n",
       "2        03     15-19  45.763949\n",
       "3        04       70+  42.989875\n",
       "4        05     20-24   3.094835\n",
       "5        06     15-19    7.31862\n",
       "6        07       70+  15.147255\n",
       "7        08     15-19   2.884065\n",
       "8        09     20-24   2.443396\n",
       "9        10     15-19    2.91843\n",
       "10       11     15-19  45.798288\n",
       "11       12     15-19  47.589249\n",
       "12       13     20-24  40.339983\n",
       "13       14     25-29  31.663321\n",
       "14       15     30-49   7.420447\n",
       "15       16     20-24   8.211385\n",
       "16       17     30-49  14.862512\n",
       "17       18     20-24  21.065613\n",
       "18       19     50-69   4.457691\n",
       "19       20     20-24   7.375031\n",
       "20       21     15-19  22.309814\n",
       "21       22     25-29   2.296116\n",
       "22       23     15-19   2.963277\n",
       "23       24     15-19  23.986559\n",
       "24       25     30-49  18.178144\n",
       "25       26     15-19  33.829749\n",
       "26       27     20-24  27.068174\n",
       "27       28     15-19  12.981033\n",
       "28       29     20-24  17.577031\n",
       "29       30     15-19  68.088694\n",
       "30       31     20-24  25.990736\n",
       "31       32     20-24  16.945888\n",
       "32       33     20-24    4.58902\n",
       "33       34     20-24   7.852489\n",
       "34       35     15-19  28.747048"
      ]
     },
     "execution_count": 50,
     "metadata": {},
     "output_type": "execute_result"
    }
   ],
   "source": [
    "bigdata"
   ]
  }
 ],
 "metadata": {
  "kernelspec": {
   "display_name": "Python 3 (ipykernel)",
   "language": "python",
   "name": "python3"
  },
  "language_info": {
   "codemirror_mode": {
    "name": "ipython",
    "version": 3
   },
   "file_extension": ".py",
   "mimetype": "text/x-python",
   "name": "python",
   "nbconvert_exporter": "python",
   "pygments_lexer": "ipython3",
   "version": "3.9.7"
  }
 },
 "nbformat": 4,
 "nbformat_minor": 5
}
