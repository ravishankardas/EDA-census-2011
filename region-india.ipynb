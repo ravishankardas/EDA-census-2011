{
 "cells": [
  {
   "cell_type": "code",
   "execution_count": 1,
   "id": "9a15b7dc",
   "metadata": {},
   "outputs": [],
   "source": [
    "import pandas as pd\n",
    "import numpy as np"
   ]
  },
  {
   "cell_type": "code",
   "execution_count": 2,
   "id": "7fb7a956",
   "metadata": {},
   "outputs": [],
   "source": [
    "andhra = pd.read_excel('andhra.XLSX',skiprows=5)\n",
    "andman = pd.read_excel('andman.XLSX',skiprows=5)\n",
    "arunachal = pd.read_excel('arunachal.XLSX',skiprows=5)\n",
    "assam = pd.read_excel('assam.XLSX',skiprows=5)\n",
    "bihar = pd.read_excel('bihar.XLSX',skiprows=5)\n",
    "chandigarh = pd.read_excel('chandigarh.XLSX',skiprows=5)\n",
    "chhatissgarh = pd.read_excel('chhatissgarh.XLSX',skiprows=5)\n",
    "dadra = pd.read_excel('dadra.XLSX',skiprows = 5)\n",
    "\n",
    "\n",
    "daman = pd.read_excel('daman.XLSX',skiprows=5)\n",
    "delhi = pd.read_excel('delhi.XLSX',skiprows=5)\n",
    "goa = pd.read_excel('goa.XLSX',skiprows=5)\n",
    "gujarat = pd.read_excel('gujarat.XLSX',skiprows=5)\n",
    "haryana = pd.read_excel('haryana.XLSX',skiprows=5)\n",
    "\n",
    "\n",
    "himachal = pd.read_excel('himachal.XLSX',skiprows=5)\n",
    "jammu = pd.read_excel('jammu.XLSX',skiprows=5)\n",
    "arunachal = pd.read_excel('arunachal.XLSX',skiprows=5)\n",
    "jharkhand = pd.read_excel('jharkhand.XLSX',skiprows=5)\n",
    "karnatka = pd.read_excel('karnatka.XLSX',skiprows=5)\n",
    "\n",
    "kerala = pd.read_excel('kerala.XLSX',skiprows=5)\n",
    "lakshdweep = pd.read_excel('lakshdweep.XLSX',skiprows=5)\n",
    "madhya = pd.read_excel('madhya.XLSX',skiprows=5)\n",
    "\n",
    "\n",
    "maharashtra = pd.read_excel('maharashtra.XLSX',skiprows=5)\n",
    "manipur = pd.read_excel('manipur.XLSX',skiprows=5)\n",
    "meghalaya = pd.read_excel('meghalya.XLSX',skiprows=5)\n",
    "mizoram = pd.read_excel('mizoram.XLSX',skiprows=5)\n",
    "nagaland = pd.read_excel('nagaland.XLSX',skiprows=5)\n",
    "\n",
    "\n",
    "odisha = pd.read_excel('odisha.XLSX',skiprows=5)\n",
    "puddu  = pd.read_excel('puduu.XLSX',skiprows=5)\n",
    "punjab = pd.read_excel('punjab.XLSX',skiprows=5)\n",
    "rajashtan = pd.read_excel('rajasthan.XLSX',skiprows=5)\n",
    "sikkim = pd.read_excel('sikkim.XLSX',skiprows=5)\n",
    "\n",
    "\n",
    "tamilnadu = pd.read_excel('tamilnadu.XLSX',skiprows=5)\n",
    "tripura = pd.read_excel('tripura.XLSX',skiprows=5)\n",
    "up = pd.read_excel('UP.XLSX',skiprows=5)\n",
    "uttrakhand = pd.read_excel('uttrakhand.XLSX',skiprows=5)\n",
    "wb = pd.read_excel('WB.XLSX',skiprows=5)"
   ]
  },
  {
   "cell_type": "code",
   "execution_count": 3,
   "id": "75a6e20c",
   "metadata": {},
   "outputs": [],
   "source": [
    "all_dfs = [andhra,andman,chandigarh,dadra,chhatissgarh,daman,delhi,goa,gujarat,haryana,himachal,jammu,arunachal,jharkhand,karnatka,kerala,lakshdweep,madhya,assam,bihar,maharashtra,manipur,meghalaya,mizoram,nagaland,odisha,puddu,punjab,rajashtan,sikkim,tamilnadu,tripura,up,uttrakhand,wb]"
   ]
  },
  {
   "cell_type": "code",
   "execution_count": 4,
   "id": "cf907e4d",
   "metadata": {},
   "outputs": [
    {
     "data": {
      "text/plain": [
       "35"
      ]
     },
     "execution_count": 4,
     "metadata": {},
     "output_type": "execute_result"
    }
   ],
   "source": [
    "len(all_dfs)"
   ]
  },
  {
   "cell_type": "code",
   "execution_count": 5,
   "id": "95f2c59d",
   "metadata": {},
   "outputs": [],
   "source": [
    "new_col = ['state_code','state name','tot_code','tot_name','total','tot_males','tot_females','firstsub_code','firstsub_lang','firstsub_persons','firstsub_male','firstsub_female','secondsub_code','secondsub_lang','secondsub_persons','secondsub_male','secondsub_female']"
   ]
  },
  {
   "cell_type": "code",
   "execution_count": 6,
   "id": "970983d2",
   "metadata": {},
   "outputs": [],
   "source": [
    "for df in all_dfs:\n",
    "    df.columns = new_col\n",
    "    df.fillna(0)"
   ]
  },
  {
   "cell_type": "code",
   "execution_count": 7,
   "id": "f31664c5",
   "metadata": {},
   "outputs": [],
   "source": [
    "north = [jammu,punjab,himachal,haryana,uttrakhand,delhi,chandigarh]\n",
    "west = [rajashtan,gujarat,maharashtra,goa,dadra,daman]\n",
    "central = [madhya,up,chhatissgarh]\n",
    "east = [bihar,wb,odisha,jharkhand]\n",
    "south = [karnatka,andhra,tamilnadu,kerala,lakshdweep,puddu]\n",
    "north_east = [assam,sikkim,meghalaya,tripura,arunachal,manipur,nagaland,mizoram,andman]"
   ]
  },
  {
   "cell_type": "code",
   "execution_count": 8,
   "id": "aa7f0ba5",
   "metadata": {},
   "outputs": [],
   "source": [
    "a = pd.concat(north)\n",
    "b = pd.concat(west)\n",
    "c = pd.concat(central)\n",
    "d = pd.concat(east)\n",
    "e = pd.concat(south)\n",
    "f = pd.concat(north_east)\n",
    "north_new = a.copy(deep=True)\n",
    "west_new = b.copy(deep=True)\n",
    "central_new = c.copy(deep=True)\n",
    "east_new = d.copy(deep=True)\n",
    "south_new = e.copy(deep=True)\n",
    "north_east_new = f.copy(deep=True)"
   ]
  },
  {
   "cell_type": "code",
   "execution_count": 9,
   "id": "96092613",
   "metadata": {},
   "outputs": [],
   "source": [
    "north = a.sort_values(by=['total'],ascending=False)\n",
    "west = b.sort_values(by=['total'],ascending=False)\n",
    "central = c.sort_values(by=['total'],ascending=False)\n",
    "east = d.sort_values(by=['total'],ascending=False)\n",
    "south = e.sort_values(by=['total'],ascending=False)\n",
    "north_east = f.sort_values(by=['total'],ascending=False)"
   ]
  },
  {
   "cell_type": "code",
   "execution_count": 10,
   "id": "fe57553c",
   "metadata": {},
   "outputs": [],
   "source": [
    "north =  north.groupby(['tot_name'])['total'].agg('sum').to_frame().reset_index().sort_values(by=['total',],ascending=False).head(3)['tot_name'].tolist()\n",
    "west =  west.groupby(['tot_name'])['total'].agg('sum').to_frame().reset_index().sort_values(by=['total',],ascending=False).head(3)['tot_name'].tolist()\n",
    "central =  central.groupby(['tot_name'])['total'].agg('sum').to_frame().reset_index().sort_values(by=['total',],ascending=False).head(3)['tot_name'].tolist()\n",
    "east =  east.groupby(['tot_name'])['total'].agg('sum').to_frame().reset_index().sort_values(by=['total',],ascending=False).head(3)['tot_name'].tolist()\n",
    "south =  south.groupby(['tot_name'])['total'].agg('sum').to_frame().reset_index().sort_values(by=['total',],ascending=False).head(3)['tot_name'].tolist()\n",
    "north_east =  north_east.groupby(['tot_name'])['total'].agg('sum').to_frame().reset_index().sort_values(by=['total',],ascending=False).head(3)['tot_name'].tolist()"
   ]
  },
  {
   "cell_type": "code",
   "execution_count": 11,
   "id": "5e2052e1",
   "metadata": {},
   "outputs": [],
   "source": [
    "north.insert(0,'North')\n",
    "west.insert(0,'West')\n",
    "central.insert(0,'Central')\n",
    "east.insert(0,'East')\n",
    "south.insert(0,'South')\n",
    "north_east.insert(0,'North East')"
   ]
  },
  {
   "cell_type": "code",
   "execution_count": 12,
   "id": "eb491600",
   "metadata": {},
   "outputs": [],
   "source": [
    "master_list = [north,west,central,east,south,north_east]"
   ]
  },
  {
   "cell_type": "code",
   "execution_count": 13,
   "id": "7fbcec0b",
   "metadata": {},
   "outputs": [],
   "source": [
    "result = pd.DataFrame(master_list,columns = ['region','language-1','language-2','language-3'])"
   ]
  },
  {
   "cell_type": "code",
   "execution_count": 14,
   "id": "a1f475da",
   "metadata": {},
   "outputs": [],
   "source": [
    "result = result.sort_values(by=['region'],ascending=True)"
   ]
  },
  {
   "cell_type": "code",
   "execution_count": 15,
   "id": "846d2401",
   "metadata": {},
   "outputs": [],
   "source": [
    "result.to_csv('region_india_a.csv',index=False)"
   ]
  },
  {
   "cell_type": "code",
   "execution_count": 16,
   "id": "b904054a",
   "metadata": {},
   "outputs": [],
   "source": [
    "north_new = north_new.fillna(0)\n",
    "west_new = west_new.fillna(0)\n",
    "central_new = central_new.fillna(0)\n",
    "east_new = east_new.fillna(0)\n",
    "south_new = south_new.fillna(0)\n",
    "north_east_new = north_east_new.fillna(0)"
   ]
  },
  {
   "cell_type": "code",
   "execution_count": 17,
   "id": "94270540",
   "metadata": {},
   "outputs": [],
   "source": [
    "north_new = north_new[['state name','tot_name','total','firstsub_lang','firstsub_persons','secondsub_lang','secondsub_persons']].copy()\n",
    "west_new = west_new[['state name','tot_name','total','firstsub_lang','firstsub_persons','secondsub_lang','secondsub_persons']].copy()\n",
    "central_new = central_new[['state name','tot_name','total','firstsub_lang','firstsub_persons','secondsub_lang','secondsub_persons']].copy()\n",
    "east_new = east_new[['state name','tot_name','total','firstsub_lang','firstsub_persons','secondsub_lang','secondsub_persons']].copy()\n",
    "south_new = south_new[['state name','tot_name','total','firstsub_lang','firstsub_persons','secondsub_lang','secondsub_persons']].copy()\n",
    "north_east_new = north_east_new[['state name','tot_name','total','firstsub_lang','firstsub_persons','secondsub_lang','secondsub_persons']].copy()"
   ]
  },
  {
   "cell_type": "code",
   "execution_count": 18,
   "id": "44fc6394",
   "metadata": {},
   "outputs": [],
   "source": [
    "def top_three(a):\n",
    "    the = []\n",
    "    for i in a['tot_name'].to_list():\n",
    "        if type(i) == str:\n",
    "            the.append(i)\n",
    "    for i in a['firstsub_lang'].to_list():\n",
    "        if type(i) == str:\n",
    "            the.append(i)\n",
    "    for i in a['secondsub_lang'].to_list():\n",
    "        if type(i) == str:\n",
    "            the.append(i)\n",
    "    the = set(the)\n",
    "    the_dict = {}\n",
    "    for i in the:\n",
    "        the_dict[i] = 0\n",
    "    for index, row in a.iterrows():\n",
    "        if row[\"tot_name\"] in the:\n",
    "            t = row[\"tot_name\"]\n",
    "            the_dict[t]+= row['total']\n",
    "        if row[\"firstsub_lang\"] in the:\n",
    "            t = row[\"firstsub_lang\"]\n",
    "            the_dict[t]+= row['firstsub_persons']\n",
    "        if row[\"secondsub_lang\"] in the:\n",
    "            t = row[\"secondsub_lang\"]\n",
    "            the_dict[t]+= row['secondsub_persons']\n",
    "    ahem = pd.DataFrame(the_dict.items(), columns=['name', 'speaker'])\n",
    "    return ahem.sort_values(by=['speaker'],ascending=False).head(3)['name'].to_list()        "
   ]
  },
  {
   "cell_type": "code",
   "execution_count": 19,
   "id": "4b6b5201",
   "metadata": {},
   "outputs": [],
   "source": [
    "q = top_three(north_new)\n",
    "w = top_three(west_new)\n",
    "e = top_three(central_new)\n",
    "r = top_three(east_new)\n",
    "t = top_three(south_new)\n",
    "y = top_three(north_east_new)\n",
    "q.insert(0,'North')\n",
    "w.insert(0,'West')\n",
    "e.insert(0,'Central')\n",
    "r.insert(0,'East')\n",
    "t.insert(0,'South')\n",
    "y.insert(0,'North East')"
   ]
  },
  {
   "cell_type": "code",
   "execution_count": 20,
   "id": "fc628f68",
   "metadata": {},
   "outputs": [],
   "source": [
    "master = [q,w,e,r,t,y]\n",
    "res = pd.DataFrame(master,columns = ['region','language-1','language-2','language-3'])"
   ]
  },
  {
   "cell_type": "code",
   "execution_count": 21,
   "id": "5a5035ca",
   "metadata": {},
   "outputs": [],
   "source": [
    "res = res.sort_values(by=['region'],ascending=True)"
   ]
  },
  {
   "cell_type": "code",
   "execution_count": 22,
   "id": "20f7d666",
   "metadata": {},
   "outputs": [],
   "source": [
    "res.to_csv('region-india_b.csv',index=False)"
   ]
  },
  {
   "cell_type": "code",
   "execution_count": 23,
   "id": "2bd17c52",
   "metadata": {},
   "outputs": [
    {
     "data": {
      "text/html": [
       "<div>\n",
       "<style scoped>\n",
       "    .dataframe tbody tr th:only-of-type {\n",
       "        vertical-align: middle;\n",
       "    }\n",
       "\n",
       "    .dataframe tbody tr th {\n",
       "        vertical-align: top;\n",
       "    }\n",
       "\n",
       "    .dataframe thead th {\n",
       "        text-align: right;\n",
       "    }\n",
       "</style>\n",
       "<table border=\"1\" class=\"dataframe\">\n",
       "  <thead>\n",
       "    <tr style=\"text-align: right;\">\n",
       "      <th></th>\n",
       "      <th>region</th>\n",
       "      <th>language-1</th>\n",
       "      <th>language-2</th>\n",
       "      <th>language-3</th>\n",
       "    </tr>\n",
       "  </thead>\n",
       "  <tbody>\n",
       "    <tr>\n",
       "      <th>2</th>\n",
       "      <td>Central</td>\n",
       "      <td>HINDI</td>\n",
       "      <td>ENGLISH</td>\n",
       "      <td>URDU</td>\n",
       "    </tr>\n",
       "    <tr>\n",
       "      <th>3</th>\n",
       "      <td>East</td>\n",
       "      <td>HINDI</td>\n",
       "      <td>BENGALI</td>\n",
       "      <td>ODIA</td>\n",
       "    </tr>\n",
       "    <tr>\n",
       "      <th>0</th>\n",
       "      <td>North</td>\n",
       "      <td>HINDI</td>\n",
       "      <td>PUNJABI</td>\n",
       "      <td>ENGLISH</td>\n",
       "    </tr>\n",
       "    <tr>\n",
       "      <th>5</th>\n",
       "      <td>North East</td>\n",
       "      <td>ASSAMESE</td>\n",
       "      <td>BENGALI</td>\n",
       "      <td>HINDI</td>\n",
       "    </tr>\n",
       "    <tr>\n",
       "      <th>4</th>\n",
       "      <td>South</td>\n",
       "      <td>TELUGU</td>\n",
       "      <td>TAMIL</td>\n",
       "      <td>KANNADA</td>\n",
       "    </tr>\n",
       "    <tr>\n",
       "      <th>1</th>\n",
       "      <td>West</td>\n",
       "      <td>HINDI</td>\n",
       "      <td>MARATHI</td>\n",
       "      <td>GUJARATI</td>\n",
       "    </tr>\n",
       "  </tbody>\n",
       "</table>\n",
       "</div>"
      ],
      "text/plain": [
       "       region language-1 language-2 language-3\n",
       "2     Central     HINDI    ENGLISH        URDU\n",
       "3        East     HINDI    BENGALI       ODIA \n",
       "0       North     HINDI    PUNJABI    ENGLISH \n",
       "5  North East   ASSAMESE   BENGALI      HINDI \n",
       "4       South    TELUGU      TAMIL     KANNADA\n",
       "1        West     HINDI    MARATHI    GUJARATI"
      ]
     },
     "execution_count": 23,
     "metadata": {},
     "output_type": "execute_result"
    }
   ],
   "source": [
    "res"
   ]
  },
  {
   "cell_type": "code",
   "execution_count": null,
   "id": "8de2fcb1",
   "metadata": {},
   "outputs": [],
   "source": []
  }
 ],
 "metadata": {
  "kernelspec": {
   "display_name": "Python 3 (ipykernel)",
   "language": "python",
   "name": "python3"
  },
  "language_info": {
   "codemirror_mode": {
    "name": "ipython",
    "version": 3
   },
   "file_extension": ".py",
   "mimetype": "text/x-python",
   "name": "python",
   "nbconvert_exporter": "python",
   "pygments_lexer": "ipython3",
   "version": "3.8.10"
  }
 },
 "nbformat": 4,
 "nbformat_minor": 5
}
