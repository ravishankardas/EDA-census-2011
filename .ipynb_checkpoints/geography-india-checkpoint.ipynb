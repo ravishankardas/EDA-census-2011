{
 "cells": [
  {
   "cell_type": "code",
   "execution_count": 1,
   "id": "6f9bbb02",
   "metadata": {},
   "outputs": [],
   "source": [
    "import pandas as pd\n",
    "import numpy as np\n",
    "from scipy import stats"
   ]
  },
  {
   "cell_type": "code",
   "execution_count": 2,
   "id": "76af94ce",
   "metadata": {},
   "outputs": [],
   "source": [
    "data = pd.read_excel('DDW_PCA0000_2011_Indiastatedist.xlsx')"
   ]
  },
  {
   "cell_type": "code",
   "execution_count": 3,
   "id": "b6a41892",
   "metadata": {},
   "outputs": [],
   "source": [
    "popdata = data[['Level','Name','TRU','TOT_P']].copy()"
   ]
  },
  {
   "cell_type": "code",
   "execution_count": 4,
   "id": "5443e4b8",
   "metadata": {},
   "outputs": [],
   "source": [
    "rslt_df = popdata[(popdata['Level'] == 'STATE') | (popdata['Level'] == 'India')].copy()"
   ]
  },
  {
   "cell_type": "code",
   "execution_count": 5,
   "id": "5522fa1d",
   "metadata": {},
   "outputs": [],
   "source": [
    "ahem = rslt_df[(rslt_df['TRU'] == \"Rural\") | (rslt_df['TRU'] == \"Urban\")]"
   ]
  },
  {
   "cell_type": "code",
   "execution_count": 6,
   "id": "7deb4ecc",
   "metadata": {},
   "outputs": [],
   "source": [
    "rslt_df = ahem.copy(deep=True)"
   ]
  },
  {
   "cell_type": "code",
   "execution_count": 7,
   "id": "80905d11",
   "metadata": {},
   "outputs": [],
   "source": [
    "rslt_df['Name'] = rslt_df['Name'].str.lower()"
   ]
  },
  {
   "cell_type": "code",
   "execution_count": 8,
   "id": "fd7fc6bc",
   "metadata": {},
   "outputs": [
    {
     "data": {
      "text/plain": [
       "1       India\n",
       "2       India\n",
       "4       STATE\n",
       "5       STATE\n",
       "73      STATE\n",
       "        ...  \n",
       "1904    STATE\n",
       "2002    STATE\n",
       "2003    STATE\n",
       "2017    STATE\n",
       "2018    STATE\n",
       "Name: Level, Length: 72, dtype: object"
      ]
     },
     "execution_count": 8,
     "metadata": {},
     "output_type": "execute_result"
    }
   ],
   "source": [
    "rslt_df.pop('Level')"
   ]
  },
  {
   "cell_type": "code",
   "execution_count": 9,
   "id": "33a73dbc",
   "metadata": {},
   "outputs": [],
   "source": [
    "rslt_df.rename(columns = {'Name':'State'}, inplace = True)"
   ]
  },
  {
   "cell_type": "code",
   "execution_count": 10,
   "id": "80d5d96c",
   "metadata": {},
   "outputs": [],
   "source": [
    "rslt_df.reset_index(inplace=True)"
   ]
  },
  {
   "cell_type": "code",
   "execution_count": 11,
   "id": "8bf3166e",
   "metadata": {},
   "outputs": [
    {
     "data": {
      "text/plain": [
       "0        1\n",
       "1        2\n",
       "2        4\n",
       "3        5\n",
       "4       73\n",
       "      ... \n",
       "67    1904\n",
       "68    2002\n",
       "69    2003\n",
       "70    2017\n",
       "71    2018\n",
       "Name: index, Length: 72, dtype: int64"
      ]
     },
     "execution_count": 11,
     "metadata": {},
     "output_type": "execute_result"
    }
   ],
   "source": [
    "rslt_df.pop('index')"
   ]
  },
  {
   "cell_type": "code",
   "execution_count": 12,
   "id": "008e6f03",
   "metadata": {},
   "outputs": [],
   "source": [
    "rslt_df['TRU'] = rslt_df['TRU'].str.lower()"
   ]
  },
  {
   "cell_type": "code",
   "execution_count": 13,
   "id": "17c46d93",
   "metadata": {},
   "outputs": [],
   "source": [
    "rural1 = rslt_df[rslt_df['TRU']=='rural'].copy()\n",
    "urban1 = rslt_df[rslt_df['TRU']=='urban'].copy()"
   ]
  },
  {
   "cell_type": "code",
   "execution_count": 14,
   "id": "4a62c3b2",
   "metadata": {},
   "outputs": [],
   "source": [
    "data2 = pd.read_excel('DDW-C19-0000.xlsx')"
   ]
  },
  {
   "cell_type": "code",
   "execution_count": 15,
   "id": "a715a501",
   "metadata": {},
   "outputs": [],
   "source": [
    "new_col = ['state','District','Area','Total','Edu_level','S_persons','S_males','S_females','T_persons','T_males','T_females']"
   ]
  },
  {
   "cell_type": "code",
   "execution_count": 16,
   "id": "7cd7cc95",
   "metadata": {},
   "outputs": [],
   "source": [
    "data2.columns = new_col"
   ]
  },
  {
   "cell_type": "code",
   "execution_count": 17,
   "id": "8bd17f02",
   "metadata": {},
   "outputs": [],
   "source": [
    "data2 = data2.iloc[5:]"
   ]
  },
  {
   "cell_type": "code",
   "execution_count": 18,
   "id": "38e4442f",
   "metadata": {},
   "outputs": [],
   "source": [
    "new_data2 = data2.copy(deep=True)"
   ]
  },
  {
   "cell_type": "code",
   "execution_count": 19,
   "id": "91e2e07c",
   "metadata": {},
   "outputs": [],
   "source": [
    "new_data2['Area']= new_data2['Area'].str.lower()\n",
    "new_data2['Total']= new_data2['Total'].str.lower()"
   ]
  },
  {
   "cell_type": "code",
   "execution_count": 20,
   "id": "7401ef2b",
   "metadata": {},
   "outputs": [
    {
     "data": {
      "text/html": [
       "<div>\n",
       "<style scoped>\n",
       "    .dataframe tbody tr th:only-of-type {\n",
       "        vertical-align: middle;\n",
       "    }\n",
       "\n",
       "    .dataframe tbody tr th {\n",
       "        vertical-align: top;\n",
       "    }\n",
       "\n",
       "    .dataframe thead th {\n",
       "        text-align: right;\n",
       "    }\n",
       "</style>\n",
       "<table border=\"1\" class=\"dataframe\">\n",
       "  <thead>\n",
       "    <tr style=\"text-align: right;\">\n",
       "      <th></th>\n",
       "      <th>state</th>\n",
       "      <th>District</th>\n",
       "      <th>Area</th>\n",
       "      <th>Total</th>\n",
       "      <th>Edu_level</th>\n",
       "      <th>S_persons</th>\n",
       "      <th>S_males</th>\n",
       "      <th>S_females</th>\n",
       "      <th>T_persons</th>\n",
       "      <th>T_males</th>\n",
       "      <th>T_females</th>\n",
       "    </tr>\n",
       "  </thead>\n",
       "  <tbody>\n",
       "    <tr>\n",
       "      <th>5</th>\n",
       "      <td>00</td>\n",
       "      <td>00</td>\n",
       "      <td>india</td>\n",
       "      <td>total</td>\n",
       "      <td>Total</td>\n",
       "      <td>314988770</td>\n",
       "      <td>176696383</td>\n",
       "      <td>138292387</td>\n",
       "      <td>86009580</td>\n",
       "      <td>50536832</td>\n",
       "      <td>35472748</td>\n",
       "    </tr>\n",
       "    <tr>\n",
       "      <th>6</th>\n",
       "      <td>00</td>\n",
       "      <td>00</td>\n",
       "      <td>india</td>\n",
       "      <td>total</td>\n",
       "      <td>Illiterate</td>\n",
       "      <td>42266268</td>\n",
       "      <td>17851584</td>\n",
       "      <td>24414684</td>\n",
       "      <td>3879858</td>\n",
       "      <td>1890285</td>\n",
       "      <td>1989573</td>\n",
       "    </tr>\n",
       "    <tr>\n",
       "      <th>7</th>\n",
       "      <td>00</td>\n",
       "      <td>00</td>\n",
       "      <td>india</td>\n",
       "      <td>total</td>\n",
       "      <td>Literate</td>\n",
       "      <td>272722502</td>\n",
       "      <td>158844799</td>\n",
       "      <td>113877703</td>\n",
       "      <td>82129722</td>\n",
       "      <td>48646547</td>\n",
       "      <td>33483175</td>\n",
       "    </tr>\n",
       "    <tr>\n",
       "      <th>8</th>\n",
       "      <td>00</td>\n",
       "      <td>00</td>\n",
       "      <td>india</td>\n",
       "      <td>total</td>\n",
       "      <td>Literate but below primary</td>\n",
       "      <td>29345104</td>\n",
       "      <td>16126959</td>\n",
       "      <td>13218145</td>\n",
       "      <td>3733616</td>\n",
       "      <td>2108024</td>\n",
       "      <td>1625592</td>\n",
       "    </tr>\n",
       "    <tr>\n",
       "      <th>9</th>\n",
       "      <td>00</td>\n",
       "      <td>00</td>\n",
       "      <td>india</td>\n",
       "      <td>total</td>\n",
       "      <td>Primary but below middle</td>\n",
       "      <td>48570544</td>\n",
       "      <td>26588496</td>\n",
       "      <td>21982048</td>\n",
       "      <td>8636296</td>\n",
       "      <td>4782211</td>\n",
       "      <td>3854085</td>\n",
       "    </tr>\n",
       "    <tr>\n",
       "      <th>...</th>\n",
       "      <td>...</td>\n",
       "      <td>...</td>\n",
       "      <td>...</td>\n",
       "      <td>...</td>\n",
       "      <td>...</td>\n",
       "      <td>...</td>\n",
       "      <td>...</td>\n",
       "      <td>...</td>\n",
       "      <td>...</td>\n",
       "      <td>...</td>\n",
       "      <td>...</td>\n",
       "    </tr>\n",
       "    <tr>\n",
       "      <th>867</th>\n",
       "      <td>35</td>\n",
       "      <td>00</td>\n",
       "      <td>andaman &amp; nicobar islands</td>\n",
       "      <td>urban</td>\n",
       "      <td>Matric/Secondary but below graduate</td>\n",
       "      <td>33605</td>\n",
       "      <td>18862</td>\n",
       "      <td>14743</td>\n",
       "      <td>14817</td>\n",
       "      <td>8382</td>\n",
       "      <td>6435</td>\n",
       "    </tr>\n",
       "    <tr>\n",
       "      <th>868</th>\n",
       "      <td>35</td>\n",
       "      <td>00</td>\n",
       "      <td>andaman &amp; nicobar islands</td>\n",
       "      <td>urban</td>\n",
       "      <td>Graduate and above</td>\n",
       "      <td>13637</td>\n",
       "      <td>7492</td>\n",
       "      <td>6145</td>\n",
       "      <td>8089</td>\n",
       "      <td>4559</td>\n",
       "      <td>3530</td>\n",
       "    </tr>\n",
       "    <tr>\n",
       "      <th>869</th>\n",
       "      <td>NaN</td>\n",
       "      <td>NaN</td>\n",
       "      <td>NaN</td>\n",
       "      <td>NaN</td>\n",
       "      <td>NaN</td>\n",
       "      <td>NaN</td>\n",
       "      <td>NaN</td>\n",
       "      <td>NaN</td>\n",
       "      <td>NaN</td>\n",
       "      <td>NaN</td>\n",
       "      <td>NaN</td>\n",
       "    </tr>\n",
       "    <tr>\n",
       "      <th>870</th>\n",
       "      <td>Note: 1. 'Literate' includes figures for 'lite...</td>\n",
       "      <td>NaN</td>\n",
       "      <td>NaN</td>\n",
       "      <td>NaN</td>\n",
       "      <td>NaN</td>\n",
       "      <td>NaN</td>\n",
       "      <td>NaN</td>\n",
       "      <td>NaN</td>\n",
       "      <td>NaN</td>\n",
       "      <td>NaN</td>\n",
       "      <td>NaN</td>\n",
       "    </tr>\n",
       "    <tr>\n",
       "      <th>871</th>\n",
       "      <td>2. 'Matric or secondary but below gra...</td>\n",
       "      <td>NaN</td>\n",
       "      <td>NaN</td>\n",
       "      <td>NaN</td>\n",
       "      <td>NaN</td>\n",
       "      <td>NaN</td>\n",
       "      <td>NaN</td>\n",
       "      <td>NaN</td>\n",
       "      <td>NaN</td>\n",
       "      <td>NaN</td>\n",
       "      <td>NaN</td>\n",
       "    </tr>\n",
       "  </tbody>\n",
       "</table>\n",
       "<p>867 rows × 11 columns</p>\n",
       "</div>"
      ],
      "text/plain": [
       "                                                 state District  \\\n",
       "5                                                   00       00   \n",
       "6                                                   00       00   \n",
       "7                                                   00       00   \n",
       "8                                                   00       00   \n",
       "9                                                   00       00   \n",
       "..                                                 ...      ...   \n",
       "867                                                 35       00   \n",
       "868                                                 35       00   \n",
       "869                                                NaN      NaN   \n",
       "870  Note: 1. 'Literate' includes figures for 'lite...      NaN   \n",
       "871           2. 'Matric or secondary but below gra...      NaN   \n",
       "\n",
       "                          Area  Total                            Edu_level  \\\n",
       "5                        india  total                                Total   \n",
       "6                        india  total                           Illiterate   \n",
       "7                        india  total                             Literate   \n",
       "8                        india  total           Literate but below primary   \n",
       "9                        india  total             Primary but below middle   \n",
       "..                         ...    ...                                  ...   \n",
       "867  andaman & nicobar islands  urban  Matric/Secondary but below graduate   \n",
       "868  andaman & nicobar islands  urban                   Graduate and above   \n",
       "869                        NaN    NaN                                  NaN   \n",
       "870                        NaN    NaN                                  NaN   \n",
       "871                        NaN    NaN                                  NaN   \n",
       "\n",
       "     S_persons    S_males  S_females T_persons   T_males T_females  \n",
       "5    314988770  176696383  138292387  86009580  50536832  35472748  \n",
       "6     42266268   17851584   24414684   3879858   1890285   1989573  \n",
       "7    272722502  158844799  113877703  82129722  48646547  33483175  \n",
       "8     29345104   16126959   13218145   3733616   2108024   1625592  \n",
       "9     48570544   26588496   21982048   8636296   4782211   3854085  \n",
       "..         ...        ...        ...       ...       ...       ...  \n",
       "867      33605      18862      14743     14817      8382      6435  \n",
       "868      13637       7492       6145      8089      4559      3530  \n",
       "869        NaN        NaN        NaN       NaN       NaN       NaN  \n",
       "870        NaN        NaN        NaN       NaN       NaN       NaN  \n",
       "871        NaN        NaN        NaN       NaN       NaN       NaN  \n",
       "\n",
       "[867 rows x 11 columns]"
      ]
     },
     "execution_count": 20,
     "metadata": {},
     "output_type": "execute_result"
    }
   ],
   "source": [
    "new_data2"
   ]
  },
  {
   "cell_type": "code",
   "execution_count": 21,
   "id": "ed3c3589",
   "metadata": {},
   "outputs": [],
   "source": [
    "rural2 = new_data2[(new_data2['Total']=='rural') & (new_data2['Edu_level']=='Total')].copy()\n",
    "urban2 = new_data2[(new_data2['Total']=='urban') & (new_data2['Edu_level']=='Total')].copy()"
   ]
  },
  {
   "cell_type": "code",
   "execution_count": 22,
   "id": "ee8c8cc3",
   "metadata": {},
   "outputs": [],
   "source": [
    "rural2 = rural2.drop(['S_males','S_females','T_males','T_females'],axis=1)\n",
    "urban2 = urban2.drop(['S_males','S_females','T_males','T_females'],axis=1)"
   ]
  },
  {
   "cell_type": "code",
   "execution_count": 23,
   "id": "01709638",
   "metadata": {},
   "outputs": [
    {
     "data": {
      "text/html": [
       "<div>\n",
       "<style scoped>\n",
       "    .dataframe tbody tr th:only-of-type {\n",
       "        vertical-align: middle;\n",
       "    }\n",
       "\n",
       "    .dataframe tbody tr th {\n",
       "        vertical-align: top;\n",
       "    }\n",
       "\n",
       "    .dataframe thead th {\n",
       "        text-align: right;\n",
       "    }\n",
       "</style>\n",
       "<table border=\"1\" class=\"dataframe\">\n",
       "  <thead>\n",
       "    <tr style=\"text-align: right;\">\n",
       "      <th></th>\n",
       "      <th>state</th>\n",
       "      <th>District</th>\n",
       "      <th>Area</th>\n",
       "      <th>Total</th>\n",
       "      <th>Edu_level</th>\n",
       "      <th>S_persons</th>\n",
       "      <th>T_persons</th>\n",
       "    </tr>\n",
       "  </thead>\n",
       "  <tbody>\n",
       "    <tr>\n",
       "      <th>13</th>\n",
       "      <td>00</td>\n",
       "      <td>00</td>\n",
       "      <td>india</td>\n",
       "      <td>rural</td>\n",
       "      <td>Total</td>\n",
       "      <td>162641485</td>\n",
       "      <td>35383989</td>\n",
       "    </tr>\n",
       "    <tr>\n",
       "      <th>37</th>\n",
       "      <td>01</td>\n",
       "      <td>00</td>\n",
       "      <td>jammu &amp; kashmir</td>\n",
       "      <td>rural</td>\n",
       "      <td>Total</td>\n",
       "      <td>4167238</td>\n",
       "      <td>1258724</td>\n",
       "    </tr>\n",
       "    <tr>\n",
       "      <th>61</th>\n",
       "      <td>02</td>\n",
       "      <td>00</td>\n",
       "      <td>himachal pradesh</td>\n",
       "      <td>rural</td>\n",
       "      <td>Total</td>\n",
       "      <td>981518</td>\n",
       "      <td>280817</td>\n",
       "    </tr>\n",
       "    <tr>\n",
       "      <th>85</th>\n",
       "      <td>03</td>\n",
       "      <td>00</td>\n",
       "      <td>punjab</td>\n",
       "      <td>rural</td>\n",
       "      <td>Total</td>\n",
       "      <td>7083180</td>\n",
       "      <td>4230870</td>\n",
       "    </tr>\n",
       "    <tr>\n",
       "      <th>109</th>\n",
       "      <td>04</td>\n",
       "      <td>00</td>\n",
       "      <td>chandigarh</td>\n",
       "      <td>rural</td>\n",
       "      <td>Total</td>\n",
       "      <td>11723</td>\n",
       "      <td>4353</td>\n",
       "    </tr>\n",
       "  </tbody>\n",
       "</table>\n",
       "</div>"
      ],
      "text/plain": [
       "    state District              Area  Total Edu_level  S_persons T_persons\n",
       "13     00       00             india  rural     Total  162641485  35383989\n",
       "37     01       00   jammu & kashmir  rural     Total    4167238   1258724\n",
       "61     02       00  himachal pradesh  rural     Total     981518    280817\n",
       "85     03       00            punjab  rural     Total    7083180   4230870\n",
       "109    04       00        chandigarh  rural     Total      11723      4353"
      ]
     },
     "execution_count": 23,
     "metadata": {},
     "output_type": "execute_result"
    }
   ],
   "source": [
    "rural2.head()"
   ]
  },
  {
   "cell_type": "code",
   "execution_count": 24,
   "id": "47aea2b9",
   "metadata": {},
   "outputs": [],
   "source": [
    "rural2.rename(columns = {'Area':'State','state':'state/ut'}, inplace = True)"
   ]
  },
  {
   "cell_type": "code",
   "execution_count": 25,
   "id": "5e1e6143",
   "metadata": {},
   "outputs": [],
   "source": [
    "urban2.rename(columns = {'Area':'State','state':'state/ut'}, inplace = True)"
   ]
  },
  {
   "cell_type": "code",
   "execution_count": 26,
   "id": "a8511f39",
   "metadata": {},
   "outputs": [],
   "source": [
    "urban2.at[45,'State'] = 'jammu and kashmir'\n",
    "urban2.at[189,'State'] = 'delhi'\n",
    "urban2.at[861,'State'] = 'andaman and nicobar islands'"
   ]
  },
  {
   "cell_type": "code",
   "execution_count": 27,
   "id": "05a32909",
   "metadata": {},
   "outputs": [],
   "source": [
    "rural2.at[37,'State'] = 'jammu and kashmir'\n",
    "rural2.at[181,'State'] = 'delhi'\n",
    "rural2.at[853,'State'] = 'andaman and nicobar islands'"
   ]
  },
  {
   "cell_type": "code",
   "execution_count": 28,
   "id": "1947f149",
   "metadata": {},
   "outputs": [],
   "source": [
    "final_rural = pd.merge(rural1, rural2, how ='inner', on =['State'])"
   ]
  },
  {
   "cell_type": "code",
   "execution_count": 29,
   "id": "e2ce4bae",
   "metadata": {},
   "outputs": [],
   "source": [
    "final_rural = final_rural.drop(['Edu_level','TRU','Total',],axis=1)"
   ]
  },
  {
   "cell_type": "code",
   "execution_count": 30,
   "id": "22993ee5",
   "metadata": {},
   "outputs": [],
   "source": [
    "urban2.at[45,'Area'] = 'jammu and kashmir'\n",
    "urban2.at[189,'Area'] = 'delhi'\n",
    "urban2.at[861,'Area'] = 'andaman and nicobar islands'"
   ]
  },
  {
   "cell_type": "code",
   "execution_count": 31,
   "id": "9caac146",
   "metadata": {},
   "outputs": [],
   "source": [
    "final_urban = pd.merge(urban1,urban2,how='inner',on=['State'])"
   ]
  },
  {
   "cell_type": "code",
   "execution_count": 32,
   "id": "e00d7e7f",
   "metadata": {},
   "outputs": [],
   "source": [
    "final_urban = final_urban.drop(['Edu_level','TRU','Total','Area'],axis=1)"
   ]
  },
  {
   "cell_type": "code",
   "execution_count": 33,
   "id": "c7dd1cce",
   "metadata": {},
   "outputs": [],
   "source": [
    "final_rural['one'] = final_rural['TOT_P'] - final_rural['S_persons']\n",
    "final_rural['two'] = final_rural['S_persons'] - final_rural['T_persons']\n",
    "\n",
    "final_urban['one'] = final_urban['TOT_P'] - final_urban['S_persons']\n",
    "final_urban['two'] = final_urban['S_persons'] - final_urban['T_persons']"
   ]
  },
  {
   "cell_type": "code",
   "execution_count": 34,
   "id": "17fb286f",
   "metadata": {},
   "outputs": [],
   "source": [
    "final_urban.rename(columns = {'TOT_P':'tot_pop_urban','T_persons':'three',}, inplace = True)\n",
    "final_rural.rename(columns = {'TOT_P':'tot_pop_rural','T_persons':'three',}, inplace = True)"
   ]
  },
  {
   "cell_type": "code",
   "execution_count": 35,
   "id": "1d3d9860",
   "metadata": {},
   "outputs": [],
   "source": [
    "final_rural = final_rural.drop(['District','S_persons'],axis=1)\n",
    "final_urban = final_urban.drop(['District','S_persons'],axis=1)"
   ]
  },
  {
   "cell_type": "code",
   "execution_count": 36,
   "id": "cc4db10f",
   "metadata": {},
   "outputs": [],
   "source": [
    "final_rural['rural-one-ratio'] = final_rural['one']/final_rural['tot_pop_rural']\n",
    "final_rural['rural-two-ratio'] = final_rural['two']/final_rural['tot_pop_rural']\n",
    "final_rural['rural-three-ratio'] = final_rural['three']/final_rural['tot_pop_rural']"
   ]
  },
  {
   "cell_type": "code",
   "execution_count": 37,
   "id": "8ef24c3b",
   "metadata": {},
   "outputs": [],
   "source": [
    "final_urban['urban-one-ratio'] = final_urban['one']/final_urban['tot_pop_urban']\n",
    "final_urban['urban-two-ratio'] = final_urban['two']/final_urban['tot_pop_urban']\n",
    "final_urban['urban-three-ratio'] = final_urban['three']/final_urban['tot_pop_urban']"
   ]
  },
  {
   "cell_type": "code",
   "execution_count": 38,
   "id": "cc3e1038",
   "metadata": {},
   "outputs": [],
   "source": [
    "final_urban = final_urban.drop(['one','three','two'],axis=1)\n",
    "final_rural = final_rural.drop(['one','three','two'],axis=1)"
   ]
  },
  {
   "cell_type": "code",
   "execution_count": 39,
   "id": "045ca42f",
   "metadata": {},
   "outputs": [],
   "source": [
    "one_1 = final_rural[['state/ut','State','tot_pop_rural','rural-one-ratio']].copy()\n",
    "one_2 = final_urban[['state/ut','State','tot_pop_urban','urban-one-ratio']].copy()"
   ]
  },
  {
   "cell_type": "code",
   "execution_count": 40,
   "id": "1bb4e9e8",
   "metadata": {},
   "outputs": [],
   "source": [
    "one = pd.merge(one_1, one_2, how ='inner', on =['State'])"
   ]
  },
  {
   "cell_type": "code",
   "execution_count": 41,
   "id": "a98324e4",
   "metadata": {},
   "outputs": [],
   "source": [
    "one = one[['state/ut_x','State','tot_pop_urban','tot_pop_rural','urban-one-ratio','rural-one-ratio']].copy()"
   ]
  },
  {
   "cell_type": "code",
   "execution_count": 42,
   "id": "5a330a0f",
   "metadata": {},
   "outputs": [
    {
     "data": {
      "text/plain": [
       "['00', 'india', 377106125, 833748852, 0.5960095185407026, 0.8049274855253414]"
      ]
     },
     "execution_count": 42,
     "metadata": {},
     "output_type": "execute_result"
    }
   ],
   "source": [
    "one.iloc[0].to_list()"
   ]
  },
  {
   "cell_type": "code",
   "execution_count": 43,
   "id": "ca2cde91",
   "metadata": {},
   "outputs": [
    {
     "data": {
      "text/html": [
       "<div>\n",
       "<style scoped>\n",
       "    .dataframe tbody tr th:only-of-type {\n",
       "        vertical-align: middle;\n",
       "    }\n",
       "\n",
       "    .dataframe tbody tr th {\n",
       "        vertical-align: top;\n",
       "    }\n",
       "\n",
       "    .dataframe thead th {\n",
       "        text-align: right;\n",
       "    }\n",
       "</style>\n",
       "<table border=\"1\" class=\"dataframe\">\n",
       "  <thead>\n",
       "    <tr style=\"text-align: right;\">\n",
       "      <th></th>\n",
       "      <th>state/ut_x</th>\n",
       "      <th>State</th>\n",
       "      <th>tot_pop_urban</th>\n",
       "      <th>tot_pop_rural</th>\n",
       "      <th>urban-one-ratio</th>\n",
       "      <th>rural-one-ratio</th>\n",
       "    </tr>\n",
       "  </thead>\n",
       "  <tbody>\n",
       "    <tr>\n",
       "      <th>0</th>\n",
       "      <td>00</td>\n",
       "      <td>india</td>\n",
       "      <td>377106125</td>\n",
       "      <td>833748852</td>\n",
       "      <td>0.59601</td>\n",
       "      <td>0.804927</td>\n",
       "    </tr>\n",
       "    <tr>\n",
       "      <th>1</th>\n",
       "      <td>01</td>\n",
       "      <td>jammu and kashmir</td>\n",
       "      <td>3433242</td>\n",
       "      <td>9108060</td>\n",
       "      <td>0.412814</td>\n",
       "      <td>0.542467</td>\n",
       "    </tr>\n",
       "    <tr>\n",
       "      <th>2</th>\n",
       "      <td>02</td>\n",
       "      <td>himachal pradesh</td>\n",
       "      <td>688552</td>\n",
       "      <td>6176050</td>\n",
       "      <td>0.620672</td>\n",
       "      <td>0.841077</td>\n",
       "    </tr>\n",
       "    <tr>\n",
       "      <th>3</th>\n",
       "      <td>03</td>\n",
       "      <td>punjab</td>\n",
       "      <td>10399146</td>\n",
       "      <td>17344192</td>\n",
       "      <td>0.427641</td>\n",
       "      <td>0.591611</td>\n",
       "    </tr>\n",
       "    <tr>\n",
       "      <th>4</th>\n",
       "      <td>04</td>\n",
       "      <td>chandigarh</td>\n",
       "      <td>1026459</td>\n",
       "      <td>28991</td>\n",
       "      <td>0.446449</td>\n",
       "      <td>0.595633</td>\n",
       "    </tr>\n",
       "  </tbody>\n",
       "</table>\n",
       "</div>"
      ],
      "text/plain": [
       "  state/ut_x              State  tot_pop_urban  tot_pop_rural urban-one-ratio  \\\n",
       "0         00              india      377106125      833748852         0.59601   \n",
       "1         01  jammu and kashmir        3433242        9108060        0.412814   \n",
       "2         02   himachal pradesh         688552        6176050        0.620672   \n",
       "3         03             punjab       10399146       17344192        0.427641   \n",
       "4         04         chandigarh        1026459          28991        0.446449   \n",
       "\n",
       "  rural-one-ratio  \n",
       "0        0.804927  \n",
       "1        0.542467  \n",
       "2        0.841077  \n",
       "3        0.591611  \n",
       "4        0.595633  "
      ]
     },
     "execution_count": 43,
     "metadata": {},
     "output_type": "execute_result"
    }
   ],
   "source": [
    "one.head()"
   ]
  },
  {
   "cell_type": "code",
   "execution_count": 44,
   "id": "96d37ee2",
   "metadata": {},
   "outputs": [],
   "source": [
    "one_p_values = []"
   ]
  },
  {
   "cell_type": "code",
   "execution_count": 45,
   "id": "64cc22d2",
   "metadata": {},
   "outputs": [],
   "source": [
    "for i in range(0,36):\n",
    "    the = one.iloc[i].to_list()\n",
    "    r,p = stats.ttest_1samp([the[4],the[5]],the[2]/the[3])\n",
    "    one_p_values.append(p)"
   ]
  },
  {
   "cell_type": "code",
   "execution_count": 46,
   "id": "dcd6b536",
   "metadata": {},
   "outputs": [],
   "source": [
    "one['p-value']=one_p_values"
   ]
  },
  {
   "cell_type": "code",
   "execution_count": 47,
   "id": "299eb90e",
   "metadata": {},
   "outputs": [
    {
     "data": {
      "text/html": [
       "<div>\n",
       "<style scoped>\n",
       "    .dataframe tbody tr th:only-of-type {\n",
       "        vertical-align: middle;\n",
       "    }\n",
       "\n",
       "    .dataframe tbody tr th {\n",
       "        vertical-align: top;\n",
       "    }\n",
       "\n",
       "    .dataframe thead th {\n",
       "        text-align: right;\n",
       "    }\n",
       "</style>\n",
       "<table border=\"1\" class=\"dataframe\">\n",
       "  <thead>\n",
       "    <tr style=\"text-align: right;\">\n",
       "      <th></th>\n",
       "      <th>state/ut_x</th>\n",
       "      <th>State</th>\n",
       "      <th>tot_pop_urban</th>\n",
       "      <th>tot_pop_rural</th>\n",
       "      <th>urban-one-ratio</th>\n",
       "      <th>rural-one-ratio</th>\n",
       "      <th>p-value</th>\n",
       "    </tr>\n",
       "  </thead>\n",
       "  <tbody>\n",
       "    <tr>\n",
       "      <th>0</th>\n",
       "      <td>00</td>\n",
       "      <td>india</td>\n",
       "      <td>377106125</td>\n",
       "      <td>833748852</td>\n",
       "      <td>0.59601</td>\n",
       "      <td>0.804927</td>\n",
       "      <td>0.253637</td>\n",
       "    </tr>\n",
       "    <tr>\n",
       "      <th>1</th>\n",
       "      <td>01</td>\n",
       "      <td>jammu and kashmir</td>\n",
       "      <td>3433242</td>\n",
       "      <td>9108060</td>\n",
       "      <td>0.412814</td>\n",
       "      <td>0.542467</td>\n",
       "      <td>0.364145</td>\n",
       "    </tr>\n",
       "    <tr>\n",
       "      <th>2</th>\n",
       "      <td>02</td>\n",
       "      <td>himachal pradesh</td>\n",
       "      <td>688552</td>\n",
       "      <td>6176050</td>\n",
       "      <td>0.620672</td>\n",
       "      <td>0.841077</td>\n",
       "      <td>0.112095</td>\n",
       "    </tr>\n",
       "    <tr>\n",
       "      <th>3</th>\n",
       "      <td>03</td>\n",
       "      <td>punjab</td>\n",
       "      <td>10399146</td>\n",
       "      <td>17344192</td>\n",
       "      <td>0.427641</td>\n",
       "      <td>0.591611</td>\n",
       "      <td>0.470532</td>\n",
       "    </tr>\n",
       "    <tr>\n",
       "      <th>4</th>\n",
       "      <td>04</td>\n",
       "      <td>chandigarh</td>\n",
       "      <td>1026459</td>\n",
       "      <td>28991</td>\n",
       "      <td>0.446449</td>\n",
       "      <td>0.595633</td>\n",
       "      <td>0.001361</td>\n",
       "    </tr>\n",
       "  </tbody>\n",
       "</table>\n",
       "</div>"
      ],
      "text/plain": [
       "  state/ut_x              State  tot_pop_urban  tot_pop_rural urban-one-ratio  \\\n",
       "0         00              india      377106125      833748852         0.59601   \n",
       "1         01  jammu and kashmir        3433242        9108060        0.412814   \n",
       "2         02   himachal pradesh         688552        6176050        0.620672   \n",
       "3         03             punjab       10399146       17344192        0.427641   \n",
       "4         04         chandigarh        1026459          28991        0.446449   \n",
       "\n",
       "  rural-one-ratio   p-value  \n",
       "0        0.804927  0.253637  \n",
       "1        0.542467  0.364145  \n",
       "2        0.841077  0.112095  \n",
       "3        0.591611  0.470532  \n",
       "4        0.595633  0.001361  "
      ]
     },
     "execution_count": 47,
     "metadata": {},
     "output_type": "execute_result"
    }
   ],
   "source": [
    "one.head()"
   ]
  },
  {
   "cell_type": "code",
   "execution_count": 48,
   "id": "05d58aca",
   "metadata": {},
   "outputs": [],
   "source": [
    "one = one.drop(['State','tot_pop_urban','tot_pop_rural'],axis=1)"
   ]
  },
  {
   "cell_type": "code",
   "execution_count": 49,
   "id": "05085a3c",
   "metadata": {},
   "outputs": [],
   "source": [
    "one['urban-one-ratio'] = one['urban-one-ratio']*100\n",
    "one['rural-one-ratio'] = one['rural-one-ratio']*100"
   ]
  },
  {
   "cell_type": "code",
   "execution_count": 50,
   "id": "e7759394",
   "metadata": {},
   "outputs": [],
   "source": [
    "one.rename(columns = {'state/ut_x':'state/ut','urban-one-ratio':'one-urban-percentage','rural-one-ratio':'one-urban-percentage'}, inplace = True)"
   ]
  },
  {
   "cell_type": "code",
   "execution_count": 51,
   "id": "bccb0a77",
   "metadata": {},
   "outputs": [],
   "source": [
    "one.columns = ['state/ut','urban-percentage-one','rural-percentage-one','p-value']"
   ]
  },
  {
   "cell_type": "code",
   "execution_count": 52,
   "id": "0600c8e8",
   "metadata": {},
   "outputs": [],
   "source": [
    "one.to_csv('geography-india-a.csv',index=False)"
   ]
  },
  {
   "cell_type": "code",
   "execution_count": 53,
   "id": "2acd3b70",
   "metadata": {},
   "outputs": [],
   "source": [
    "two_1 = final_rural[['state/ut','State','tot_pop_rural','rural-two-ratio']].copy()\n",
    "two_2 = final_urban[['state/ut','State','tot_pop_urban','urban-two-ratio']].copy()"
   ]
  },
  {
   "cell_type": "code",
   "execution_count": 54,
   "id": "e737bf88",
   "metadata": {},
   "outputs": [],
   "source": [
    "two = pd.merge(two_1, two_2, how ='inner', on =['State'])"
   ]
  },
  {
   "cell_type": "code",
   "execution_count": 55,
   "id": "9955ead2",
   "metadata": {},
   "outputs": [],
   "source": [
    "two = two[['state/ut_x','State','tot_pop_urban','tot_pop_rural','urban-two-ratio','rural-two-ratio']].copy()"
   ]
  },
  {
   "cell_type": "code",
   "execution_count": 56,
   "id": "12d45558",
   "metadata": {},
   "outputs": [],
   "source": [
    "two_p_values = []"
   ]
  },
  {
   "cell_type": "code",
   "execution_count": 57,
   "id": "865283c2",
   "metadata": {},
   "outputs": [],
   "source": [
    "for i in range(0,36):\n",
    "    the = two.iloc[i].to_list()\n",
    "    r,p = stats.ttest_1samp([the[4],the[5]],the[2]/the[3])\n",
    "    two_p_values.append(p)"
   ]
  },
  {
   "cell_type": "code",
   "execution_count": 58,
   "id": "0da73199",
   "metadata": {},
   "outputs": [],
   "source": [
    "two['p-value']=two_p_values"
   ]
  },
  {
   "cell_type": "code",
   "execution_count": 59,
   "id": "1f49051c",
   "metadata": {},
   "outputs": [],
   "source": [
    "two = two.drop(['State','tot_pop_urban','tot_pop_rural'],axis=1)"
   ]
  },
  {
   "cell_type": "code",
   "execution_count": 60,
   "id": "b5ff36a8",
   "metadata": {},
   "outputs": [],
   "source": [
    "two['urban-two-ratio'] = two['urban-two-ratio']*100\n",
    "two['rural-two-ratio'] = two['rural-two-ratio']*100"
   ]
  },
  {
   "cell_type": "code",
   "execution_count": 61,
   "id": "75565f85",
   "metadata": {},
   "outputs": [],
   "source": [
    "two.rename(columns = {'state/ut_x':'state/ut','urban-two-ratio':'two-urban-percentage','rural-two-ratio':'two-urban-percentage'}, inplace = True)"
   ]
  },
  {
   "cell_type": "code",
   "execution_count": 62,
   "id": "7be2a3ff",
   "metadata": {},
   "outputs": [
    {
     "data": {
      "text/html": [
       "<div>\n",
       "<style scoped>\n",
       "    .dataframe tbody tr th:only-of-type {\n",
       "        vertical-align: middle;\n",
       "    }\n",
       "\n",
       "    .dataframe tbody tr th {\n",
       "        vertical-align: top;\n",
       "    }\n",
       "\n",
       "    .dataframe thead th {\n",
       "        text-align: right;\n",
       "    }\n",
       "</style>\n",
       "<table border=\"1\" class=\"dataframe\">\n",
       "  <thead>\n",
       "    <tr style=\"text-align: right;\">\n",
       "      <th></th>\n",
       "      <th>state/ut</th>\n",
       "      <th>two-urban-percentage</th>\n",
       "      <th>two-urban-percentage</th>\n",
       "      <th>p-value</th>\n",
       "    </tr>\n",
       "  </thead>\n",
       "  <tbody>\n",
       "    <tr>\n",
       "      <th>0</th>\n",
       "      <td>00</td>\n",
       "      <td>26.974288</td>\n",
       "      <td>15.263289</td>\n",
       "      <td>0.151668</td>\n",
       "    </tr>\n",
       "    <tr>\n",
       "      <th>1</th>\n",
       "      <td>01</td>\n",
       "      <td>34.324874</td>\n",
       "      <td>31.933408</td>\n",
       "      <td>0.163075</td>\n",
       "    </tr>\n",
       "    <tr>\n",
       "      <th>2</th>\n",
       "      <td>02</td>\n",
       "      <td>28.279346</td>\n",
       "      <td>11.345455</td>\n",
       "      <td>0.492690</td>\n",
       "    </tr>\n",
       "    <tr>\n",
       "      <th>3</th>\n",
       "      <td>03</td>\n",
       "      <td>22.626868</td>\n",
       "      <td>16.445332</td>\n",
       "      <td>0.048584</td>\n",
       "    </tr>\n",
       "    <tr>\n",
       "      <th>4</th>\n",
       "      <td>04</td>\n",
       "      <td>24.411204</td>\n",
       "      <td>25.421683</td>\n",
       "      <td>0.000091</td>\n",
       "    </tr>\n",
       "  </tbody>\n",
       "</table>\n",
       "</div>"
      ],
      "text/plain": [
       "  state/ut two-urban-percentage two-urban-percentage   p-value\n",
       "0       00            26.974288            15.263289  0.151668\n",
       "1       01            34.324874            31.933408  0.163075\n",
       "2       02            28.279346            11.345455  0.492690\n",
       "3       03            22.626868            16.445332  0.048584\n",
       "4       04            24.411204            25.421683  0.000091"
      ]
     },
     "execution_count": 62,
     "metadata": {},
     "output_type": "execute_result"
    }
   ],
   "source": [
    "two.head()"
   ]
  },
  {
   "cell_type": "code",
   "execution_count": 63,
   "id": "45a54fa5",
   "metadata": {},
   "outputs": [],
   "source": [
    "two.columns = ['state/ut','urban-percentage-two','rural-percentage-two','p-value']"
   ]
  },
  {
   "cell_type": "code",
   "execution_count": 64,
   "id": "da6ee278",
   "metadata": {},
   "outputs": [],
   "source": [
    "two.to_csv('geography-india-b.csv',index=False)"
   ]
  },
  {
   "cell_type": "code",
   "execution_count": 65,
   "id": "f026eb2b",
   "metadata": {},
   "outputs": [],
   "source": [
    "three_1 = final_rural[['state/ut','State','tot_pop_rural','rural-three-ratio']].copy()\n",
    "three_2 = final_urban[['state/ut','State','tot_pop_urban','urban-three-ratio']].copy()"
   ]
  },
  {
   "cell_type": "code",
   "execution_count": 66,
   "id": "05ca0e26",
   "metadata": {},
   "outputs": [],
   "source": [
    "three = pd.merge(three_1, three_2, how ='inner', on =['State'])"
   ]
  },
  {
   "cell_type": "code",
   "execution_count": 67,
   "id": "5f0b77ef",
   "metadata": {},
   "outputs": [],
   "source": [
    "three = three[['state/ut_x','State','tot_pop_urban','tot_pop_rural','urban-three-ratio','rural-three-ratio']].copy()"
   ]
  },
  {
   "cell_type": "code",
   "execution_count": 68,
   "id": "dd05e507",
   "metadata": {},
   "outputs": [],
   "source": [
    "three_p_values = []"
   ]
  },
  {
   "cell_type": "code",
   "execution_count": 69,
   "id": "a4ab64e9",
   "metadata": {},
   "outputs": [],
   "source": [
    "for i in range(0,36):\n",
    "    the = three.iloc[i].to_list()\n",
    "    r,p = stats.ttest_1samp([the[4],the[5]],the[2]/the[3])\n",
    "    three_p_values.append(p)"
   ]
  },
  {
   "cell_type": "code",
   "execution_count": 70,
   "id": "4b48a432",
   "metadata": {},
   "outputs": [],
   "source": [
    "three['p-value']=three_p_values"
   ]
  },
  {
   "cell_type": "code",
   "execution_count": 71,
   "id": "c5a6eaf5",
   "metadata": {},
   "outputs": [],
   "source": [
    "three = three.drop(['State','tot_pop_urban','tot_pop_rural'],axis=1)"
   ]
  },
  {
   "cell_type": "code",
   "execution_count": 72,
   "id": "febde72b",
   "metadata": {},
   "outputs": [],
   "source": [
    "three['urban-three-ratio'] = three['urban-three-ratio']*100\n",
    "three['rural-three-ratio'] = three['rural-three-ratio']*100"
   ]
  },
  {
   "cell_type": "code",
   "execution_count": 73,
   "id": "aa7e309b",
   "metadata": {},
   "outputs": [],
   "source": [
    "three.rename(columns = {'state/ut_x':'state/ut','urban-three-ratio':'three-urban-percentage','rural-three-ratio':'three-urban-percentage'}, inplace = True)"
   ]
  },
  {
   "cell_type": "code",
   "execution_count": 74,
   "id": "41ce1a07",
   "metadata": {},
   "outputs": [],
   "source": [
    "three.columns = ['state/ut','urban-percentage-three','rural-percentage-three','p-value']"
   ]
  },
  {
   "cell_type": "code",
   "execution_count": 75,
   "id": "875e1c8b",
   "metadata": {},
   "outputs": [],
   "source": [
    "three.to_csv('geography-india-c.csv',index=False)"
   ]
  }
 ],
 "metadata": {
  "kernelspec": {
   "display_name": "Python 3 (ipykernel)",
   "language": "python",
   "name": "python3"
  },
  "language_info": {
   "codemirror_mode": {
    "name": "ipython",
    "version": 3
   },
   "file_extension": ".py",
   "mimetype": "text/x-python",
   "name": "python",
   "nbconvert_exporter": "python",
   "pygments_lexer": "ipython3",
   "version": "3.8.10"
  }
 },
 "nbformat": 4,
 "nbformat_minor": 5
}
