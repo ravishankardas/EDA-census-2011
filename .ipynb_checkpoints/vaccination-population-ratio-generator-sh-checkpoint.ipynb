{
 "cells": [
  {
   "cell_type": "code",
   "execution_count": 1,
   "id": "45988eb2",
   "metadata": {},
   "outputs": [],
   "source": [
    "import pandas as pd"
   ]
  },
  {
   "cell_type": "code",
   "execution_count": 2,
   "id": "646bc73b",
   "metadata": {},
   "outputs": [
    {
     "ename": "FileNotFoundError",
     "evalue": "[Errno 2] No such file or directory: 'cowin_vaccine_data_districtwise.csv'",
     "output_type": "error",
     "traceback": [
      "\u001b[1;31m---------------------------------------------------------------------------\u001b[0m",
      "\u001b[1;31mFileNotFoundError\u001b[0m                         Traceback (most recent call last)",
      "\u001b[1;32m~\\AppData\\Local\\Temp/ipykernel_8508/555490071.py\u001b[0m in \u001b[0;36m<module>\u001b[1;34m\u001b[0m\n\u001b[1;32m----> 1\u001b[1;33m \u001b[0mdata\u001b[0m \u001b[1;33m=\u001b[0m \u001b[0mpd\u001b[0m\u001b[1;33m.\u001b[0m\u001b[0mread_csv\u001b[0m\u001b[1;33m(\u001b[0m\u001b[1;34m'cowin_vaccine_data_districtwise.csv'\u001b[0m\u001b[1;33m,\u001b[0m\u001b[0mlow_memory\u001b[0m\u001b[1;33m=\u001b[0m\u001b[1;32mFalse\u001b[0m\u001b[1;33m)\u001b[0m\u001b[1;33m\u001b[0m\u001b[1;33m\u001b[0m\u001b[0m\n\u001b[0m",
      "\u001b[1;32m~\\AppData\\Local\\Programs\\Python\\Python39\\lib\\site-packages\\pandas\\util\\_decorators.py\u001b[0m in \u001b[0;36mwrapper\u001b[1;34m(*args, **kwargs)\u001b[0m\n\u001b[0;32m    309\u001b[0m                     \u001b[0mstacklevel\u001b[0m\u001b[1;33m=\u001b[0m\u001b[0mstacklevel\u001b[0m\u001b[1;33m,\u001b[0m\u001b[1;33m\u001b[0m\u001b[1;33m\u001b[0m\u001b[0m\n\u001b[0;32m    310\u001b[0m                 )\n\u001b[1;32m--> 311\u001b[1;33m             \u001b[1;32mreturn\u001b[0m \u001b[0mfunc\u001b[0m\u001b[1;33m(\u001b[0m\u001b[1;33m*\u001b[0m\u001b[0margs\u001b[0m\u001b[1;33m,\u001b[0m \u001b[1;33m**\u001b[0m\u001b[0mkwargs\u001b[0m\u001b[1;33m)\u001b[0m\u001b[1;33m\u001b[0m\u001b[1;33m\u001b[0m\u001b[0m\n\u001b[0m\u001b[0;32m    312\u001b[0m \u001b[1;33m\u001b[0m\u001b[0m\n\u001b[0;32m    313\u001b[0m         \u001b[1;32mreturn\u001b[0m \u001b[0mwrapper\u001b[0m\u001b[1;33m\u001b[0m\u001b[1;33m\u001b[0m\u001b[0m\n",
      "\u001b[1;32m~\\AppData\\Local\\Programs\\Python\\Python39\\lib\\site-packages\\pandas\\io\\parsers\\readers.py\u001b[0m in \u001b[0;36mread_csv\u001b[1;34m(filepath_or_buffer, sep, delimiter, header, names, index_col, usecols, squeeze, prefix, mangle_dupe_cols, dtype, engine, converters, true_values, false_values, skipinitialspace, skiprows, skipfooter, nrows, na_values, keep_default_na, na_filter, verbose, skip_blank_lines, parse_dates, infer_datetime_format, keep_date_col, date_parser, dayfirst, cache_dates, iterator, chunksize, compression, thousands, decimal, lineterminator, quotechar, quoting, doublequote, escapechar, comment, encoding, encoding_errors, dialect, error_bad_lines, warn_bad_lines, on_bad_lines, delim_whitespace, low_memory, memory_map, float_precision, storage_options)\u001b[0m\n\u001b[0;32m    584\u001b[0m     \u001b[0mkwds\u001b[0m\u001b[1;33m.\u001b[0m\u001b[0mupdate\u001b[0m\u001b[1;33m(\u001b[0m\u001b[0mkwds_defaults\u001b[0m\u001b[1;33m)\u001b[0m\u001b[1;33m\u001b[0m\u001b[1;33m\u001b[0m\u001b[0m\n\u001b[0;32m    585\u001b[0m \u001b[1;33m\u001b[0m\u001b[0m\n\u001b[1;32m--> 586\u001b[1;33m     \u001b[1;32mreturn\u001b[0m \u001b[0m_read\u001b[0m\u001b[1;33m(\u001b[0m\u001b[0mfilepath_or_buffer\u001b[0m\u001b[1;33m,\u001b[0m \u001b[0mkwds\u001b[0m\u001b[1;33m)\u001b[0m\u001b[1;33m\u001b[0m\u001b[1;33m\u001b[0m\u001b[0m\n\u001b[0m\u001b[0;32m    587\u001b[0m \u001b[1;33m\u001b[0m\u001b[0m\n\u001b[0;32m    588\u001b[0m \u001b[1;33m\u001b[0m\u001b[0m\n",
      "\u001b[1;32m~\\AppData\\Local\\Programs\\Python\\Python39\\lib\\site-packages\\pandas\\io\\parsers\\readers.py\u001b[0m in \u001b[0;36m_read\u001b[1;34m(filepath_or_buffer, kwds)\u001b[0m\n\u001b[0;32m    480\u001b[0m \u001b[1;33m\u001b[0m\u001b[0m\n\u001b[0;32m    481\u001b[0m     \u001b[1;31m# Create the parser.\u001b[0m\u001b[1;33m\u001b[0m\u001b[1;33m\u001b[0m\u001b[0m\n\u001b[1;32m--> 482\u001b[1;33m     \u001b[0mparser\u001b[0m \u001b[1;33m=\u001b[0m \u001b[0mTextFileReader\u001b[0m\u001b[1;33m(\u001b[0m\u001b[0mfilepath_or_buffer\u001b[0m\u001b[1;33m,\u001b[0m \u001b[1;33m**\u001b[0m\u001b[0mkwds\u001b[0m\u001b[1;33m)\u001b[0m\u001b[1;33m\u001b[0m\u001b[1;33m\u001b[0m\u001b[0m\n\u001b[0m\u001b[0;32m    483\u001b[0m \u001b[1;33m\u001b[0m\u001b[0m\n\u001b[0;32m    484\u001b[0m     \u001b[1;32mif\u001b[0m \u001b[0mchunksize\u001b[0m \u001b[1;32mor\u001b[0m \u001b[0miterator\u001b[0m\u001b[1;33m:\u001b[0m\u001b[1;33m\u001b[0m\u001b[1;33m\u001b[0m\u001b[0m\n",
      "\u001b[1;32m~\\AppData\\Local\\Programs\\Python\\Python39\\lib\\site-packages\\pandas\\io\\parsers\\readers.py\u001b[0m in \u001b[0;36m__init__\u001b[1;34m(self, f, engine, **kwds)\u001b[0m\n\u001b[0;32m    809\u001b[0m             \u001b[0mself\u001b[0m\u001b[1;33m.\u001b[0m\u001b[0moptions\u001b[0m\u001b[1;33m[\u001b[0m\u001b[1;34m\"has_index_names\"\u001b[0m\u001b[1;33m]\u001b[0m \u001b[1;33m=\u001b[0m \u001b[0mkwds\u001b[0m\u001b[1;33m[\u001b[0m\u001b[1;34m\"has_index_names\"\u001b[0m\u001b[1;33m]\u001b[0m\u001b[1;33m\u001b[0m\u001b[1;33m\u001b[0m\u001b[0m\n\u001b[0;32m    810\u001b[0m \u001b[1;33m\u001b[0m\u001b[0m\n\u001b[1;32m--> 811\u001b[1;33m         \u001b[0mself\u001b[0m\u001b[1;33m.\u001b[0m\u001b[0m_engine\u001b[0m \u001b[1;33m=\u001b[0m \u001b[0mself\u001b[0m\u001b[1;33m.\u001b[0m\u001b[0m_make_engine\u001b[0m\u001b[1;33m(\u001b[0m\u001b[0mself\u001b[0m\u001b[1;33m.\u001b[0m\u001b[0mengine\u001b[0m\u001b[1;33m)\u001b[0m\u001b[1;33m\u001b[0m\u001b[1;33m\u001b[0m\u001b[0m\n\u001b[0m\u001b[0;32m    812\u001b[0m \u001b[1;33m\u001b[0m\u001b[0m\n\u001b[0;32m    813\u001b[0m     \u001b[1;32mdef\u001b[0m \u001b[0mclose\u001b[0m\u001b[1;33m(\u001b[0m\u001b[0mself\u001b[0m\u001b[1;33m)\u001b[0m\u001b[1;33m:\u001b[0m\u001b[1;33m\u001b[0m\u001b[1;33m\u001b[0m\u001b[0m\n",
      "\u001b[1;32m~\\AppData\\Local\\Programs\\Python\\Python39\\lib\\site-packages\\pandas\\io\\parsers\\readers.py\u001b[0m in \u001b[0;36m_make_engine\u001b[1;34m(self, engine)\u001b[0m\n\u001b[0;32m   1038\u001b[0m             )\n\u001b[0;32m   1039\u001b[0m         \u001b[1;31m# error: Too many arguments for \"ParserBase\"\u001b[0m\u001b[1;33m\u001b[0m\u001b[1;33m\u001b[0m\u001b[0m\n\u001b[1;32m-> 1040\u001b[1;33m         \u001b[1;32mreturn\u001b[0m \u001b[0mmapping\u001b[0m\u001b[1;33m[\u001b[0m\u001b[0mengine\u001b[0m\u001b[1;33m]\u001b[0m\u001b[1;33m(\u001b[0m\u001b[0mself\u001b[0m\u001b[1;33m.\u001b[0m\u001b[0mf\u001b[0m\u001b[1;33m,\u001b[0m \u001b[1;33m**\u001b[0m\u001b[0mself\u001b[0m\u001b[1;33m.\u001b[0m\u001b[0moptions\u001b[0m\u001b[1;33m)\u001b[0m  \u001b[1;31m# type: ignore[call-arg]\u001b[0m\u001b[1;33m\u001b[0m\u001b[1;33m\u001b[0m\u001b[0m\n\u001b[0m\u001b[0;32m   1041\u001b[0m \u001b[1;33m\u001b[0m\u001b[0m\n\u001b[0;32m   1042\u001b[0m     \u001b[1;32mdef\u001b[0m \u001b[0m_failover_to_python\u001b[0m\u001b[1;33m(\u001b[0m\u001b[0mself\u001b[0m\u001b[1;33m)\u001b[0m\u001b[1;33m:\u001b[0m\u001b[1;33m\u001b[0m\u001b[1;33m\u001b[0m\u001b[0m\n",
      "\u001b[1;32m~\\AppData\\Local\\Programs\\Python\\Python39\\lib\\site-packages\\pandas\\io\\parsers\\c_parser_wrapper.py\u001b[0m in \u001b[0;36m__init__\u001b[1;34m(self, src, **kwds)\u001b[0m\n\u001b[0;32m     49\u001b[0m \u001b[1;33m\u001b[0m\u001b[0m\n\u001b[0;32m     50\u001b[0m         \u001b[1;31m# open handles\u001b[0m\u001b[1;33m\u001b[0m\u001b[1;33m\u001b[0m\u001b[0m\n\u001b[1;32m---> 51\u001b[1;33m         \u001b[0mself\u001b[0m\u001b[1;33m.\u001b[0m\u001b[0m_open_handles\u001b[0m\u001b[1;33m(\u001b[0m\u001b[0msrc\u001b[0m\u001b[1;33m,\u001b[0m \u001b[0mkwds\u001b[0m\u001b[1;33m)\u001b[0m\u001b[1;33m\u001b[0m\u001b[1;33m\u001b[0m\u001b[0m\n\u001b[0m\u001b[0;32m     52\u001b[0m         \u001b[1;32massert\u001b[0m \u001b[0mself\u001b[0m\u001b[1;33m.\u001b[0m\u001b[0mhandles\u001b[0m \u001b[1;32mis\u001b[0m \u001b[1;32mnot\u001b[0m \u001b[1;32mNone\u001b[0m\u001b[1;33m\u001b[0m\u001b[1;33m\u001b[0m\u001b[0m\n\u001b[0;32m     53\u001b[0m \u001b[1;33m\u001b[0m\u001b[0m\n",
      "\u001b[1;32m~\\AppData\\Local\\Programs\\Python\\Python39\\lib\\site-packages\\pandas\\io\\parsers\\base_parser.py\u001b[0m in \u001b[0;36m_open_handles\u001b[1;34m(self, src, kwds)\u001b[0m\n\u001b[0;32m    220\u001b[0m         \u001b[0mLet\u001b[0m \u001b[0mthe\u001b[0m \u001b[0mreaders\u001b[0m \u001b[0mopen\u001b[0m \u001b[0mIOHandles\u001b[0m \u001b[0mafter\u001b[0m \u001b[0mthey\u001b[0m \u001b[0mare\u001b[0m \u001b[0mdone\u001b[0m \u001b[1;32mwith\u001b[0m \u001b[0mtheir\u001b[0m \u001b[0mpotential\u001b[0m \u001b[0mraises\u001b[0m\u001b[1;33m.\u001b[0m\u001b[1;33m\u001b[0m\u001b[1;33m\u001b[0m\u001b[0m\n\u001b[0;32m    221\u001b[0m         \"\"\"\n\u001b[1;32m--> 222\u001b[1;33m         self.handles = get_handle(\n\u001b[0m\u001b[0;32m    223\u001b[0m             \u001b[0msrc\u001b[0m\u001b[1;33m,\u001b[0m\u001b[1;33m\u001b[0m\u001b[1;33m\u001b[0m\u001b[0m\n\u001b[0;32m    224\u001b[0m             \u001b[1;34m\"r\"\u001b[0m\u001b[1;33m,\u001b[0m\u001b[1;33m\u001b[0m\u001b[1;33m\u001b[0m\u001b[0m\n",
      "\u001b[1;32m~\\AppData\\Local\\Programs\\Python\\Python39\\lib\\site-packages\\pandas\\io\\common.py\u001b[0m in \u001b[0;36mget_handle\u001b[1;34m(path_or_buf, mode, encoding, compression, memory_map, is_text, errors, storage_options)\u001b[0m\n\u001b[0;32m    699\u001b[0m         \u001b[1;32mif\u001b[0m \u001b[0mioargs\u001b[0m\u001b[1;33m.\u001b[0m\u001b[0mencoding\u001b[0m \u001b[1;32mand\u001b[0m \u001b[1;34m\"b\"\u001b[0m \u001b[1;32mnot\u001b[0m \u001b[1;32min\u001b[0m \u001b[0mioargs\u001b[0m\u001b[1;33m.\u001b[0m\u001b[0mmode\u001b[0m\u001b[1;33m:\u001b[0m\u001b[1;33m\u001b[0m\u001b[1;33m\u001b[0m\u001b[0m\n\u001b[0;32m    700\u001b[0m             \u001b[1;31m# Encoding\u001b[0m\u001b[1;33m\u001b[0m\u001b[1;33m\u001b[0m\u001b[0m\n\u001b[1;32m--> 701\u001b[1;33m             handle = open(\n\u001b[0m\u001b[0;32m    702\u001b[0m                 \u001b[0mhandle\u001b[0m\u001b[1;33m,\u001b[0m\u001b[1;33m\u001b[0m\u001b[1;33m\u001b[0m\u001b[0m\n\u001b[0;32m    703\u001b[0m                 \u001b[0mioargs\u001b[0m\u001b[1;33m.\u001b[0m\u001b[0mmode\u001b[0m\u001b[1;33m,\u001b[0m\u001b[1;33m\u001b[0m\u001b[1;33m\u001b[0m\u001b[0m\n",
      "\u001b[1;31mFileNotFoundError\u001b[0m: [Errno 2] No such file or directory: 'cowin_vaccine_data_districtwise.csv'"
     ]
    }
   ],
   "source": [
    "data = pd.read_csv('cowin_vaccine_data_districtwise.csv',low_memory=False)"
   ]
  },
  {
   "cell_type": "code",
   "execution_count": null,
   "id": "ddc3741a",
   "metadata": {},
   "outputs": [],
   "source": [
    "data = data.rename(columns=data.iloc[0])"
   ]
  },
  {
   "cell_type": "code",
   "execution_count": null,
   "id": "a31e63f2",
   "metadata": {},
   "outputs": [],
   "source": [
    "data = data.drop(['S No','District_Key','Cowin Key'],axis=1)"
   ]
  },
  {
   "cell_type": "code",
   "execution_count": null,
   "id": "aa1d459e",
   "metadata": {},
   "outputs": [],
   "source": [
    "data1 = data[['State_Code','State','Male(Individuals Vaccinated)','Female(Individuals Vaccinated)']].copy()"
   ]
  },
  {
   "cell_type": "code",
   "execution_count": null,
   "id": "49b28ed5",
   "metadata": {},
   "outputs": [],
   "source": [
    "data1 = data1.iloc[1:,:]"
   ]
  },
  {
   "cell_type": "code",
   "execution_count": null,
   "id": "9af6d358",
   "metadata": {},
   "outputs": [],
   "source": [
    "cols = []\n",
    "count = 1\n",
    "for column in data1.columns:\n",
    "    if column == 'Male(Individuals Vaccinated)':\n",
    "        cols.append(f'Male(Individuals Vaccinated){count}')\n",
    "        count+=1\n",
    "        continue\n",
    "    cols.append(column)\n",
    "data1.columns = cols"
   ]
  },
  {
   "cell_type": "code",
   "execution_count": null,
   "id": "f9713801",
   "metadata": {},
   "outputs": [],
   "source": [
    "colsa = []\n",
    "count = 1\n",
    "for column in data1.columns:\n",
    "    if column == 'Female(Individuals Vaccinated)':\n",
    "        colsa.append(f'Female(Individuals Vaccinated){count}')\n",
    "        count+=1\n",
    "        continue\n",
    "    colsa.append(column)\n",
    "data1.columns = colsa"
   ]
  },
  {
   "cell_type": "code",
   "execution_count": null,
   "id": "ed9f99ee",
   "metadata": {},
   "outputs": [],
   "source": [
    "df2 = data1.filter(regex='Male')"
   ]
  },
  {
   "cell_type": "code",
   "execution_count": null,
   "id": "fe32fc90",
   "metadata": {},
   "outputs": [],
   "source": [
    "df3 = data1.filter(regex='Female')"
   ]
  },
  {
   "cell_type": "code",
   "execution_count": null,
   "id": "554680b1",
   "metadata": {},
   "outputs": [],
   "source": [
    "newstuff = data1[['State_Code','State']].copy()"
   ]
  },
  {
   "cell_type": "code",
   "execution_count": null,
   "id": "a6feee00",
   "metadata": {},
   "outputs": [],
   "source": [
    "val1 = pd.concat([newstuff, df2], axis=1)\n",
    "val2 = pd.concat([newstuff, df3], axis=1)"
   ]
  },
  {
   "cell_type": "code",
   "execution_count": null,
   "id": "b41f80a6",
   "metadata": {},
   "outputs": [],
   "source": [
    "col_list= list(val1)\n",
    "col_list.remove('State_Code')\n",
    "col_list.remove('State')\n",
    "# col_list"
   ]
  },
  {
   "cell_type": "code",
   "execution_count": null,
   "id": "52e17196",
   "metadata": {},
   "outputs": [],
   "source": [
    "def sum_frame_by_column(frame, new_col_name, list_of_cols_to_sum):\n",
    "    frame[new_col_name] = frame[list_of_cols_to_sum].astype(float).sum(axis=1)\n",
    "    return(frame)"
   ]
  },
  {
   "cell_type": "code",
   "execution_count": null,
   "id": "d28f5465",
   "metadata": {},
   "outputs": [],
   "source": [
    "sum_frame_by_column(val1, 'maledoses', col_list)"
   ]
  },
  {
   "cell_type": "code",
   "execution_count": null,
   "id": "6db9c34f",
   "metadata": {},
   "outputs": [],
   "source": [
    "col_lista= list(val2)\n",
    "col_lista.remove('State_Code')\n",
    "col_lista.remove('State')\n",
    "# col_lista"
   ]
  },
  {
   "cell_type": "code",
   "execution_count": null,
   "id": "9c29ce99",
   "metadata": {},
   "outputs": [],
   "source": [
    "sum_frame_by_column(val2, 'femaledoses', col_lista)"
   ]
  },
  {
   "cell_type": "code",
   "execution_count": null,
   "id": "58bb3b6d",
   "metadata": {},
   "outputs": [],
   "source": [
    "finalstuff1 = val1[['State_Code','State','maledoses']].copy()\n",
    "finalstuff2 = val2[['State_Code','State','femaledoses']].copy()"
   ]
  },
  {
   "cell_type": "code",
   "execution_count": null,
   "id": "0c33d488",
   "metadata": {},
   "outputs": [],
   "source": [
    "result = pd.concat([finalstuff1, finalstuff2], axis=1, join='inner')"
   ]
  },
  {
   "cell_type": "code",
   "execution_count": null,
   "id": "56836070",
   "metadata": {},
   "outputs": [],
   "source": [
    "newresult = result[['State_Code','State','maledoses','femaledoses']].copy()"
   ]
  },
  {
   "cell_type": "code",
   "execution_count": null,
   "id": "f5a69e03",
   "metadata": {},
   "outputs": [],
   "source": [
    "newresult = newresult.loc[:,~newresult.columns.duplicated()]"
   ]
  },
  {
   "cell_type": "code",
   "execution_count": null,
   "id": "2110145b",
   "metadata": {},
   "outputs": [],
   "source": [
    "findf = newresult.groupby(['State_Code','State']).sum().reset_index()"
   ]
  },
  {
   "cell_type": "code",
   "execution_count": null,
   "id": "95d21033",
   "metadata": {},
   "outputs": [],
   "source": [
    "findf['vaccinationratio'] = findf['femaledoses']/findf['maledoses']"
   ]
  },
  {
   "cell_type": "code",
   "execution_count": null,
   "id": "97bbd98a",
   "metadata": {},
   "outputs": [],
   "source": [
    "findf = findf.drop(['maledoses','femaledoses'],axis=1)"
   ]
  },
  {
   "cell_type": "code",
   "execution_count": null,
   "id": "9e2842a7",
   "metadata": {},
   "outputs": [],
   "source": [
    "findf['State']=findf['State'].str.lower()"
   ]
  },
  {
   "cell_type": "code",
   "execution_count": null,
   "id": "609d4a17",
   "metadata": {},
   "outputs": [],
   "source": [
    "newData = pd.read_excel('DDW_PCA0000_2011_Indiastatedist.xlsx')"
   ]
  },
  {
   "cell_type": "code",
   "execution_count": null,
   "id": "a2522caf",
   "metadata": {},
   "outputs": [],
   "source": [
    "popdata = newData[['Level','Name','TOT_M','TOT_F']].copy()"
   ]
  },
  {
   "cell_type": "code",
   "execution_count": null,
   "id": "bcfac9f8",
   "metadata": {},
   "outputs": [],
   "source": [
    "rslt_df = popdata[popdata['Level'] == 'STATE'].copy()"
   ]
  },
  {
   "cell_type": "code",
   "execution_count": null,
   "id": "f011cf7b",
   "metadata": {},
   "outputs": [],
   "source": [
    "rslt_df.drop_duplicates(subset =\"Name\",keep = 'first', inplace = True)"
   ]
  },
  {
   "cell_type": "code",
   "execution_count": null,
   "id": "8152d96a",
   "metadata": {},
   "outputs": [],
   "source": [
    "rslt_df['populationratio'] = rslt_df['TOT_F']/rslt_df['TOT_M']"
   ]
  },
  {
   "cell_type": "code",
   "execution_count": null,
   "id": "d9e6db5e",
   "metadata": {},
   "outputs": [],
   "source": [
    "rslt_df.sort_values(\"Name\", axis = 0, ascending = True,inplace = True)"
   ]
  },
  {
   "cell_type": "code",
   "execution_count": null,
   "id": "73c6d51f",
   "metadata": {},
   "outputs": [],
   "source": [
    "rslt_df.reset_index(inplace = True)"
   ]
  },
  {
   "cell_type": "code",
   "execution_count": null,
   "id": "bc625458",
   "metadata": {},
   "outputs": [],
   "source": [
    "rslt_df = rslt_df.drop(['index'],axis=1)"
   ]
  },
  {
   "cell_type": "code",
   "execution_count": null,
   "id": "b6fa39fc",
   "metadata": {},
   "outputs": [],
   "source": [
    "newrslt_df = rslt_df[['Name','populationratio']].copy()"
   ]
  },
  {
   "cell_type": "code",
   "execution_count": null,
   "id": "1b6410f1",
   "metadata": {},
   "outputs": [],
   "source": [
    "newrslt_df['Name'] = newrslt_df['Name'].str.lower()"
   ]
  },
  {
   "cell_type": "code",
   "execution_count": null,
   "id": "976c087d",
   "metadata": {},
   "outputs": [],
   "source": [
    "newrslt_df.rename(columns = {'Name':'State'}, inplace = True)"
   ]
  },
  {
   "cell_type": "code",
   "execution_count": null,
   "id": "9b1152cd",
   "metadata": {},
   "outputs": [],
   "source": [
    "int_df = pd.merge(findf, newrslt_df, how='inner', on=['State'])"
   ]
  },
  {
   "cell_type": "code",
   "execution_count": null,
   "id": "5548aa8d",
   "metadata": {},
   "outputs": [],
   "source": [
    "int_df['ratioofratio'] = int_df['vaccinationratio']/int_df['populationratio']"
   ]
  },
  {
   "cell_type": "code",
   "execution_count": null,
   "id": "fa88db12",
   "metadata": {},
   "outputs": [],
   "source": [
    "int_df.rename(columns = {'State_Code':'stateid'}, inplace = True)"
   ]
  },
  {
   "cell_type": "code",
   "execution_count": null,
   "id": "3ac0ef7b",
   "metadata": {},
   "outputs": [],
   "source": [
    "int_df = int_df.drop(['State'],axis=1)"
   ]
  },
  {
   "cell_type": "code",
   "execution_count": null,
   "id": "387a7638",
   "metadata": {},
   "outputs": [],
   "source": [
    "int_df.sort_values(\"ratioofratio\", axis = 0, ascending = True,inplace = True)"
   ]
  },
  {
   "cell_type": "code",
   "execution_count": null,
   "id": "7f966929",
   "metadata": {},
   "outputs": [],
   "source": [
    "int_df.reset_index(inplace = True)"
   ]
  },
  {
   "cell_type": "code",
   "execution_count": null,
   "id": "53f58f7e",
   "metadata": {},
   "outputs": [],
   "source": [
    "sachinint_df = int_df[['stateid','vaccinationratio','populationratio','ratioofratio']].copy()"
   ]
  },
  {
   "cell_type": "code",
   "execution_count": null,
   "id": "14156825",
   "metadata": {},
   "outputs": [],
   "source": [
    "sachinint_df.to_csv('vaccination-population-ratio-states.csv')"
   ]
  },
  {
   "cell_type": "code",
   "execution_count": null,
   "id": "e2cd1466",
   "metadata": {},
   "outputs": [],
   "source": [
    "rawdata = pd.read_csv('cowin_vaccine_data_districtwise.csv',low_memory=False)"
   ]
  },
  {
   "cell_type": "code",
   "execution_count": null,
   "id": "e9fe5b23",
   "metadata": {},
   "outputs": [],
   "source": [
    "rawdata = rawdata.rename(columns=data.iloc[0])"
   ]
  },
  {
   "cell_type": "code",
   "execution_count": null,
   "id": "e49f5ac7",
   "metadata": {},
   "outputs": [],
   "source": [
    "rawdata = rawdata.drop(['S No','State_Code','State','Cowin Key'],axis=1)"
   ]
  },
  {
   "cell_type": "code",
   "execution_count": null,
   "id": "c64964b5",
   "metadata": {},
   "outputs": [],
   "source": [
    "rawdata = rawdata.rename(columns=rawdata.iloc[0])"
   ]
  },
  {
   "cell_type": "code",
   "execution_count": null,
   "id": "80e79e2a",
   "metadata": {},
   "outputs": [],
   "source": [
    "thing = rawdata[['District_Key','District','Male(Individuals Vaccinated)','Female(Individuals Vaccinated)']].copy()"
   ]
  },
  {
   "cell_type": "code",
   "execution_count": null,
   "id": "85194808",
   "metadata": {},
   "outputs": [],
   "source": [
    "thing = thing.iloc[1:,:]"
   ]
  },
  {
   "cell_type": "code",
   "execution_count": null,
   "id": "5c6156a9",
   "metadata": {},
   "outputs": [],
   "source": [
    "acols = []\n",
    "count = 1\n",
    "for column in thing.columns:\n",
    "    if column == 'Male(Individuals Vaccinated)':\n",
    "        acols.append(f'Male(Individuals Vaccinated){count}')\n",
    "        count+=1\n",
    "        continue\n",
    "    acols.append(column)\n",
    "thing.columns = acols\n",
    "bcols = []\n",
    "count = 1\n",
    "for column in thing.columns:\n",
    "    if column == 'Female(Individuals Vaccinated)':\n",
    "        bcols.append(f'Female(Individuals Vaccinated){count}')\n",
    "        count+=1\n",
    "        continue\n",
    "    bcols.append(column)\n",
    "thing.columns = bcols"
   ]
  },
  {
   "cell_type": "code",
   "execution_count": null,
   "id": "7d220346",
   "metadata": {},
   "outputs": [],
   "source": [
    "bat1 = thing.filter(regex='Male')\n",
    "bat2 = thing.filter(regex='Female')"
   ]
  },
  {
   "cell_type": "code",
   "execution_count": null,
   "id": "9436a784",
   "metadata": {},
   "outputs": [],
   "source": [
    "stumps = thing[['District_Key','District']].copy()"
   ]
  },
  {
   "cell_type": "code",
   "execution_count": null,
   "id": "1152cf7e",
   "metadata": {},
   "outputs": [],
   "source": [
    "sachin1 = pd.concat([stumps, bat1], axis=1)\n",
    "sachin2 = pd.concat([stumps, bat2], axis=1)"
   ]
  },
  {
   "cell_type": "code",
   "execution_count": null,
   "id": "b6ddcb49",
   "metadata": {},
   "outputs": [],
   "source": [
    "column_list1= list(sachin1)\n",
    "column_list1.remove('District_Key')\n",
    "column_list1.remove('District')\n",
    "# col_list"
   ]
  },
  {
   "cell_type": "code",
   "execution_count": null,
   "id": "3bac1e26",
   "metadata": {},
   "outputs": [],
   "source": [
    "def sum_frame_by_column(frame, new_col_name, list_of_cols_to_sum):\n",
    "    frame[new_col_name] = frame[list_of_cols_to_sum].astype(float).sum(axis=1)\n",
    "    return(frame)"
   ]
  },
  {
   "cell_type": "code",
   "execution_count": null,
   "id": "cfa806a3",
   "metadata": {},
   "outputs": [],
   "source": [
    "sum_frame_by_column(sachin1, 'maledoses', column_list1)"
   ]
  },
  {
   "cell_type": "code",
   "execution_count": null,
   "id": "e107bee7",
   "metadata": {},
   "outputs": [],
   "source": [
    "column_list2= list(sachin2)\n",
    "column_list2.remove('District_Key')\n",
    "column_list2.remove('District')"
   ]
  },
  {
   "cell_type": "code",
   "execution_count": null,
   "id": "80cdcbf4",
   "metadata": {
    "scrolled": false
   },
   "outputs": [],
   "source": [
    "sum_frame_by_column(sachin2, 'femaledoses', column_list2)"
   ]
  },
  {
   "cell_type": "code",
   "execution_count": null,
   "id": "b5b96f56",
   "metadata": {},
   "outputs": [],
   "source": [
    "lion1 = sachin1[['District_Key','District','maledoses']].copy()\n",
    "lion2 = sachin2[['District_Key','District','femaledoses']].copy()"
   ]
  },
  {
   "cell_type": "code",
   "execution_count": null,
   "id": "71ddd5b1",
   "metadata": {},
   "outputs": [],
   "source": [
    "mergedf = pd.concat([lion1, lion2], axis=1, join='inner')"
   ]
  },
  {
   "cell_type": "code",
   "execution_count": null,
   "id": "2f4038e3",
   "metadata": {},
   "outputs": [],
   "source": [
    "a = mergedf.loc[:,~mergedf.columns.duplicated()]"
   ]
  },
  {
   "cell_type": "code",
   "execution_count": null,
   "id": "b12a4434",
   "metadata": {},
   "outputs": [],
   "source": [
    "a_list = a['femaledoses']/a['maledoses']"
   ]
  },
  {
   "cell_type": "code",
   "execution_count": null,
   "id": "6b343fd2",
   "metadata": {},
   "outputs": [],
   "source": [
    "a_list_a = pd.DataFrame(a_list)"
   ]
  },
  {
   "cell_type": "code",
   "execution_count": null,
   "id": "998bf997",
   "metadata": {},
   "outputs": [],
   "source": [
    "a_list_a.rename(columns={0:'vaccinationratio'},inplace=True)"
   ]
  },
  {
   "cell_type": "code",
   "execution_count": null,
   "id": "de9bc65e",
   "metadata": {},
   "outputs": [],
   "source": [
    "newmergedf = pd.concat([a,a_list_a],axis=1)"
   ]
  },
  {
   "cell_type": "code",
   "execution_count": null,
   "id": "21204aeb",
   "metadata": {},
   "outputs": [],
   "source": [
    "thenewmergedf = newmergedf[['District_Key','District','vaccinationratio']].copy()\n",
    "finalnewmergedf = thenewmergedf[['District','vaccinationratio']].copy()\n",
    "finalnewmergedf['District'] = finalnewmergedf['District'].str.lower()"
   ]
  },
  {
   "cell_type": "code",
   "execution_count": null,
   "id": "de5ede83",
   "metadata": {},
   "outputs": [],
   "source": [
    "kohli = pd.read_excel('DDW_PCA0000_2011_Indiastatedist.xlsx')"
   ]
  },
  {
   "cell_type": "code",
   "execution_count": null,
   "id": "d1aa0947",
   "metadata": {},
   "outputs": [],
   "source": [
    "pdata = kohli[['Level','Name','TOT_M','TOT_F']].copy()"
   ]
  },
  {
   "cell_type": "code",
   "execution_count": null,
   "id": "fb9c8dc2",
   "metadata": {},
   "outputs": [],
   "source": [
    "wave = pdata[pdata['Level'] == 'DISTRICT'].copy()\n",
    "wave.drop_duplicates(subset =\"Name\",keep = 'first', inplace = True)"
   ]
  },
  {
   "cell_type": "code",
   "execution_count": null,
   "id": "52f75e9b",
   "metadata": {},
   "outputs": [],
   "source": [
    "wave['populationratio'] = wave['TOT_F']/wave['TOT_M']"
   ]
  },
  {
   "cell_type": "code",
   "execution_count": null,
   "id": "ab687fe1",
   "metadata": {},
   "outputs": [],
   "source": [
    "wave.rename(columns = {'Name':'District'}, inplace = True)"
   ]
  },
  {
   "cell_type": "code",
   "execution_count": null,
   "id": "3248ed5d",
   "metadata": {},
   "outputs": [],
   "source": [
    "thenewwave = wave[['District','populationratio']].copy()\n",
    "thenewwave['District'] = thenewwave['District'].str.lower()"
   ]
  },
  {
   "cell_type": "code",
   "execution_count": null,
   "id": "47531d4f",
   "metadata": {},
   "outputs": [],
   "source": [
    "finalint_df = pd.merge(finalnewmergedf, thenewwave, how='inner', on=['District'])\n",
    "finalint_df['ratioofratio'] = finalint_df['vaccinationratio']/finalint_df['populationratio']"
   ]
  },
  {
   "cell_type": "code",
   "execution_count": null,
   "id": "f35fe0b4",
   "metadata": {},
   "outputs": [],
   "source": [
    "distkeydist = sachin1[['District','District_Key']].copy()"
   ]
  },
  {
   "cell_type": "code",
   "execution_count": null,
   "id": "b3a0b622",
   "metadata": {},
   "outputs": [],
   "source": [
    "distkeydist['District'] = distkeydist['District'].str.lower()"
   ]
  },
  {
   "cell_type": "code",
   "execution_count": null,
   "id": "ae4056ec",
   "metadata": {},
   "outputs": [],
   "source": [
    "python = pd.merge(finalint_df, distkeydist, how='inner', on=['District'])"
   ]
  },
  {
   "cell_type": "code",
   "execution_count": null,
   "id": "0513c5bd",
   "metadata": {},
   "outputs": [],
   "source": [
    "python = python[['District_Key','vaccinationratio','populationratio','ratioofratio']]"
   ]
  },
  {
   "cell_type": "code",
   "execution_count": null,
   "id": "97915bf8",
   "metadata": {},
   "outputs": [],
   "source": [
    "python.drop_duplicates(subset =\"District_Key\",keep = 'first', inplace = True)"
   ]
  },
  {
   "cell_type": "code",
   "execution_count": null,
   "id": "482853b6",
   "metadata": {},
   "outputs": [],
   "source": [
    "python.rename(columns = {'District_Key':'districtid'}, inplace = True)"
   ]
  },
  {
   "cell_type": "code",
   "execution_count": null,
   "id": "1d4ebba4",
   "metadata": {},
   "outputs": [],
   "source": [
    "python.sort_values(\"ratioofratio\", axis = 0, ascending = True,inplace = True)"
   ]
  },
  {
   "cell_type": "code",
   "execution_count": null,
   "id": "03411f0e",
   "metadata": {},
   "outputs": [],
   "source": [
    "python.reset_index(inplace = True)"
   ]
  },
  {
   "cell_type": "code",
   "execution_count": null,
   "id": "7ef6d6d9",
   "metadata": {},
   "outputs": [],
   "source": [
    "new_python = python[['districtid','vaccinationratio','populationratio','ratioofratio']].copy()"
   ]
  },
  {
   "cell_type": "code",
   "execution_count": null,
   "id": "5a3bef50",
   "metadata": {},
   "outputs": [],
   "source": [
    "new_python.drop_duplicates(subset =\"districtid\",keep = 'first', inplace = True)"
   ]
  },
  {
   "cell_type": "code",
   "execution_count": null,
   "id": "d0be87fe",
   "metadata": {},
   "outputs": [],
   "source": [
    "new_python.to_csv('vaccination-population-ratio-districts.csv')"
   ]
  },
  {
   "cell_type": "code",
   "execution_count": null,
   "id": "4abbdfff",
   "metadata": {},
   "outputs": [],
   "source": [
    "fin_sum_state = newresult.sum(axis = 0, skipna = True)"
   ]
  },
  {
   "cell_type": "code",
   "execution_count": null,
   "id": "57b605f9",
   "metadata": {},
   "outputs": [],
   "source": [
    "fin_sum_state = fin_sum_state.to_frame()"
   ]
  },
  {
   "cell_type": "code",
   "execution_count": null,
   "id": "cf33a3c5",
   "metadata": {},
   "outputs": [],
   "source": [
    "fin_sum_state = fin_sum_state.transpose()"
   ]
  },
  {
   "cell_type": "code",
   "execution_count": null,
   "id": "6e90bf45",
   "metadata": {},
   "outputs": [],
   "source": [
    "fin_sum_state = fin_sum_state[['maledoses','femaledoses']]"
   ]
  },
  {
   "cell_type": "code",
   "execution_count": null,
   "id": "a12cd67e",
   "metadata": {},
   "outputs": [],
   "source": [
    "fin_sum_state['vaccinationratio'] = fin_sum_state['femaledoses']/fin_sum_state['maledoses']"
   ]
  },
  {
   "cell_type": "code",
   "execution_count": null,
   "id": "1fc24e07",
   "metadata": {},
   "outputs": [],
   "source": [
    "fin_sum_state['overall'] = 'overall'"
   ]
  },
  {
   "cell_type": "code",
   "execution_count": null,
   "id": "75601f75",
   "metadata": {},
   "outputs": [],
   "source": [
    "fin_rslt_df=rslt_df[['TOT_M','TOT_F']].copy()"
   ]
  },
  {
   "cell_type": "code",
   "execution_count": null,
   "id": "fd48d87f",
   "metadata": {},
   "outputs": [],
   "source": [
    "fin_rslt_df= fin_rslt_df.sum(axis = 0, skipna = True)"
   ]
  },
  {
   "cell_type": "code",
   "execution_count": null,
   "id": "43679d55",
   "metadata": {},
   "outputs": [],
   "source": [
    "fin_rslt_df = fin_rslt_df.to_frame()"
   ]
  },
  {
   "cell_type": "code",
   "execution_count": null,
   "id": "d33da65f",
   "metadata": {},
   "outputs": [],
   "source": [
    "fin_rslt_df = fin_rslt_df.transpose()"
   ]
  },
  {
   "cell_type": "code",
   "execution_count": null,
   "id": "0085d146",
   "metadata": {},
   "outputs": [],
   "source": [
    "fin_rslt_df['populationratio'] = fin_rslt_df['TOT_F']/fin_rslt_df['TOT_M']"
   ]
  },
  {
   "cell_type": "code",
   "execution_count": null,
   "id": "f1642a57",
   "metadata": {},
   "outputs": [],
   "source": [
    "fin_rslt_df['overall'] = 'overall'"
   ]
  },
  {
   "cell_type": "code",
   "execution_count": null,
   "id": "679aec85",
   "metadata": {},
   "outputs": [],
   "source": [
    "final_count=pd.merge(fin_rslt_df, fin_sum_state, how='inner', on=['overall'])"
   ]
  },
  {
   "cell_type": "code",
   "execution_count": null,
   "id": "0c7d987a",
   "metadata": {},
   "outputs": [],
   "source": [
    "final_count = final_count[['vaccinationratio','populationratio']]"
   ]
  },
  {
   "cell_type": "code",
   "execution_count": null,
   "id": "b8fb2bd3",
   "metadata": {},
   "outputs": [],
   "source": [
    "final_count['ratioofratio'] = final_count['vaccinationratio']/final_count['populationratio']"
   ]
  },
  {
   "cell_type": "code",
   "execution_count": null,
   "id": "f687def3",
   "metadata": {},
   "outputs": [],
   "source": [
    "final_count['overall'] = 'overall'"
   ]
  },
  {
   "cell_type": "code",
   "execution_count": null,
   "id": "0d95e6ee",
   "metadata": {},
   "outputs": [],
   "source": [
    "final_count = final_count[['overall','vaccinationratio','populationratio','ratioofratio']]"
   ]
  },
  {
   "cell_type": "code",
   "execution_count": null,
   "id": "c252ec79",
   "metadata": {},
   "outputs": [],
   "source": [
    "final_count.to_csv('vaccination-population-ratio-overall.csv')"
   ]
  }
 ],
 "metadata": {
  "kernelspec": {
   "display_name": "Python 3 (ipykernel)",
   "language": "python",
   "name": "python3"
  },
  "language_info": {
   "codemirror_mode": {
    "name": "ipython",
    "version": 3
   },
   "file_extension": ".py",
   "mimetype": "text/x-python",
   "name": "python",
   "nbconvert_exporter": "python",
   "pygments_lexer": "ipython3",
   "version": "3.9.7"
  }
 },
 "nbformat": 4,
 "nbformat_minor": 5
}
