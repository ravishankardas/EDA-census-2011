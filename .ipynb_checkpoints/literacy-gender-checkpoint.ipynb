{
 "cells": [
  {
   "cell_type": "code",
   "execution_count": 1,
   "id": "754dd91c",
   "metadata": {},
   "outputs": [],
   "source": [
    "import pandas as pd\n",
    "import numpy as np"
   ]
  },
  {
   "cell_type": "code",
   "execution_count": 2,
   "id": "f9e95fcf",
   "metadata": {},
   "outputs": [],
   "source": [
    "d = pd.read_excel('DDW-0000C-08.xlsx')"
   ]
  },
  {
   "cell_type": "code",
   "execution_count": 3,
   "id": "0be03a57",
   "metadata": {},
   "outputs": [],
   "source": [
    "d_col = ['table_name','state_code','dist_code','area_name','tot/urb/rur','age_group','tot_persons','tot_males','tot_females','illiterate_persons','illiterate_males','illiterate_females','literate_persons','literate_males','literate_females','literate_without_edu_level_persons','literate_without_edu_level_males','literate_without_edu_level_females','below_primary_persons','below_primary_males','below_primary_females','primary_persons','primary_males','primary_females','middle_persons','middle_males','middle_females','matric_persons','matric_males','matric_females','intermediate_persons','intermediate_males','intermediate_females','non_tech_diploma_persons','non_tech_diploma_males','non_tech_diploma_females','tech_diploma_persons','tech_diploma_males','tech_diploma_females','graduate_and_above_persons','graduate_and_above_males','graduate_and_above_females','unclassified_persons','unclassified_persons_males','unclassified_persons_females']"
   ]
  },
  {
   "cell_type": "code",
   "execution_count": 4,
   "id": "49be4d80",
   "metadata": {},
   "outputs": [],
   "source": [
    "d.columns = d_col"
   ]
  },
  {
   "cell_type": "code",
   "execution_count": 5,
   "id": "f29ce06f",
   "metadata": {},
   "outputs": [],
   "source": [
    "d = d[6:]"
   ]
  },
  {
   "cell_type": "code",
   "execution_count": 6,
   "id": "c3fa1d71",
   "metadata": {},
   "outputs": [],
   "source": [
    "d = d[['state_code','area_name','tot/urb/rur','illiterate_males','illiterate_females','literate_males','literate_females','literate_without_edu_level_males','literate_without_edu_level_females','below_primary_males','below_primary_females','primary_males','primary_females','middle_males','middle_females','matric_males','matric_females','intermediate_males','intermediate_females','non_tech_diploma_males','non_tech_diploma_females','tech_diploma_males','tech_diploma_females','graduate_and_above_males','graduate_and_above_females','unclassified_persons_males','unclassified_persons_females']].copy()"
   ]
  },
  {
   "cell_type": "code",
   "execution_count": 7,
   "id": "3165a78f",
   "metadata": {},
   "outputs": [],
   "source": [
    "d = d[d['tot/urb/rur']=='Total'].copy()"
   ]
  },
  {
   "cell_type": "code",
   "execution_count": 8,
   "id": "d88e6478",
   "metadata": {},
   "outputs": [
    {
     "data": {
      "text/html": [
       "<div>\n",
       "<style scoped>\n",
       "    .dataframe tbody tr th:only-of-type {\n",
       "        vertical-align: middle;\n",
       "    }\n",
       "\n",
       "    .dataframe tbody tr th {\n",
       "        vertical-align: top;\n",
       "    }\n",
       "\n",
       "    .dataframe thead th {\n",
       "        text-align: right;\n",
       "    }\n",
       "</style>\n",
       "<table border=\"1\" class=\"dataframe\">\n",
       "  <thead>\n",
       "    <tr style=\"text-align: right;\">\n",
       "      <th></th>\n",
       "      <th>state_code</th>\n",
       "      <th>area_name</th>\n",
       "      <th>tot/urb/rur</th>\n",
       "      <th>illiterate_males</th>\n",
       "      <th>illiterate_females</th>\n",
       "      <th>literate_males</th>\n",
       "      <th>literate_females</th>\n",
       "      <th>literate_without_edu_level_males</th>\n",
       "      <th>literate_without_edu_level_females</th>\n",
       "      <th>below_primary_males</th>\n",
       "      <th>...</th>\n",
       "      <th>intermediate_males</th>\n",
       "      <th>intermediate_females</th>\n",
       "      <th>non_tech_diploma_males</th>\n",
       "      <th>non_tech_diploma_females</th>\n",
       "      <th>tech_diploma_males</th>\n",
       "      <th>tech_diploma_females</th>\n",
       "      <th>graduate_and_above_males</th>\n",
       "      <th>graduate_and_above_females</th>\n",
       "      <th>unclassified_persons_males</th>\n",
       "      <th>unclassified_persons_females</th>\n",
       "    </tr>\n",
       "  </thead>\n",
       "  <tbody>\n",
       "    <tr>\n",
       "      <th>6</th>\n",
       "      <td>00</td>\n",
       "      <td>INDIA</td>\n",
       "      <td>Total</td>\n",
       "      <td>188506636</td>\n",
       "      <td>258709529</td>\n",
       "      <td>434763622</td>\n",
       "      <td>328875190</td>\n",
       "      <td>19278416</td>\n",
       "      <td>15874815</td>\n",
       "      <td>78445099</td>\n",
       "      <td>...</td>\n",
       "      <td>46481321</td>\n",
       "      <td>31461272</td>\n",
       "      <td>726565</td>\n",
       "      <td>345724</td>\n",
       "      <td>5354161</td>\n",
       "      <td>1884558</td>\n",
       "      <td>42120460</td>\n",
       "      <td>26168511</td>\n",
       "      <td>1647116</td>\n",
       "      <td>1384454</td>\n",
       "    </tr>\n",
       "    <tr>\n",
       "      <th>7</th>\n",
       "      <td>00</td>\n",
       "      <td>INDIA</td>\n",
       "      <td>Total</td>\n",
       "      <td>85752254</td>\n",
       "      <td>78762999</td>\n",
       "      <td>0</td>\n",
       "      <td>0</td>\n",
       "      <td>0</td>\n",
       "      <td>0</td>\n",
       "      <td>0</td>\n",
       "      <td>...</td>\n",
       "      <td>0</td>\n",
       "      <td>0</td>\n",
       "      <td>0</td>\n",
       "      <td>0</td>\n",
       "      <td>0</td>\n",
       "      <td>0</td>\n",
       "      <td>0</td>\n",
       "      <td>0</td>\n",
       "      <td>0</td>\n",
       "      <td>0</td>\n",
       "    </tr>\n",
       "    <tr>\n",
       "      <th>8</th>\n",
       "      <td>00</td>\n",
       "      <td>INDIA</td>\n",
       "      <td>Total</td>\n",
       "      <td>3388683</td>\n",
       "      <td>3359531</td>\n",
       "      <td>9514681</td>\n",
       "      <td>8563745</td>\n",
       "      <td>248229</td>\n",
       "      <td>175976</td>\n",
       "      <td>9190737</td>\n",
       "      <td>...</td>\n",
       "      <td>0</td>\n",
       "      <td>0</td>\n",
       "      <td>0</td>\n",
       "      <td>0</td>\n",
       "      <td>0</td>\n",
       "      <td>0</td>\n",
       "      <td>0</td>\n",
       "      <td>0</td>\n",
       "      <td>75715</td>\n",
       "      <td>60750</td>\n",
       "    </tr>\n",
       "    <tr>\n",
       "      <th>9</th>\n",
       "      <td>00</td>\n",
       "      <td>INDIA</td>\n",
       "      <td>Total</td>\n",
       "      <td>2013742</td>\n",
       "      <td>2117672</td>\n",
       "      <td>12048195</td>\n",
       "      <td>10788764</td>\n",
       "      <td>202220</td>\n",
       "      <td>149060</td>\n",
       "      <td>11793414</td>\n",
       "      <td>...</td>\n",
       "      <td>0</td>\n",
       "      <td>0</td>\n",
       "      <td>0</td>\n",
       "      <td>0</td>\n",
       "      <td>0</td>\n",
       "      <td>0</td>\n",
       "      <td>0</td>\n",
       "      <td>0</td>\n",
       "      <td>52561</td>\n",
       "      <td>43963</td>\n",
       "    </tr>\n",
       "    <tr>\n",
       "      <th>10</th>\n",
       "      <td>00</td>\n",
       "      <td>INDIA</td>\n",
       "      <td>Total</td>\n",
       "      <td>1198339</td>\n",
       "      <td>1293565</td>\n",
       "      <td>11016646</td>\n",
       "      <td>9916088</td>\n",
       "      <td>167048</td>\n",
       "      <td>124233</td>\n",
       "      <td>9579169</td>\n",
       "      <td>...</td>\n",
       "      <td>0</td>\n",
       "      <td>0</td>\n",
       "      <td>0</td>\n",
       "      <td>0</td>\n",
       "      <td>0</td>\n",
       "      <td>0</td>\n",
       "      <td>0</td>\n",
       "      <td>0</td>\n",
       "      <td>38456</td>\n",
       "      <td>31996</td>\n",
       "    </tr>\n",
       "  </tbody>\n",
       "</table>\n",
       "<p>5 rows × 27 columns</p>\n",
       "</div>"
      ],
      "text/plain": [
       "   state_code area_name tot/urb/rur illiterate_males illiterate_females  \\\n",
       "6          00     INDIA       Total        188506636          258709529   \n",
       "7          00     INDIA       Total         85752254           78762999   \n",
       "8          00     INDIA       Total          3388683            3359531   \n",
       "9          00     INDIA       Total          2013742            2117672   \n",
       "10         00     INDIA       Total          1198339            1293565   \n",
       "\n",
       "   literate_males literate_females literate_without_edu_level_males  \\\n",
       "6       434763622        328875190                         19278416   \n",
       "7               0                0                                0   \n",
       "8         9514681          8563745                           248229   \n",
       "9        12048195         10788764                           202220   \n",
       "10       11016646          9916088                           167048   \n",
       "\n",
       "   literate_without_edu_level_females below_primary_males  ...  \\\n",
       "6                            15874815            78445099  ...   \n",
       "7                                   0                   0  ...   \n",
       "8                              175976             9190737  ...   \n",
       "9                              149060            11793414  ...   \n",
       "10                             124233             9579169  ...   \n",
       "\n",
       "   intermediate_males intermediate_females non_tech_diploma_males  \\\n",
       "6            46481321             31461272                 726565   \n",
       "7                   0                    0                      0   \n",
       "8                   0                    0                      0   \n",
       "9                   0                    0                      0   \n",
       "10                  0                    0                      0   \n",
       "\n",
       "   non_tech_diploma_females tech_diploma_males tech_diploma_females  \\\n",
       "6                    345724            5354161              1884558   \n",
       "7                         0                  0                    0   \n",
       "8                         0                  0                    0   \n",
       "9                         0                  0                    0   \n",
       "10                        0                  0                    0   \n",
       "\n",
       "   graduate_and_above_males graduate_and_above_females  \\\n",
       "6                  42120460                   26168511   \n",
       "7                         0                          0   \n",
       "8                         0                          0   \n",
       "9                         0                          0   \n",
       "10                        0                          0   \n",
       "\n",
       "   unclassified_persons_males unclassified_persons_females  \n",
       "6                     1647116                      1384454  \n",
       "7                           0                            0  \n",
       "8                       75715                        60750  \n",
       "9                       52561                        43963  \n",
       "10                      38456                        31996  \n",
       "\n",
       "[5 rows x 27 columns]"
      ]
     },
     "execution_count": 8,
     "metadata": {},
     "output_type": "execute_result"
    }
   ],
   "source": [
    "d.head()"
   ]
  },
  {
   "cell_type": "code",
   "execution_count": 9,
   "id": "989d0f21",
   "metadata": {},
   "outputs": [],
   "source": [
    "d['total_literate_males'] = d['literate_males'] + d['unclassified_persons_males'] + d['literate_without_edu_level_males'] + d['illiterate_males']\n",
    "d['total_literate_females'] = d['literate_females'] + d['unclassified_persons_females'] + d['literate_without_edu_level_females'] + d['illiterate_females']"
   ]
  },
  {
   "cell_type": "code",
   "execution_count": 10,
   "id": "29321b2c",
   "metadata": {},
   "outputs": [],
   "source": [
    "d['total_matric_males'] = d['matric_males'] + d['intermediate_males']+ d['non_tech_diploma_males'] + d['tech_diploma_males']\n",
    "d['total_matric_females'] = d['matric_females'] + d['intermediate_females']+ d['non_tech_diploma_females'] + d['tech_diploma_females']"
   ]
  },
  {
   "cell_type": "code",
   "execution_count": 11,
   "id": "a6cce4ba",
   "metadata": {},
   "outputs": [],
   "source": [
    "data2 = pd.read_excel('DDW-C19-0000.xlsx')"
   ]
  },
  {
   "cell_type": "code",
   "execution_count": 12,
   "id": "bcf777b1",
   "metadata": {},
   "outputs": [],
   "source": [
    "new_col = ['state','District','Area','Total','Edu-level','S_persons','S_males','S_females','T_persons','T_males','T_females']"
   ]
  },
  {
   "cell_type": "code",
   "execution_count": 13,
   "id": "292d29a9",
   "metadata": {},
   "outputs": [],
   "source": [
    "data2.columns = new_col"
   ]
  },
  {
   "cell_type": "code",
   "execution_count": 14,
   "id": "309f2f57",
   "metadata": {},
   "outputs": [],
   "source": [
    "data2 = data2.iloc[5:]"
   ]
  },
  {
   "cell_type": "code",
   "execution_count": 15,
   "id": "a4d61c6d",
   "metadata": {},
   "outputs": [],
   "source": [
    "new_data2 = data2.copy(deep=True)"
   ]
  },
  {
   "cell_type": "code",
   "execution_count": 16,
   "id": "24471825",
   "metadata": {},
   "outputs": [],
   "source": [
    "new_data2 = new_data2[new_data2['Total']=='Total'].copy()"
   ]
  },
  {
   "cell_type": "code",
   "execution_count": 17,
   "id": "04632d05",
   "metadata": {},
   "outputs": [],
   "source": [
    "new_data2 = new_data2[new_data2['Edu-level']!='Total'].copy()"
   ]
  },
  {
   "cell_type": "code",
   "execution_count": 18,
   "id": "2907ea0a",
   "metadata": {},
   "outputs": [],
   "source": [
    "newData2 = pd.DataFrame(columns= ['state','District','Area','Total','Edu-level','S_persons','S_males','S_females','T_persons','T_males','T_females'])"
   ]
  },
  {
   "cell_type": "code",
   "execution_count": 19,
   "id": "dcf78424",
   "metadata": {},
   "outputs": [],
   "source": [
    "names = new_data2['Area'].to_list()"
   ]
  },
  {
   "cell_type": "code",
   "execution_count": 20,
   "id": "893f375f",
   "metadata": {},
   "outputs": [],
   "source": [
    "names = set(names)"
   ]
  },
  {
   "cell_type": "code",
   "execution_count": 21,
   "id": "9528be44",
   "metadata": {},
   "outputs": [],
   "source": [
    "for state in names:\n",
    "    test = new_data2[new_data2['Area'] == state].copy()\n",
    "    lista = test[test['Edu-level']=='Illiterate'].values.flatten().tolist()\n",
    "    listb = test[test['Edu-level']=='Literate'].values.flatten().tolist()\n",
    "    final_list = [listb[0],listb[1],listb[2],listb[3],listb[4]]\n",
    "    lista = lista[5:]\n",
    "    listb = listb[5:]\n",
    "    for i,j in zip(lista,listb):\n",
    "        final_list.append(i+j)\n",
    "    test[test['Edu-level'] == 'Literate'] = final_list\n",
    "    test = test[test['Edu-level']!='Illiterate'].copy()\n",
    "    c = pd.concat([newData2,test],ignore_index=True)\n",
    "    newData2 = c.copy(deep=True)"
   ]
  },
  {
   "cell_type": "code",
   "execution_count": 22,
   "id": "9185a65a",
   "metadata": {},
   "outputs": [],
   "source": [
    "newData2.sort_values(\"Area\", axis = 0, ascending = True,inplace = True, na_position ='last') "
   ]
  },
  {
   "cell_type": "code",
   "execution_count": 23,
   "id": "974f7b63",
   "metadata": {},
   "outputs": [],
   "source": [
    "new_data2 = newData2.copy(deep=True)"
   ]
  },
  {
   "cell_type": "code",
   "execution_count": 24,
   "id": "4018513a",
   "metadata": {},
   "outputs": [],
   "source": [
    "d.drop_duplicates(subset =[\"area_name\"],keep = 'first', inplace = True)"
   ]
  },
  {
   "cell_type": "code",
   "execution_count": 25,
   "id": "40a1f79c",
   "metadata": {},
   "outputs": [],
   "source": [
    "three_data = new_data2[['state','Area','Edu-level','T_males','T_females']].copy()"
   ]
  },
  {
   "cell_type": "code",
   "execution_count": 26,
   "id": "5e0f7026",
   "metadata": {},
   "outputs": [],
   "source": [
    "two_data = new_data2.copy(deep=True)"
   ]
  },
  {
   "cell_type": "code",
   "execution_count": 27,
   "id": "2f99a377",
   "metadata": {},
   "outputs": [],
   "source": [
    "one_data = new_data2[['state','Area','Edu-level','S_males','S_females']].copy()"
   ]
  },
  {
   "cell_type": "code",
   "execution_count": 28,
   "id": "fd80dc6f",
   "metadata": {},
   "outputs": [],
   "source": [
    "d.reset_index(inplace=True)"
   ]
  },
  {
   "cell_type": "code",
   "execution_count": 29,
   "id": "9b7a3bef",
   "metadata": {},
   "outputs": [],
   "source": [
    "d = d[['state_code', 'area_name','total_literate_males','total_literate_females','below_primary_males','below_primary_females', 'primary_males', 'primary_females','middle_males', 'middle_females','total_matric_males', 'total_matric_females','graduate_and_above_males','graduate_and_above_females', ]].copy()"
   ]
  },
  {
   "cell_type": "code",
   "execution_count": 30,
   "id": "6f598851",
   "metadata": {},
   "outputs": [],
   "source": [
    "col_list = ['state_code', 'area_name','literate males', 'literate females', 'literate but below primary males', 'literate but below primary females', 'primary but below middle males', 'primary but below middle females', 'middle but below matric/secondary males', 'middle but below matric/secondary females', 'matric/secondary but below graduate males', 'matric/secondary but below graduate females', 'graduate and above males', 'graduate and above females']"
   ]
  },
  {
   "cell_type": "code",
   "execution_count": 31,
   "id": "7013a7e2",
   "metadata": {},
   "outputs": [],
   "source": [
    "three_data.reset_index(inplace=True)"
   ]
  },
  {
   "cell_type": "code",
   "execution_count": 32,
   "id": "151475f1",
   "metadata": {},
   "outputs": [
    {
     "data": {
      "text/plain": [
       "0        0\n",
       "1        1\n",
       "2        2\n",
       "3        3\n",
       "4        4\n",
       "      ... \n",
       "211    175\n",
       "212    174\n",
       "213    178\n",
       "214    179\n",
       "215    177\n",
       "Name: index, Length: 216, dtype: int64"
      ]
     },
     "execution_count": 32,
     "metadata": {},
     "output_type": "execute_result"
    }
   ],
   "source": [
    "three_data.pop('index')"
   ]
  },
  {
   "cell_type": "code",
   "execution_count": 33,
   "id": "b10c70fa",
   "metadata": {},
   "outputs": [],
   "source": [
    "d.columns = col_list"
   ]
  },
  {
   "cell_type": "code",
   "execution_count": 34,
   "id": "6d107f9f",
   "metadata": {},
   "outputs": [],
   "source": [
    "the = d['area_name'].to_list()"
   ]
  },
  {
   "cell_type": "code",
   "execution_count": 35,
   "id": "d1cff4d6",
   "metadata": {},
   "outputs": [],
   "source": [
    "for i in range(len(the)):\n",
    "    change = the[i]\n",
    "    change = change.replace(\"State - \", \"\")\n",
    "    the[i] = change"
   ]
  },
  {
   "cell_type": "code",
   "execution_count": 36,
   "id": "4e2b561f",
   "metadata": {},
   "outputs": [],
   "source": [
    "d['area_name'] = the"
   ]
  },
  {
   "cell_type": "code",
   "execution_count": 37,
   "id": "62271554",
   "metadata": {},
   "outputs": [],
   "source": [
    "d.sort_values(\"area_name\", axis = 0, ascending = True,inplace = True, na_position ='last') "
   ]
  },
  {
   "cell_type": "code",
   "execution_count": 38,
   "id": "dadf36de",
   "metadata": {},
   "outputs": [],
   "source": [
    "d['area_name'] = d['area_name'].str.lower()"
   ]
  },
  {
   "cell_type": "code",
   "execution_count": 39,
   "id": "bae348de",
   "metadata": {},
   "outputs": [],
   "source": [
    "three_data['male'] = np.repeat(0,216)\n",
    "three_data['female'] = np.repeat(0,216)"
   ]
  },
  {
   "cell_type": "code",
   "execution_count": 40,
   "id": "38b11445",
   "metadata": {},
   "outputs": [],
   "source": [
    "three_data['Edu-level'] = three_data['Edu-level'].str.lower()\n",
    "three_data['Area'] = three_data['Area'].str.lower()"
   ]
  },
  {
   "cell_type": "code",
   "execution_count": 41,
   "id": "f189e451",
   "metadata": {},
   "outputs": [],
   "source": [
    "def add_three(name,level,idx):\n",
    "    df = (d[d['area_name']==name])\n",
    "    text_male = level + ' males'\n",
    "    text_female = level + ' females'\n",
    "    three_data.at[index,'male'] = df[text_male].to_list()[0]\n",
    "    three_data.at[index,'female'] = df[text_female].to_list()[0]\n",
    "    "
   ]
  },
  {
   "cell_type": "code",
   "execution_count": 42,
   "id": "0db213e5",
   "metadata": {},
   "outputs": [],
   "source": [
    "for index, row in three_data.iterrows():\n",
    "    name = row['Area']\n",
    "    level = row['Edu-level']\n",
    "    add_three(name,level,index)    "
   ]
  },
  {
   "cell_type": "code",
   "execution_count": 43,
   "id": "80503195",
   "metadata": {},
   "outputs": [],
   "source": [
    "tot_data = three_data[['male','female']].copy()"
   ]
  },
  {
   "cell_type": "code",
   "execution_count": 44,
   "id": "b23c820a",
   "metadata": {},
   "outputs": [],
   "source": [
    "three_data['male_ratio'] = three_data['T_males']/three_data['male']\n",
    "three_data['female_ratio'] = three_data['T_females']/three_data['female']"
   ]
  },
  {
   "cell_type": "code",
   "execution_count": 45,
   "id": "0d92c087",
   "metadata": {},
   "outputs": [],
   "source": [
    "three_males = three_data[['state','Area','Edu-level','male_ratio']].copy()\n",
    "three_females = three_data[['state','Area','Edu-level','female_ratio']].copy()"
   ]
  },
  {
   "cell_type": "code",
   "execution_count": 46,
   "id": "3e9c1c1b",
   "metadata": {},
   "outputs": [],
   "source": [
    "three_males['max_column'] = three_males.groupby(['Area'])['male_ratio'].transform('max')\n",
    "three_females['max_column'] = three_females.groupby(['Area'])['female_ratio'].transform('max')"
   ]
  },
  {
   "cell_type": "code",
   "execution_count": 47,
   "id": "8906f349",
   "metadata": {},
   "outputs": [],
   "source": [
    "three_males = three_males[three_males['male_ratio'] == three_males['max_column']].copy()\n",
    "three_females = three_females[three_females['female_ratio'] == three_females['max_column']].copy()"
   ]
  },
  {
   "cell_type": "code",
   "execution_count": 48,
   "id": "e43a023c",
   "metadata": {},
   "outputs": [
    {
     "data": {
      "text/plain": [
       "5      0.523678\n",
       "10     0.362510\n",
       "17     0.716931\n",
       "22     0.600356\n",
       "28     0.084491\n",
       "31     0.705212\n",
       "41     0.129118\n",
       "42     0.548726\n",
       "53     0.579392\n",
       "58     0.804937\n",
       "64     0.670003\n",
       "66     0.196280\n",
       "74     0.152457\n",
       "83     0.337433\n",
       "88     0.680314\n",
       "93     0.217443\n",
       "96     0.501979\n",
       "102    0.353019\n",
       "111    0.610190\n",
       "117    0.117693\n",
       "121    0.656895\n",
       "127    0.621187\n",
       "132    0.429673\n",
       "143    0.209615\n",
       "144    0.695980\n",
       "150    0.247149\n",
       "161    0.655997\n",
       "162    0.204870\n",
       "168    0.765537\n",
       "179    0.086324\n",
       "180    0.791838\n",
       "191    0.145446\n",
       "195    0.313940\n",
       "201    0.069244\n",
       "208    0.073002\n",
       "214    0.244835\n",
       "Name: max_column, dtype: float64"
      ]
     },
     "execution_count": 48,
     "metadata": {},
     "output_type": "execute_result"
    }
   ],
   "source": [
    "three_males.pop('max_column')\n",
    "three_females.pop('max_column')"
   ]
  },
  {
   "cell_type": "code",
   "execution_count": 49,
   "id": "2fd223fd",
   "metadata": {},
   "outputs": [],
   "source": [
    "three_males.columns = ['state/ut','Area','literacy-group-males',' ratio-males-3']\n",
    "three_females.columns = ['state/ut','Area','literacy-group-females',' ratio-females-3']"
   ]
  },
  {
   "cell_type": "code",
   "execution_count": 50,
   "id": "5a7f3021",
   "metadata": {},
   "outputs": [],
   "source": [
    "final_three = pd.merge(three_males, three_females, on='Area', how='outer')"
   ]
  },
  {
   "cell_type": "code",
   "execution_count": 51,
   "id": "933ec5af",
   "metadata": {},
   "outputs": [
    {
     "data": {
      "text/plain": [
       "0     andaman & nicobar islands\n",
       "1                andhra pradesh\n",
       "2             arunachal pradesh\n",
       "3                         assam\n",
       "4                         bihar\n",
       "5                    chandigarh\n",
       "6                  chhattisgarh\n",
       "7          dadra & nagar haveli\n",
       "8                   daman & diu\n",
       "9                           goa\n",
       "10                      gujarat\n",
       "11                      haryana\n",
       "12             himachal pradesh\n",
       "13                        india\n",
       "14              jammu & kashmir\n",
       "15                    jharkhand\n",
       "16                    karnataka\n",
       "17                       kerala\n",
       "18                  lakshadweep\n",
       "19               madhya pradesh\n",
       "20                  maharashtra\n",
       "21                      manipur\n",
       "22                    meghalaya\n",
       "23                      mizoram\n",
       "24                     nagaland\n",
       "25                 nct of delhi\n",
       "26                       odisha\n",
       "27                   puducherry\n",
       "28                       punjab\n",
       "29                    rajasthan\n",
       "30                       sikkim\n",
       "31                   tamil nadu\n",
       "32                      tripura\n",
       "33                uttar pradesh\n",
       "34                  uttarakhand\n",
       "35                  west bengal\n",
       "Name: Area, dtype: object"
      ]
     },
     "execution_count": 51,
     "metadata": {},
     "output_type": "execute_result"
    }
   ],
   "source": [
    "final_three.pop('state/ut_y')\n",
    "final_three.pop('Area')"
   ]
  },
  {
   "cell_type": "code",
   "execution_count": 52,
   "id": "9f936e51",
   "metadata": {},
   "outputs": [],
   "source": [
    "final_three = final_three.rename(columns={'state/ut_x':'state/ut'})"
   ]
  },
  {
   "cell_type": "code",
   "execution_count": 53,
   "id": "d0499541",
   "metadata": {},
   "outputs": [],
   "source": [
    "final_three.sort_values(\"state/ut\", axis = 0, ascending = True,inplace = True, na_position ='last') "
   ]
  },
  {
   "cell_type": "code",
   "execution_count": 54,
   "id": "06ca9501",
   "metadata": {},
   "outputs": [],
   "source": [
    "final_three.to_csv('literacy-gender-a.csv',index = False)"
   ]
  },
  {
   "cell_type": "code",
   "execution_count": 55,
   "id": "c3edac3e",
   "metadata": {},
   "outputs": [],
   "source": [
    "two_data.reset_index(inplace=True)"
   ]
  },
  {
   "cell_type": "code",
   "execution_count": 56,
   "id": "c9389bed",
   "metadata": {},
   "outputs": [],
   "source": [
    "two_data['male-two'] = two_data['S_males'] - two_data['T_males']\n",
    "two_data['female-two'] = two_data['S_females'] - two_data['T_females']"
   ]
  },
  {
   "cell_type": "code",
   "execution_count": 57,
   "id": "635d641d",
   "metadata": {},
   "outputs": [],
   "source": [
    "two_data = two_data[['state','Area','Edu-level','male-two','female-two']].copy()"
   ]
  },
  {
   "cell_type": "code",
   "execution_count": 58,
   "id": "fe301c6a",
   "metadata": {},
   "outputs": [],
   "source": [
    "two_data['Area'] = two_data['Area'].str.lower()\n",
    "two_data['Edu-level'] = two_data['Edu-level'].str.lower()"
   ]
  },
  {
   "cell_type": "code",
   "execution_count": 59,
   "id": "9419ea71",
   "metadata": {},
   "outputs": [],
   "source": [
    "two_data['male'] = np.repeat(0,216)\n",
    "two_data['female'] = np.repeat(0,216)"
   ]
  },
  {
   "cell_type": "code",
   "execution_count": 60,
   "id": "eebda2fa",
   "metadata": {},
   "outputs": [],
   "source": [
    "def add_two(name,level,idx):\n",
    "    df = (d[d['area_name']==name])\n",
    "    text_male = level + ' males'\n",
    "    text_female = level + ' females'\n",
    "    two_data.at[index,'male'] = df[text_male].to_list()[0]\n",
    "    two_data.at[index,'female'] = df[text_female].to_list()[0]\n",
    "    "
   ]
  },
  {
   "cell_type": "code",
   "execution_count": 61,
   "id": "400aa658",
   "metadata": {},
   "outputs": [],
   "source": [
    "for index, row in two_data.iterrows():\n",
    "    name = row['Area']\n",
    "    level = row['Edu-level']\n",
    "    add_two(name,level,index)    "
   ]
  },
  {
   "cell_type": "code",
   "execution_count": 62,
   "id": "4d758ec7",
   "metadata": {},
   "outputs": [],
   "source": [
    "two_data['male_ratio'] = two_data['male-two']/three_data['male']\n",
    "two_data['female_ratio'] = two_data['female-two']/three_data['female']"
   ]
  },
  {
   "cell_type": "code",
   "execution_count": 63,
   "id": "0b479b72",
   "metadata": {},
   "outputs": [],
   "source": [
    "two_males = two_data[['state','Area','Edu-level','male_ratio']].copy()\n",
    "two_females = two_data[['state','Area','Edu-level','female_ratio']].copy()"
   ]
  },
  {
   "cell_type": "code",
   "execution_count": 64,
   "id": "b4efde32",
   "metadata": {},
   "outputs": [],
   "source": [
    "two_males['max_column'] = two_males.groupby(['Area'])['male_ratio'].transform('max')\n",
    "two_females['max_column'] = two_females.groupby(['Area'])['female_ratio'].transform('max')"
   ]
  },
  {
   "cell_type": "code",
   "execution_count": 65,
   "id": "eb034474",
   "metadata": {},
   "outputs": [],
   "source": [
    "two_males = two_males[two_males['male_ratio'] == two_males['max_column']].copy()\n",
    "two_females = two_females[two_females['female_ratio'] == two_females['max_column']].copy()"
   ]
  },
  {
   "cell_type": "code",
   "execution_count": 66,
   "id": "90a64bad",
   "metadata": {},
   "outputs": [
    {
     "data": {
      "text/plain": [
       "2      0.630005\n",
       "10     0.376179\n",
       "13     0.513165\n",
       "19     0.389562\n",
       "28     0.311809\n",
       "30     0.353068\n",
       "41     0.295320\n",
       "44     0.546523\n",
       "51     0.550489\n",
       "56     0.492154\n",
       "65     0.537277\n",
       "66     0.472862\n",
       "74     0.240272\n",
       "83     0.376113\n",
       "86     0.583226\n",
       "93     0.399280\n",
       "97     0.326569\n",
       "102    0.388279\n",
       "111    0.257109\n",
       "117    0.429425\n",
       "125    0.494496\n",
       "128    0.367819\n",
       "132    0.462337\n",
       "143    0.675127\n",
       "147    0.518272\n",
       "150    0.632253\n",
       "160    0.282474\n",
       "162    0.637281\n",
       "173    0.337852\n",
       "179    0.362975\n",
       "182    0.447626\n",
       "191    0.604541\n",
       "195    0.365270\n",
       "201    0.433187\n",
       "208    0.354939\n",
       "214    0.356559\n",
       "Name: max_column, dtype: float64"
      ]
     },
     "execution_count": 66,
     "metadata": {},
     "output_type": "execute_result"
    }
   ],
   "source": [
    "two_males.pop('max_column')\n",
    "two_females.pop('max_column')"
   ]
  },
  {
   "cell_type": "code",
   "execution_count": 67,
   "id": "0a4a234e",
   "metadata": {},
   "outputs": [],
   "source": [
    "two_males.columns = ['state/ut','Area','literacy-group-males',' ratio-males-2']\n",
    "two_females.columns = ['state/ut','Area','literacy-group-females',' ratio-females-2']"
   ]
  },
  {
   "cell_type": "code",
   "execution_count": 68,
   "id": "3d308aba",
   "metadata": {},
   "outputs": [],
   "source": [
    "final_two = pd.merge(two_males, two_females, on='Area', how='outer')"
   ]
  },
  {
   "cell_type": "code",
   "execution_count": 69,
   "id": "490d4ce3",
   "metadata": {},
   "outputs": [
    {
     "data": {
      "text/plain": [
       "0     andaman & nicobar islands\n",
       "1                andhra pradesh\n",
       "2             arunachal pradesh\n",
       "3                         assam\n",
       "4                         bihar\n",
       "5                    chandigarh\n",
       "6                  chhattisgarh\n",
       "7          dadra & nagar haveli\n",
       "8                   daman & diu\n",
       "9                           goa\n",
       "10                      gujarat\n",
       "11                      haryana\n",
       "12             himachal pradesh\n",
       "13                        india\n",
       "14              jammu & kashmir\n",
       "15                    jharkhand\n",
       "16                    karnataka\n",
       "17                       kerala\n",
       "18                  lakshadweep\n",
       "19               madhya pradesh\n",
       "20                  maharashtra\n",
       "21                      manipur\n",
       "22                    meghalaya\n",
       "23                      mizoram\n",
       "24                     nagaland\n",
       "25                 nct of delhi\n",
       "26                       odisha\n",
       "27                   puducherry\n",
       "28                       punjab\n",
       "29                    rajasthan\n",
       "30                       sikkim\n",
       "31                   tamil nadu\n",
       "32                      tripura\n",
       "33                uttar pradesh\n",
       "34                  uttarakhand\n",
       "35                  west bengal\n",
       "Name: Area, dtype: object"
      ]
     },
     "execution_count": 69,
     "metadata": {},
     "output_type": "execute_result"
    }
   ],
   "source": [
    "final_two.pop('state/ut_y')\n",
    "final_two.pop('Area')"
   ]
  },
  {
   "cell_type": "code",
   "execution_count": 70,
   "id": "17968047",
   "metadata": {},
   "outputs": [],
   "source": [
    "final_two = final_two.rename(columns={'state/ut_x':'state/ut'})"
   ]
  },
  {
   "cell_type": "code",
   "execution_count": 71,
   "id": "639f737a",
   "metadata": {},
   "outputs": [],
   "source": [
    "final_two.sort_values(\"state/ut\", axis = 0, ascending = True,inplace = True, na_position ='last') "
   ]
  },
  {
   "cell_type": "code",
   "execution_count": 72,
   "id": "9dac589a",
   "metadata": {},
   "outputs": [],
   "source": [
    "final_two.to_csv('literacy-gender-b.csv',index=False)"
   ]
  },
  {
   "cell_type": "code",
   "execution_count": 73,
   "id": "65017776",
   "metadata": {},
   "outputs": [],
   "source": [
    "one_data['Area'] = one_data['Area'].str.lower()\n",
    "one_data['Edu-level'] = one_data['Edu-level'].str.lower()"
   ]
  },
  {
   "cell_type": "code",
   "execution_count": 74,
   "id": "69b14788",
   "metadata": {},
   "outputs": [],
   "source": [
    "one_data.reset_index(inplace=True)"
   ]
  },
  {
   "cell_type": "code",
   "execution_count": 75,
   "id": "59781c62",
   "metadata": {},
   "outputs": [
    {
     "data": {
      "text/plain": [
       "0        0\n",
       "1        1\n",
       "2        2\n",
       "3        3\n",
       "4        4\n",
       "      ... \n",
       "211    175\n",
       "212    174\n",
       "213    178\n",
       "214    179\n",
       "215    177\n",
       "Name: index, Length: 216, dtype: int64"
      ]
     },
     "execution_count": 75,
     "metadata": {},
     "output_type": "execute_result"
    }
   ],
   "source": [
    "one_data.pop('index')"
   ]
  },
  {
   "cell_type": "code",
   "execution_count": 76,
   "id": "485da20d",
   "metadata": {},
   "outputs": [],
   "source": [
    "one_area = one_data['Area'].to_list()"
   ]
  },
  {
   "cell_type": "code",
   "execution_count": 77,
   "id": "d3ec7318",
   "metadata": {},
   "outputs": [],
   "source": [
    "for i in range(len(one_area)):\n",
    "    text = one_area[i]\n",
    "    text = text.replace('&','and')\n",
    "    one_area[i] = text"
   ]
  },
  {
   "cell_type": "code",
   "execution_count": 78,
   "id": "69b199f8",
   "metadata": {},
   "outputs": [],
   "source": [
    "one_data['Area'] = one_area"
   ]
  },
  {
   "cell_type": "code",
   "execution_count": 79,
   "id": "6189514e",
   "metadata": {},
   "outputs": [],
   "source": [
    "one_data['male'] = tot_data['male'].to_list()\n",
    "one_data['female'] = tot_data['female'].to_list()"
   ]
  },
  {
   "cell_type": "code",
   "execution_count": 80,
   "id": "221aa23d",
   "metadata": {},
   "outputs": [
    {
     "data": {
      "text/html": [
       "<div>\n",
       "<style scoped>\n",
       "    .dataframe tbody tr th:only-of-type {\n",
       "        vertical-align: middle;\n",
       "    }\n",
       "\n",
       "    .dataframe tbody tr th {\n",
       "        vertical-align: top;\n",
       "    }\n",
       "\n",
       "    .dataframe thead th {\n",
       "        text-align: right;\n",
       "    }\n",
       "</style>\n",
       "<table border=\"1\" class=\"dataframe\">\n",
       "  <thead>\n",
       "    <tr style=\"text-align: right;\">\n",
       "      <th></th>\n",
       "      <th>state</th>\n",
       "      <th>Area</th>\n",
       "      <th>Edu-level</th>\n",
       "      <th>S_males</th>\n",
       "      <th>S_females</th>\n",
       "      <th>male</th>\n",
       "      <th>female</th>\n",
       "    </tr>\n",
       "  </thead>\n",
       "  <tbody>\n",
       "    <tr>\n",
       "      <th>0</th>\n",
       "      <td>35</td>\n",
       "      <td>andaman and nicobar islands</td>\n",
       "      <td>literate</td>\n",
       "      <td>142378</td>\n",
       "      <td>115047</td>\n",
       "      <td>206389</td>\n",
       "      <td>181076</td>\n",
       "    </tr>\n",
       "    <tr>\n",
       "      <th>1</th>\n",
       "      <td>35</td>\n",
       "      <td>andaman and nicobar islands</td>\n",
       "      <td>literate but below primary</td>\n",
       "      <td>15471</td>\n",
       "      <td>12785</td>\n",
       "      <td>22513</td>\n",
       "      <td>19616</td>\n",
       "    </tr>\n",
       "    <tr>\n",
       "      <th>2</th>\n",
       "      <td>35</td>\n",
       "      <td>andaman and nicobar islands</td>\n",
       "      <td>primary but below middle</td>\n",
       "      <td>29491</td>\n",
       "      <td>22946</td>\n",
       "      <td>37920</td>\n",
       "      <td>30495</td>\n",
       "    </tr>\n",
       "    <tr>\n",
       "      <th>3</th>\n",
       "      <td>35</td>\n",
       "      <td>andaman and nicobar islands</td>\n",
       "      <td>middle but below matric/secondary</td>\n",
       "      <td>31737</td>\n",
       "      <td>23203</td>\n",
       "      <td>39337</td>\n",
       "      <td>29283</td>\n",
       "    </tr>\n",
       "    <tr>\n",
       "      <th>4</th>\n",
       "      <td>35</td>\n",
       "      <td>andaman and nicobar islands</td>\n",
       "      <td>matric/secondary but below graduate</td>\n",
       "      <td>40105</td>\n",
       "      <td>30799</td>\n",
       "      <td>47467</td>\n",
       "      <td>36607</td>\n",
       "    </tr>\n",
       "  </tbody>\n",
       "</table>\n",
       "</div>"
      ],
      "text/plain": [
       "  state                         Area                            Edu-level  \\\n",
       "0    35  andaman and nicobar islands                             literate   \n",
       "1    35  andaman and nicobar islands           literate but below primary   \n",
       "2    35  andaman and nicobar islands             primary but below middle   \n",
       "3    35  andaman and nicobar islands    middle but below matric/secondary   \n",
       "4    35  andaman and nicobar islands  matric/secondary but below graduate   \n",
       "\n",
       "  S_males S_females    male  female  \n",
       "0  142378    115047  206389  181076  \n",
       "1   15471     12785   22513   19616  \n",
       "2   29491     22946   37920   30495  \n",
       "3   31737     23203   39337   29283  \n",
       "4   40105     30799   47467   36607  "
      ]
     },
     "execution_count": 80,
     "metadata": {},
     "output_type": "execute_result"
    }
   ],
   "source": [
    "one_data.head()"
   ]
  },
  {
   "cell_type": "code",
   "execution_count": 81,
   "id": "8a93a7e3",
   "metadata": {},
   "outputs": [],
   "source": [
    "one_data['one-male'] = one_data['male'] - one_data['S_males']\n",
    "one_data['one-female'] = one_data['female'] - one_data['S_females']"
   ]
  },
  {
   "cell_type": "code",
   "execution_count": 82,
   "id": "62779358",
   "metadata": {},
   "outputs": [],
   "source": [
    "one_data = one_data.drop(['S_males','S_females'],axis=1)"
   ]
  },
  {
   "cell_type": "code",
   "execution_count": 83,
   "id": "bcd49da8",
   "metadata": {},
   "outputs": [],
   "source": [
    "one_data['ratio-male-1'] = one_data['one-male']/one_data['male']\n",
    "one_data['ratio-female-1'] = one_data['one-female']/one_data['female']"
   ]
  },
  {
   "cell_type": "code",
   "execution_count": 84,
   "id": "4c81f70f",
   "metadata": {},
   "outputs": [],
   "source": [
    "male_one = one_data[['state','Area','Edu-level','ratio-male-1']].copy()\n",
    "female_one = one_data[['state','Area','Edu-level','ratio-female-1']].copy()"
   ]
  },
  {
   "cell_type": "code",
   "execution_count": 85,
   "id": "367ea6a0",
   "metadata": {},
   "outputs": [],
   "source": [
    "male_one['max_column'] = male_one.groupby(['Area'])['ratio-male-1'].transform('max')\n",
    "female_one['max_column'] = female_one.groupby(['Area'])['ratio-female-1'].transform('max')"
   ]
  },
  {
   "cell_type": "code",
   "execution_count": 86,
   "id": "a9270ff9",
   "metadata": {},
   "outputs": [],
   "source": [
    "male_one = male_one[male_one['ratio-male-1'] == male_one['max_column']].copy()\n",
    "female_one = female_one[female_one['ratio-female-1'] == female_one['max_column']].copy()"
   ]
  },
  {
   "cell_type": "code",
   "execution_count": 87,
   "id": "63927947",
   "metadata": {},
   "outputs": [
    {
     "data": {
      "text/plain": [
       "0      0.364648\n",
       "11     0.833329\n",
       "12     0.400423\n",
       "21     0.587008\n",
       "24     0.857191\n",
       "33     0.608200\n",
       "40     0.878853\n",
       "45     0.445132\n",
       "49     0.621291\n",
       "55     0.307347\n",
       "62     0.798674\n",
       "71     0.850880\n",
       "75     0.838191\n",
       "80     0.806900\n",
       "87     0.574298\n",
       "91     0.723764\n",
       "100    0.656461\n",
       "106    0.927691\n",
       "109    0.928381\n",
       "115    0.881282\n",
       "124    0.652025\n",
       "131    0.628061\n",
       "137    0.831964\n",
       "141    0.827003\n",
       "149    0.426517\n",
       "152    0.769320\n",
       "157    0.810188\n",
       "166    0.868128\n",
       "170    0.669270\n",
       "174    0.908761\n",
       "181    0.426115\n",
       "188    0.818735\n",
       "196    0.708909\n",
       "198    0.914209\n",
       "205    0.852406\n",
       "211    0.909949\n",
       "Name: max_column, dtype: float64"
      ]
     },
     "execution_count": 87,
     "metadata": {},
     "output_type": "execute_result"
    }
   ],
   "source": [
    "male_one.pop('max_column')\n",
    "female_one.pop('max_column')"
   ]
  },
  {
   "cell_type": "code",
   "execution_count": 88,
   "id": "2177bebd",
   "metadata": {},
   "outputs": [
    {
     "data": {
      "text/html": [
       "<div>\n",
       "<style scoped>\n",
       "    .dataframe tbody tr th:only-of-type {\n",
       "        vertical-align: middle;\n",
       "    }\n",
       "\n",
       "    .dataframe tbody tr th {\n",
       "        vertical-align: top;\n",
       "    }\n",
       "\n",
       "    .dataframe thead th {\n",
       "        text-align: right;\n",
       "    }\n",
       "</style>\n",
       "<table border=\"1\" class=\"dataframe\">\n",
       "  <thead>\n",
       "    <tr style=\"text-align: right;\">\n",
       "      <th></th>\n",
       "      <th>state</th>\n",
       "      <th>Area</th>\n",
       "      <th>Edu-level</th>\n",
       "      <th>ratio-male-1</th>\n",
       "    </tr>\n",
       "  </thead>\n",
       "  <tbody>\n",
       "    <tr>\n",
       "      <th>1</th>\n",
       "      <td>35</td>\n",
       "      <td>andaman and nicobar islands</td>\n",
       "      <td>literate but below primary</td>\n",
       "      <td>0.312797</td>\n",
       "    </tr>\n",
       "    <tr>\n",
       "      <th>11</th>\n",
       "      <td>28</td>\n",
       "      <td>andhra pradesh</td>\n",
       "      <td>literate but below primary</td>\n",
       "      <td>0.81632</td>\n",
       "    </tr>\n",
       "    <tr>\n",
       "      <th>12</th>\n",
       "      <td>12</td>\n",
       "      <td>arunachal pradesh</td>\n",
       "      <td>literate</td>\n",
       "      <td>0.342436</td>\n",
       "    </tr>\n",
       "    <tr>\n",
       "      <th>20</th>\n",
       "      <td>18</td>\n",
       "      <td>assam</td>\n",
       "      <td>literate but below primary</td>\n",
       "      <td>0.527125</td>\n",
       "    </tr>\n",
       "    <tr>\n",
       "      <th>24</th>\n",
       "      <td>10</td>\n",
       "      <td>bihar</td>\n",
       "      <td>literate</td>\n",
       "      <td>0.832075</td>\n",
       "    </tr>\n",
       "  </tbody>\n",
       "</table>\n",
       "</div>"
      ],
      "text/plain": [
       "   state                         Area                   Edu-level ratio-male-1\n",
       "1     35  andaman and nicobar islands  literate but below primary     0.312797\n",
       "11    28               andhra pradesh  literate but below primary      0.81632\n",
       "12    12            arunachal pradesh                    literate     0.342436\n",
       "20    18                        assam  literate but below primary     0.527125\n",
       "24    10                        bihar                    literate     0.832075"
      ]
     },
     "execution_count": 88,
     "metadata": {},
     "output_type": "execute_result"
    }
   ],
   "source": [
    "male_one.head()"
   ]
  },
  {
   "cell_type": "code",
   "execution_count": 89,
   "id": "38c4c993",
   "metadata": {},
   "outputs": [],
   "source": [
    "male_one.columns = ['state/ut','Area','literacy-group-males',' ratio-males-1']\n",
    "female_one.columns = ['state/ut','Area','literacy-group-females',' ratio-females-1']"
   ]
  },
  {
   "cell_type": "code",
   "execution_count": 90,
   "id": "c7bc582e",
   "metadata": {},
   "outputs": [],
   "source": [
    "final_one = pd.merge(male_one, female_one, on='Area', how='outer')"
   ]
  },
  {
   "cell_type": "code",
   "execution_count": 91,
   "id": "0ac2c692",
   "metadata": {},
   "outputs": [],
   "source": [
    "final_one = final_one.drop(['Area','state/ut_y'],axis=1)"
   ]
  },
  {
   "cell_type": "code",
   "execution_count": 92,
   "id": "dc8d22d2",
   "metadata": {},
   "outputs": [],
   "source": [
    "final_one.sort_values(\"state/ut_x\", axis = 0, ascending = True,inplace = True, na_position ='last') "
   ]
  },
  {
   "cell_type": "code",
   "execution_count": 93,
   "id": "459d152c",
   "metadata": {},
   "outputs": [],
   "source": [
    "final_one = final_one.rename(columns={'state/ut_x':'state/ut'})"
   ]
  },
  {
   "cell_type": "code",
   "execution_count": 94,
   "id": "5a0a65c9",
   "metadata": {},
   "outputs": [],
   "source": [
    "final_one.to_csv('literacy-gender-c.csv',index=False)"
   ]
  }
 ],
 "metadata": {
  "kernelspec": {
   "display_name": "Python 3 (ipykernel)",
   "language": "python",
   "name": "python3"
  },
  "language_info": {
   "codemirror_mode": {
    "name": "ipython",
    "version": 3
   },
   "file_extension": ".py",
   "mimetype": "text/x-python",
   "name": "python",
   "nbconvert_exporter": "python",
   "pygments_lexer": "ipython3",
   "version": "3.9.7"
  }
 },
 "nbformat": 4,
 "nbformat_minor": 5
}
