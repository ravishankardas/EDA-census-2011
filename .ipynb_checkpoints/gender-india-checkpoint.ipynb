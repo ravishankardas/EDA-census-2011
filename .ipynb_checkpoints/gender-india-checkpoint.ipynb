{
 "cells": [
  {
   "cell_type": "code",
   "execution_count": 1,
   "id": "6f9bbb02",
   "metadata": {},
   "outputs": [],
   "source": [
    "import pandas as pd\n",
    "import numpy as np\n",
    "from scipy import stats"
   ]
  },
  {
   "cell_type": "code",
   "execution_count": 2,
   "id": "76af94ce",
   "metadata": {},
   "outputs": [],
   "source": [
    "data = pd.read_excel('DDW_PCA0000_2011_Indiastatedist.xlsx')"
   ]
  },
  {
   "cell_type": "code",
   "execution_count": 3,
   "id": "b6a41892",
   "metadata": {},
   "outputs": [],
   "source": [
    "popdata = data[['Level','Name','TOT_M','TOT_F']].copy()"
   ]
  },
  {
   "cell_type": "code",
   "execution_count": 4,
   "id": "47342d86",
   "metadata": {},
   "outputs": [],
   "source": [
    "popdata = popdata[popdata['Level']!='DISTRICT'].copy()"
   ]
  },
  {
   "cell_type": "code",
   "execution_count": 5,
   "id": "452a187b",
   "metadata": {},
   "outputs": [],
   "source": [
    "popdata.drop_duplicates(subset =\"Name\",keep = 'first', inplace = True)"
   ]
  },
  {
   "cell_type": "code",
   "execution_count": 6,
   "id": "5443e4b8",
   "metadata": {},
   "outputs": [],
   "source": [
    "rslt_df = popdata.copy(deep=True)"
   ]
  },
  {
   "cell_type": "code",
   "execution_count": 7,
   "id": "80905d11",
   "metadata": {},
   "outputs": [],
   "source": [
    "rslt_df['Name'] = rslt_df['Name'].str.lower()"
   ]
  },
  {
   "cell_type": "code",
   "execution_count": 8,
   "id": "958a51f3",
   "metadata": {},
   "outputs": [],
   "source": [
    "rslt_df.sort_values(\"Name\", axis = 0, ascending = True,inplace = True)"
   ]
  },
  {
   "cell_type": "code",
   "execution_count": 9,
   "id": "33a73dbc",
   "metadata": {},
   "outputs": [],
   "source": [
    "rslt_df.rename(columns = {'Name':'State'}, inplace = True)"
   ]
  },
  {
   "cell_type": "code",
   "execution_count": 10,
   "id": "80d5d96c",
   "metadata": {},
   "outputs": [],
   "source": [
    "rslt_df.reset_index(inplace=True)"
   ]
  },
  {
   "cell_type": "code",
   "execution_count": 11,
   "id": "4a62c3b2",
   "metadata": {},
   "outputs": [],
   "source": [
    "data2 = pd.read_excel('DDW-C18-0000.xlsx')"
   ]
  },
  {
   "cell_type": "code",
   "execution_count": 12,
   "id": "a715a501",
   "metadata": {},
   "outputs": [],
   "source": [
    "new_col = ['state_code','District','Area','Total','Age','S_persons','S_males','S_females','T_persons','T_males','T_females']"
   ]
  },
  {
   "cell_type": "code",
   "execution_count": 13,
   "id": "7cd7cc95",
   "metadata": {},
   "outputs": [],
   "source": [
    "data2.columns = new_col"
   ]
  },
  {
   "cell_type": "code",
   "execution_count": 14,
   "id": "8bd17f02",
   "metadata": {},
   "outputs": [],
   "source": [
    "data2 = data2.iloc[5:]"
   ]
  },
  {
   "cell_type": "code",
   "execution_count": 15,
   "id": "38e4442f",
   "metadata": {},
   "outputs": [],
   "source": [
    "new_data2 = data2.copy(deep=True)"
   ]
  },
  {
   "cell_type": "code",
   "execution_count": 16,
   "id": "a9d4c8cd",
   "metadata": {},
   "outputs": [
    {
     "data": {
      "text/html": [
       "<div>\n",
       "<style scoped>\n",
       "    .dataframe tbody tr th:only-of-type {\n",
       "        vertical-align: middle;\n",
       "    }\n",
       "\n",
       "    .dataframe tbody tr th {\n",
       "        vertical-align: top;\n",
       "    }\n",
       "\n",
       "    .dataframe thead th {\n",
       "        text-align: right;\n",
       "    }\n",
       "</style>\n",
       "<table border=\"1\" class=\"dataframe\">\n",
       "  <thead>\n",
       "    <tr style=\"text-align: right;\">\n",
       "      <th></th>\n",
       "      <th>state_code</th>\n",
       "      <th>District</th>\n",
       "      <th>Area</th>\n",
       "      <th>Total</th>\n",
       "      <th>Age</th>\n",
       "      <th>S_persons</th>\n",
       "      <th>S_males</th>\n",
       "      <th>S_females</th>\n",
       "      <th>T_persons</th>\n",
       "      <th>T_males</th>\n",
       "      <th>T_females</th>\n",
       "    </tr>\n",
       "  </thead>\n",
       "  <tbody>\n",
       "    <tr>\n",
       "      <th>5</th>\n",
       "      <td>00</td>\n",
       "      <td>00</td>\n",
       "      <td>INDIA</td>\n",
       "      <td>Total</td>\n",
       "      <td>Total</td>\n",
       "      <td>314988770</td>\n",
       "      <td>176696383</td>\n",
       "      <td>138292387</td>\n",
       "      <td>86009580</td>\n",
       "      <td>50536832</td>\n",
       "      <td>35472748</td>\n",
       "    </tr>\n",
       "    <tr>\n",
       "      <th>6</th>\n",
       "      <td>00</td>\n",
       "      <td>00</td>\n",
       "      <td>INDIA</td>\n",
       "      <td>Total</td>\n",
       "      <td>5-9</td>\n",
       "      <td>15649192</td>\n",
       "      <td>8166843</td>\n",
       "      <td>7482349</td>\n",
       "      <td>1844108</td>\n",
       "      <td>978151</td>\n",
       "      <td>865957</td>\n",
       "    </tr>\n",
       "    <tr>\n",
       "      <th>7</th>\n",
       "      <td>00</td>\n",
       "      <td>00</td>\n",
       "      <td>INDIA</td>\n",
       "      <td>Total</td>\n",
       "      <td>10-14</td>\n",
       "      <td>34488492</td>\n",
       "      <td>18133423</td>\n",
       "      <td>16355069</td>\n",
       "      <td>7254335</td>\n",
       "      <td>3831131</td>\n",
       "      <td>3423204</td>\n",
       "    </tr>\n",
       "    <tr>\n",
       "      <th>8</th>\n",
       "      <td>00</td>\n",
       "      <td>00</td>\n",
       "      <td>INDIA</td>\n",
       "      <td>Total</td>\n",
       "      <td>15-19</td>\n",
       "      <td>42424599</td>\n",
       "      <td>22750908</td>\n",
       "      <td>19673691</td>\n",
       "      <td>12626717</td>\n",
       "      <td>6792766</td>\n",
       "      <td>5833951</td>\n",
       "    </tr>\n",
       "    <tr>\n",
       "      <th>9</th>\n",
       "      <td>00</td>\n",
       "      <td>00</td>\n",
       "      <td>INDIA</td>\n",
       "      <td>Total</td>\n",
       "      <td>20-24</td>\n",
       "      <td>41344406</td>\n",
       "      <td>22386694</td>\n",
       "      <td>18957712</td>\n",
       "      <td>12834334</td>\n",
       "      <td>7067614</td>\n",
       "      <td>5766720</td>\n",
       "    </tr>\n",
       "    <tr>\n",
       "      <th>...</th>\n",
       "      <td>...</td>\n",
       "      <td>...</td>\n",
       "      <td>...</td>\n",
       "      <td>...</td>\n",
       "      <td>...</td>\n",
       "      <td>...</td>\n",
       "      <td>...</td>\n",
       "      <td>...</td>\n",
       "      <td>...</td>\n",
       "      <td>...</td>\n",
       "      <td>...</td>\n",
       "    </tr>\n",
       "    <tr>\n",
       "      <th>1080</th>\n",
       "      <td>35</td>\n",
       "      <td>00</td>\n",
       "      <td>ANDAMAN &amp; NICOBAR ISLANDS</td>\n",
       "      <td>Urban</td>\n",
       "      <td>25-29</td>\n",
       "      <td>13065</td>\n",
       "      <td>7012</td>\n",
       "      <td>6053</td>\n",
       "      <td>4364</td>\n",
       "      <td>2355</td>\n",
       "      <td>2009</td>\n",
       "    </tr>\n",
       "    <tr>\n",
       "      <th>1081</th>\n",
       "      <td>35</td>\n",
       "      <td>00</td>\n",
       "      <td>ANDAMAN &amp; NICOBAR ISLANDS</td>\n",
       "      <td>Urban</td>\n",
       "      <td>30-49</td>\n",
       "      <td>38406</td>\n",
       "      <td>21301</td>\n",
       "      <td>17105</td>\n",
       "      <td>13320</td>\n",
       "      <td>7824</td>\n",
       "      <td>5496</td>\n",
       "    </tr>\n",
       "    <tr>\n",
       "      <th>1082</th>\n",
       "      <td>35</td>\n",
       "      <td>00</td>\n",
       "      <td>ANDAMAN &amp; NICOBAR ISLANDS</td>\n",
       "      <td>Urban</td>\n",
       "      <td>50-69</td>\n",
       "      <td>12899</td>\n",
       "      <td>7903</td>\n",
       "      <td>4996</td>\n",
       "      <td>4177</td>\n",
       "      <td>2842</td>\n",
       "      <td>1335</td>\n",
       "    </tr>\n",
       "    <tr>\n",
       "      <th>1083</th>\n",
       "      <td>35</td>\n",
       "      <td>00</td>\n",
       "      <td>ANDAMAN &amp; NICOBAR ISLANDS</td>\n",
       "      <td>Urban</td>\n",
       "      <td>70+</td>\n",
       "      <td>1644</td>\n",
       "      <td>1016</td>\n",
       "      <td>628</td>\n",
       "      <td>432</td>\n",
       "      <td>305</td>\n",
       "      <td>127</td>\n",
       "    </tr>\n",
       "    <tr>\n",
       "      <th>1084</th>\n",
       "      <td>35</td>\n",
       "      <td>00</td>\n",
       "      <td>ANDAMAN &amp; NICOBAR ISLANDS</td>\n",
       "      <td>Urban</td>\n",
       "      <td>Age not stated</td>\n",
       "      <td>134</td>\n",
       "      <td>70</td>\n",
       "      <td>64</td>\n",
       "      <td>38</td>\n",
       "      <td>19</td>\n",
       "      <td>19</td>\n",
       "    </tr>\n",
       "  </tbody>\n",
       "</table>\n",
       "<p>1080 rows × 11 columns</p>\n",
       "</div>"
      ],
      "text/plain": [
       "     state_code District                       Area  Total             Age  \\\n",
       "5            00       00                      INDIA  Total           Total   \n",
       "6            00       00                      INDIA  Total             5-9   \n",
       "7            00       00                      INDIA  Total           10-14   \n",
       "8            00       00                      INDIA  Total           15-19   \n",
       "9            00       00                      INDIA  Total           20-24   \n",
       "...         ...      ...                        ...    ...             ...   \n",
       "1080         35       00  ANDAMAN & NICOBAR ISLANDS  Urban           25-29   \n",
       "1081         35       00  ANDAMAN & NICOBAR ISLANDS  Urban           30-49   \n",
       "1082         35       00  ANDAMAN & NICOBAR ISLANDS  Urban           50-69   \n",
       "1083         35       00  ANDAMAN & NICOBAR ISLANDS  Urban             70+   \n",
       "1084         35       00  ANDAMAN & NICOBAR ISLANDS  Urban  Age not stated   \n",
       "\n",
       "      S_persons    S_males  S_females T_persons   T_males T_females  \n",
       "5     314988770  176696383  138292387  86009580  50536832  35472748  \n",
       "6      15649192    8166843    7482349   1844108    978151    865957  \n",
       "7      34488492   18133423   16355069   7254335   3831131   3423204  \n",
       "8      42424599   22750908   19673691  12626717   6792766   5833951  \n",
       "9      41344406   22386694   18957712  12834334   7067614   5766720  \n",
       "...         ...        ...        ...       ...       ...       ...  \n",
       "1080      13065       7012       6053      4364      2355      2009  \n",
       "1081      38406      21301      17105     13320      7824      5496  \n",
       "1082      12899       7903       4996      4177      2842      1335  \n",
       "1083       1644       1016        628       432       305       127  \n",
       "1084        134         70         64        38        19        19  \n",
       "\n",
       "[1080 rows x 11 columns]"
      ]
     },
     "execution_count": 16,
     "metadata": {},
     "output_type": "execute_result"
    }
   ],
   "source": [
    "new_data2"
   ]
  },
  {
   "cell_type": "code",
   "execution_count": 17,
   "id": "43927d03",
   "metadata": {},
   "outputs": [],
   "source": [
    "new_data2 = new_data2.drop(['District','Total','Age','S_persons','T_persons'],axis=1)"
   ]
  },
  {
   "cell_type": "code",
   "execution_count": 18,
   "id": "241f2e1a",
   "metadata": {},
   "outputs": [],
   "source": [
    "new_data2.drop_duplicates(subset =\"Area\",keep = 'first', inplace = True)"
   ]
  },
  {
   "cell_type": "code",
   "execution_count": 19,
   "id": "1f3865c6",
   "metadata": {},
   "outputs": [],
   "source": [
    "fin_data2 = new_data2.copy()"
   ]
  },
  {
   "cell_type": "code",
   "execution_count": 20,
   "id": "30ade16c",
   "metadata": {},
   "outputs": [],
   "source": [
    "fin_data2['Area'] = fin_data2['Area'].str.lower()"
   ]
  },
  {
   "cell_type": "code",
   "execution_count": 21,
   "id": "edfc5961",
   "metadata": {},
   "outputs": [],
   "source": [
    "fin_data2.sort_values(\"Area\", axis = 0, ascending = True,inplace = True)"
   ]
  },
  {
   "cell_type": "code",
   "execution_count": 22,
   "id": "e2891b6d",
   "metadata": {},
   "outputs": [],
   "source": [
    "fin_data2.rename(columns = {'Area':'State'}, inplace = True)"
   ]
  },
  {
   "cell_type": "code",
   "execution_count": 23,
   "id": "fa9baa5e",
   "metadata": {},
   "outputs": [],
   "source": [
    "fin_data2.reset_index(inplace=True)"
   ]
  },
  {
   "cell_type": "code",
   "execution_count": 24,
   "id": "8f9ab43e",
   "metadata": {},
   "outputs": [],
   "source": [
    "fin_data2.at[0,'State'] = 'andaman and nicobar islands'"
   ]
  },
  {
   "cell_type": "code",
   "execution_count": 25,
   "id": "ec2c4dcc",
   "metadata": {},
   "outputs": [],
   "source": [
    "fin_data2.at[25,'State'] = 'delhi'"
   ]
  },
  {
   "cell_type": "code",
   "execution_count": 26,
   "id": "7aa414ec",
   "metadata": {},
   "outputs": [],
   "source": [
    "fin_data2.at[14,'State'] = 'jammu and kashmir'"
   ]
  },
  {
   "cell_type": "code",
   "execution_count": 27,
   "id": "748eeb55",
   "metadata": {},
   "outputs": [],
   "source": [
    "int_df = pd.merge(rslt_df, fin_data2, how ='inner', on =['State'])"
   ]
  },
  {
   "cell_type": "code",
   "execution_count": 28,
   "id": "7ab5917e",
   "metadata": {},
   "outputs": [],
   "source": [
    "int_df = int_df.drop(['index_x','Level','index_y',],axis=1)"
   ]
  },
  {
   "cell_type": "code",
   "execution_count": 29,
   "id": "a50ded65",
   "metadata": {},
   "outputs": [],
   "source": [
    "int_df['exactly_one_male'] = int_df['TOT_M'] - int_df['S_males']\n",
    "int_df['exactly_one_female'] = int_df['TOT_F'] - int_df['S_females']\n",
    "\n",
    "\n",
    "int_df['exactly_two_male'] = int_df['S_males'] - int_df['T_males']\n",
    "int_df['exactly_two_female'] = int_df['S_females'] - int_df['T_females']\n"
   ]
  },
  {
   "cell_type": "code",
   "execution_count": 30,
   "id": "960c1e2b",
   "metadata": {},
   "outputs": [],
   "source": [
    "int_df['exactly_one_male_ratio'] = (int_df['exactly_one_male']/int_df['TOT_M'])\n",
    "int_df['exactly_one_female_ratio'] = (int_df['exactly_one_female']/int_df['TOT_F'])\n",
    "\n",
    "int_df['exactly_two_male_ratio'] = (int_df['exactly_two_male']/int_df['TOT_M'])\n",
    "int_df['exactly_two_female_ratio'] = (int_df['exactly_two_female']/int_df['TOT_F'])\n"
   ]
  },
  {
   "cell_type": "code",
   "execution_count": 31,
   "id": "a56b262c",
   "metadata": {},
   "outputs": [],
   "source": [
    "int_df['three_male_ratio'] = (int_df['T_males']/int_df['TOT_M'])\n",
    "int_df['three_female_ratio'] = (int_df['T_females']/int_df['TOT_F'])"
   ]
  },
  {
   "cell_type": "code",
   "execution_count": 32,
   "id": "e62159be",
   "metadata": {},
   "outputs": [],
   "source": [
    "int_df = int_df.drop(['T_males','S_males','S_females','T_females','exactly_one_male','exactly_one_female','exactly_two_male','exactly_two_female',],axis=1)"
   ]
  },
  {
   "cell_type": "code",
   "execution_count": 33,
   "id": "b8dbe6a3",
   "metadata": {
    "scrolled": true
   },
   "outputs": [],
   "source": [
    "int_df.sort_values(\"state_code\", axis = 0, ascending = True,inplace = True)"
   ]
  },
  {
   "cell_type": "code",
   "execution_count": 34,
   "id": "11886d81",
   "metadata": {},
   "outputs": [],
   "source": [
    "one = int_df[['state_code','TOT_M','TOT_F','exactly_one_male_ratio','exactly_one_female_ratio']].copy()\n",
    "two = int_df[['state_code','TOT_M','TOT_F','exactly_two_male_ratio','exactly_two_female_ratio']].copy()\n",
    "three = int_df[['state_code','TOT_M','TOT_F','three_male_ratio','three_female_ratio']].copy()"
   ]
  },
  {
   "cell_type": "code",
   "execution_count": 35,
   "id": "61e6272a",
   "metadata": {},
   "outputs": [],
   "source": [
    "p_values_one = []\n",
    "p_values_two = []\n",
    "p_values_three = []"
   ]
  },
  {
   "cell_type": "code",
   "execution_count": 36,
   "id": "65d1a4f0",
   "metadata": {},
   "outputs": [],
   "source": [
    "for i in range(0,36):\n",
    "    the = one.iloc[i].to_list()\n",
    "    s,p = stats.ttest_1samp([the[3],the[4]],the[1]/the[2])\n",
    "    p_values_one.append(p)\n",
    "    \n",
    "    the = two.iloc[i].to_list()\n",
    "    s,p = stats.ttest_1samp([the[3],the[4]],the[1]/the[2])\n",
    "    p_values_two.append(p)\n",
    "    \n",
    "    the = three.iloc[i].to_list()\n",
    "    s,p = stats.ttest_1samp([the[3],the[4]],the[1]/the[2])\n",
    "    p_values_three.append(p)\n",
    "    "
   ]
  },
  {
   "cell_type": "code",
   "execution_count": 37,
   "id": "4ea0a7c7",
   "metadata": {},
   "outputs": [],
   "source": [
    "one['p-value'] = p_values_one\n",
    "two['p-value'] = p_values_two\n",
    "three['p-value'] = p_values_three"
   ]
  },
  {
   "cell_type": "code",
   "execution_count": 38,
   "id": "c5868e00",
   "metadata": {},
   "outputs": [],
   "source": [
    "one = one.drop(['TOT_M','TOT_F'],axis=1)\n",
    "two = two.drop(['TOT_M','TOT_F'],axis=1)\n",
    "three = three.drop(['TOT_M','TOT_F'],axis=1)"
   ]
  },
  {
   "cell_type": "code",
   "execution_count": 39,
   "id": "08752470",
   "metadata": {},
   "outputs": [],
   "source": [
    "one['exactly_one_male_ratio'] = one['exactly_one_male_ratio']*100\n",
    "one['exactly_one_female_ratio'] = one['exactly_one_female_ratio']*100\n",
    "\n",
    "two['exactly_two_male_ratio'] = two['exactly_two_male_ratio']*100\n",
    "two['exactly_two_female_ratio'] = two['exactly_two_female_ratio']*100\n",
    "\n",
    "three['three_male_ratio'] = three['three_male_ratio']*100\n",
    "three['three_female_ratio'] = three['three_female_ratio']*100"
   ]
  },
  {
   "cell_type": "code",
   "execution_count": 40,
   "id": "ef6dbbd4",
   "metadata": {},
   "outputs": [],
   "source": [
    "one.rename(columns = {'state_code':'state/ut','exactly_one_male_ratio':'male-percentage-one','exactly_one_female_ratio':'female-percentage-one',}, inplace = True)\n",
    "two.rename(columns = {'state_code':'state/ut','exactly_two_male_ratio':'male-percentage-two','exactly_two_female_ratio':'female-percentage-two',}, inplace = True)\n",
    "three.rename(columns = {'state_code':'state/ut','three_male_ratio':'male-percentage-three','three_female_ratio':'female-percentage-three',}, inplace = True)"
   ]
  },
  {
   "cell_type": "code",
   "execution_count": 41,
   "id": "b819d8e6",
   "metadata": {},
   "outputs": [],
   "source": [
    "one.to_csv('gender-india-a.csv',index=False)\n",
    "two.to_csv('gender-india-b.csv',index=False)\n",
    "three.to_csv('gender-india-c.csv',index=False)"
   ]
  },
  {
   "cell_type": "code",
   "execution_count": null,
   "id": "28aec812",
   "metadata": {},
   "outputs": [],
   "source": []
  }
 ],
 "metadata": {
  "kernelspec": {
   "display_name": "Python 3 (ipykernel)",
   "language": "python",
   "name": "python3"
  },
  "language_info": {
   "codemirror_mode": {
    "name": "ipython",
    "version": 3
   },
   "file_extension": ".py",
   "mimetype": "text/x-python",
   "name": "python",
   "nbconvert_exporter": "python",
   "pygments_lexer": "ipython3",
   "version": "3.9.7"
  }
 },
 "nbformat": 4,
 "nbformat_minor": 5
}
