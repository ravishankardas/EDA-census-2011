{
 "cells": [
  {
   "cell_type": "code",
   "execution_count": 1,
   "id": "9a15b7dc",
   "metadata": {},
   "outputs": [],
   "source": [
    "import pandas as pd"
   ]
  },
  {
   "cell_type": "code",
   "execution_count": 2,
   "id": "7fb7a956",
   "metadata": {},
   "outputs": [],
   "source": [
    "data2 = pd.read_excel('DDW-C19-0000.xlsx')"
   ]
  },
  {
   "cell_type": "code",
   "execution_count": 3,
   "id": "95f2c59d",
   "metadata": {},
   "outputs": [],
   "source": [
    "new_col = ['state','District','Area','Total','Edu-level','S_persons','S_males','S_females','T_persons','T_males','T_females']"
   ]
  },
  {
   "cell_type": "code",
   "execution_count": 4,
   "id": "b1bab294",
   "metadata": {},
   "outputs": [],
   "source": [
    "data2.columns = new_col"
   ]
  },
  {
   "cell_type": "code",
   "execution_count": 5,
   "id": "a14c9457",
   "metadata": {},
   "outputs": [],
   "source": [
    "data2 = data2.iloc[5:]"
   ]
  },
  {
   "cell_type": "code",
   "execution_count": 6,
   "id": "6444be1f",
   "metadata": {},
   "outputs": [],
   "source": [
    "new_data2 = data2.copy(deep=True)"
   ]
  },
  {
   "cell_type": "code",
   "execution_count": 7,
   "id": "90b6af5e",
   "metadata": {},
   "outputs": [],
   "source": [
    "new_data2 = new_data2[new_data2['Total']=='Total'].copy()"
   ]
  },
  {
   "cell_type": "code",
   "execution_count": 8,
   "id": "5b47c42f",
   "metadata": {},
   "outputs": [],
   "source": [
    "new_data2 = new_data2[['state','Area','Edu-level','T_persons']].copy()"
   ]
  },
  {
   "cell_type": "code",
   "execution_count": 9,
   "id": "acd81881",
   "metadata": {},
   "outputs": [],
   "source": [
    "the = new_data2[new_data2['Area']=='INDIA']['Edu-level'].to_list()"
   ]
  },
  {
   "cell_type": "code",
   "execution_count": 10,
   "id": "efd86e27",
   "metadata": {},
   "outputs": [],
   "source": [
    "d = pd.read_excel('DDW-0000C-08.xlsx')"
   ]
  },
  {
   "cell_type": "code",
   "execution_count": 11,
   "id": "fbc08335",
   "metadata": {},
   "outputs": [],
   "source": [
    "d_col = ['table_name','state_code','dist_code','area_name','tot/urb/rur','age_group','tot_persons','tot_males','tot_females','illiterate_persons','illiterate_males','illiterate_females','literate_persons','literate_males','literate_females','literate_without_edu_level_persons','literate_without_edu_level_males','literate_without_edu_level_females','below_primary_persons','below_primary_males','below_primary_females','primary_persons','primary_males','primary_females','middle_persons','middle_males','middle_females','matric_persons','matric_males','matric_females','intermediate_persons','intermediate_males','intermediate_females','non_tech_diploma_persons','non_tech_diploma_males','non_tech_diploma_females','tech_diploma_persons','tech_diploma_males','tech_diploma_females','graduate_and_above_persons','graduate_and_above_males','graduate_and_above_females','unclassified_persons','unclassified_persons_males','unclassified_persons_females']"
   ]
  },
  {
   "cell_type": "code",
   "execution_count": 12,
   "id": "e8e39088",
   "metadata": {},
   "outputs": [],
   "source": [
    "d.columns = d_col"
   ]
  },
  {
   "cell_type": "code",
   "execution_count": 13,
   "id": "a8a2dd0e",
   "metadata": {},
   "outputs": [],
   "source": [
    "d = d[6:]"
   ]
  },
  {
   "cell_type": "code",
   "execution_count": 14,
   "id": "b93a62d7",
   "metadata": {},
   "outputs": [],
   "source": [
    "d = d[['state_code','area_name','tot/urb/rur','tot_persons','illiterate_persons','literate_persons','literate_without_edu_level_persons','below_primary_persons','primary_persons','middle_persons','matric_persons','intermediate_persons','non_tech_diploma_persons','tech_diploma_persons','graduate_and_above_persons','unclassified_persons']].copy()"
   ]
  },
  {
   "cell_type": "code",
   "execution_count": 15,
   "id": "4b855395",
   "metadata": {},
   "outputs": [],
   "source": [
    "d = d[d['tot/urb/rur']=='Total'].copy()"
   ]
  },
  {
   "cell_type": "code",
   "execution_count": 16,
   "id": "c855a276",
   "metadata": {},
   "outputs": [],
   "source": [
    "d.drop_duplicates(subset =[\"area_name\",'tot/urb/rur'],keep = 'first', inplace = True)"
   ]
  },
  {
   "cell_type": "code",
   "execution_count": 17,
   "id": "869406aa",
   "metadata": {},
   "outputs": [
    {
     "data": {
      "text/html": [
       "<div>\n",
       "<style scoped>\n",
       "    .dataframe tbody tr th:only-of-type {\n",
       "        vertical-align: middle;\n",
       "    }\n",
       "\n",
       "    .dataframe tbody tr th {\n",
       "        vertical-align: top;\n",
       "    }\n",
       "\n",
       "    .dataframe thead th {\n",
       "        text-align: right;\n",
       "    }\n",
       "</style>\n",
       "<table border=\"1\" class=\"dataframe\">\n",
       "  <thead>\n",
       "    <tr style=\"text-align: right;\">\n",
       "      <th></th>\n",
       "      <th>state_code</th>\n",
       "      <th>area_name</th>\n",
       "      <th>tot/urb/rur</th>\n",
       "      <th>tot_persons</th>\n",
       "      <th>illiterate_persons</th>\n",
       "      <th>literate_persons</th>\n",
       "      <th>literate_without_edu_level_persons</th>\n",
       "      <th>below_primary_persons</th>\n",
       "      <th>primary_persons</th>\n",
       "      <th>middle_persons</th>\n",
       "      <th>matric_persons</th>\n",
       "      <th>intermediate_persons</th>\n",
       "      <th>non_tech_diploma_persons</th>\n",
       "      <th>tech_diploma_persons</th>\n",
       "      <th>graduate_and_above_persons</th>\n",
       "      <th>unclassified_persons</th>\n",
       "    </tr>\n",
       "  </thead>\n",
       "  <tbody>\n",
       "    <tr>\n",
       "      <th>6</th>\n",
       "      <td>00</td>\n",
       "      <td>INDIA</td>\n",
       "      <td>Total</td>\n",
       "      <td>1210854977</td>\n",
       "      <td>447216165</td>\n",
       "      <td>763638812</td>\n",
       "      <td>35153231</td>\n",
       "      <td>146897597</td>\n",
       "      <td>184170833</td>\n",
       "      <td>133903266</td>\n",
       "      <td>105939743</td>\n",
       "      <td>77942593</td>\n",
       "      <td>1072289</td>\n",
       "      <td>7238719</td>\n",
       "      <td>68288971</td>\n",
       "      <td>3031570</td>\n",
       "    </tr>\n",
       "    <tr>\n",
       "      <th>93</th>\n",
       "      <td>01</td>\n",
       "      <td>State - JAMMU &amp; KASHMIR</td>\n",
       "      <td>Total</td>\n",
       "      <td>12541302</td>\n",
       "      <td>5474069</td>\n",
       "      <td>7067233</td>\n",
       "      <td>195783</td>\n",
       "      <td>987774</td>\n",
       "      <td>1285909</td>\n",
       "      <td>1666381</td>\n",
       "      <td>1411973</td>\n",
       "      <td>776437</td>\n",
       "      <td>4781</td>\n",
       "      <td>50822</td>\n",
       "      <td>653764</td>\n",
       "      <td>33609</td>\n",
       "    </tr>\n",
       "    <tr>\n",
       "      <th>180</th>\n",
       "      <td>02</td>\n",
       "      <td>State - HIMACHAL PRADESH</td>\n",
       "      <td>Total</td>\n",
       "      <td>6864602</td>\n",
       "      <td>1824866</td>\n",
       "      <td>5039736</td>\n",
       "      <td>130023</td>\n",
       "      <td>611475</td>\n",
       "      <td>1162995</td>\n",
       "      <td>826611</td>\n",
       "      <td>1127997</td>\n",
       "      <td>662457</td>\n",
       "      <td>8519</td>\n",
       "      <td>53413</td>\n",
       "      <td>446609</td>\n",
       "      <td>9637</td>\n",
       "    </tr>\n",
       "    <tr>\n",
       "      <th>267</th>\n",
       "      <td>03</td>\n",
       "      <td>State - PUNJAB</td>\n",
       "      <td>Total</td>\n",
       "      <td>27743338</td>\n",
       "      <td>9036201</td>\n",
       "      <td>18707137</td>\n",
       "      <td>566332</td>\n",
       "      <td>2227684</td>\n",
       "      <td>4288200</td>\n",
       "      <td>3066305</td>\n",
       "      <td>4186373</td>\n",
       "      <td>2310511</td>\n",
       "      <td>24287</td>\n",
       "      <td>234365</td>\n",
       "      <td>1760846</td>\n",
       "      <td>42234</td>\n",
       "    </tr>\n",
       "    <tr>\n",
       "      <th>354</th>\n",
       "      <td>04</td>\n",
       "      <td>State - CHANDIGARH</td>\n",
       "      <td>Total</td>\n",
       "      <td>1055450</td>\n",
       "      <td>250012</td>\n",
       "      <td>805438</td>\n",
       "      <td>11254</td>\n",
       "      <td>90869</td>\n",
       "      <td>130243</td>\n",
       "      <td>111879</td>\n",
       "      <td>142206</td>\n",
       "      <td>107599</td>\n",
       "      <td>1506</td>\n",
       "      <td>13801</td>\n",
       "      <td>194453</td>\n",
       "      <td>1628</td>\n",
       "    </tr>\n",
       "  </tbody>\n",
       "</table>\n",
       "</div>"
      ],
      "text/plain": [
       "    state_code                 area_name tot/urb/rur tot_persons  \\\n",
       "6           00                     INDIA       Total  1210854977   \n",
       "93          01   State - JAMMU & KASHMIR       Total    12541302   \n",
       "180         02  State - HIMACHAL PRADESH       Total     6864602   \n",
       "267         03            State - PUNJAB       Total    27743338   \n",
       "354         04        State - CHANDIGARH       Total     1055450   \n",
       "\n",
       "    illiterate_persons literate_persons literate_without_edu_level_persons  \\\n",
       "6            447216165        763638812                           35153231   \n",
       "93             5474069          7067233                             195783   \n",
       "180            1824866          5039736                             130023   \n",
       "267            9036201         18707137                             566332   \n",
       "354             250012           805438                              11254   \n",
       "\n",
       "    below_primary_persons primary_persons middle_persons matric_persons  \\\n",
       "6               146897597       184170833      133903266      105939743   \n",
       "93                 987774         1285909        1666381        1411973   \n",
       "180                611475         1162995         826611        1127997   \n",
       "267               2227684         4288200        3066305        4186373   \n",
       "354                 90869          130243         111879         142206   \n",
       "\n",
       "    intermediate_persons non_tech_diploma_persons tech_diploma_persons  \\\n",
       "6               77942593                  1072289              7238719   \n",
       "93                776437                     4781                50822   \n",
       "180               662457                     8519                53413   \n",
       "267              2310511                    24287               234365   \n",
       "354               107599                     1506                13801   \n",
       "\n",
       "    graduate_and_above_persons unclassified_persons  \n",
       "6                     68288971              3031570  \n",
       "93                      653764                33609  \n",
       "180                     446609                 9637  \n",
       "267                    1760846                42234  \n",
       "354                     194453                 1628  "
      ]
     },
     "execution_count": 17,
     "metadata": {},
     "output_type": "execute_result"
    }
   ],
   "source": [
    "d.head()"
   ]
  },
  {
   "cell_type": "code",
   "execution_count": 18,
   "id": "df8a84ed",
   "metadata": {},
   "outputs": [],
   "source": [
    "d['total_literate'] = d['literate_persons'] + d['unclassified_persons'] + d['literate_without_edu_level_persons'] + d['illiterate_persons']"
   ]
  },
  {
   "cell_type": "code",
   "execution_count": 19,
   "id": "02f476c5",
   "metadata": {},
   "outputs": [],
   "source": [
    "d['total_matric'] = d['matric_persons'] + d['intermediate_persons']+ d['non_tech_diploma_persons'] + d['tech_diploma_persons']"
   ]
  },
  {
   "cell_type": "code",
   "execution_count": 20,
   "id": "340baaf6",
   "metadata": {},
   "outputs": [],
   "source": [
    "code = d[['state_code','area_name']].copy()"
   ]
  },
  {
   "cell_type": "code",
   "execution_count": 21,
   "id": "54c3d626",
   "metadata": {},
   "outputs": [],
   "source": [
    "d = d[['state_code','area_name','total_literate','below_primary_persons','primary_persons','middle_persons','total_matric','graduate_and_above_persons']].copy()"
   ]
  },
  {
   "cell_type": "code",
   "execution_count": 107,
   "id": "43eaaa4f",
   "metadata": {},
   "outputs": [],
   "source": [
    "newData2 = pd.DataFrame(columns = ['state','Area','Edu-level','T_persons'])"
   ]
  },
  {
   "cell_type": "code",
   "execution_count": 109,
   "id": "3238de3d",
   "metadata": {},
   "outputs": [],
   "source": [
    "names = new_data2['Area'].to_list()"
   ]
  },
  {
   "cell_type": "code",
   "execution_count": 111,
   "id": "3a951801",
   "metadata": {},
   "outputs": [],
   "source": [
    "for state in names:\n",
    "    test = new_data2[new_data2['Area']==state].copy()\n",
    "    a = test[test['Edu-level']=='Illiterate']['T_persons'].to_list()[-1]\n",
    "    b =  test[test['Edu-level']=='Literate']['T_persons'].to_list()[-1]\n",
    "    idx = test.index[test['Edu-level'] == 'Literate'].to_list()[-1]\n",
    "    test.at[idx,'T_persons'] = int(a+b)\n",
    "    test = test[test['Edu-level']!='Illiterate'].copy()\n",
    "    c = pd.concat([newData2,test],ignore_index=True)\n",
    "    newData2 = c.copy(deep=True)"
   ]
  },
  {
   "cell_type": "code",
   "execution_count": 116,
   "id": "aafe6e98",
   "metadata": {},
   "outputs": [],
   "source": [
    "newData2.drop_duplicates(subset =['state','Area','Edu-level','T_persons'],keep = 'first', inplace = True)"
   ]
  },
  {
   "cell_type": "code",
   "execution_count": 119,
   "id": "49ac76f6",
   "metadata": {},
   "outputs": [],
   "source": [
    "new_data2 = newData2.copy(deep=True)"
   ]
  },
  {
   "cell_type": "code",
   "execution_count": 129,
   "id": "01f9d367",
   "metadata": {},
   "outputs": [],
   "source": [
    "new_data2 = new_data2[new_data2['Edu-level']!='Total'].copy()"
   ]
  },
  {
   "cell_type": "code",
   "execution_count": 130,
   "id": "bcf2cc54",
   "metadata": {},
   "outputs": [
    {
     "data": {
      "text/html": [
       "<div>\n",
       "<style scoped>\n",
       "    .dataframe tbody tr th:only-of-type {\n",
       "        vertical-align: middle;\n",
       "    }\n",
       "\n",
       "    .dataframe tbody tr th {\n",
       "        vertical-align: top;\n",
       "    }\n",
       "\n",
       "    .dataframe thead th {\n",
       "        text-align: right;\n",
       "    }\n",
       "</style>\n",
       "<table border=\"1\" class=\"dataframe\">\n",
       "  <thead>\n",
       "    <tr style=\"text-align: right;\">\n",
       "      <th></th>\n",
       "      <th>state</th>\n",
       "      <th>Area</th>\n",
       "      <th>Edu-level</th>\n",
       "      <th>T_persons</th>\n",
       "    </tr>\n",
       "  </thead>\n",
       "  <tbody>\n",
       "    <tr>\n",
       "      <th>1</th>\n",
       "      <td>00</td>\n",
       "      <td>INDIA</td>\n",
       "      <td>literate</td>\n",
       "      <td>86009580</td>\n",
       "    </tr>\n",
       "    <tr>\n",
       "      <th>2</th>\n",
       "      <td>00</td>\n",
       "      <td>INDIA</td>\n",
       "      <td>literate but below primary</td>\n",
       "      <td>3733616</td>\n",
       "    </tr>\n",
       "    <tr>\n",
       "      <th>3</th>\n",
       "      <td>00</td>\n",
       "      <td>INDIA</td>\n",
       "      <td>primary but below middle</td>\n",
       "      <td>8636296</td>\n",
       "    </tr>\n",
       "    <tr>\n",
       "      <th>4</th>\n",
       "      <td>00</td>\n",
       "      <td>INDIA</td>\n",
       "      <td>middle but below matric/secondary</td>\n",
       "      <td>10743350</td>\n",
       "    </tr>\n",
       "    <tr>\n",
       "      <th>5</th>\n",
       "      <td>00</td>\n",
       "      <td>INDIA</td>\n",
       "      <td>matric/secondary but below graduate</td>\n",
       "      <td>33899219</td>\n",
       "    </tr>\n",
       "  </tbody>\n",
       "</table>\n",
       "</div>"
      ],
      "text/plain": [
       "  state   Area                            Edu-level T_persons\n",
       "1    00  INDIA                             literate  86009580\n",
       "2    00  INDIA           literate but below primary   3733616\n",
       "3    00  INDIA             primary but below middle   8636296\n",
       "4    00  INDIA    middle but below matric/secondary  10743350\n",
       "5    00  INDIA  matric/secondary but below graduate  33899219"
      ]
     },
     "execution_count": 130,
     "metadata": {},
     "output_type": "execute_result"
    }
   ],
   "source": [
    "new_data2.head()"
   ]
  },
  {
   "cell_type": "code",
   "execution_count": 131,
   "id": "b43f17ef",
   "metadata": {},
   "outputs": [
    {
     "data": {
      "text/html": [
       "<div>\n",
       "<style scoped>\n",
       "    .dataframe tbody tr th:only-of-type {\n",
       "        vertical-align: middle;\n",
       "    }\n",
       "\n",
       "    .dataframe tbody tr th {\n",
       "        vertical-align: top;\n",
       "    }\n",
       "\n",
       "    .dataframe thead th {\n",
       "        text-align: right;\n",
       "    }\n",
       "</style>\n",
       "<table border=\"1\" class=\"dataframe\">\n",
       "  <thead>\n",
       "    <tr style=\"text-align: right;\">\n",
       "      <th></th>\n",
       "      <th>state_code</th>\n",
       "      <th>area_name</th>\n",
       "      <th>literate</th>\n",
       "      <th>literate but below primary</th>\n",
       "      <th>primary but below middle</th>\n",
       "      <th>middle but below matric/secondary</th>\n",
       "      <th>matric/secondary but below graduate</th>\n",
       "      <th>graduate and above</th>\n",
       "    </tr>\n",
       "  </thead>\n",
       "  <tbody>\n",
       "    <tr>\n",
       "      <th>6</th>\n",
       "      <td>00</td>\n",
       "      <td>INDIA</td>\n",
       "      <td>1249039778</td>\n",
       "      <td>146897597</td>\n",
       "      <td>184170833</td>\n",
       "      <td>133903266</td>\n",
       "      <td>192193344</td>\n",
       "      <td>68288971</td>\n",
       "    </tr>\n",
       "    <tr>\n",
       "      <th>93</th>\n",
       "      <td>01</td>\n",
       "      <td>State - JAMMU &amp; KASHMIR</td>\n",
       "      <td>12770694</td>\n",
       "      <td>987774</td>\n",
       "      <td>1285909</td>\n",
       "      <td>1666381</td>\n",
       "      <td>2244013</td>\n",
       "      <td>653764</td>\n",
       "    </tr>\n",
       "    <tr>\n",
       "      <th>180</th>\n",
       "      <td>02</td>\n",
       "      <td>State - HIMACHAL PRADESH</td>\n",
       "      <td>7004262</td>\n",
       "      <td>611475</td>\n",
       "      <td>1162995</td>\n",
       "      <td>826611</td>\n",
       "      <td>1852386</td>\n",
       "      <td>446609</td>\n",
       "    </tr>\n",
       "    <tr>\n",
       "      <th>267</th>\n",
       "      <td>03</td>\n",
       "      <td>State - PUNJAB</td>\n",
       "      <td>28351904</td>\n",
       "      <td>2227684</td>\n",
       "      <td>4288200</td>\n",
       "      <td>3066305</td>\n",
       "      <td>6755536</td>\n",
       "      <td>1760846</td>\n",
       "    </tr>\n",
       "    <tr>\n",
       "      <th>354</th>\n",
       "      <td>04</td>\n",
       "      <td>State - CHANDIGARH</td>\n",
       "      <td>1068332</td>\n",
       "      <td>90869</td>\n",
       "      <td>130243</td>\n",
       "      <td>111879</td>\n",
       "      <td>265112</td>\n",
       "      <td>194453</td>\n",
       "    </tr>\n",
       "  </tbody>\n",
       "</table>\n",
       "</div>"
      ],
      "text/plain": [
       "    state_code                 area_name    literate  \\\n",
       "6           00                     INDIA  1249039778   \n",
       "93          01   State - JAMMU & KASHMIR    12770694   \n",
       "180         02  State - HIMACHAL PRADESH     7004262   \n",
       "267         03            State - PUNJAB    28351904   \n",
       "354         04        State - CHANDIGARH     1068332   \n",
       "\n",
       "    literate but below primary primary but below middle  \\\n",
       "6                    146897597                184170833   \n",
       "93                      987774                  1285909   \n",
       "180                     611475                  1162995   \n",
       "267                    2227684                  4288200   \n",
       "354                      90869                   130243   \n",
       "\n",
       "    middle but below matric/secondary matric/secondary but below graduate  \\\n",
       "6                           133903266                           192193344   \n",
       "93                            1666381                             2244013   \n",
       "180                            826611                             1852386   \n",
       "267                           3066305                             6755536   \n",
       "354                            111879                              265112   \n",
       "\n",
       "    graduate and above  \n",
       "6             68288971  \n",
       "93              653764  \n",
       "180             446609  \n",
       "267            1760846  \n",
       "354             194453  "
      ]
     },
     "execution_count": 131,
     "metadata": {},
     "output_type": "execute_result"
    }
   ],
   "source": [
    "d.head()"
   ]
  },
  {
   "cell_type": "code",
   "execution_count": 132,
   "id": "f7530738",
   "metadata": {},
   "outputs": [],
   "source": [
    "col_list = ['state_code', 'area_name','literate', 'literate but below primary','primary but below middle', 'middle but below matric/secondary', 'matric/secondary but below graduate', 'graduate and above']"
   ]
  },
  {
   "cell_type": "code",
   "execution_count": 133,
   "id": "f43b4e23",
   "metadata": {},
   "outputs": [],
   "source": [
    "d.columns = col_list"
   ]
  },
  {
   "cell_type": "code",
   "execution_count": 134,
   "id": "cf01cd23",
   "metadata": {},
   "outputs": [
    {
     "data": {
      "text/html": [
       "<div>\n",
       "<style scoped>\n",
       "    .dataframe tbody tr th:only-of-type {\n",
       "        vertical-align: middle;\n",
       "    }\n",
       "\n",
       "    .dataframe tbody tr th {\n",
       "        vertical-align: top;\n",
       "    }\n",
       "\n",
       "    .dataframe thead th {\n",
       "        text-align: right;\n",
       "    }\n",
       "</style>\n",
       "<table border=\"1\" class=\"dataframe\">\n",
       "  <thead>\n",
       "    <tr style=\"text-align: right;\">\n",
       "      <th></th>\n",
       "      <th>state_code</th>\n",
       "      <th>area_name</th>\n",
       "      <th>literate</th>\n",
       "      <th>literate but below primary</th>\n",
       "      <th>primary but below middle</th>\n",
       "      <th>middle but below matric/secondary</th>\n",
       "      <th>matric/secondary but below graduate</th>\n",
       "      <th>graduate and above</th>\n",
       "    </tr>\n",
       "  </thead>\n",
       "  <tbody>\n",
       "    <tr>\n",
       "      <th>6</th>\n",
       "      <td>00</td>\n",
       "      <td>INDIA</td>\n",
       "      <td>1249039778</td>\n",
       "      <td>146897597</td>\n",
       "      <td>184170833</td>\n",
       "      <td>133903266</td>\n",
       "      <td>192193344</td>\n",
       "      <td>68288971</td>\n",
       "    </tr>\n",
       "    <tr>\n",
       "      <th>93</th>\n",
       "      <td>01</td>\n",
       "      <td>State - JAMMU &amp; KASHMIR</td>\n",
       "      <td>12770694</td>\n",
       "      <td>987774</td>\n",
       "      <td>1285909</td>\n",
       "      <td>1666381</td>\n",
       "      <td>2244013</td>\n",
       "      <td>653764</td>\n",
       "    </tr>\n",
       "    <tr>\n",
       "      <th>180</th>\n",
       "      <td>02</td>\n",
       "      <td>State - HIMACHAL PRADESH</td>\n",
       "      <td>7004262</td>\n",
       "      <td>611475</td>\n",
       "      <td>1162995</td>\n",
       "      <td>826611</td>\n",
       "      <td>1852386</td>\n",
       "      <td>446609</td>\n",
       "    </tr>\n",
       "    <tr>\n",
       "      <th>267</th>\n",
       "      <td>03</td>\n",
       "      <td>State - PUNJAB</td>\n",
       "      <td>28351904</td>\n",
       "      <td>2227684</td>\n",
       "      <td>4288200</td>\n",
       "      <td>3066305</td>\n",
       "      <td>6755536</td>\n",
       "      <td>1760846</td>\n",
       "    </tr>\n",
       "    <tr>\n",
       "      <th>354</th>\n",
       "      <td>04</td>\n",
       "      <td>State - CHANDIGARH</td>\n",
       "      <td>1068332</td>\n",
       "      <td>90869</td>\n",
       "      <td>130243</td>\n",
       "      <td>111879</td>\n",
       "      <td>265112</td>\n",
       "      <td>194453</td>\n",
       "    </tr>\n",
       "  </tbody>\n",
       "</table>\n",
       "</div>"
      ],
      "text/plain": [
       "    state_code                 area_name    literate  \\\n",
       "6           00                     INDIA  1249039778   \n",
       "93          01   State - JAMMU & KASHMIR    12770694   \n",
       "180         02  State - HIMACHAL PRADESH     7004262   \n",
       "267         03            State - PUNJAB    28351904   \n",
       "354         04        State - CHANDIGARH     1068332   \n",
       "\n",
       "    literate but below primary primary but below middle  \\\n",
       "6                    146897597                184170833   \n",
       "93                      987774                  1285909   \n",
       "180                     611475                  1162995   \n",
       "267                    2227684                  4288200   \n",
       "354                      90869                   130243   \n",
       "\n",
       "    middle but below matric/secondary matric/secondary but below graduate  \\\n",
       "6                           133903266                           192193344   \n",
       "93                            1666381                             2244013   \n",
       "180                            826611                             1852386   \n",
       "267                           3066305                             6755536   \n",
       "354                            111879                              265112   \n",
       "\n",
       "    graduate and above  \n",
       "6             68288971  \n",
       "93              653764  \n",
       "180             446609  \n",
       "267            1760846  \n",
       "354             194453  "
      ]
     },
     "execution_count": 134,
     "metadata": {},
     "output_type": "execute_result"
    }
   ],
   "source": [
    "d.head()"
   ]
  },
  {
   "cell_type": "code",
   "execution_count": 135,
   "id": "cb01e68e",
   "metadata": {},
   "outputs": [],
   "source": [
    "new_data2['Edu-level'] = new_data2['Edu-level'].str.lower()"
   ]
  },
  {
   "cell_type": "code",
   "execution_count": 136,
   "id": "85af2be0",
   "metadata": {},
   "outputs": [
    {
     "data": {
      "text/html": [
       "<div>\n",
       "<style scoped>\n",
       "    .dataframe tbody tr th:only-of-type {\n",
       "        vertical-align: middle;\n",
       "    }\n",
       "\n",
       "    .dataframe tbody tr th {\n",
       "        vertical-align: top;\n",
       "    }\n",
       "\n",
       "    .dataframe thead th {\n",
       "        text-align: right;\n",
       "    }\n",
       "</style>\n",
       "<table border=\"1\" class=\"dataframe\">\n",
       "  <thead>\n",
       "    <tr style=\"text-align: right;\">\n",
       "      <th></th>\n",
       "      <th>state</th>\n",
       "      <th>Area</th>\n",
       "      <th>Edu-level</th>\n",
       "      <th>T_persons</th>\n",
       "    </tr>\n",
       "  </thead>\n",
       "  <tbody>\n",
       "    <tr>\n",
       "      <th>1</th>\n",
       "      <td>00</td>\n",
       "      <td>INDIA</td>\n",
       "      <td>literate</td>\n",
       "      <td>86009580</td>\n",
       "    </tr>\n",
       "    <tr>\n",
       "      <th>2</th>\n",
       "      <td>00</td>\n",
       "      <td>INDIA</td>\n",
       "      <td>literate but below primary</td>\n",
       "      <td>3733616</td>\n",
       "    </tr>\n",
       "    <tr>\n",
       "      <th>3</th>\n",
       "      <td>00</td>\n",
       "      <td>INDIA</td>\n",
       "      <td>primary but below middle</td>\n",
       "      <td>8636296</td>\n",
       "    </tr>\n",
       "    <tr>\n",
       "      <th>4</th>\n",
       "      <td>00</td>\n",
       "      <td>INDIA</td>\n",
       "      <td>middle but below matric/secondary</td>\n",
       "      <td>10743350</td>\n",
       "    </tr>\n",
       "    <tr>\n",
       "      <th>5</th>\n",
       "      <td>00</td>\n",
       "      <td>INDIA</td>\n",
       "      <td>matric/secondary but below graduate</td>\n",
       "      <td>33899219</td>\n",
       "    </tr>\n",
       "    <tr>\n",
       "      <th>...</th>\n",
       "      <td>...</td>\n",
       "      <td>...</td>\n",
       "      <td>...</td>\n",
       "      <td>...</td>\n",
       "    </tr>\n",
       "    <tr>\n",
       "      <th>1962</th>\n",
       "      <td>35</td>\n",
       "      <td>ANDAMAN &amp; NICOBAR ISLANDS</td>\n",
       "      <td>literate but below primary</td>\n",
       "      <td>3567</td>\n",
       "    </tr>\n",
       "    <tr>\n",
       "      <th>1963</th>\n",
       "      <td>35</td>\n",
       "      <td>ANDAMAN &amp; NICOBAR ISLANDS</td>\n",
       "      <td>primary but below middle</td>\n",
       "      <td>8570</td>\n",
       "    </tr>\n",
       "    <tr>\n",
       "      <th>1964</th>\n",
       "      <td>35</td>\n",
       "      <td>ANDAMAN &amp; NICOBAR ISLANDS</td>\n",
       "      <td>middle but below matric/secondary</td>\n",
       "      <td>13994</td>\n",
       "    </tr>\n",
       "    <tr>\n",
       "      <th>1965</th>\n",
       "      <td>35</td>\n",
       "      <td>ANDAMAN &amp; NICOBAR ISLANDS</td>\n",
       "      <td>matric/secondary but below graduate</td>\n",
       "      <td>30717</td>\n",
       "    </tr>\n",
       "    <tr>\n",
       "      <th>1966</th>\n",
       "      <td>35</td>\n",
       "      <td>ANDAMAN &amp; NICOBAR ISLANDS</td>\n",
       "      <td>graduate and above</td>\n",
       "      <td>13335</td>\n",
       "    </tr>\n",
       "  </tbody>\n",
       "</table>\n",
       "<p>216 rows × 4 columns</p>\n",
       "</div>"
      ],
      "text/plain": [
       "     state                       Area                            Edu-level  \\\n",
       "1       00                      INDIA                             literate   \n",
       "2       00                      INDIA           literate but below primary   \n",
       "3       00                      INDIA             primary but below middle   \n",
       "4       00                      INDIA    middle but below matric/secondary   \n",
       "5       00                      INDIA  matric/secondary but below graduate   \n",
       "...    ...                        ...                                  ...   \n",
       "1962    35  ANDAMAN & NICOBAR ISLANDS           literate but below primary   \n",
       "1963    35  ANDAMAN & NICOBAR ISLANDS             primary but below middle   \n",
       "1964    35  ANDAMAN & NICOBAR ISLANDS    middle but below matric/secondary   \n",
       "1965    35  ANDAMAN & NICOBAR ISLANDS  matric/secondary but below graduate   \n",
       "1966    35  ANDAMAN & NICOBAR ISLANDS                   graduate and above   \n",
       "\n",
       "     T_persons  \n",
       "1     86009580  \n",
       "2      3733616  \n",
       "3      8636296  \n",
       "4     10743350  \n",
       "5     33899219  \n",
       "...        ...  \n",
       "1962      3567  \n",
       "1963      8570  \n",
       "1964     13994  \n",
       "1965     30717  \n",
       "1966     13335  \n",
       "\n",
       "[216 rows x 4 columns]"
      ]
     },
     "execution_count": 136,
     "metadata": {},
     "output_type": "execute_result"
    }
   ],
   "source": [
    "new_data2"
   ]
  },
  {
   "cell_type": "code",
   "execution_count": 137,
   "id": "042d6346",
   "metadata": {},
   "outputs": [],
   "source": [
    "col_list = col_list[2:]"
   ]
  },
  {
   "cell_type": "code",
   "execution_count": 138,
   "id": "20c76c48",
   "metadata": {},
   "outputs": [],
   "source": [
    "def add(full):\n",
    "    ahem = d[full].to_list()\n",
    "    k=0\n",
    "    for index, row in new_data2.iterrows():\n",
    "        if row[\"Edu-level\"]==full:\n",
    "            new_data2.loc[index, 'total'] = ahem[k]\n",
    "            k+=1"
   ]
  },
  {
   "cell_type": "code",
   "execution_count": 139,
   "id": "befe2e78",
   "metadata": {},
   "outputs": [],
   "source": [
    "for name in col_list:\n",
    "    add(name)"
   ]
  },
  {
   "cell_type": "code",
   "execution_count": 142,
   "id": "5f7b086a",
   "metadata": {},
   "outputs": [],
   "source": [
    "new_data2['percentage'] = (new_data2['T_persons']/new_data2['total'])*100"
   ]
  },
  {
   "cell_type": "code",
   "execution_count": 144,
   "id": "b31bce2a",
   "metadata": {},
   "outputs": [],
   "source": [
    "new_data2['max_column'] = new_data2.groupby(['Area'])['percentage'].transform('max')"
   ]
  },
  {
   "cell_type": "code",
   "execution_count": 145,
   "id": "1268a874",
   "metadata": {},
   "outputs": [],
   "source": [
    "new_data2 = new_data2[new_data2['percentage'] == new_data2['max_column']].copy()"
   ]
  },
  {
   "cell_type": "code",
   "execution_count": 146,
   "id": "d787c8f7",
   "metadata": {},
   "outputs": [],
   "source": [
    "new_data2 = new_data2.drop(['Area','T_persons','total','max_column'],axis=1)"
   ]
  },
  {
   "cell_type": "code",
   "execution_count": 147,
   "id": "67342385",
   "metadata": {},
   "outputs": [],
   "source": [
    "new_data2 = new_data2.rename(columns={'state':'state/ut','Edu-level':'literacy-group'})"
   ]
  },
  {
   "cell_type": "code",
   "execution_count": 149,
   "id": "45c7fa00",
   "metadata": {},
   "outputs": [],
   "source": [
    "new_data2.to_csv('literacy-india.csv',index=False)"
   ]
  },
  {
   "cell_type": "code",
   "execution_count": null,
   "id": "b2b12372",
   "metadata": {},
   "outputs": [],
   "source": []
  }
 ],
 "metadata": {
  "kernelspec": {
   "display_name": "Python 3 (ipykernel)",
   "language": "python",
   "name": "python3"
  },
  "language_info": {
   "codemirror_mode": {
    "name": "ipython",
    "version": 3
   },
   "file_extension": ".py",
   "mimetype": "text/x-python",
   "name": "python",
   "nbconvert_exporter": "python",
   "pygments_lexer": "ipython3",
   "version": "3.9.7"
  }
 },
 "nbformat": 4,
 "nbformat_minor": 5
}
