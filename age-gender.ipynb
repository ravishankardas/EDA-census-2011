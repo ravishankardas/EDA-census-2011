{
 "cells": [
  {
   "cell_type": "code",
   "execution_count": 1,
   "id": "b1fc64f3",
   "metadata": {},
   "outputs": [],
   "source": [
    "import pandas as pd\n",
    "import numpy as np"
   ]
  },
  {
   "cell_type": "code",
   "execution_count": 2,
   "id": "de6370f2",
   "metadata": {},
   "outputs": [],
   "source": [
    "data2 = pd.read_excel('DDW-C18-0000.xlsx')"
   ]
  },
  {
   "cell_type": "code",
   "execution_count": 3,
   "id": "fc57e7fa",
   "metadata": {},
   "outputs": [],
   "source": [
    "new_col = ['state','District','Area','Total','Age','S_persons','S_males','S_females','T_persons','T_males','T_females']"
   ]
  },
  {
   "cell_type": "code",
   "execution_count": 4,
   "id": "11892f2d",
   "metadata": {},
   "outputs": [],
   "source": [
    "data2.columns = new_col"
   ]
  },
  {
   "cell_type": "code",
   "execution_count": 5,
   "id": "69111bb8",
   "metadata": {},
   "outputs": [],
   "source": [
    "data2 = data2.iloc[5:]"
   ]
  },
  {
   "cell_type": "code",
   "execution_count": 6,
   "id": "eb635275",
   "metadata": {},
   "outputs": [],
   "source": [
    "new_data2 = data2.copy(deep=True)"
   ]
  },
  {
   "cell_type": "code",
   "execution_count": 7,
   "id": "02f187f4",
   "metadata": {},
   "outputs": [],
   "source": [
    "new_data2 = new_data2[new_data2['Total']=='Total'].copy()"
   ]
  },
  {
   "cell_type": "code",
   "execution_count": 8,
   "id": "3a1eb23d",
   "metadata": {},
   "outputs": [],
   "source": [
    "two_data = new_data2.copy(deep=True)"
   ]
  },
  {
   "cell_type": "code",
   "execution_count": 9,
   "id": "178bed6d",
   "metadata": {},
   "outputs": [],
   "source": [
    "new_data2 = new_data2.drop(['District','S_persons','Total','S_males','S_females','T_persons'],axis=1)"
   ]
  },
  {
   "cell_type": "code",
   "execution_count": 10,
   "id": "f5d8d04c",
   "metadata": {},
   "outputs": [],
   "source": [
    "data1 = pd.read_excel('DDW-0000C-13.xls')"
   ]
  },
  {
   "cell_type": "code",
   "execution_count": 11,
   "id": "1deae142",
   "metadata": {},
   "outputs": [],
   "source": [
    "new_col2 = ['Table name','state code','District code','Area','Age','total_person','tot_male','tot_female','total_person_rural','tot_male_rural','tot_female_rural','total_person_urban','tot_male_urban','tot_female_urban']"
   ]
  },
  {
   "cell_type": "code",
   "execution_count": 12,
   "id": "40af2d99",
   "metadata": {},
   "outputs": [],
   "source": [
    "data1.columns = new_col2\n",
    "data1 = data1.iloc[6:]"
   ]
  },
  {
   "cell_type": "code",
   "execution_count": 13,
   "id": "b7a5cf11",
   "metadata": {},
   "outputs": [],
   "source": [
    "data1 = data1[['state code','Area','Age','tot_male','tot_female']].copy()"
   ]
  },
  {
   "cell_type": "code",
   "execution_count": 14,
   "id": "f7874a67",
   "metadata": {},
   "outputs": [],
   "source": [
    "the_list = data1.Area.unique()"
   ]
  },
  {
   "cell_type": "code",
   "execution_count": 15,
   "id": "cc4c8133",
   "metadata": {},
   "outputs": [],
   "source": [
    "a = [5,10,15,20,25,30,50,70]\n",
    "b = [9,14,19,24,29,49,69,99]\n",
    "final_male_sum = []\n",
    "final_female_sum = []\n",
    "for area in the_list:\n",
    "    df = data1[data1['Area'] == area].copy()\n",
    "    final_male_sum.append(df.iloc[0].tolist()[-2])\n",
    "    final_female_sum.append(df.iloc[0].tolist()[-1])\n",
    "    for i,j in zip(a,b):\n",
    "        valf = 0\n",
    "        valm=0\n",
    "        for k in range(i,j+1):\n",
    "            row = df.loc[df['Age'] == k].values.flatten().tolist()\n",
    "            valf+=row[-1]\n",
    "            valm+=row[-2]\n",
    "        final_male_sum.append(valm)\n",
    "        final_female_sum.append(valf)\n",
    "    r = df[df['Age'] == 'Age not stated'].values.flatten().tolist()\n",
    "    final_male_sum.append(r[-2])\n",
    "    final_female_sum.append(r[-1])"
   ]
  },
  {
   "cell_type": "code",
   "execution_count": 16,
   "id": "217fd8bb",
   "metadata": {},
   "outputs": [
    {
     "data": {
      "text/plain": [
       "360"
      ]
     },
     "execution_count": 16,
     "metadata": {},
     "output_type": "execute_result"
    }
   ],
   "source": [
    "len(final_male_sum)"
   ]
  },
  {
   "cell_type": "code",
   "execution_count": 17,
   "id": "b1077d5c",
   "metadata": {},
   "outputs": [],
   "source": [
    "new_data2['male_row'] = final_male_sum\n",
    "new_data2['female_row'] = final_female_sum"
   ]
  },
  {
   "cell_type": "code",
   "execution_count": 18,
   "id": "506db59c",
   "metadata": {},
   "outputs": [],
   "source": [
    "new_data2 = new_data2[new_data2['Age']!='Total'].copy()"
   ]
  },
  {
   "cell_type": "code",
   "execution_count": 19,
   "id": "0dac6373",
   "metadata": {},
   "outputs": [],
   "source": [
    "new_data2['male_ratio'] = new_data2['T_males']/new_data2['male_row']\n",
    "new_data2['female_ratio'] = new_data2['T_females']/new_data2['female_row']"
   ]
  },
  {
   "cell_type": "code",
   "execution_count": 20,
   "id": "d8d485e4",
   "metadata": {},
   "outputs": [],
   "source": [
    "three_males = new_data2[['state','Area','Age','T_males','male_ratio']].copy()\n",
    "three_females = new_data2[['state','Area','Age','T_females','female_ratio']].copy()"
   ]
  },
  {
   "cell_type": "code",
   "execution_count": 21,
   "id": "5fd41315",
   "metadata": {},
   "outputs": [],
   "source": [
    "three_males['max_column'] = three_males.groupby(['Area'])['male_ratio'].transform('max')\n",
    "three_females['max_column'] = three_females.groupby(['Area'])['female_ratio'].transform('max')"
   ]
  },
  {
   "cell_type": "code",
   "execution_count": 22,
   "id": "4df99856",
   "metadata": {},
   "outputs": [],
   "source": [
    "three_males = three_males[three_males['male_ratio'] == three_males['max_column']].copy()\n",
    "three_females = three_females[three_females['female_ratio'] == three_females['max_column']].copy()"
   ]
  },
  {
   "cell_type": "code",
   "execution_count": 23,
   "id": "8269432f",
   "metadata": {},
   "outputs": [],
   "source": [
    "three_males = three_males[['state','Age','T_males','male_ratio']].copy()\n",
    "three_females = three_females[['state','Age','T_females','female_ratio']].copy()"
   ]
  },
  {
   "cell_type": "code",
   "execution_count": 24,
   "id": "08e25b67",
   "metadata": {},
   "outputs": [
    {
     "data": {
      "text/plain": [
       "9       7067614\n",
       "39       191644\n",
       "69        27019\n",
       "98       700576\n",
       "133        7034\n",
       "159       16609\n",
       "189      101018\n",
       "223       40565\n",
       "249      108655\n",
       "279      243722\n",
       "309      132395\n",
       "338       14858\n",
       "368       37805\n",
       "400       37805\n",
       "431      129446\n",
       "461       13955\n",
       "490       17653\n",
       "521       58689\n",
       "551      991577\n",
       "582      390693\n",
       "609      119424\n",
       "639      466127\n",
       "671       87057\n",
       "699      110897\n",
       "728      812093\n",
       "762        2096\n",
       "787        6062\n",
       "819     1667890\n",
       "849      583144\n",
       "880      558250\n",
       "908       39797\n",
       "940         837\n",
       "969      217414\n",
       "1000     155804\n",
       "1032       8628\n",
       "1058       4785\n",
       "Name: T_males, dtype: object"
      ]
     },
     "execution_count": 24,
     "metadata": {},
     "output_type": "execute_result"
    }
   ],
   "source": [
    "three_males.pop('T_males')"
   ]
  },
  {
   "cell_type": "code",
   "execution_count": 25,
   "id": "a819f494",
   "metadata": {},
   "outputs": [
    {
     "data": {
      "text/plain": [
       "9       5766720\n",
       "39       151756\n",
       "68        24521\n",
       "98       588907\n",
       "128       18620\n",
       "159       13413\n",
       "188       87990\n",
       "222      110240\n",
       "248       87575\n",
       "279      185794\n",
       "308      119938\n",
       "338       15798\n",
       "368       36419\n",
       "399       39257\n",
       "429       41391\n",
       "460        2869\n",
       "489       12407\n",
       "519       18712\n",
       "548      273925\n",
       "579      164090\n",
       "608      103340\n",
       "638      410321\n",
       "669       25042\n",
       "698       99579\n",
       "728      594901\n",
       "758        2093\n",
       "788        4701\n",
       "818     1291323\n",
       "848      496153\n",
       "879      488892\n",
       "908       37739\n",
       "939         709\n",
       "969      234331\n",
       "999      142402\n",
       "1029       4449\n",
       "1058       4709\n",
       "Name: T_females, dtype: object"
      ]
     },
     "execution_count": 25,
     "metadata": {},
     "output_type": "execute_result"
    }
   ],
   "source": [
    "three_females.pop('T_females')"
   ]
  },
  {
   "cell_type": "code",
   "execution_count": 26,
   "id": "e789218f",
   "metadata": {},
   "outputs": [],
   "source": [
    "three_males = three_males.rename(columns={'male_ratio':'male-ratio-of-3','Age': 'male-age-group'})\n",
    "three_females = three_females.rename(columns={'female_ratio':'female-ratio-of-3','Age': 'female-age-group'})"
   ]
  },
  {
   "cell_type": "code",
   "execution_count": 27,
   "id": "f88c6955",
   "metadata": {},
   "outputs": [],
   "source": [
    "res = pd.merge(three_males, three_females, on='state', how='outer')"
   ]
  },
  {
   "cell_type": "code",
   "execution_count": 28,
   "id": "a3d123ad",
   "metadata": {},
   "outputs": [],
   "source": [
    "res.columns = ['state/ut','age-group-males','ratio-males-3','age-group-females','ratio-females-3']"
   ]
  },
  {
   "cell_type": "code",
   "execution_count": 29,
   "id": "2c901969",
   "metadata": {},
   "outputs": [],
   "source": [
    "res.to_csv('age-gender-a.csv',index=False)"
   ]
  },
  {
   "cell_type": "code",
   "execution_count": 30,
   "id": "204b49c9",
   "metadata": {},
   "outputs": [],
   "source": [
    "two_data = two_data.drop(['District', 'S_persons','T_persons'], axis = 1)"
   ]
  },
  {
   "cell_type": "code",
   "execution_count": 31,
   "id": "baeb6389",
   "metadata": {},
   "outputs": [],
   "source": [
    "one_data = two_data[['state','Area','Age','S_males','S_females']].copy()"
   ]
  },
  {
   "cell_type": "code",
   "execution_count": 32,
   "id": "28d43ca5",
   "metadata": {},
   "outputs": [],
   "source": [
    "two_data['exactly_two_male'] = two_data['S_males'] - two_data['T_males']\n",
    "two_data['exactly_two_female'] = two_data['S_females'] - two_data['T_females']"
   ]
  },
  {
   "cell_type": "code",
   "execution_count": 33,
   "id": "ee10eb75",
   "metadata": {},
   "outputs": [],
   "source": [
    "two_data = two_data.drop(['S_males', 'S_females','T_males','T_females'], axis = 1)"
   ]
  },
  {
   "cell_type": "code",
   "execution_count": 34,
   "id": "6cc49cd3",
   "metadata": {},
   "outputs": [],
   "source": [
    "two_data['male_col'] = final_male_sum\n",
    "two_data['female_col'] = final_female_sum"
   ]
  },
  {
   "cell_type": "code",
   "execution_count": 35,
   "id": "f1d31b00",
   "metadata": {},
   "outputs": [],
   "source": [
    "two_data = two_data[two_data['Age']!='Total'].copy()"
   ]
  },
  {
   "cell_type": "code",
   "execution_count": 36,
   "id": "d5407c34",
   "metadata": {},
   "outputs": [],
   "source": [
    "two_data['male_ratio'] = two_data['exactly_two_male']/two_data['male_col']\n",
    "two_data['female_ratio'] = two_data['exactly_two_female']/two_data['female_col']"
   ]
  },
  {
   "cell_type": "code",
   "execution_count": 37,
   "id": "904530d3",
   "metadata": {},
   "outputs": [],
   "source": [
    "two_data = two_data[['state','Area','Age','male_ratio','female_ratio']].copy()"
   ]
  },
  {
   "cell_type": "code",
   "execution_count": 38,
   "id": "80a727c5",
   "metadata": {},
   "outputs": [],
   "source": [
    "male_a = two_data[['state','Area','Age','male_ratio']].copy()\n",
    "female_a = two_data[['state','Area','Age','female_ratio']].copy()"
   ]
  },
  {
   "cell_type": "code",
   "execution_count": 39,
   "id": "984e1d23",
   "metadata": {},
   "outputs": [],
   "source": [
    "male_a['max_column'] = male_a.groupby(['Area'])['male_ratio'].transform('max')\n",
    "female_a['max_column'] = female_a.groupby(['Area'])['female_ratio'].transform('max')"
   ]
  },
  {
   "cell_type": "code",
   "execution_count": 40,
   "id": "5d5fe07c",
   "metadata": {},
   "outputs": [],
   "source": [
    "male_a = male_a[male_a['male_ratio'] == male_a['max_column']].copy()\n",
    "female_a = female_a[female_a['female_ratio'] == female_a['max_column']].copy()"
   ]
  },
  {
   "cell_type": "code",
   "execution_count": 41,
   "id": "6832a5e2",
   "metadata": {},
   "outputs": [
    {
     "data": {
      "text/plain": [
       "9                           INDIA\n",
       "37                JAMMU & KASHMIR\n",
       "69               HIMACHAL PRADESH\n",
       "97                         PUNJAB\n",
       "133                    CHANDIGARH\n",
       "159                   UTTARAKHAND\n",
       "189                       HARYANA\n",
       "219                  NCT OF DELHI\n",
       "248                     RAJASTHAN\n",
       "279                 UTTAR PRADESH\n",
       "308                         BIHAR\n",
       "344                        SIKKIM\n",
       "367             ARUNACHAL PRADESH\n",
       "401                      NAGALAND\n",
       "428                       MANIPUR\n",
       "458                       MIZORAM\n",
       "488                       TRIPURA\n",
       "518                     MEGHALAYA\n",
       "547                         ASSAM\n",
       "579                   WEST BENGAL\n",
       "608                     JHARKHAND\n",
       "637                        ODISHA\n",
       "669                  CHHATTISGARH\n",
       "698                MADHYA PRADESH\n",
       "728                       GUJARAT\n",
       "758                   DAMAN & DIU\n",
       "787          DADRA & NAGAR HAVELI\n",
       "818                   MAHARASHTRA\n",
       "848                ANDHRA PRADESH\n",
       "878                     KARNATAKA\n",
       "907                           GOA\n",
       "939                   LAKSHADWEEP\n",
       "969                        KERALA\n",
       "998                    TAMIL NADU\n",
       "1028                   PUDUCHERRY\n",
       "1057    ANDAMAN & NICOBAR ISLANDS\n",
       "Name: Area, dtype: object"
      ]
     },
     "execution_count": 41,
     "metadata": {},
     "output_type": "execute_result"
    }
   ],
   "source": [
    "male_a.pop('max_column')\n",
    "female_a.pop('max_column')\n",
    "male_a.pop('Area')\n",
    "female_a.pop('Area')"
   ]
  },
  {
   "cell_type": "code",
   "execution_count": 42,
   "id": "2d7b94b5",
   "metadata": {},
   "outputs": [],
   "source": [
    "male_a = male_a.rename(columns={'male_ratio':'male-ratio-of-2','Age': 'male-age-group'})\n",
    "female_a = female_a.rename(columns={'female_ratio':'female-ratio-of-2','Age': 'female-age-group'})"
   ]
  },
  {
   "cell_type": "code",
   "execution_count": 43,
   "id": "d89d5f00",
   "metadata": {},
   "outputs": [],
   "source": [
    "result = pd.merge(male_a, female_a, on='state', how='outer')"
   ]
  },
  {
   "cell_type": "code",
   "execution_count": 44,
   "id": "46eab86a",
   "metadata": {},
   "outputs": [],
   "source": [
    "result.columns = ['state/ut','age-group-males','ratio-males-2','age-group-females','ratio-females-2']"
   ]
  },
  {
   "cell_type": "code",
   "execution_count": 45,
   "id": "e853d496",
   "metadata": {},
   "outputs": [],
   "source": [
    "result.to_csv('age-gender-b.csv',index=False)"
   ]
  },
  {
   "cell_type": "code",
   "execution_count": 46,
   "id": "950944cd",
   "metadata": {},
   "outputs": [],
   "source": [
    "one_data['male'] = final_male_sum"
   ]
  },
  {
   "cell_type": "code",
   "execution_count": 47,
   "id": "290eb689",
   "metadata": {},
   "outputs": [],
   "source": [
    "one_data['female'] = final_female_sum"
   ]
  },
  {
   "cell_type": "code",
   "execution_count": 48,
   "id": "668f8953",
   "metadata": {},
   "outputs": [],
   "source": [
    "one_data = one_data[one_data['Age']!='Total'].copy()"
   ]
  },
  {
   "cell_type": "code",
   "execution_count": 49,
   "id": "ca993e90",
   "metadata": {},
   "outputs": [],
   "source": [
    "one_data['exactly_one_male'] = one_data['male'] - one_data['S_males']\n",
    "one_data['exactly_one_female'] = one_data['female'] - one_data['S_females']"
   ]
  },
  {
   "cell_type": "code",
   "execution_count": 50,
   "id": "c575f152",
   "metadata": {},
   "outputs": [],
   "source": [
    "one_data = one_data[['state', 'Area', 'Age','exactly_one_male', 'exactly_one_female','male', 'female']].copy()"
   ]
  },
  {
   "cell_type": "code",
   "execution_count": 51,
   "id": "772ab8f3",
   "metadata": {},
   "outputs": [],
   "source": [
    "one_data['male_ratio'] = one_data['exactly_one_male']/one_data['male']\n",
    "one_data['female_ratio'] = one_data['exactly_one_female']/one_data['female']"
   ]
  },
  {
   "cell_type": "code",
   "execution_count": 52,
   "id": "58f0b48f",
   "metadata": {},
   "outputs": [],
   "source": [
    "one_data = one_data[['state', 'Area', 'Age','male_ratio', 'female_ratio']].copy()"
   ]
  },
  {
   "cell_type": "code",
   "execution_count": 53,
   "id": "2b5e1949",
   "metadata": {},
   "outputs": [],
   "source": [
    "male_one = one_data[['state','Area','Age','male_ratio']].copy()\n",
    "female_one = one_data[['state','Area','Age','female_ratio']].copy()"
   ]
  },
  {
   "cell_type": "code",
   "execution_count": 54,
   "id": "5a593787",
   "metadata": {},
   "outputs": [],
   "source": [
    "male_one['max_column'] = male_one.groupby(['Area'])['male_ratio'].transform('max')\n",
    "female_one['max_column'] = female_one.groupby(['Area'])['female_ratio'].transform('max')"
   ]
  },
  {
   "cell_type": "code",
   "execution_count": 55,
   "id": "d31a2e3c",
   "metadata": {},
   "outputs": [],
   "source": [
    "male_one = male_one[male_one['male_ratio'] == male_one['max_column']].copy()\n",
    "female_one = female_one[female_one['female_ratio'] == female_one['max_column']].copy()"
   ]
  },
  {
   "cell_type": "code",
   "execution_count": 56,
   "id": "ee3ee2db",
   "metadata": {},
   "outputs": [
    {
     "data": {
      "text/plain": [
       "6       0.876585\n",
       "43      0.776540\n",
       "73      0.921350\n",
       "103     0.845368\n",
       "126     0.725435\n",
       "156     0.903566\n",
       "186     0.907915\n",
       "216     0.844506\n",
       "246     0.941008\n",
       "276     0.953154\n",
       "306     0.880132\n",
       "336     0.619293\n",
       "373     0.618674\n",
       "403     0.691137\n",
       "426     0.813489\n",
       "456     0.898601\n",
       "486     0.805622\n",
       "516     0.906486\n",
       "546     0.735775\n",
       "576     0.929845\n",
       "606     0.796685\n",
       "643     0.872896\n",
       "666     0.903885\n",
       "696     0.919569\n",
       "726     0.871166\n",
       "756     0.776100\n",
       "793     0.557515\n",
       "816     0.769615\n",
       "853     0.867974\n",
       "876     0.750633\n",
       "906     0.475242\n",
       "936     0.974311\n",
       "966     0.950733\n",
       "996     0.856116\n",
       "1026    0.887621\n",
       "1063    0.578478\n",
       "Name: max_column, dtype: float64"
      ]
     },
     "execution_count": 56,
     "metadata": {},
     "output_type": "execute_result"
    }
   ],
   "source": [
    "male_one.pop('max_column')\n",
    "female_one.pop('max_column')"
   ]
  },
  {
   "cell_type": "code",
   "execution_count": 57,
   "id": "f082443e",
   "metadata": {},
   "outputs": [],
   "source": [
    "male_one = male_one.rename(columns={'male_ratio':'male-ratio-of-1','Age': 'male-age-group'})\n",
    "female_one = female_one.rename(columns={'female_ratio':'female-ratio-of-1','Age': 'female-age-group'})"
   ]
  },
  {
   "cell_type": "code",
   "execution_count": 58,
   "id": "f5c55f2a",
   "metadata": {},
   "outputs": [
    {
     "data": {
      "text/plain": [
       "6                           INDIA\n",
       "43                JAMMU & KASHMIR\n",
       "73               HIMACHAL PRADESH\n",
       "103                        PUNJAB\n",
       "126                    CHANDIGARH\n",
       "156                   UTTARAKHAND\n",
       "186                       HARYANA\n",
       "216                  NCT OF DELHI\n",
       "246                     RAJASTHAN\n",
       "276                 UTTAR PRADESH\n",
       "306                         BIHAR\n",
       "336                        SIKKIM\n",
       "373             ARUNACHAL PRADESH\n",
       "403                      NAGALAND\n",
       "426                       MANIPUR\n",
       "456                       MIZORAM\n",
       "486                       TRIPURA\n",
       "516                     MEGHALAYA\n",
       "546                         ASSAM\n",
       "576                   WEST BENGAL\n",
       "606                     JHARKHAND\n",
       "643                        ODISHA\n",
       "666                  CHHATTISGARH\n",
       "696                MADHYA PRADESH\n",
       "726                       GUJARAT\n",
       "756                   DAMAN & DIU\n",
       "793          DADRA & NAGAR HAVELI\n",
       "816                   MAHARASHTRA\n",
       "853                ANDHRA PRADESH\n",
       "876                     KARNATAKA\n",
       "906                           GOA\n",
       "936                   LAKSHADWEEP\n",
       "966                        KERALA\n",
       "996                    TAMIL NADU\n",
       "1026                   PUDUCHERRY\n",
       "1063    ANDAMAN & NICOBAR ISLANDS\n",
       "Name: Area, dtype: object"
      ]
     },
     "execution_count": 58,
     "metadata": {},
     "output_type": "execute_result"
    }
   ],
   "source": [
    "male_one.pop('Area')\n",
    "female_one.pop('Area')"
   ]
  },
  {
   "cell_type": "code",
   "execution_count": 59,
   "id": "1e54d4ef",
   "metadata": {},
   "outputs": [],
   "source": [
    "final = pd.merge(male_one, female_one, on='state', how='outer')"
   ]
  },
  {
   "cell_type": "code",
   "execution_count": 60,
   "id": "04c1f122",
   "metadata": {},
   "outputs": [],
   "source": [
    "final.columns = ['state/ut','age-group-males','ratio-males-1','age-group-females','ratio-females-1']"
   ]
  },
  {
   "cell_type": "code",
   "execution_count": 61,
   "id": "c72621bf",
   "metadata": {},
   "outputs": [],
   "source": [
    "final.to_csv('age-gender-c.csv',index=False)"
   ]
  },
  {
   "cell_type": "code",
   "execution_count": 62,
   "id": "3ed21fd4",
   "metadata": {},
   "outputs": [
    {
     "data": {
      "text/html": [
       "<div>\n",
       "<style scoped>\n",
       "    .dataframe tbody tr th:only-of-type {\n",
       "        vertical-align: middle;\n",
       "    }\n",
       "\n",
       "    .dataframe tbody tr th {\n",
       "        vertical-align: top;\n",
       "    }\n",
       "\n",
       "    .dataframe thead th {\n",
       "        text-align: right;\n",
       "    }\n",
       "</style>\n",
       "<table border=\"1\" class=\"dataframe\">\n",
       "  <thead>\n",
       "    <tr style=\"text-align: right;\">\n",
       "      <th></th>\n",
       "      <th>state/ut</th>\n",
       "      <th>age-group-males</th>\n",
       "      <th>ratio-males-1</th>\n",
       "      <th>age-group-females</th>\n",
       "      <th>ratio-females-1</th>\n",
       "    </tr>\n",
       "  </thead>\n",
       "  <tbody>\n",
       "    <tr>\n",
       "      <th>0</th>\n",
       "      <td>00</td>\n",
       "      <td>5-9</td>\n",
       "      <td>0.876821</td>\n",
       "      <td>5-9</td>\n",
       "      <td>0.876585</td>\n",
       "    </tr>\n",
       "    <tr>\n",
       "      <th>1</th>\n",
       "      <td>01</td>\n",
       "      <td>5-9</td>\n",
       "      <td>0.685737</td>\n",
       "      <td>70+</td>\n",
       "      <td>0.77654</td>\n",
       "    </tr>\n",
       "    <tr>\n",
       "      <th>2</th>\n",
       "      <td>02</td>\n",
       "      <td>5-9</td>\n",
       "      <td>0.88713</td>\n",
       "      <td>70+</td>\n",
       "      <td>0.92135</td>\n",
       "    </tr>\n",
       "    <tr>\n",
       "      <th>3</th>\n",
       "      <td>03</td>\n",
       "      <td>5-9</td>\n",
       "      <td>0.801164</td>\n",
       "      <td>70+</td>\n",
       "      <td>0.845368</td>\n",
       "    </tr>\n",
       "    <tr>\n",
       "      <th>4</th>\n",
       "      <td>04</td>\n",
       "      <td>5-9</td>\n",
       "      <td>0.713938</td>\n",
       "      <td>5-9</td>\n",
       "      <td>0.725435</td>\n",
       "    </tr>\n",
       "    <tr>\n",
       "      <th>5</th>\n",
       "      <td>05</td>\n",
       "      <td>5-9</td>\n",
       "      <td>0.903684</td>\n",
       "      <td>5-9</td>\n",
       "      <td>0.903566</td>\n",
       "    </tr>\n",
       "    <tr>\n",
       "      <th>6</th>\n",
       "      <td>06</td>\n",
       "      <td>5-9</td>\n",
       "      <td>0.906105</td>\n",
       "      <td>5-9</td>\n",
       "      <td>0.907915</td>\n",
       "    </tr>\n",
       "    <tr>\n",
       "      <th>7</th>\n",
       "      <td>07</td>\n",
       "      <td>5-9</td>\n",
       "      <td>0.844588</td>\n",
       "      <td>5-9</td>\n",
       "      <td>0.844506</td>\n",
       "    </tr>\n",
       "    <tr>\n",
       "      <th>8</th>\n",
       "      <td>08</td>\n",
       "      <td>5-9</td>\n",
       "      <td>0.939905</td>\n",
       "      <td>5-9</td>\n",
       "      <td>0.941008</td>\n",
       "    </tr>\n",
       "    <tr>\n",
       "      <th>9</th>\n",
       "      <td>09</td>\n",
       "      <td>5-9</td>\n",
       "      <td>0.954013</td>\n",
       "      <td>5-9</td>\n",
       "      <td>0.953154</td>\n",
       "    </tr>\n",
       "    <tr>\n",
       "      <th>10</th>\n",
       "      <td>10</td>\n",
       "      <td>5-9</td>\n",
       "      <td>0.879816</td>\n",
       "      <td>5-9</td>\n",
       "      <td>0.880132</td>\n",
       "    </tr>\n",
       "    <tr>\n",
       "      <th>11</th>\n",
       "      <td>11</td>\n",
       "      <td>5-9</td>\n",
       "      <td>0.625837</td>\n",
       "      <td>5-9</td>\n",
       "      <td>0.619293</td>\n",
       "    </tr>\n",
       "    <tr>\n",
       "      <th>12</th>\n",
       "      <td>12</td>\n",
       "      <td>5-9</td>\n",
       "      <td>0.535681</td>\n",
       "      <td>70+</td>\n",
       "      <td>0.618674</td>\n",
       "    </tr>\n",
       "    <tr>\n",
       "      <th>13</th>\n",
       "      <td>13</td>\n",
       "      <td>5-9</td>\n",
       "      <td>0.67298</td>\n",
       "      <td>70+</td>\n",
       "      <td>0.691137</td>\n",
       "    </tr>\n",
       "    <tr>\n",
       "      <th>14</th>\n",
       "      <td>14</td>\n",
       "      <td>5-9</td>\n",
       "      <td>0.81403</td>\n",
       "      <td>5-9</td>\n",
       "      <td>0.813489</td>\n",
       "    </tr>\n",
       "    <tr>\n",
       "      <th>15</th>\n",
       "      <td>15</td>\n",
       "      <td>5-9</td>\n",
       "      <td>0.895288</td>\n",
       "      <td>5-9</td>\n",
       "      <td>0.898601</td>\n",
       "    </tr>\n",
       "    <tr>\n",
       "      <th>16</th>\n",
       "      <td>16</td>\n",
       "      <td>5-9</td>\n",
       "      <td>0.803502</td>\n",
       "      <td>5-9</td>\n",
       "      <td>0.805622</td>\n",
       "    </tr>\n",
       "    <tr>\n",
       "      <th>17</th>\n",
       "      <td>17</td>\n",
       "      <td>5-9</td>\n",
       "      <td>0.910251</td>\n",
       "      <td>5-9</td>\n",
       "      <td>0.906486</td>\n",
       "    </tr>\n",
       "    <tr>\n",
       "      <th>18</th>\n",
       "      <td>18</td>\n",
       "      <td>5-9</td>\n",
       "      <td>0.737461</td>\n",
       "      <td>5-9</td>\n",
       "      <td>0.735775</td>\n",
       "    </tr>\n",
       "    <tr>\n",
       "      <th>19</th>\n",
       "      <td>19</td>\n",
       "      <td>5-9</td>\n",
       "      <td>0.928575</td>\n",
       "      <td>5-9</td>\n",
       "      <td>0.929845</td>\n",
       "    </tr>\n",
       "    <tr>\n",
       "      <th>20</th>\n",
       "      <td>20</td>\n",
       "      <td>5-9</td>\n",
       "      <td>0.796171</td>\n",
       "      <td>5-9</td>\n",
       "      <td>0.796685</td>\n",
       "    </tr>\n",
       "    <tr>\n",
       "      <th>21</th>\n",
       "      <td>21</td>\n",
       "      <td>5-9</td>\n",
       "      <td>0.838857</td>\n",
       "      <td>70+</td>\n",
       "      <td>0.872896</td>\n",
       "    </tr>\n",
       "    <tr>\n",
       "      <th>22</th>\n",
       "      <td>22</td>\n",
       "      <td>5-9</td>\n",
       "      <td>0.899148</td>\n",
       "      <td>5-9</td>\n",
       "      <td>0.903885</td>\n",
       "    </tr>\n",
       "    <tr>\n",
       "      <th>23</th>\n",
       "      <td>23</td>\n",
       "      <td>5-9</td>\n",
       "      <td>0.922551</td>\n",
       "      <td>5-9</td>\n",
       "      <td>0.919569</td>\n",
       "    </tr>\n",
       "    <tr>\n",
       "      <th>24</th>\n",
       "      <td>24</td>\n",
       "      <td>5-9</td>\n",
       "      <td>0.867415</td>\n",
       "      <td>5-9</td>\n",
       "      <td>0.871166</td>\n",
       "    </tr>\n",
       "    <tr>\n",
       "      <th>25</th>\n",
       "      <td>25</td>\n",
       "      <td>5-9</td>\n",
       "      <td>0.768722</td>\n",
       "      <td>5-9</td>\n",
       "      <td>0.7761</td>\n",
       "    </tr>\n",
       "    <tr>\n",
       "      <th>26</th>\n",
       "      <td>26</td>\n",
       "      <td>5-9</td>\n",
       "      <td>0.551498</td>\n",
       "      <td>70+</td>\n",
       "      <td>0.557515</td>\n",
       "    </tr>\n",
       "    <tr>\n",
       "      <th>27</th>\n",
       "      <td>27</td>\n",
       "      <td>5-9</td>\n",
       "      <td>0.768407</td>\n",
       "      <td>5-9</td>\n",
       "      <td>0.769615</td>\n",
       "    </tr>\n",
       "    <tr>\n",
       "      <th>28</th>\n",
       "      <td>28</td>\n",
       "      <td>5-9</td>\n",
       "      <td>0.864464</td>\n",
       "      <td>70+</td>\n",
       "      <td>0.867974</td>\n",
       "    </tr>\n",
       "    <tr>\n",
       "      <th>29</th>\n",
       "      <td>29</td>\n",
       "      <td>5-9</td>\n",
       "      <td>0.750905</td>\n",
       "      <td>5-9</td>\n",
       "      <td>0.750633</td>\n",
       "    </tr>\n",
       "    <tr>\n",
       "      <th>30</th>\n",
       "      <td>30</td>\n",
       "      <td>5-9</td>\n",
       "      <td>0.47924</td>\n",
       "      <td>5-9</td>\n",
       "      <td>0.475242</td>\n",
       "    </tr>\n",
       "    <tr>\n",
       "      <th>31</th>\n",
       "      <td>31</td>\n",
       "      <td>5-9</td>\n",
       "      <td>0.969203</td>\n",
       "      <td>5-9</td>\n",
       "      <td>0.974311</td>\n",
       "    </tr>\n",
       "    <tr>\n",
       "      <th>32</th>\n",
       "      <td>32</td>\n",
       "      <td>5-9</td>\n",
       "      <td>0.951883</td>\n",
       "      <td>5-9</td>\n",
       "      <td>0.950733</td>\n",
       "    </tr>\n",
       "    <tr>\n",
       "      <th>33</th>\n",
       "      <td>33</td>\n",
       "      <td>5-9</td>\n",
       "      <td>0.857816</td>\n",
       "      <td>5-9</td>\n",
       "      <td>0.856116</td>\n",
       "    </tr>\n",
       "    <tr>\n",
       "      <th>34</th>\n",
       "      <td>34</td>\n",
       "      <td>5-9</td>\n",
       "      <td>0.887297</td>\n",
       "      <td>5-9</td>\n",
       "      <td>0.887621</td>\n",
       "    </tr>\n",
       "    <tr>\n",
       "      <th>35</th>\n",
       "      <td>35</td>\n",
       "      <td>5-9</td>\n",
       "      <td>0.541645</td>\n",
       "      <td>70+</td>\n",
       "      <td>0.578478</td>\n",
       "    </tr>\n",
       "  </tbody>\n",
       "</table>\n",
       "</div>"
      ],
      "text/plain": [
       "   state/ut age-group-males ratio-males-1 age-group-females ratio-females-1\n",
       "0        00             5-9      0.876821               5-9        0.876585\n",
       "1        01             5-9      0.685737               70+         0.77654\n",
       "2        02             5-9       0.88713               70+         0.92135\n",
       "3        03             5-9      0.801164               70+        0.845368\n",
       "4        04             5-9      0.713938               5-9        0.725435\n",
       "5        05             5-9      0.903684               5-9        0.903566\n",
       "6        06             5-9      0.906105               5-9        0.907915\n",
       "7        07             5-9      0.844588               5-9        0.844506\n",
       "8        08             5-9      0.939905               5-9        0.941008\n",
       "9        09             5-9      0.954013               5-9        0.953154\n",
       "10       10             5-9      0.879816               5-9        0.880132\n",
       "11       11             5-9      0.625837               5-9        0.619293\n",
       "12       12             5-9      0.535681               70+        0.618674\n",
       "13       13             5-9       0.67298               70+        0.691137\n",
       "14       14             5-9       0.81403               5-9        0.813489\n",
       "15       15             5-9      0.895288               5-9        0.898601\n",
       "16       16             5-9      0.803502               5-9        0.805622\n",
       "17       17             5-9      0.910251               5-9        0.906486\n",
       "18       18             5-9      0.737461               5-9        0.735775\n",
       "19       19             5-9      0.928575               5-9        0.929845\n",
       "20       20             5-9      0.796171               5-9        0.796685\n",
       "21       21             5-9      0.838857               70+        0.872896\n",
       "22       22             5-9      0.899148               5-9        0.903885\n",
       "23       23             5-9      0.922551               5-9        0.919569\n",
       "24       24             5-9      0.867415               5-9        0.871166\n",
       "25       25             5-9      0.768722               5-9          0.7761\n",
       "26       26             5-9      0.551498               70+        0.557515\n",
       "27       27             5-9      0.768407               5-9        0.769615\n",
       "28       28             5-9      0.864464               70+        0.867974\n",
       "29       29             5-9      0.750905               5-9        0.750633\n",
       "30       30             5-9       0.47924               5-9        0.475242\n",
       "31       31             5-9      0.969203               5-9        0.974311\n",
       "32       32             5-9      0.951883               5-9        0.950733\n",
       "33       33             5-9      0.857816               5-9        0.856116\n",
       "34       34             5-9      0.887297               5-9        0.887621\n",
       "35       35             5-9      0.541645               70+        0.578478"
      ]
     },
     "execution_count": 62,
     "metadata": {},
     "output_type": "execute_result"
    }
   ],
   "source": [
    "final"
   ]
  }
 ],
 "metadata": {
  "kernelspec": {
   "display_name": "Python 3 (ipykernel)",
   "language": "python",
   "name": "python3"
  },
  "language_info": {
   "codemirror_mode": {
    "name": "ipython",
    "version": 3
   },
   "file_extension": ".py",
   "mimetype": "text/x-python",
   "name": "python",
   "nbconvert_exporter": "python",
   "pygments_lexer": "ipython3",
   "version": "3.9.7"
  }
 },
 "nbformat": 4,
 "nbformat_minor": 5
}
