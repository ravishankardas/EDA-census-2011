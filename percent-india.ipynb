{
 "cells": [
  {
   "cell_type": "code",
   "execution_count": 1,
   "id": "a13cfaea",
   "metadata": {},
   "outputs": [],
   "source": [
    "import pandas as pd\n",
    "import numpy as np"
   ]
  },
  {
   "cell_type": "code",
   "execution_count": 2,
   "id": "454d5b59",
   "metadata": {},
   "outputs": [],
   "source": [
    "data = pd.read_excel('DDW_PCA0000_2011_Indiastatedist.xlsx')"
   ]
  },
  {
   "cell_type": "code",
   "execution_count": 3,
   "id": "9c9f345a",
   "metadata": {},
   "outputs": [],
   "source": [
    "popdata = data[['Level','Name','TOT_P']].copy()"
   ]
  },
  {
   "cell_type": "code",
   "execution_count": 4,
   "id": "8f402d44",
   "metadata": {},
   "outputs": [],
   "source": [
    "popdata.drop_duplicates(subset =\"Name\",keep = 'first', inplace = True)"
   ]
  },
  {
   "cell_type": "code",
   "execution_count": 5,
   "id": "9ab09f2b",
   "metadata": {},
   "outputs": [],
   "source": [
    "rslt_df = popdata[popdata['Level'] != 'DISTRICT'].copy()"
   ]
  },
  {
   "cell_type": "code",
   "execution_count": 6,
   "id": "4cbe0169",
   "metadata": {},
   "outputs": [],
   "source": [
    "rslt_df.reset_index(inplace = True)"
   ]
  },
  {
   "cell_type": "code",
   "execution_count": 7,
   "id": "aaa46593",
   "metadata": {},
   "outputs": [],
   "source": [
    "rslt_df['Name'] = rslt_df['Name'].str.lower()"
   ]
  },
  {
   "cell_type": "code",
   "execution_count": 8,
   "id": "79394c57",
   "metadata": {},
   "outputs": [],
   "source": [
    "rslt_df.sort_values(\"Name\", axis = 0, ascending = True,inplace = True)"
   ]
  },
  {
   "cell_type": "code",
   "execution_count": 9,
   "id": "41973bef",
   "metadata": {},
   "outputs": [],
   "source": [
    "rslt_df.rename(columns = {'Name':'State'}, inplace = True)"
   ]
  },
  {
   "cell_type": "code",
   "execution_count": 10,
   "id": "09133ab3",
   "metadata": {},
   "outputs": [],
   "source": [
    "rslt_df.reset_index(inplace=True)"
   ]
  },
  {
   "cell_type": "code",
   "execution_count": 11,
   "id": "565e2844",
   "metadata": {},
   "outputs": [],
   "source": [
    "l1 = sum(rslt_df['TOT_P'].to_list())"
   ]
  },
  {
   "cell_type": "code",
   "execution_count": 12,
   "id": "7fb7a956",
   "metadata": {},
   "outputs": [],
   "source": [
    "data2 = pd.read_excel('DDW-C18-0000.xlsx')"
   ]
  },
  {
   "cell_type": "code",
   "execution_count": 13,
   "id": "95f2c59d",
   "metadata": {},
   "outputs": [],
   "source": [
    "new_col = ['state_code','District','Area','Total','Age','S_persons','S_males','S_females','T_persons','T_males','T_females']"
   ]
  },
  {
   "cell_type": "code",
   "execution_count": 14,
   "id": "b1bab294",
   "metadata": {},
   "outputs": [],
   "source": [
    "data2.columns = new_col"
   ]
  },
  {
   "cell_type": "code",
   "execution_count": 15,
   "id": "a14c9457",
   "metadata": {},
   "outputs": [],
   "source": [
    "data2 = data2.iloc[5:]"
   ]
  },
  {
   "cell_type": "code",
   "execution_count": 16,
   "id": "6444be1f",
   "metadata": {},
   "outputs": [],
   "source": [
    "new_data2 = data2.copy(deep=True)"
   ]
  },
  {
   "cell_type": "code",
   "execution_count": 17,
   "id": "4c9aa382",
   "metadata": {},
   "outputs": [],
   "source": [
    "new_data2 = new_data2.drop(['District','Total','Age','S_males','S_females','T_males','T_females'],axis=1)"
   ]
  },
  {
   "cell_type": "code",
   "execution_count": 18,
   "id": "340404ca",
   "metadata": {},
   "outputs": [],
   "source": [
    "new_data2.drop_duplicates(subset =\"Area\",keep = 'first', inplace = True)"
   ]
  },
  {
   "cell_type": "code",
   "execution_count": 19,
   "id": "f164d3de",
   "metadata": {},
   "outputs": [],
   "source": [
    "new_data2.reset_index(inplace=True)"
   ]
  },
  {
   "cell_type": "code",
   "execution_count": 20,
   "id": "42bd7631",
   "metadata": {},
   "outputs": [],
   "source": [
    "fin_data2 = new_data2.copy()"
   ]
  },
  {
   "cell_type": "code",
   "execution_count": 21,
   "id": "98bf287f",
   "metadata": {},
   "outputs": [],
   "source": [
    "fin_data2['Area'] = new_data2['Area'].str.lower()"
   ]
  },
  {
   "cell_type": "code",
   "execution_count": 22,
   "id": "3f48bf62",
   "metadata": {},
   "outputs": [],
   "source": [
    "fin_data2.rename(columns = {'Area':'State'}, inplace = True)"
   ]
  },
  {
   "cell_type": "code",
   "execution_count": 23,
   "id": "fd702c86",
   "metadata": {},
   "outputs": [],
   "source": [
    "fin_data2.reset_index(inplace=True)"
   ]
  },
  {
   "cell_type": "code",
   "execution_count": 24,
   "id": "842cc4c7",
   "metadata": {},
   "outputs": [],
   "source": [
    "fin_data2.at[35,'State'] = 'andaman and nicobar islands'"
   ]
  },
  {
   "cell_type": "code",
   "execution_count": 25,
   "id": "332316ea",
   "metadata": {},
   "outputs": [],
   "source": [
    "fin_data2.at[7,'State'] = 'delhi'"
   ]
  },
  {
   "cell_type": "code",
   "execution_count": 26,
   "id": "807fd69e",
   "metadata": {},
   "outputs": [],
   "source": [
    "fin_data2.at[1,'State'] = 'jammu and kashmir'"
   ]
  },
  {
   "cell_type": "code",
   "execution_count": 27,
   "id": "32128714",
   "metadata": {},
   "outputs": [],
   "source": [
    "int_df = pd.merge(rslt_df, fin_data2, how ='inner', on =['State'])"
   ]
  },
  {
   "cell_type": "code",
   "execution_count": 28,
   "id": "ca32705a",
   "metadata": {},
   "outputs": [],
   "source": [
    "int_df['only_one'] = int_df['TOT_P'] - int_df['S_persons']"
   ]
  },
  {
   "cell_type": "code",
   "execution_count": 29,
   "id": "8e175719",
   "metadata": {},
   "outputs": [],
   "source": [
    "int_df['exactly_two'] = int_df['S_persons'] - int_df['T_persons']"
   ]
  },
  {
   "cell_type": "code",
   "execution_count": 30,
   "id": "df99f425",
   "metadata": {},
   "outputs": [],
   "source": [
    "int_df = int_df[['state_code','State','only_one','exactly_two','T_persons','TOT_P']]"
   ]
  },
  {
   "cell_type": "code",
   "execution_count": 31,
   "id": "6e6fcfb2",
   "metadata": {},
   "outputs": [],
   "source": [
    "new_int_df = int_df.copy(deep=True)"
   ]
  },
  {
   "cell_type": "code",
   "execution_count": 32,
   "id": "eb57ccc5",
   "metadata": {},
   "outputs": [],
   "source": [
    "new_int_df['one_percentage'] = (int_df['only_one']/int_df['TOT_P'])*100"
   ]
  },
  {
   "cell_type": "code",
   "execution_count": 33,
   "id": "f57d0620",
   "metadata": {},
   "outputs": [],
   "source": [
    "new_int_df['two_percentage'] = (int_df['exactly_two']/int_df['TOT_P'])*100"
   ]
  },
  {
   "cell_type": "code",
   "execution_count": 34,
   "id": "3f3e4692",
   "metadata": {},
   "outputs": [],
   "source": [
    "new_int_df['three_percentage'] = (int_df['T_persons']/int_df['TOT_P'])*100"
   ]
  },
  {
   "cell_type": "code",
   "execution_count": 35,
   "id": "5b562338",
   "metadata": {},
   "outputs": [],
   "source": [
    "new_int_df = new_int_df[['state_code','one_percentage','two_percentage','three_percentage']].copy()"
   ]
  },
  {
   "cell_type": "code",
   "execution_count": 36,
   "id": "f9d21ef4",
   "metadata": {},
   "outputs": [],
   "source": [
    "new_int_df.sort_values(\"state_code\", axis = 0, ascending = True,inplace = True)"
   ]
  },
  {
   "cell_type": "code",
   "execution_count": 37,
   "id": "6356793f",
   "metadata": {},
   "outputs": [],
   "source": [
    "new_int_df.columns = ['state-code','percent-one','percent-two','percent-three']"
   ]
  },
  {
   "cell_type": "code",
   "execution_count": 38,
   "id": "e9500977",
   "metadata": {},
   "outputs": [],
   "source": [
    "new_int_df.to_csv('percent-india.csv',index=False)"
   ]
  },
  {
   "cell_type": "code",
   "execution_count": null,
   "id": "9c0e2e4a",
   "metadata": {},
   "outputs": [],
   "source": []
  }
 ],
 "metadata": {
  "kernelspec": {
   "display_name": "Python 3 (ipykernel)",
   "language": "python",
   "name": "python3"
  },
  "language_info": {
   "codemirror_mode": {
    "name": "ipython",
    "version": 3
   },
   "file_extension": ".py",
   "mimetype": "text/x-python",
   "name": "python",
   "nbconvert_exporter": "python",
   "pygments_lexer": "ipython3",
   "version": "3.9.7"
  }
 },
 "nbformat": 4,
 "nbformat_minor": 5
}
